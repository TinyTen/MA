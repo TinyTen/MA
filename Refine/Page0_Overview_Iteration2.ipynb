{
 "cells": [
  {
   "cell_type": "markdown",
   "id": "8668637c",
   "metadata": {},
   "source": [
    "# MA\n",
    "## Creation of a process for scientific visualization development based on the example of the new ZHAW protein source database\n",
    "## Christina Köck\n",
    "## July 2023\n",
    "### Link to the Gitlab-Repo: https://github.com/TinyTen/MA"
   ]
  },
  {
   "cell_type": "markdown",
   "id": "fdec2b26",
   "metadata": {},
   "source": [
    "Creation of dataframe for iteration 2 with sparkql dataframe and translation of the data into english."
   ]
  },
  {
   "cell_type": "markdown",
   "id": "d74abbc5",
   "metadata": {},
   "source": [
    "### Libraries and data"
   ]
  },
  {
   "cell_type": "code",
   "execution_count": 1,
   "id": "c7a69843",
   "metadata": {},
   "outputs": [],
   "source": [
    "# ! pip install cmcrameri"
   ]
  },
  {
   "cell_type": "code",
   "execution_count": 2,
   "id": "0843a275",
   "metadata": {},
   "outputs": [],
   "source": [
    "from cmcrameri import cm\n",
    "import math as math\n",
    "import pandas as pd\n",
    "import numpy as np\n",
    "import seaborn as sns\n",
    "\n",
    "import matplotlib.pyplot as plt\n",
    "import plotly.express as px\n",
    "\n",
    "import sparql_dataframe"
   ]
  },
  {
   "cell_type": "markdown",
   "id": "0eef4ede",
   "metadata": {},
   "source": [
    "## Read in Dapro Data"
   ]
  },
  {
   "cell_type": "code",
   "execution_count": 5,
   "id": "03bd968b",
   "metadata": {},
   "outputs": [],
   "source": [
    "endpoint = 'http://localhost:8000'\n",
    "\n",
    "q = \"\"\"\n",
    "PREFIX rdf: <http://www.w3.org/1999/02/22-rdf-syntax-ns#>\n",
    "PREFIX owl: <http://www.w3.org/2002/07/owl#>\n",
    "PREFIX rdfs: <http://www.w3.org/2000/01/rdf-schema#>\n",
    "PREFIX xsd: <http://www.w3.org/2001/XMLSchema#>\n",
    "PREFIX schema: <http://schema.org/>\n",
    "PREFIX dapro: <http://dapro.opendata.zhaw.ch/DaPro.owl#>\n",
    "\n",
    "SELECT ?name\n",
    "WHERE {\n",
    "\t?dapro a dapro:Product .\n",
    "    ?dapro rdfs:label ?name.       \n",
    "}\n",
    "\"\"\"\n",
    "\n",
    "\n",
    "df_products = sparql_dataframe.get(endpoint, q)\n",
    "# df_products.head(20)"
   ]
  },
  {
   "cell_type": "code",
   "execution_count": 6,
   "id": "f6f25ae7",
   "metadata": {},
   "outputs": [],
   "source": [
    "food_items = df_products['name'].astype('str')\n",
    "food_items = [str(i) for i in food_items]\n",
    "food_items.insert(0, 'Apfel')\n",
    "# food_items"
   ]
  },
  {
   "cell_type": "code",
   "execution_count": 7,
   "id": "d886659d",
   "metadata": {},
   "outputs": [],
   "source": [
    "# das funktioniert\n",
    "d = {}\n",
    "# food_items = [\"Apfel\", \"Birne\", \"Ahornsirup\", \"Brie\", \"Knoblauch\", 'Ackerbohne']\n",
    "\n",
    "endpoint = 'http://localhost:8000'\n",
    "\n",
    "for item in food_items:\n",
    "\n",
    "    q = \"\"\"\n",
    "    PREFIX rdf: <http://www.w3.org/1999/02/22-rdf-syntax-ns#>\n",
    "    PREFIX owl: <http://www.w3.org/2002/07/owl#>\n",
    "    PREFIX rdfs: <http://www.w3.org/2000/01/rdf-schema#>\n",
    "    PREFIX xsd: <http://www.w3.org/2001/XMLSchema#>\n",
    "    PREFIX schema: <http://schema.org/>\n",
    "    PREFIX dapro: <http://dapro.opendata.zhaw.ch/DaPro.owl#>\n",
    "    SELECT ?foodoningredient ?foodoningredientval ?unit\n",
    "    WHERE {{\n",
    "        ?dapro rdfs:label \"{}\" .\n",
    "        ?dapro schema:ingredients ?recingredient .\n",
    "        ?recingredient schema:ingredients ?foodoningredient .\n",
    "        ?recingredient schema:value ?foodoningredientval .\n",
    "        ?recingredient schema:unitCode ?unit .   \n",
    "    }}\n",
    "        \"\"\".format(item)\n",
    "    \n",
    "    df_interim = sparql_dataframe.get(endpoint, q)\n",
    "    df_interim.set_index('foodoningredient', inplace = True)\n",
    "    df_interim.rename(columns={\"foodoningredientval\": item}, inplace = True)\n",
    "    df_interim = df_interim.reindex(sorted(df_interim.index))\n",
    "    d[\"df_{}\".format(item)] = df_interim\n",
    "    \n",
    "df_dapro = d[next(iter(d))]\n",
    "# # df_dapro.drop('unit', axis = 1, inplace = True)\n",
    "for key in d.keys():\n",
    "    if d[key]['unit'].equals(d[next(iter(d))]['unit']):\n",
    "        df_dapro = df_dapro.merge(d[key][d[key].columns[0]], how='outer', left_index= True,\n",
    "                               right_on = 'foodoningredient' \n",
    "                             )\n",
    "        \n",
    "\n",
    "# df_dapro.drop('unit', axis = 1, inplace = True)\n",
    "df_dapro.set_index('unit', append = True, inplace = True)\n",
    "df_dapro.index = ['_'.join(ind) for ind in df_dapro.index.values]\n",
    "\n",
    "df_dapro=df_dapro.T"
   ]
  },
  {
   "cell_type": "code",
   "execution_count": 8,
   "id": "05e74a2b",
   "metadata": {},
   "outputs": [],
   "source": [
    "# read in ecological data:\n",
    "\n",
    "d = {}\n",
    "\n",
    "\n",
    "endpoint = 'http://localhost:8000'\n",
    "for item in food_items:\n",
    "    q = \"\"\"\n",
    "    PREFIX rdf: <http://www.w3.org/1999/02/22-rdf-syntax-ns#>\n",
    "    PREFIX owl: <http://www.w3.org/2002/07/owl#>\n",
    "    PREFIX rdfs: <http://www.w3.org/2000/01/rdf-schema#>\n",
    "    PREFIX xsd: <http://www.w3.org/2001/XMLSchema#>\n",
    "    PREFIX schema: <http://schema.org/>\n",
    "    PREFIX dapro: <http://dapro.opendata.zhaw.ch/DaPro.owl#>\n",
    "\n",
    "    SELECT   ?name1 ?UBP\n",
    "    WHERE {{\n",
    "\n",
    "        ?ingredient rdfs:label \"ecological scarcity 2013, total, UBP/kg in {}\"   .\n",
    "        ?ingredient rdfs:label ?name1.\n",
    "        ?ingredient schema:value ?UBP .\n",
    "        OPTIONAL{{ ?ingredient schema:unitCode ?unit .}}   \n",
    "    }}\n",
    "    \"\"\".format(item)\n",
    "\n",
    "\n",
    "    df_interim = sparql_dataframe.get(endpoint, q)\n",
    "    df_interim.set_index('name1', inplace = True)\n",
    "    df_interim.rename(columns={\"name1\": item}, inplace = True)\n",
    "    df_interim = df_interim.reindex(sorted(df_interim.index))\n",
    "    d[\"df_{}\".format(item)] = df_interim\n",
    "    \n",
    "df_UBP = d[next(iter(d))]\n",
    "# # df_dapro.drop('unit', axis = 1, inplace = True)\n",
    "for key in d.keys():\n",
    "#     if d[key]['unit'].equals(d[next(iter(d))]['unit']):\n",
    "        df_UBP = pd.concat([df_UBP, d[key][d[key].columns[0]]])\n",
    "        \n",
    "# df_dapro.drop('unit', axis = 1, inplace = True)\n",
    "# df_dapro.set_index('unit', append = True, inplace = True)\n",
    "# df_dapro.index = ['_'.join(ind) for ind in df_dapro.index.values]\n",
    "\n",
    "# df_dapro=df_dapro.T"
   ]
  },
  {
   "cell_type": "code",
   "execution_count": 9,
   "id": "c05602ca",
   "metadata": {},
   "outputs": [],
   "source": [
    "df_UBP.drop('UBP', axis = 1, inplace=True)\n",
    "df_UBP.dropna(axis = 0, inplace = True)\n",
    "\n",
    "# calculate for 100g not for 1 kg:\n",
    "df_UBP = df_UBP/10"
   ]
  },
  {
   "cell_type": "code",
   "execution_count": 10,
   "id": "d899e1cb",
   "metadata": {},
   "outputs": [],
   "source": [
    "def lastWord(string):\n",
    "  # finding the index of last space\n",
    "  index = string.rfind(\" \")\n",
    " \n",
    "  # last word\n",
    "  return string[index+1:]"
   ]
  },
  {
   "cell_type": "code",
   "execution_count": 11,
   "id": "b0184108",
   "metadata": {},
   "outputs": [],
   "source": [
    "actual_food = []\n",
    "for index in df_UBP.index:\n",
    "    actual_food.append(lastWord(index))\n",
    "\n",
    "df_UBP.index = actual_food"
   ]
  },
  {
   "cell_type": "code",
   "execution_count": 12,
   "id": "1b5444a6",
   "metadata": {},
   "outputs": [],
   "source": [
    "df_UBP.rename(columns = {0: 'ecological scarcity 2013, total, UBP/100g'}, inplace=True)\n",
    "df_dapro.rename(index = {'Apfel_y': 'Apfel'}, inplace=True)\n",
    "df_dapro.drop(df_dapro.index[0], axis = 0, inplace = True)"
   ]
  },
  {
   "cell_type": "code",
   "execution_count": 13,
   "id": "6ed2dbe5",
   "metadata": {},
   "outputs": [],
   "source": [
    "df_dapro = df_dapro.merge(df_UBP,  how = 'left', left_index=True, right_index=True)\n"
   ]
  },
  {
   "cell_type": "code",
   "execution_count": 14,
   "id": "0c885bdc",
   "metadata": {},
   "outputs": [],
   "source": [
    "df_eco = pd.read_excel('UBP.xlsx', sheet_name = 'others')\n",
    "df_eco.drop('Category', axis = 1, inplace = True)\n"
   ]
  },
  {
   "cell_type": "code",
   "execution_count": 15,
   "id": "aa421f71",
   "metadata": {},
   "outputs": [],
   "source": [
    "df_eco.set_index('Food product', inplace = True)"
   ]
  },
  {
   "cell_type": "code",
   "execution_count": 16,
   "id": "c2d55aaf",
   "metadata": {},
   "outputs": [],
   "source": [
    "#set pro 100g instead of 1kg:\n",
    "df_eco = df_eco/10\n",
    "df_eco.rename(columns = {\n",
    "    'Eutrophying emissions per kilogram (gPO₄eq per kilogram)': 'Eutrophying emissions per 100g (gPO₄eq per 100g}', \n",
    "    'Freshwater withdrawals per kilogram (liters per kilogram)' : 'Freshwater withdrawals per 100g (liters per 100g)',\n",
    "    'Land use per kilogram (m² per kilogram)': 'Land use per 100g (m² per 100g)'\n",
    "}\n",
    "    , inplace = True)"
   ]
  },
  {
   "cell_type": "code",
   "execution_count": 17,
   "id": "9d000793",
   "metadata": {},
   "outputs": [],
   "source": [
    "df_eco.rename(index = {'Groundnuts': 'Erdnuss', \n",
    "                      'Apples': 'Apfel', \n",
    "                      'Milk': 'Kuhmilch',\n",
    "                      'Cheese': 'Hartkäse',\n",
    "                      'Eggs': 'Hühnerei'}, inplace=True)"
   ]
  },
  {
   "cell_type": "code",
   "execution_count": 18,
   "id": "90cf4545",
   "metadata": {},
   "outputs": [],
   "source": [
    "df_dapro = df_dapro.merge(df_eco, how = 'left', left_index=True, right_index=True )"
   ]
  },
  {
   "cell_type": "code",
   "execution_count": 19,
   "id": "22104090",
   "metadata": {},
   "outputs": [],
   "source": [
    "df_dapro.rename(columns = {'Eiweiß (Protein)_mg/100g': 'Eiweiß (Protein)_g/g'\n",
    "                          }, inplace=True)"
   ]
  },
  {
   "cell_type": "code",
   "execution_count": 20,
   "id": "dbb8822c",
   "metadata": {},
   "outputs": [],
   "source": [
    "# from googletrans import Translator\n",
    "\n",
    "# translator = Translator()\n",
    "# columns_en = list(df_dapro.columns[:20].map(lambda x: translator.translate(x, dest='en').text))\n",
    "# columns_en.append(list(df_dapro.columns[20:40].map(lambda x: translator.translate(x, dest='en').text)))\n",
    "# print(len(columns_en))\n",
    "# columns_en.append(list(df_dapro.columns[40:60].map(lambda x: translator.translate(x, dest='en').text)))\n",
    "# print(len(columns_en))\n",
    "# columns_en.append(list(df_dapro.columns[60:80].map(lambda x: translator.translate(x, dest='en').text)))\n",
    "# print(len(columns_en))\n",
    "# columns_en.append(list(df_dapro.columns[80:100].map(lambda x: translator.translate(x, dest='en').text)))\n",
    "# print(len(columns_en))\n",
    "# columns_en.append(list(df_dapro.columns[100:119].map(lambda x: translator.translate(x, dest='en').text)))\n",
    "\n"
   ]
  },
  {
   "cell_type": "code",
   "execution_count": 21,
   "id": "e6f8625d",
   "metadata": {},
   "outputs": [
    {
     "ename": "IndexError",
     "evalue": "list index out of range",
     "output_type": "error",
     "traceback": [
      "\u001b[1;31m---------------------------------------------------------------------------\u001b[0m",
      "\u001b[1;31mIndexError\u001b[0m                                Traceback (most recent call last)",
      "Cell \u001b[1;32mIn [21], line 7\u001b[0m\n\u001b[0;32m      4\u001b[0m columns_en \u001b[38;5;241m=\u001b[39m []\n\u001b[0;32m      6\u001b[0m \u001b[38;5;28;01mfor\u001b[39;00m col \u001b[38;5;129;01min\u001b[39;00m df_dapro\u001b[38;5;241m.\u001b[39mcolumns:\n\u001b[1;32m----> 7\u001b[0m     word \u001b[38;5;241m=\u001b[39m translator\u001b[38;5;241m.\u001b[39mtranslate(\u001b[38;5;28mstr\u001b[39m(col), dest\u001b[38;5;241m=\u001b[39m\u001b[38;5;124m'\u001b[39m\u001b[38;5;124men\u001b[39m\u001b[38;5;124m'\u001b[39m)\u001b[38;5;241m.\u001b[39mtext\n\u001b[0;32m      8\u001b[0m     columns_en\u001b[38;5;241m.\u001b[39mappend(word)\n",
      "File \u001b[1;32m~\\AppData\\Local\\Programs\\Python\\Python39\\lib\\site-packages\\googletrans\\client.py:222\u001b[0m, in \u001b[0;36mTranslator.translate\u001b[1;34m(self, text, dest, src)\u001b[0m\n\u001b[0;32m    220\u001b[0m \u001b[38;5;66;03m# not sure\u001b[39;00m\n\u001b[0;32m    221\u001b[0m should_spacing \u001b[38;5;241m=\u001b[39m parsed[\u001b[38;5;241m1\u001b[39m][\u001b[38;5;241m0\u001b[39m][\u001b[38;5;241m0\u001b[39m][\u001b[38;5;241m3\u001b[39m]\n\u001b[1;32m--> 222\u001b[0m translated_parts \u001b[38;5;241m=\u001b[39m \u001b[38;5;28mlist\u001b[39m(\u001b[38;5;28mmap\u001b[39m(\u001b[38;5;28;01mlambda\u001b[39;00m part: TranslatedPart(part[\u001b[38;5;241m0\u001b[39m], part[\u001b[38;5;241m1\u001b[39m] \u001b[38;5;28;01mif\u001b[39;00m \u001b[38;5;28mlen\u001b[39m(part) \u001b[38;5;241m>\u001b[39m\u001b[38;5;241m=\u001b[39m \u001b[38;5;241m2\u001b[39m \u001b[38;5;28;01melse\u001b[39;00m []), \u001b[43mparsed\u001b[49m\u001b[43m[\u001b[49m\u001b[38;5;241;43m1\u001b[39;49m\u001b[43m]\u001b[49m\u001b[43m[\u001b[49m\u001b[38;5;241;43m0\u001b[39;49m\u001b[43m]\u001b[49m\u001b[43m[\u001b[49m\u001b[38;5;241;43m0\u001b[39;49m\u001b[43m]\u001b[49m\u001b[43m[\u001b[49m\u001b[38;5;241;43m5\u001b[39;49m\u001b[43m]\u001b[49m))\n\u001b[0;32m    223\u001b[0m translated \u001b[38;5;241m=\u001b[39m (\u001b[38;5;124m'\u001b[39m\u001b[38;5;124m \u001b[39m\u001b[38;5;124m'\u001b[39m \u001b[38;5;28;01mif\u001b[39;00m should_spacing \u001b[38;5;28;01melse\u001b[39;00m \u001b[38;5;124m'\u001b[39m\u001b[38;5;124m'\u001b[39m)\u001b[38;5;241m.\u001b[39mjoin(\u001b[38;5;28mmap\u001b[39m(\u001b[38;5;28;01mlambda\u001b[39;00m part: part\u001b[38;5;241m.\u001b[39mtext, translated_parts))\n\u001b[0;32m    225\u001b[0m \u001b[38;5;28;01mif\u001b[39;00m src \u001b[38;5;241m==\u001b[39m \u001b[38;5;124m'\u001b[39m\u001b[38;5;124mauto\u001b[39m\u001b[38;5;124m'\u001b[39m:\n",
      "\u001b[1;31mIndexError\u001b[0m: list index out of range"
     ]
    }
   ],
   "source": [
    "from googletrans import Translator\n",
    "\n",
    "translator = Translator()\n",
    "columns_en = []\n",
    "\n",
    "for col in df_dapro.columns:\n",
    "    word = translator.translate(str(col), dest='en').text\n",
    "    columns_en.append(word)"
   ]
  },
  {
   "cell_type": "code",
   "execution_count": null,
   "id": "66d44305",
   "metadata": {},
   "outputs": [],
   "source": [
    "len(columns_en)"
   ]
  },
  {
   "cell_type": "code",
   "execution_count": null,
   "id": "49f8a8bc",
   "metadata": {},
   "outputs": [],
   "source": [
    "columns_en = columns_en + list(df_dapro.columns[119:])"
   ]
  },
  {
   "cell_type": "code",
   "execution_count": null,
   "id": "ce6e2640",
   "metadata": {},
   "outputs": [],
   "source": [
    "columns_en"
   ]
  },
  {
   "cell_type": "code",
   "execution_count": null,
   "id": "4a66fc01",
   "metadata": {},
   "outputs": [],
   "source": [
    "len(columns_en)"
   ]
  },
  {
   "cell_type": "code",
   "execution_count": null,
   "id": "deeedd6e",
   "metadata": {},
   "outputs": [],
   "source": [
    "df_dapro_en = df_dapro\n",
    "df_dapro_en.columns = columns_en"
   ]
  },
  {
   "cell_type": "code",
   "execution_count": null,
   "id": "3b5c56a8",
   "metadata": {},
   "outputs": [],
   "source": [
    "df_dapro_en"
   ]
  },
  {
   "cell_type": "code",
   "execution_count": null,
   "id": "570e7780",
   "metadata": {},
   "outputs": [],
   "source": [
    "from googletrans import Translator\n",
    "\n",
    "translator = Translator()\n",
    "index_en = []\n",
    "\n",
    "for index in df_dapro.index:\n",
    "    word = translator.translate(str(index), dest='en').text\n",
    "    index_en.append(word)"
   ]
  },
  {
   "cell_type": "code",
   "execution_count": null,
   "id": "ad119d48",
   "metadata": {},
   "outputs": [],
   "source": [
    "df_dapro_en.index = index_en"
   ]
  },
  {
   "cell_type": "code",
   "execution_count": null,
   "id": "d6108c07",
   "metadata": {},
   "outputs": [],
   "source": [
    "df_dapro_en"
   ]
  },
  {
   "cell_type": "code",
   "execution_count": null,
   "id": "9c9caf8b",
   "metadata": {},
   "outputs": [],
   "source": [
    "df_dapro_en.rename(index = {'linseed': 'Linseed', \n",
    "                            'peanut': 'Peanut', \n",
    "                            'hazelnut': 'Hazel nut',\n",
    "                            'sesame': 'Sesame',\n",
    "                            'Cashewnuss': 'Cashew nut', \n",
    "                            'Pine core': 'Pine nut', \n",
    "                           'Trackie': 'Pistachio', \n",
    "                           'Sunflower core': 'Sunflower seed', \n",
    "                           'Hartweizengriess': 'Durum wheat'}, inplace = True)"
   ]
  },
  {
   "cell_type": "code",
   "execution_count": null,
   "id": "db5686ab",
   "metadata": {},
   "outputs": [],
   "source": [
    "df_dapro_en.rename(columns = {'Protein (protein) _G/g': 'Protein_g/g', \n",
    "                            'Energy (kilojoule) _kj/100g': 'Energy (kilojoule) _kJ/100g', \n",
    "                            'Natrium_mg/100g': 'Sodium_mg/100g',\n",
    "                            'Strength_mg/100g': 'Starch_mg/100g',\n",
    "}, inplace = True)"
   ]
  },
  {
   "cell_type": "code",
   "execution_count": null,
   "id": "7311090b",
   "metadata": {},
   "outputs": [],
   "source": [
    "df_dapro_en.to_excel('df_dapro_en.xlsx')"
   ]
  }
 ],
 "metadata": {
  "kernelspec": {
   "display_name": "Python 3 (ipykernel)",
   "language": "python",
   "name": "python3"
  },
  "language_info": {
   "codemirror_mode": {
    "name": "ipython",
    "version": 3
   },
   "file_extension": ".py",
   "mimetype": "text/x-python",
   "name": "python",
   "nbconvert_exporter": "python",
   "pygments_lexer": "ipython3",
   "version": "3.9.13"
  }
 },
 "nbformat": 4,
 "nbformat_minor": 5
}
