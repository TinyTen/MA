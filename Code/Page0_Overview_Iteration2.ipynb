{
 "cells": [
  {
   "cell_type": "markdown",
   "id": "8668637c",
   "metadata": {},
   "source": [
    "# Food Environmental Impact\n",
    "## ILV Datenvisualisierung und Visual Analytics\n",
    "## Christina Köck\n",
    "## Februar 2023\n",
    "### Link to the Gitlab-Repo: https://gitlab.web.fh-kufstein.ac.at/christina.koeck/datenvisualisierung_und_visualanalytics"
   ]
  },
  {
   "cell_type": "markdown",
   "id": "fdec2b26",
   "metadata": {},
   "source": [
    "Die Visualisierungen werden in diesem Notebook erstellt. Designentscheidungen werden hier dokumentiert. Nach der Entwicklung wird der Code in eine streamlit-Anwendung für das Dashboarding übertragen.\n",
    "\n",
    "Die Streamlit-Anwendung ist für interessierte Verbaucher mit leicht wissenschaftlichem Hintergrund gedacht. Die Informationen sollten für VerbraucherInnen verständlich sein, allerdings sind gewisse Kenntnisse zu den Nachhaltigkeitsparamtern vorausgesetzt. Besonders die Darstellung der Korrelation setzt Kenntnisse der Pearson-Korrelation voraus. Die Streamlit-Anwendung könnte auch im Unterricht verwendet werden, um Lernenden verschiedene Ernährungsformen näherzubringen. Die Anwendung ist so gestaltet, dass sie mit verschiedenen Fragen durch die Daten führt. Somit soll auf verschiedene Aspekte und Zusammenhänge hingewiesen werden. Die NutzerInnen können dabei selbst wählen, welche Lebenmittel dargestellt werden sollen."
   ]
  },
  {
   "cell_type": "markdown",
   "id": "d74abbc5",
   "metadata": {},
   "source": [
    "### Libraries and data"
   ]
  },
  {
   "cell_type": "code",
   "execution_count": 1,
   "id": "c7a69843",
   "metadata": {},
   "outputs": [],
   "source": [
    "# ! pip install cmcrameri"
   ]
  },
  {
   "cell_type": "code",
   "execution_count": 2,
   "id": "0843a275",
   "metadata": {},
   "outputs": [],
   "source": [
    "from cmcrameri import cm\n",
    "import math as math\n",
    "import pandas as pd\n",
    "import numpy as np\n",
    "import seaborn as sns\n",
    "\n",
    "import matplotlib.pyplot as plt\n",
    "import plotly.express as px\n",
    "\n",
    "import sparql_dataframe"
   ]
  },
  {
   "cell_type": "code",
   "execution_count": 3,
   "id": "d28a922e",
   "metadata": {},
   "outputs": [],
   "source": [
    "# # Data are from:\n",
    "# # Hannah Ritchie and Max Roser (2022)\n",
    "# # \"Environmental Impacts of Food Production\".\n",
    "# # Published online at OurWorldInData.org. 'https://ourworldindata.org/environmental-impacts-of-food' [Online Resource]\n",
    "# # Data was retrieved in a shorter form from https://www.kaggle.com/datasets/selfvivek/environment-impact-of-food-production\n",
    "# df_food = pd.read_excel(\"Mockdata012.xlsx\")\n",
    "# df_food.drop('Unnamed: 0', axis = 1, inplace=True)\n"
   ]
  },
  {
   "cell_type": "code",
   "execution_count": 4,
   "id": "377a3fda",
   "metadata": {},
   "outputs": [],
   "source": [
    "# df_food.head(12)"
   ]
  },
  {
   "cell_type": "markdown",
   "id": "0eef4ede",
   "metadata": {},
   "source": [
    "## Read in Dapro Data"
   ]
  },
  {
   "cell_type": "code",
   "execution_count": 5,
   "id": "03bd968b",
   "metadata": {},
   "outputs": [],
   "source": [
    "endpoint = 'http://localhost:8000'\n",
    "\n",
    "q = \"\"\"\n",
    "PREFIX rdf: <http://www.w3.org/1999/02/22-rdf-syntax-ns#>\n",
    "PREFIX owl: <http://www.w3.org/2002/07/owl#>\n",
    "PREFIX rdfs: <http://www.w3.org/2000/01/rdf-schema#>\n",
    "PREFIX xsd: <http://www.w3.org/2001/XMLSchema#>\n",
    "PREFIX schema: <http://schema.org/>\n",
    "PREFIX dapro: <http://dapro.opendata.zhaw.ch/DaPro.owl#>\n",
    "\n",
    "SELECT ?name\n",
    "WHERE {\n",
    "\t?dapro a dapro:Product .\n",
    "    ?dapro rdfs:label ?name.       \n",
    "}\n",
    "\"\"\"\n",
    "\n",
    "\n",
    "df_products = sparql_dataframe.get(endpoint, q)\n",
    "# df_products.head(20)"
   ]
  },
  {
   "cell_type": "code",
   "execution_count": 6,
   "id": "f6f25ae7",
   "metadata": {},
   "outputs": [],
   "source": [
    "food_items = df_products['name'].astype('str')\n",
    "food_items = [str(i) for i in food_items]\n",
    "food_items.insert(0, 'Apfel')\n",
    "# food_items"
   ]
  },
  {
   "cell_type": "code",
   "execution_count": 7,
   "id": "d886659d",
   "metadata": {},
   "outputs": [],
   "source": [
    "# das funktioniert\n",
    "d = {}\n",
    "# food_items = [\"Apfel\", \"Birne\", \"Ahornsirup\", \"Brie\", \"Knoblauch\", 'Ackerbohne']\n",
    "\n",
    "endpoint = 'http://localhost:8000'\n",
    "\n",
    "for item in food_items:\n",
    "\n",
    "    q = \"\"\"\n",
    "    PREFIX rdf: <http://www.w3.org/1999/02/22-rdf-syntax-ns#>\n",
    "    PREFIX owl: <http://www.w3.org/2002/07/owl#>\n",
    "    PREFIX rdfs: <http://www.w3.org/2000/01/rdf-schema#>\n",
    "    PREFIX xsd: <http://www.w3.org/2001/XMLSchema#>\n",
    "    PREFIX schema: <http://schema.org/>\n",
    "    PREFIX dapro: <http://dapro.opendata.zhaw.ch/DaPro.owl#>\n",
    "    SELECT ?foodoningredient ?foodoningredientval ?unit\n",
    "    WHERE {{\n",
    "        ?dapro rdfs:label \"{}\" .\n",
    "        ?dapro schema:ingredients ?recingredient .\n",
    "        ?recingredient schema:ingredients ?foodoningredient .\n",
    "        ?recingredient schema:value ?foodoningredientval .\n",
    "        ?recingredient schema:unitCode ?unit .   \n",
    "    }}\n",
    "        \"\"\".format(item)\n",
    "    \n",
    "    df_interim = sparql_dataframe.get(endpoint, q)\n",
    "    df_interim.set_index('foodoningredient', inplace = True)\n",
    "    df_interim.rename(columns={\"foodoningredientval\": item}, inplace = True)\n",
    "    df_interim = df_interim.reindex(sorted(df_interim.index))\n",
    "    d[\"df_{}\".format(item)] = df_interim\n",
    "    \n",
    "df_dapro = d[next(iter(d))]\n",
    "# # df_dapro.drop('unit', axis = 1, inplace = True)\n",
    "for key in d.keys():\n",
    "    if d[key]['unit'].equals(d[next(iter(d))]['unit']):\n",
    "        df_dapro = df_dapro.merge(d[key][d[key].columns[0]], how='outer', left_index= True,\n",
    "                               right_on = 'foodoningredient' \n",
    "                             )\n",
    "        \n",
    "\n",
    "# df_dapro.drop('unit', axis = 1, inplace = True)\n",
    "df_dapro.set_index('unit', append = True, inplace = True)\n",
    "df_dapro.index = ['_'.join(ind) for ind in df_dapro.index.values]\n",
    "\n",
    "df_dapro=df_dapro.T"
   ]
  },
  {
   "cell_type": "code",
   "execution_count": 8,
   "id": "05e74a2b",
   "metadata": {},
   "outputs": [],
   "source": [
    "# read in ecological data:\n",
    "\n",
    "d = {}\n",
    "\n",
    "\n",
    "endpoint = 'http://localhost:8000'\n",
    "for item in food_items:\n",
    "    q = \"\"\"\n",
    "    PREFIX rdf: <http://www.w3.org/1999/02/22-rdf-syntax-ns#>\n",
    "    PREFIX owl: <http://www.w3.org/2002/07/owl#>\n",
    "    PREFIX rdfs: <http://www.w3.org/2000/01/rdf-schema#>\n",
    "    PREFIX xsd: <http://www.w3.org/2001/XMLSchema#>\n",
    "    PREFIX schema: <http://schema.org/>\n",
    "    PREFIX dapro: <http://dapro.opendata.zhaw.ch/DaPro.owl#>\n",
    "\n",
    "    SELECT   ?name1 ?UBP\n",
    "    WHERE {{\n",
    "\n",
    "        ?ingredient rdfs:label \"ecological scarcity 2013, total, UBP/kg in {}\"   .\n",
    "        ?ingredient rdfs:label ?name1.\n",
    "        ?ingredient schema:value ?UBP .\n",
    "        OPTIONAL{{ ?ingredient schema:unitCode ?unit .}}   \n",
    "    }}\n",
    "    \"\"\".format(item)\n",
    "\n",
    "\n",
    "    df_interim = sparql_dataframe.get(endpoint, q)\n",
    "    df_interim.set_index('name1', inplace = True)\n",
    "    df_interim.rename(columns={\"name1\": item}, inplace = True)\n",
    "    df_interim = df_interim.reindex(sorted(df_interim.index))\n",
    "    d[\"df_{}\".format(item)] = df_interim\n",
    "    \n",
    "df_UBP = d[next(iter(d))]\n",
    "# # df_dapro.drop('unit', axis = 1, inplace = True)\n",
    "for key in d.keys():\n",
    "#     if d[key]['unit'].equals(d[next(iter(d))]['unit']):\n",
    "        df_UBP = pd.concat([df_UBP, d[key][d[key].columns[0]]])\n",
    "        \n",
    "# df_dapro.drop('unit', axis = 1, inplace = True)\n",
    "# df_dapro.set_index('unit', append = True, inplace = True)\n",
    "# df_dapro.index = ['_'.join(ind) for ind in df_dapro.index.values]\n",
    "\n",
    "# df_dapro=df_dapro.T"
   ]
  },
  {
   "cell_type": "code",
   "execution_count": 9,
   "id": "c05602ca",
   "metadata": {},
   "outputs": [],
   "source": [
    "df_UBP.drop('UBP', axis = 1, inplace=True)\n",
    "df_UBP.dropna(axis = 0, inplace = True)\n",
    "\n",
    "# calculate for 100g not for 1 kg:\n",
    "df_UBP = df_UBP/10"
   ]
  },
  {
   "cell_type": "code",
   "execution_count": 10,
   "id": "d899e1cb",
   "metadata": {},
   "outputs": [],
   "source": [
    "def lastWord(string):\n",
    "  # finding the index of last space\n",
    "  index = string.rfind(\" \")\n",
    " \n",
    "  # last word\n",
    "  return string[index+1:]"
   ]
  },
  {
   "cell_type": "code",
   "execution_count": 11,
   "id": "b0184108",
   "metadata": {},
   "outputs": [],
   "source": [
    "actual_food = []\n",
    "for index in df_UBP.index:\n",
    "    actual_food.append(lastWord(index))\n",
    "\n",
    "df_UBP.index = actual_food"
   ]
  },
  {
   "cell_type": "code",
   "execution_count": 12,
   "id": "1b5444a6",
   "metadata": {},
   "outputs": [],
   "source": [
    "df_UBP.rename(columns = {0: 'ecological scarcity 2013, total, UBP/100g'}, inplace=True)\n",
    "df_dapro.rename(index = {'Apfel_y': 'Apfel'}, inplace=True)\n",
    "df_dapro.drop(df_dapro.index[0], axis = 0, inplace = True)"
   ]
  },
  {
   "cell_type": "code",
   "execution_count": 13,
   "id": "6ed2dbe5",
   "metadata": {},
   "outputs": [],
   "source": [
    "df_dapro = df_dapro.merge(df_UBP,  how = 'left', left_index=True, right_index=True)\n"
   ]
  },
  {
   "cell_type": "code",
   "execution_count": 14,
   "id": "0c885bdc",
   "metadata": {},
   "outputs": [],
   "source": [
    "df_eco = pd.read_excel('UBP.xlsx', sheet_name = 'others')\n",
    "df_eco.drop('Category', axis = 1, inplace = True)\n"
   ]
  },
  {
   "cell_type": "code",
   "execution_count": 15,
   "id": "aa421f71",
   "metadata": {},
   "outputs": [],
   "source": [
    "df_eco.set_index('Food product', inplace = True)"
   ]
  },
  {
   "cell_type": "code",
   "execution_count": 16,
   "id": "c2d55aaf",
   "metadata": {},
   "outputs": [],
   "source": [
    "#set pro 100g instead of 1kg:\n",
    "df_eco = df_eco/10\n",
    "df_eco.rename(columns = {\n",
    "    'Eutrophying emissions per kilogram (gPO₄eq per kilogram)': 'Eutrophying emissions per 100g (gPO₄eq per 100g}', \n",
    "    'Freshwater withdrawals per kilogram (liters per kilogram)' : 'Freshwater withdrawals per 100g (liters per 100g)',\n",
    "    'Land use per kilogram (m² per kilogram)': 'Land use per 100g (m² per 100g)'\n",
    "}\n",
    "    , inplace = True)"
   ]
  },
  {
   "cell_type": "code",
   "execution_count": 17,
   "id": "9d000793",
   "metadata": {},
   "outputs": [],
   "source": [
    "df_eco.rename(index = {'Groundnuts': 'Erdnuss', \n",
    "                      'Apples': 'Apfel', \n",
    "                      'Milk': 'Kuhmilch',\n",
    "                      'Cheese': 'Hartkäse',\n",
    "                      'Eggs': 'Hühnerei'}, inplace=True)"
   ]
  },
  {
   "cell_type": "code",
   "execution_count": 18,
   "id": "90cf4545",
   "metadata": {},
   "outputs": [],
   "source": [
    "df_dapro = df_dapro.merge(df_eco, how = 'left', left_index=True, right_index=True )"
   ]
  },
  {
   "cell_type": "code",
   "execution_count": 19,
   "id": "22104090",
   "metadata": {},
   "outputs": [],
   "source": [
    "df_dapro.rename(columns = {'Eiweiß (Protein)_mg/100g': 'Eiweiß (Protein)_g/g'\n",
    "                          }, inplace=True)"
   ]
  },
  {
   "cell_type": "code",
   "execution_count": 20,
   "id": "dbb8822c",
   "metadata": {},
   "outputs": [],
   "source": [
    "# from googletrans import Translator\n",
    "\n",
    "# translator = Translator()\n",
    "# columns_en = list(df_dapro.columns[:20].map(lambda x: translator.translate(x, dest='en').text))\n",
    "# columns_en.append(list(df_dapro.columns[20:40].map(lambda x: translator.translate(x, dest='en').text)))\n",
    "# print(len(columns_en))\n",
    "# columns_en.append(list(df_dapro.columns[40:60].map(lambda x: translator.translate(x, dest='en').text)))\n",
    "# print(len(columns_en))\n",
    "# columns_en.append(list(df_dapro.columns[60:80].map(lambda x: translator.translate(x, dest='en').text)))\n",
    "# print(len(columns_en))\n",
    "# columns_en.append(list(df_dapro.columns[80:100].map(lambda x: translator.translate(x, dest='en').text)))\n",
    "# print(len(columns_en))\n",
    "# columns_en.append(list(df_dapro.columns[100:119].map(lambda x: translator.translate(x, dest='en').text)))\n",
    "\n"
   ]
  },
  {
   "cell_type": "code",
   "execution_count": 21,
   "id": "e6f8625d",
   "metadata": {},
   "outputs": [
    {
     "ename": "ReadTimeout",
     "evalue": "The read operation timed out",
     "output_type": "error",
     "traceback": [
      "\u001b[1;31m---------------------------------------------------------------------------\u001b[0m",
      "\u001b[1;31mReadTimeout\u001b[0m                               Traceback (most recent call last)",
      "Cell \u001b[1;32mIn [21], line 7\u001b[0m\n\u001b[0;32m      4\u001b[0m columns_en \u001b[38;5;241m=\u001b[39m []\n\u001b[0;32m      6\u001b[0m \u001b[38;5;28;01mfor\u001b[39;00m col \u001b[38;5;129;01min\u001b[39;00m df_dapro\u001b[38;5;241m.\u001b[39mcolumns:\n\u001b[1;32m----> 7\u001b[0m     word \u001b[38;5;241m=\u001b[39m translator\u001b[38;5;241m.\u001b[39mtranslate(\u001b[38;5;28mstr\u001b[39m(col), dest\u001b[38;5;241m=\u001b[39m\u001b[38;5;124m'\u001b[39m\u001b[38;5;124men\u001b[39m\u001b[38;5;124m'\u001b[39m)\u001b[38;5;241m.\u001b[39mtext\n\u001b[0;32m      8\u001b[0m     columns_en\u001b[38;5;241m.\u001b[39mappend(word)\n",
      "File \u001b[1;32m~\\AppData\\Local\\Programs\\Python\\Python39\\lib\\site-packages\\googletrans\\client.py:194\u001b[0m, in \u001b[0;36mTranslator.translate\u001b[1;34m(self, text, dest, src)\u001b[0m\n\u001b[0;32m    191\u001b[0m         \u001b[38;5;28;01mraise\u001b[39;00m \u001b[38;5;167;01mValueError\u001b[39;00m(\u001b[38;5;124m'\u001b[39m\u001b[38;5;124minvalid destination language\u001b[39m\u001b[38;5;124m'\u001b[39m)\n\u001b[0;32m    193\u001b[0m origin \u001b[38;5;241m=\u001b[39m text\n\u001b[1;32m--> 194\u001b[0m data, response \u001b[38;5;241m=\u001b[39m \u001b[38;5;28;43mself\u001b[39;49m\u001b[38;5;241;43m.\u001b[39;49m\u001b[43m_translate\u001b[49m\u001b[43m(\u001b[49m\u001b[43mtext\u001b[49m\u001b[43m,\u001b[49m\u001b[43m \u001b[49m\u001b[43mdest\u001b[49m\u001b[43m,\u001b[49m\u001b[43m \u001b[49m\u001b[43msrc\u001b[49m\u001b[43m)\u001b[49m\n\u001b[0;32m    196\u001b[0m token_found \u001b[38;5;241m=\u001b[39m \u001b[38;5;28;01mFalse\u001b[39;00m\n\u001b[0;32m    197\u001b[0m square_bracket_counts \u001b[38;5;241m=\u001b[39m [\u001b[38;5;241m0\u001b[39m, \u001b[38;5;241m0\u001b[39m]\n",
      "File \u001b[1;32m~\\AppData\\Local\\Programs\\Python\\Python39\\lib\\site-packages\\googletrans\\client.py:120\u001b[0m, in \u001b[0;36mTranslator._translate\u001b[1;34m(self, text, dest, src)\u001b[0m\n\u001b[0;32m    109\u001b[0m data \u001b[38;5;241m=\u001b[39m {\n\u001b[0;32m    110\u001b[0m     \u001b[38;5;124m'\u001b[39m\u001b[38;5;124mf.req\u001b[39m\u001b[38;5;124m'\u001b[39m: \u001b[38;5;28mself\u001b[39m\u001b[38;5;241m.\u001b[39m_build_rpc_request(text, dest, src),\n\u001b[0;32m    111\u001b[0m }\n\u001b[0;32m    112\u001b[0m params \u001b[38;5;241m=\u001b[39m {\n\u001b[0;32m    113\u001b[0m     \u001b[38;5;124m'\u001b[39m\u001b[38;5;124mrpcids\u001b[39m\u001b[38;5;124m'\u001b[39m: RPC_ID,\n\u001b[0;32m    114\u001b[0m     \u001b[38;5;124m'\u001b[39m\u001b[38;5;124mbl\u001b[39m\u001b[38;5;124m'\u001b[39m: \u001b[38;5;124m'\u001b[39m\u001b[38;5;124mboq_translate-webserver_20201207.13_p0\u001b[39m\u001b[38;5;124m'\u001b[39m,\n\u001b[1;32m   (...)\u001b[0m\n\u001b[0;32m    118\u001b[0m     \u001b[38;5;124m'\u001b[39m\u001b[38;5;124mrt\u001b[39m\u001b[38;5;124m'\u001b[39m: \u001b[38;5;124m'\u001b[39m\u001b[38;5;124mc\u001b[39m\u001b[38;5;124m'\u001b[39m,\n\u001b[0;32m    119\u001b[0m }\n\u001b[1;32m--> 120\u001b[0m r \u001b[38;5;241m=\u001b[39m \u001b[38;5;28;43mself\u001b[39;49m\u001b[38;5;241;43m.\u001b[39;49m\u001b[43mclient\u001b[49m\u001b[38;5;241;43m.\u001b[39;49m\u001b[43mpost\u001b[49m\u001b[43m(\u001b[49m\u001b[43murl\u001b[49m\u001b[43m,\u001b[49m\u001b[43m \u001b[49m\u001b[43mparams\u001b[49m\u001b[38;5;241;43m=\u001b[39;49m\u001b[43mparams\u001b[49m\u001b[43m,\u001b[49m\u001b[43m \u001b[49m\u001b[43mdata\u001b[49m\u001b[38;5;241;43m=\u001b[39;49m\u001b[43mdata\u001b[49m\u001b[43m)\u001b[49m\n\u001b[0;32m    122\u001b[0m \u001b[38;5;28;01mif\u001b[39;00m r\u001b[38;5;241m.\u001b[39mstatus_code \u001b[38;5;241m!=\u001b[39m \u001b[38;5;241m200\u001b[39m \u001b[38;5;129;01mand\u001b[39;00m \u001b[38;5;28mself\u001b[39m\u001b[38;5;241m.\u001b[39mraise_Exception:\n\u001b[0;32m    123\u001b[0m     \u001b[38;5;28;01mraise\u001b[39;00m \u001b[38;5;167;01mException\u001b[39;00m(\u001b[38;5;124m'\u001b[39m\u001b[38;5;124mUnexpected status code \u001b[39m\u001b[38;5;124m\"\u001b[39m\u001b[38;5;132;01m{}\u001b[39;00m\u001b[38;5;124m\"\u001b[39m\u001b[38;5;124m from \u001b[39m\u001b[38;5;132;01m{}\u001b[39;00m\u001b[38;5;124m'\u001b[39m\u001b[38;5;241m.\u001b[39mformat(\n\u001b[0;32m    124\u001b[0m         r\u001b[38;5;241m.\u001b[39mstatus_code, \u001b[38;5;28mself\u001b[39m\u001b[38;5;241m.\u001b[39mservice_urls))\n",
      "File \u001b[1;32m~\\AppData\\Local\\Programs\\Python\\Python39\\lib\\site-packages\\httpx\\_client.py:824\u001b[0m, in \u001b[0;36mClient.post\u001b[1;34m(self, url, data, files, json, params, headers, cookies, auth, allow_redirects, timeout)\u001b[0m\n\u001b[0;32m    810\u001b[0m \u001b[38;5;28;01mdef\u001b[39;00m \u001b[38;5;21mpost\u001b[39m(\n\u001b[0;32m    811\u001b[0m     \u001b[38;5;28mself\u001b[39m,\n\u001b[0;32m    812\u001b[0m     url: URLTypes,\n\u001b[1;32m   (...)\u001b[0m\n\u001b[0;32m    822\u001b[0m     timeout: typing\u001b[38;5;241m.\u001b[39mUnion[TimeoutTypes, UnsetType] \u001b[38;5;241m=\u001b[39m UNSET,\n\u001b[0;32m    823\u001b[0m ) \u001b[38;5;241m-\u001b[39m\u001b[38;5;241m>\u001b[39m Response:\n\u001b[1;32m--> 824\u001b[0m     \u001b[38;5;28;01mreturn\u001b[39;00m \u001b[38;5;28;43mself\u001b[39;49m\u001b[38;5;241;43m.\u001b[39;49m\u001b[43mrequest\u001b[49m\u001b[43m(\u001b[49m\n\u001b[0;32m    825\u001b[0m \u001b[43m        \u001b[49m\u001b[38;5;124;43m\"\u001b[39;49m\u001b[38;5;124;43mPOST\u001b[39;49m\u001b[38;5;124;43m\"\u001b[39;49m\u001b[43m,\u001b[49m\n\u001b[0;32m    826\u001b[0m \u001b[43m        \u001b[49m\u001b[43murl\u001b[49m\u001b[43m,\u001b[49m\n\u001b[0;32m    827\u001b[0m \u001b[43m        \u001b[49m\u001b[43mdata\u001b[49m\u001b[38;5;241;43m=\u001b[39;49m\u001b[43mdata\u001b[49m\u001b[43m,\u001b[49m\n\u001b[0;32m    828\u001b[0m \u001b[43m        \u001b[49m\u001b[43mfiles\u001b[49m\u001b[38;5;241;43m=\u001b[39;49m\u001b[43mfiles\u001b[49m\u001b[43m,\u001b[49m\n\u001b[0;32m    829\u001b[0m \u001b[43m        \u001b[49m\u001b[43mjson\u001b[49m\u001b[38;5;241;43m=\u001b[39;49m\u001b[43mjson\u001b[49m\u001b[43m,\u001b[49m\n\u001b[0;32m    830\u001b[0m \u001b[43m        \u001b[49m\u001b[43mparams\u001b[49m\u001b[38;5;241;43m=\u001b[39;49m\u001b[43mparams\u001b[49m\u001b[43m,\u001b[49m\n\u001b[0;32m    831\u001b[0m \u001b[43m        \u001b[49m\u001b[43mheaders\u001b[49m\u001b[38;5;241;43m=\u001b[39;49m\u001b[43mheaders\u001b[49m\u001b[43m,\u001b[49m\n\u001b[0;32m    832\u001b[0m \u001b[43m        \u001b[49m\u001b[43mcookies\u001b[49m\u001b[38;5;241;43m=\u001b[39;49m\u001b[43mcookies\u001b[49m\u001b[43m,\u001b[49m\n\u001b[0;32m    833\u001b[0m \u001b[43m        \u001b[49m\u001b[43mauth\u001b[49m\u001b[38;5;241;43m=\u001b[39;49m\u001b[43mauth\u001b[49m\u001b[43m,\u001b[49m\n\u001b[0;32m    834\u001b[0m \u001b[43m        \u001b[49m\u001b[43mallow_redirects\u001b[49m\u001b[38;5;241;43m=\u001b[39;49m\u001b[43mallow_redirects\u001b[49m\u001b[43m,\u001b[49m\n\u001b[0;32m    835\u001b[0m \u001b[43m        \u001b[49m\u001b[43mtimeout\u001b[49m\u001b[38;5;241;43m=\u001b[39;49m\u001b[43mtimeout\u001b[49m\u001b[43m,\u001b[49m\n\u001b[0;32m    836\u001b[0m \u001b[43m    \u001b[49m\u001b[43m)\u001b[49m\n",
      "File \u001b[1;32m~\\AppData\\Local\\Programs\\Python\\Python39\\lib\\site-packages\\httpx\\_client.py:600\u001b[0m, in \u001b[0;36mClient.request\u001b[1;34m(self, method, url, data, files, json, params, headers, cookies, auth, allow_redirects, timeout)\u001b[0m\n\u001b[0;32m    575\u001b[0m \u001b[38;5;28;01mdef\u001b[39;00m \u001b[38;5;21mrequest\u001b[39m(\n\u001b[0;32m    576\u001b[0m     \u001b[38;5;28mself\u001b[39m,\n\u001b[0;32m    577\u001b[0m     method: \u001b[38;5;28mstr\u001b[39m,\n\u001b[1;32m   (...)\u001b[0m\n\u001b[0;32m    588\u001b[0m     timeout: typing\u001b[38;5;241m.\u001b[39mUnion[TimeoutTypes, UnsetType] \u001b[38;5;241m=\u001b[39m UNSET,\n\u001b[0;32m    589\u001b[0m ) \u001b[38;5;241m-\u001b[39m\u001b[38;5;241m>\u001b[39m Response:\n\u001b[0;32m    590\u001b[0m     request \u001b[38;5;241m=\u001b[39m \u001b[38;5;28mself\u001b[39m\u001b[38;5;241m.\u001b[39mbuild_request(\n\u001b[0;32m    591\u001b[0m         method\u001b[38;5;241m=\u001b[39mmethod,\n\u001b[0;32m    592\u001b[0m         url\u001b[38;5;241m=\u001b[39murl,\n\u001b[1;32m   (...)\u001b[0m\n\u001b[0;32m    598\u001b[0m         cookies\u001b[38;5;241m=\u001b[39mcookies,\n\u001b[0;32m    599\u001b[0m     )\n\u001b[1;32m--> 600\u001b[0m     \u001b[38;5;28;01mreturn\u001b[39;00m \u001b[38;5;28;43mself\u001b[39;49m\u001b[38;5;241;43m.\u001b[39;49m\u001b[43msend\u001b[49m\u001b[43m(\u001b[49m\n\u001b[0;32m    601\u001b[0m \u001b[43m        \u001b[49m\u001b[43mrequest\u001b[49m\u001b[43m,\u001b[49m\u001b[43m \u001b[49m\u001b[43mauth\u001b[49m\u001b[38;5;241;43m=\u001b[39;49m\u001b[43mauth\u001b[49m\u001b[43m,\u001b[49m\u001b[43m \u001b[49m\u001b[43mallow_redirects\u001b[49m\u001b[38;5;241;43m=\u001b[39;49m\u001b[43mallow_redirects\u001b[49m\u001b[43m,\u001b[49m\u001b[43m \u001b[49m\u001b[43mtimeout\u001b[49m\u001b[38;5;241;43m=\u001b[39;49m\u001b[43mtimeout\u001b[49m\u001b[43m,\u001b[49m\n\u001b[0;32m    602\u001b[0m \u001b[43m    \u001b[49m\u001b[43m)\u001b[49m\n",
      "File \u001b[1;32m~\\AppData\\Local\\Programs\\Python\\Python39\\lib\\site-packages\\httpx\\_client.py:620\u001b[0m, in \u001b[0;36mClient.send\u001b[1;34m(self, request, stream, auth, allow_redirects, timeout)\u001b[0m\n\u001b[0;32m    616\u001b[0m timeout \u001b[38;5;241m=\u001b[39m \u001b[38;5;28mself\u001b[39m\u001b[38;5;241m.\u001b[39mtimeout \u001b[38;5;28;01mif\u001b[39;00m \u001b[38;5;28misinstance\u001b[39m(timeout, UnsetType) \u001b[38;5;28;01melse\u001b[39;00m Timeout(timeout)\n\u001b[0;32m    618\u001b[0m auth \u001b[38;5;241m=\u001b[39m \u001b[38;5;28mself\u001b[39m\u001b[38;5;241m.\u001b[39mbuild_auth(request, auth)\n\u001b[1;32m--> 620\u001b[0m response \u001b[38;5;241m=\u001b[39m \u001b[38;5;28;43mself\u001b[39;49m\u001b[38;5;241;43m.\u001b[39;49m\u001b[43msend_handling_redirects\u001b[49m\u001b[43m(\u001b[49m\n\u001b[0;32m    621\u001b[0m \u001b[43m    \u001b[49m\u001b[43mrequest\u001b[49m\u001b[43m,\u001b[49m\u001b[43m \u001b[49m\u001b[43mauth\u001b[49m\u001b[38;5;241;43m=\u001b[39;49m\u001b[43mauth\u001b[49m\u001b[43m,\u001b[49m\u001b[43m \u001b[49m\u001b[43mtimeout\u001b[49m\u001b[38;5;241;43m=\u001b[39;49m\u001b[43mtimeout\u001b[49m\u001b[43m,\u001b[49m\u001b[43m \u001b[49m\u001b[43mallow_redirects\u001b[49m\u001b[38;5;241;43m=\u001b[39;49m\u001b[43mallow_redirects\u001b[49m\u001b[43m,\u001b[49m\n\u001b[0;32m    622\u001b[0m \u001b[43m\u001b[49m\u001b[43m)\u001b[49m\n\u001b[0;32m    624\u001b[0m \u001b[38;5;28;01mif\u001b[39;00m \u001b[38;5;129;01mnot\u001b[39;00m stream:\n\u001b[0;32m    625\u001b[0m     \u001b[38;5;28;01mtry\u001b[39;00m:\n",
      "File \u001b[1;32m~\\AppData\\Local\\Programs\\Python\\Python39\\lib\\site-packages\\httpx\\_client.py:647\u001b[0m, in \u001b[0;36mClient.send_handling_redirects\u001b[1;34m(self, request, auth, timeout, allow_redirects, history)\u001b[0m\n\u001b[0;32m    644\u001b[0m \u001b[38;5;28;01mif\u001b[39;00m \u001b[38;5;28mlen\u001b[39m(history) \u001b[38;5;241m>\u001b[39m \u001b[38;5;28mself\u001b[39m\u001b[38;5;241m.\u001b[39mmax_redirects:\n\u001b[0;32m    645\u001b[0m     \u001b[38;5;28;01mraise\u001b[39;00m TooManyRedirects()\n\u001b[1;32m--> 647\u001b[0m response \u001b[38;5;241m=\u001b[39m \u001b[38;5;28;43mself\u001b[39;49m\u001b[38;5;241;43m.\u001b[39;49m\u001b[43msend_handling_auth\u001b[49m\u001b[43m(\u001b[49m\n\u001b[0;32m    648\u001b[0m \u001b[43m    \u001b[49m\u001b[43mrequest\u001b[49m\u001b[43m,\u001b[49m\u001b[43m \u001b[49m\u001b[43mauth\u001b[49m\u001b[38;5;241;43m=\u001b[39;49m\u001b[43mauth\u001b[49m\u001b[43m,\u001b[49m\u001b[43m \u001b[49m\u001b[43mtimeout\u001b[49m\u001b[38;5;241;43m=\u001b[39;49m\u001b[43mtimeout\u001b[49m\u001b[43m,\u001b[49m\u001b[43m \u001b[49m\u001b[43mhistory\u001b[49m\u001b[38;5;241;43m=\u001b[39;49m\u001b[43mhistory\u001b[49m\n\u001b[0;32m    649\u001b[0m \u001b[43m\u001b[49m\u001b[43m)\u001b[49m\n\u001b[0;32m    650\u001b[0m response\u001b[38;5;241m.\u001b[39mhistory \u001b[38;5;241m=\u001b[39m \u001b[38;5;28mlist\u001b[39m(history)\n\u001b[0;32m    652\u001b[0m \u001b[38;5;28;01mif\u001b[39;00m \u001b[38;5;129;01mnot\u001b[39;00m response\u001b[38;5;241m.\u001b[39mis_redirect:\n",
      "File \u001b[1;32m~\\AppData\\Local\\Programs\\Python\\Python39\\lib\\site-packages\\httpx\\_client.py:684\u001b[0m, in \u001b[0;36mClient.send_handling_auth\u001b[1;34m(self, request, history, auth, timeout)\u001b[0m\n\u001b[0;32m    682\u001b[0m request \u001b[38;5;241m=\u001b[39m \u001b[38;5;28mnext\u001b[39m(auth_flow)\n\u001b[0;32m    683\u001b[0m \u001b[38;5;28;01mwhile\u001b[39;00m \u001b[38;5;28;01mTrue\u001b[39;00m:\n\u001b[1;32m--> 684\u001b[0m     response \u001b[38;5;241m=\u001b[39m \u001b[38;5;28;43mself\u001b[39;49m\u001b[38;5;241;43m.\u001b[39;49m\u001b[43msend_single_request\u001b[49m\u001b[43m(\u001b[49m\u001b[43mrequest\u001b[49m\u001b[43m,\u001b[49m\u001b[43m \u001b[49m\u001b[43mtimeout\u001b[49m\u001b[43m)\u001b[49m\n\u001b[0;32m    685\u001b[0m     \u001b[38;5;28;01mif\u001b[39;00m auth\u001b[38;5;241m.\u001b[39mrequires_response_body:\n\u001b[0;32m    686\u001b[0m         response\u001b[38;5;241m.\u001b[39mread()\n",
      "File \u001b[1;32m~\\AppData\\Local\\Programs\\Python\\Python39\\lib\\site-packages\\httpx\\_client.py:714\u001b[0m, in \u001b[0;36mClient.send_single_request\u001b[1;34m(self, request, timeout)\u001b[0m\n\u001b[0;32m    705\u001b[0m transport \u001b[38;5;241m=\u001b[39m \u001b[38;5;28mself\u001b[39m\u001b[38;5;241m.\u001b[39mtransport_for_url(request\u001b[38;5;241m.\u001b[39murl)\n\u001b[0;32m    707\u001b[0m \u001b[38;5;28;01mtry\u001b[39;00m:\n\u001b[0;32m    708\u001b[0m     (\n\u001b[0;32m    709\u001b[0m         http_version,\n\u001b[0;32m    710\u001b[0m         status_code,\n\u001b[0;32m    711\u001b[0m         reason_phrase,\n\u001b[0;32m    712\u001b[0m         headers,\n\u001b[0;32m    713\u001b[0m         stream,\n\u001b[1;32m--> 714\u001b[0m     ) \u001b[38;5;241m=\u001b[39m \u001b[43mtransport\u001b[49m\u001b[38;5;241;43m.\u001b[39;49m\u001b[43mrequest\u001b[49m\u001b[43m(\u001b[49m\n\u001b[0;32m    715\u001b[0m \u001b[43m        \u001b[49m\u001b[43mrequest\u001b[49m\u001b[38;5;241;43m.\u001b[39;49m\u001b[43mmethod\u001b[49m\u001b[38;5;241;43m.\u001b[39;49m\u001b[43mencode\u001b[49m\u001b[43m(\u001b[49m\u001b[43m)\u001b[49m\u001b[43m,\u001b[49m\n\u001b[0;32m    716\u001b[0m \u001b[43m        \u001b[49m\u001b[43mrequest\u001b[49m\u001b[38;5;241;43m.\u001b[39;49m\u001b[43murl\u001b[49m\u001b[38;5;241;43m.\u001b[39;49m\u001b[43mraw\u001b[49m\u001b[43m,\u001b[49m\n\u001b[0;32m    717\u001b[0m \u001b[43m        \u001b[49m\u001b[43mheaders\u001b[49m\u001b[38;5;241;43m=\u001b[39;49m\u001b[43mrequest\u001b[49m\u001b[38;5;241;43m.\u001b[39;49m\u001b[43mheaders\u001b[49m\u001b[38;5;241;43m.\u001b[39;49m\u001b[43mraw\u001b[49m\u001b[43m,\u001b[49m\n\u001b[0;32m    718\u001b[0m \u001b[43m        \u001b[49m\u001b[43mstream\u001b[49m\u001b[38;5;241;43m=\u001b[39;49m\u001b[43mrequest\u001b[49m\u001b[38;5;241;43m.\u001b[39;49m\u001b[43mstream\u001b[49m\u001b[43m,\u001b[49m\n\u001b[0;32m    719\u001b[0m \u001b[43m        \u001b[49m\u001b[43mtimeout\u001b[49m\u001b[38;5;241;43m=\u001b[39;49m\u001b[43mtimeout\u001b[49m\u001b[38;5;241;43m.\u001b[39;49m\u001b[43mas_dict\u001b[49m\u001b[43m(\u001b[49m\u001b[43m)\u001b[49m\u001b[43m,\u001b[49m\n\u001b[0;32m    720\u001b[0m \u001b[43m    \u001b[49m\u001b[43m)\u001b[49m\n\u001b[0;32m    721\u001b[0m \u001b[38;5;28;01mexcept\u001b[39;00m HTTPError \u001b[38;5;28;01mas\u001b[39;00m exc:\n\u001b[0;32m    722\u001b[0m     \u001b[38;5;66;03m# Add the original request to any HTTPError unless\u001b[39;00m\n\u001b[0;32m    723\u001b[0m     \u001b[38;5;66;03m# there'a already a request attached in the case of\u001b[39;00m\n\u001b[0;32m    724\u001b[0m     \u001b[38;5;66;03m# a ProxyError.\u001b[39;00m\n\u001b[0;32m    725\u001b[0m     \u001b[38;5;28;01mif\u001b[39;00m exc\u001b[38;5;241m.\u001b[39m_request \u001b[38;5;129;01mis\u001b[39;00m \u001b[38;5;28;01mNone\u001b[39;00m:\n",
      "File \u001b[1;32m~\\AppData\\Local\\Programs\\Python\\Python39\\lib\\site-packages\\httpcore\\_sync\\connection_pool.py:152\u001b[0m, in \u001b[0;36mSyncConnectionPool.request\u001b[1;34m(self, method, url, headers, stream, timeout)\u001b[0m\n\u001b[0;32m    149\u001b[0m         logger\u001b[38;5;241m.\u001b[39mtrace(\u001b[38;5;124m\"\u001b[39m\u001b[38;5;124mreuse connection=\u001b[39m\u001b[38;5;132;01m%r\u001b[39;00m\u001b[38;5;124m\"\u001b[39m, connection)\n\u001b[0;32m    151\u001b[0m \u001b[38;5;28;01mtry\u001b[39;00m:\n\u001b[1;32m--> 152\u001b[0m     response \u001b[38;5;241m=\u001b[39m \u001b[43mconnection\u001b[49m\u001b[38;5;241;43m.\u001b[39;49m\u001b[43mrequest\u001b[49m\u001b[43m(\u001b[49m\n\u001b[0;32m    153\u001b[0m \u001b[43m        \u001b[49m\u001b[43mmethod\u001b[49m\u001b[43m,\u001b[49m\u001b[43m \u001b[49m\u001b[43murl\u001b[49m\u001b[43m,\u001b[49m\u001b[43m \u001b[49m\u001b[43mheaders\u001b[49m\u001b[38;5;241;43m=\u001b[39;49m\u001b[43mheaders\u001b[49m\u001b[43m,\u001b[49m\u001b[43m \u001b[49m\u001b[43mstream\u001b[49m\u001b[38;5;241;43m=\u001b[39;49m\u001b[43mstream\u001b[49m\u001b[43m,\u001b[49m\u001b[43m \u001b[49m\u001b[43mtimeout\u001b[49m\u001b[38;5;241;43m=\u001b[39;49m\u001b[43mtimeout\u001b[49m\n\u001b[0;32m    154\u001b[0m \u001b[43m    \u001b[49m\u001b[43m)\u001b[49m\n\u001b[0;32m    155\u001b[0m \u001b[38;5;28;01mexcept\u001b[39;00m NewConnectionRequired:\n\u001b[0;32m    156\u001b[0m     connection \u001b[38;5;241m=\u001b[39m \u001b[38;5;28;01mNone\u001b[39;00m\n",
      "File \u001b[1;32m~\\AppData\\Local\\Programs\\Python\\Python39\\lib\\site-packages\\httpcore\\_sync\\connection.py:78\u001b[0m, in \u001b[0;36mSyncHTTPConnection.request\u001b[1;34m(self, method, url, headers, stream, timeout)\u001b[0m\n\u001b[0;32m     74\u001b[0m \u001b[38;5;28;01massert\u001b[39;00m \u001b[38;5;28mself\u001b[39m\u001b[38;5;241m.\u001b[39mconnection \u001b[38;5;129;01mis\u001b[39;00m \u001b[38;5;129;01mnot\u001b[39;00m \u001b[38;5;28;01mNone\u001b[39;00m\n\u001b[0;32m     75\u001b[0m logger\u001b[38;5;241m.\u001b[39mtrace(\n\u001b[0;32m     76\u001b[0m     \u001b[38;5;124m\"\u001b[39m\u001b[38;5;124mconnection.request method=\u001b[39m\u001b[38;5;132;01m%r\u001b[39;00m\u001b[38;5;124m url=\u001b[39m\u001b[38;5;132;01m%r\u001b[39;00m\u001b[38;5;124m headers=\u001b[39m\u001b[38;5;132;01m%r\u001b[39;00m\u001b[38;5;124m\"\u001b[39m, method, url, headers\n\u001b[0;32m     77\u001b[0m )\n\u001b[1;32m---> 78\u001b[0m \u001b[38;5;28;01mreturn\u001b[39;00m \u001b[38;5;28;43mself\u001b[39;49m\u001b[38;5;241;43m.\u001b[39;49m\u001b[43mconnection\u001b[49m\u001b[38;5;241;43m.\u001b[39;49m\u001b[43mrequest\u001b[49m\u001b[43m(\u001b[49m\u001b[43mmethod\u001b[49m\u001b[43m,\u001b[49m\u001b[43m \u001b[49m\u001b[43murl\u001b[49m\u001b[43m,\u001b[49m\u001b[43m \u001b[49m\u001b[43mheaders\u001b[49m\u001b[43m,\u001b[49m\u001b[43m \u001b[49m\u001b[43mstream\u001b[49m\u001b[43m,\u001b[49m\u001b[43m \u001b[49m\u001b[43mtimeout\u001b[49m\u001b[43m)\u001b[49m\n",
      "File \u001b[1;32m~\\AppData\\Local\\Programs\\Python\\Python39\\lib\\site-packages\\httpcore\\_sync\\http2.py:118\u001b[0m, in \u001b[0;36mSyncHTTP2Connection.request\u001b[1;34m(self, method, url, headers, stream, timeout)\u001b[0m\n\u001b[0;32m    116\u001b[0m     \u001b[38;5;28mself\u001b[39m\u001b[38;5;241m.\u001b[39mstreams[stream_id] \u001b[38;5;241m=\u001b[39m h2_stream\n\u001b[0;32m    117\u001b[0m     \u001b[38;5;28mself\u001b[39m\u001b[38;5;241m.\u001b[39mevents[stream_id] \u001b[38;5;241m=\u001b[39m []\n\u001b[1;32m--> 118\u001b[0m     \u001b[38;5;28;01mreturn\u001b[39;00m \u001b[43mh2_stream\u001b[49m\u001b[38;5;241;43m.\u001b[39;49m\u001b[43mrequest\u001b[49m\u001b[43m(\u001b[49m\u001b[43mmethod\u001b[49m\u001b[43m,\u001b[49m\u001b[43m \u001b[49m\u001b[43murl\u001b[49m\u001b[43m,\u001b[49m\u001b[43m \u001b[49m\u001b[43mheaders\u001b[49m\u001b[43m,\u001b[49m\u001b[43m \u001b[49m\u001b[43mstream\u001b[49m\u001b[43m,\u001b[49m\u001b[43m \u001b[49m\u001b[43mtimeout\u001b[49m\u001b[43m)\u001b[49m\n\u001b[0;32m    119\u001b[0m \u001b[38;5;28;01mexcept\u001b[39;00m \u001b[38;5;167;01mException\u001b[39;00m:\n\u001b[0;32m    120\u001b[0m     \u001b[38;5;28mself\u001b[39m\u001b[38;5;241m.\u001b[39mmax_streams_semaphore\u001b[38;5;241m.\u001b[39mrelease()\n",
      "File \u001b[1;32m~\\AppData\\Local\\Programs\\Python\\Python39\\lib\\site-packages\\httpcore\\_sync\\http2.py:292\u001b[0m, in \u001b[0;36mSyncHTTP2Stream.request\u001b[1;34m(self, method, url, headers, stream, timeout)\u001b[0m\n\u001b[0;32m    289\u001b[0m     \u001b[38;5;28mself\u001b[39m\u001b[38;5;241m.\u001b[39msend_body(stream, timeout)\n\u001b[0;32m    291\u001b[0m \u001b[38;5;66;03m# Receive the response.\u001b[39;00m\n\u001b[1;32m--> 292\u001b[0m status_code, headers \u001b[38;5;241m=\u001b[39m \u001b[38;5;28;43mself\u001b[39;49m\u001b[38;5;241;43m.\u001b[39;49m\u001b[43mreceive_response\u001b[49m\u001b[43m(\u001b[49m\u001b[43mtimeout\u001b[49m\u001b[43m)\u001b[49m\n\u001b[0;32m    293\u001b[0m reason_phrase \u001b[38;5;241m=\u001b[39m get_reason_phrase(status_code)\n\u001b[0;32m    294\u001b[0m stream \u001b[38;5;241m=\u001b[39m SyncByteStream(\n\u001b[0;32m    295\u001b[0m     iterator\u001b[38;5;241m=\u001b[39m\u001b[38;5;28mself\u001b[39m\u001b[38;5;241m.\u001b[39mbody_iter(timeout), close_func\u001b[38;5;241m=\u001b[39m\u001b[38;5;28mself\u001b[39m\u001b[38;5;241m.\u001b[39m_response_closed\n\u001b[0;32m    296\u001b[0m )\n",
      "File \u001b[1;32m~\\AppData\\Local\\Programs\\Python\\Python39\\lib\\site-packages\\httpcore\\_sync\\http2.py:344\u001b[0m, in \u001b[0;36mSyncHTTP2Stream.receive_response\u001b[1;34m(self, timeout)\u001b[0m\n\u001b[0;32m    340\u001b[0m \u001b[38;5;124;03m\"\"\"\u001b[39;00m\n\u001b[0;32m    341\u001b[0m \u001b[38;5;124;03mRead the response status and headers from the network.\u001b[39;00m\n\u001b[0;32m    342\u001b[0m \u001b[38;5;124;03m\"\"\"\u001b[39;00m\n\u001b[0;32m    343\u001b[0m \u001b[38;5;28;01mwhile\u001b[39;00m \u001b[38;5;28;01mTrue\u001b[39;00m:\n\u001b[1;32m--> 344\u001b[0m     event \u001b[38;5;241m=\u001b[39m \u001b[38;5;28;43mself\u001b[39;49m\u001b[38;5;241;43m.\u001b[39;49m\u001b[43mconnection\u001b[49m\u001b[38;5;241;43m.\u001b[39;49m\u001b[43mwait_for_event\u001b[49m\u001b[43m(\u001b[49m\u001b[38;5;28;43mself\u001b[39;49m\u001b[38;5;241;43m.\u001b[39;49m\u001b[43mstream_id\u001b[49m\u001b[43m,\u001b[49m\u001b[43m \u001b[49m\u001b[43mtimeout\u001b[49m\u001b[43m)\u001b[49m\n\u001b[0;32m    345\u001b[0m     \u001b[38;5;28;01mif\u001b[39;00m \u001b[38;5;28misinstance\u001b[39m(event, h2\u001b[38;5;241m.\u001b[39mevents\u001b[38;5;241m.\u001b[39mResponseReceived):\n\u001b[0;32m    346\u001b[0m         \u001b[38;5;28;01mbreak\u001b[39;00m\n",
      "File \u001b[1;32m~\\AppData\\Local\\Programs\\Python\\Python39\\lib\\site-packages\\httpcore\\_sync\\http2.py:197\u001b[0m, in \u001b[0;36mSyncHTTP2Connection.wait_for_event\u001b[1;34m(self, stream_id, timeout)\u001b[0m\n\u001b[0;32m    195\u001b[0m \u001b[38;5;28;01mwith\u001b[39;00m \u001b[38;5;28mself\u001b[39m\u001b[38;5;241m.\u001b[39mread_lock:\n\u001b[0;32m    196\u001b[0m     \u001b[38;5;28;01mwhile\u001b[39;00m \u001b[38;5;129;01mnot\u001b[39;00m \u001b[38;5;28mself\u001b[39m\u001b[38;5;241m.\u001b[39mevents[stream_id]:\n\u001b[1;32m--> 197\u001b[0m         \u001b[38;5;28;43mself\u001b[39;49m\u001b[38;5;241;43m.\u001b[39;49m\u001b[43mreceive_events\u001b[49m\u001b[43m(\u001b[49m\u001b[43mtimeout\u001b[49m\u001b[43m)\u001b[49m\n\u001b[0;32m    198\u001b[0m \u001b[38;5;28;01mreturn\u001b[39;00m \u001b[38;5;28mself\u001b[39m\u001b[38;5;241m.\u001b[39mevents[stream_id]\u001b[38;5;241m.\u001b[39mpop(\u001b[38;5;241m0\u001b[39m)\n",
      "File \u001b[1;32m~\\AppData\\Local\\Programs\\Python\\Python39\\lib\\site-packages\\httpcore\\_sync\\http2.py:204\u001b[0m, in \u001b[0;36mSyncHTTP2Connection.receive_events\u001b[1;34m(self, timeout)\u001b[0m\n\u001b[0;32m    200\u001b[0m \u001b[38;5;28;01mdef\u001b[39;00m \u001b[38;5;21mreceive_events\u001b[39m(\u001b[38;5;28mself\u001b[39m, timeout: TimeoutDict) \u001b[38;5;241m-\u001b[39m\u001b[38;5;241m>\u001b[39m \u001b[38;5;28;01mNone\u001b[39;00m:\n\u001b[0;32m    201\u001b[0m     \u001b[38;5;124;03m\"\"\"\u001b[39;00m\n\u001b[0;32m    202\u001b[0m \u001b[38;5;124;03m    Read some data from the network, and update the H2 state.\u001b[39;00m\n\u001b[0;32m    203\u001b[0m \u001b[38;5;124;03m    \"\"\"\u001b[39;00m\n\u001b[1;32m--> 204\u001b[0m     data \u001b[38;5;241m=\u001b[39m \u001b[38;5;28;43mself\u001b[39;49m\u001b[38;5;241;43m.\u001b[39;49m\u001b[43msocket\u001b[49m\u001b[38;5;241;43m.\u001b[39;49m\u001b[43mread\u001b[49m\u001b[43m(\u001b[49m\u001b[38;5;28;43mself\u001b[39;49m\u001b[38;5;241;43m.\u001b[39;49m\u001b[43mREAD_NUM_BYTES\u001b[49m\u001b[43m,\u001b[49m\u001b[43m \u001b[49m\u001b[43mtimeout\u001b[49m\u001b[43m)\u001b[49m\n\u001b[0;32m    205\u001b[0m     events \u001b[38;5;241m=\u001b[39m \u001b[38;5;28mself\u001b[39m\u001b[38;5;241m.\u001b[39mh2_state\u001b[38;5;241m.\u001b[39mreceive_data(data)\n\u001b[0;32m    206\u001b[0m     \u001b[38;5;28;01mfor\u001b[39;00m event \u001b[38;5;129;01min\u001b[39;00m events:\n",
      "File \u001b[1;32m~\\AppData\\Local\\Programs\\Python\\Python39\\lib\\site-packages\\httpcore\\_backends\\sync.py:62\u001b[0m, in \u001b[0;36mSyncSocketStream.read\u001b[1;34m(self, n, timeout)\u001b[0m\n\u001b[0;32m     60\u001b[0m \u001b[38;5;28;01mwith\u001b[39;00m map_exceptions(exc_map):\n\u001b[0;32m     61\u001b[0m     \u001b[38;5;28mself\u001b[39m\u001b[38;5;241m.\u001b[39msock\u001b[38;5;241m.\u001b[39msettimeout(read_timeout)\n\u001b[1;32m---> 62\u001b[0m     \u001b[38;5;28;01mreturn\u001b[39;00m \u001b[38;5;28mself\u001b[39m\u001b[38;5;241m.\u001b[39msock\u001b[38;5;241m.\u001b[39mrecv(n)\n",
      "File \u001b[1;32m~\\AppData\\Local\\Programs\\Python\\Python39\\lib\\contextlib.py:137\u001b[0m, in \u001b[0;36m_GeneratorContextManager.__exit__\u001b[1;34m(self, typ, value, traceback)\u001b[0m\n\u001b[0;32m    135\u001b[0m     value \u001b[38;5;241m=\u001b[39m typ()\n\u001b[0;32m    136\u001b[0m \u001b[38;5;28;01mtry\u001b[39;00m:\n\u001b[1;32m--> 137\u001b[0m     \u001b[38;5;28;43mself\u001b[39;49m\u001b[38;5;241;43m.\u001b[39;49m\u001b[43mgen\u001b[49m\u001b[38;5;241;43m.\u001b[39;49m\u001b[43mthrow\u001b[49m\u001b[43m(\u001b[49m\u001b[43mtyp\u001b[49m\u001b[43m,\u001b[49m\u001b[43m \u001b[49m\u001b[43mvalue\u001b[49m\u001b[43m,\u001b[49m\u001b[43m \u001b[49m\u001b[43mtraceback\u001b[49m\u001b[43m)\u001b[49m\n\u001b[0;32m    138\u001b[0m \u001b[38;5;28;01mexcept\u001b[39;00m \u001b[38;5;167;01mStopIteration\u001b[39;00m \u001b[38;5;28;01mas\u001b[39;00m exc:\n\u001b[0;32m    139\u001b[0m     \u001b[38;5;66;03m# Suppress StopIteration *unless* it's the same exception that\u001b[39;00m\n\u001b[0;32m    140\u001b[0m     \u001b[38;5;66;03m# was passed to throw().  This prevents a StopIteration\u001b[39;00m\n\u001b[0;32m    141\u001b[0m     \u001b[38;5;66;03m# raised inside the \"with\" statement from being suppressed.\u001b[39;00m\n\u001b[0;32m    142\u001b[0m     \u001b[38;5;28;01mreturn\u001b[39;00m exc \u001b[38;5;129;01mis\u001b[39;00m \u001b[38;5;129;01mnot\u001b[39;00m value\n",
      "File \u001b[1;32m~\\AppData\\Local\\Programs\\Python\\Python39\\lib\\site-packages\\httpcore\\_exceptions.py:12\u001b[0m, in \u001b[0;36mmap_exceptions\u001b[1;34m(map)\u001b[0m\n\u001b[0;32m     10\u001b[0m \u001b[38;5;28;01mfor\u001b[39;00m from_exc, to_exc \u001b[38;5;129;01min\u001b[39;00m \u001b[38;5;28mmap\u001b[39m\u001b[38;5;241m.\u001b[39mitems():\n\u001b[0;32m     11\u001b[0m     \u001b[38;5;28;01mif\u001b[39;00m \u001b[38;5;28misinstance\u001b[39m(exc, from_exc):\n\u001b[1;32m---> 12\u001b[0m         \u001b[38;5;28;01mraise\u001b[39;00m to_exc(exc) \u001b[38;5;28;01mfrom\u001b[39;00m \u001b[38;5;28mNone\u001b[39m\n\u001b[0;32m     13\u001b[0m \u001b[38;5;28;01mraise\u001b[39;00m\n",
      "\u001b[1;31mReadTimeout\u001b[0m: The read operation timed out"
     ]
    }
   ],
   "source": [
    "from googletrans import Translator\n",
    "\n",
    "translator = Translator()\n",
    "columns_en = []\n",
    "\n",
    "for col in df_dapro.columns:\n",
    "    word = translator.translate(str(col), dest='en').text\n",
    "    columns_en.append(word)"
   ]
  },
  {
   "cell_type": "code",
   "execution_count": null,
   "id": "66d44305",
   "metadata": {},
   "outputs": [],
   "source": [
    "len(columns_en)"
   ]
  },
  {
   "cell_type": "code",
   "execution_count": null,
   "id": "49f8a8bc",
   "metadata": {},
   "outputs": [],
   "source": [
    "columns_en = columns_en + list(df_dapro.columns[119:])"
   ]
  },
  {
   "cell_type": "code",
   "execution_count": null,
   "id": "ce6e2640",
   "metadata": {},
   "outputs": [],
   "source": [
    "columns_en"
   ]
  },
  {
   "cell_type": "code",
   "execution_count": null,
   "id": "4a66fc01",
   "metadata": {},
   "outputs": [],
   "source": [
    "len(columns_en)"
   ]
  },
  {
   "cell_type": "code",
   "execution_count": null,
   "id": "deeedd6e",
   "metadata": {},
   "outputs": [],
   "source": [
    "df_dapro_en = df_dapro\n",
    "df_dapro_en.columns = columns_en"
   ]
  },
  {
   "cell_type": "code",
   "execution_count": null,
   "id": "3b5c56a8",
   "metadata": {},
   "outputs": [],
   "source": [
    "df_dapro_en"
   ]
  },
  {
   "cell_type": "code",
   "execution_count": null,
   "id": "570e7780",
   "metadata": {},
   "outputs": [],
   "source": [
    "from googletrans import Translator\n",
    "\n",
    "translator = Translator()\n",
    "index_en = []\n",
    "\n",
    "for index in df_dapro.index:\n",
    "    word = translator.translate(str(index), dest='en').text\n",
    "    index_en.append(word)"
   ]
  },
  {
   "cell_type": "code",
   "execution_count": null,
   "id": "ad119d48",
   "metadata": {},
   "outputs": [],
   "source": [
    "df_dapro_en.index = index_en"
   ]
  },
  {
   "cell_type": "code",
   "execution_count": null,
   "id": "d6108c07",
   "metadata": {},
   "outputs": [],
   "source": [
    "df_dapro_en"
   ]
  },
  {
   "cell_type": "code",
   "execution_count": null,
   "id": "9c9caf8b",
   "metadata": {},
   "outputs": [],
   "source": [
    "df_dapro_en.rename(index = {'linseed': 'Linseed', \n",
    "                            'peanut': 'Peanut', \n",
    "                            'hazelnut': 'Hazel nut',\n",
    "                            'sesame': 'Sesame',\n",
    "                            'Cashewnuss': 'Cashew nut', \n",
    "                            'Pine core': 'Pine nut', \n",
    "                           'Trackie': 'Pistachio', \n",
    "                           'Sunflower core': 'Sunflower seed', \n",
    "                           'Hartweizengriess': 'Durum wheat'}, inplace = True)"
   ]
  },
  {
   "cell_type": "code",
   "execution_count": null,
   "id": "db5686ab",
   "metadata": {},
   "outputs": [],
   "source": [
    "df_dapro_en.rename(columns = {'Protein (protein) _G/g': 'Protein_g/g', \n",
    "                            'Energy (kilojoule) _kj/100g': 'Energy (kilojoule) _kJ/100g', \n",
    "                            'Natrium_mg/100g': 'Sodium_mg/100g',\n",
    "                            'Strength_mg/100g': 'Starch_mg/100g',\n",
    "}, inplace = True)"
   ]
  },
  {
   "cell_type": "code",
   "execution_count": null,
   "id": "7311090b",
   "metadata": {},
   "outputs": [],
   "source": [
    "df_dapro_en.to_excel('df_dapro_en.xlsx')"
   ]
  },
  {
   "cell_type": "code",
   "execution_count": null,
   "id": "2d22a464",
   "metadata": {},
   "outputs": [],
   "source": [
    "# df_dapro.to_excel('df_dapro.xlsx')"
   ]
  },
  {
   "cell_type": "markdown",
   "id": "2a84783a",
   "metadata": {},
   "source": [
    "## Visualisierungen"
   ]
  },
  {
   "cell_type": "code",
   "execution_count": null,
   "id": "139f26c2",
   "metadata": {},
   "outputs": [],
   "source": [
    "def annontations_hor(plots):\n",
    "    # Place a label for each bar\n",
    "    for bar in plots.patches:\n",
    "        # Get X and Y placement of label from rect\n",
    "        x_value = bar.get_width()\n",
    "        y_value = bar.get_y() + bar.get_height() / 2\n",
    "\n",
    "        # Number of points between bar and label; change to your liking\n",
    "        space = -30\n",
    "        # Vertical alignment for positive values\n",
    "        ha = 'left'\n",
    "\n",
    "        # If value of bar is negative: place label to the left of the bar\n",
    "        if x_value < 0:\n",
    "            # Invert space to place label to the left\n",
    "            space *= -1\n",
    "            # Horizontally align label to the right\n",
    "            ha = 'right'\n",
    "\n",
    "        # Use X value as label and format number\n",
    "        label = '{:,.0f}'.format(x_value)\n",
    "\n",
    "        # Create annotation\n",
    "        plt.annotate(\n",
    "            label,                      # Use `label` as label\n",
    "            (x_value, y_value),         # Place label at bar end\n",
    "            xytext=(space, 0),          # Horizontally shift label by `space`\n",
    "            textcoords='offset points', # Interpret `xytext` as offset in points\n",
    "            va='center',                # Vertically center label\n",
    "            ha=ha,                      # Horizontally align label differently for positive and negative values\n",
    "            color = 'white',\n",
    "        fontsize = 25)            # Change label color to white\n"
   ]
  },
  {
   "cell_type": "markdown",
   "id": "7226b96e",
   "metadata": {},
   "source": [
    "## scientific colormaps (see http://www.fabiocrameri.ch/visualisation.php)"
   ]
  },
  {
   "cell_type": "code",
   "execution_count": null,
   "id": "b1444d81",
   "metadata": {},
   "outputs": [],
   "source": [
    "from colors_cameri import bilbao, tofino, davos, lisbon, oslo"
   ]
  },
  {
   "cell_type": "code",
   "execution_count": null,
   "id": "edd3cf2b",
   "metadata": {},
   "outputs": [],
   "source": [
    "tofino_rgb = [el[1] for el in tofino]"
   ]
  },
  {
   "cell_type": "code",
   "execution_count": null,
   "id": "e75f8899",
   "metadata": {},
   "outputs": [],
   "source": [
    "davos_rgb = [el[1] for el in davos]\n",
    "oslo_rgb = [el[1] for el in oslo]"
   ]
  },
  {
   "cell_type": "code",
   "execution_count": null,
   "id": "7b3b33be",
   "metadata": {},
   "outputs": [],
   "source": [
    "# colors =  dict(zip(df_food[\"Category\"].unique(), tofino_rgb))"
   ]
  },
  {
   "cell_type": "code",
   "execution_count": null,
   "id": "29f1149f",
   "metadata": {},
   "outputs": [],
   "source": [
    "zhaw_color = (0.00000 , 0.39216 , 0.65098)"
   ]
  },
  {
   "cell_type": "markdown",
   "id": "7b8267e0",
   "metadata": {},
   "source": [
    "### Verteilungen bestimmter Spalten\n",
    " - alle beliebigen Spalten können gewählt werden werden\n",
    " - Zusammenhänge der Spalten werden dargestellt\n",
    " - ob Parameter positiv oder negative zu bewerten sind, muss User feststellen"
   ]
  },
  {
   "cell_type": "markdown",
   "id": "56a3d95f",
   "metadata": {},
   "source": [
    "## TODO:\n",
    " [ x ] Auswahl aller Spalten"
   ]
  },
  {
   "cell_type": "code",
   "execution_count": null,
   "id": "5f27c100",
   "metadata": {},
   "outputs": [],
   "source": [
    "df = df_dapro"
   ]
  },
  {
   "cell_type": "code",
   "execution_count": null,
   "id": "d18616ef",
   "metadata": {},
   "outputs": [],
   "source": [
    "df.columns[30:]"
   ]
  },
  {
   "cell_type": "code",
   "execution_count": null,
   "id": "41e4a536",
   "metadata": {},
   "outputs": [],
   "source": [
    "df[['Eiweiß (Protein)_mg/100g', 'Energie (Kilokalorien)_kcal/100g', 'Energie (Kilojoule)_kJ/100g']]"
   ]
  },
  {
   "cell_type": "code",
   "execution_count": null,
   "id": "e8cb6de3",
   "metadata": {},
   "outputs": [],
   "source": [
    "# chose the dimensions to display\n",
    "\n",
    "# x = 'Vitamin B12-Cobalamin_μg/100g'\n",
    "x = 'Einfach ungesättigte Fettsäuren_mg/100g'\n",
    "#  'Wasserunlösliche Ballaststoffe_mg/100g'\n",
    "size = 'Vitamin B12-Cobalamin_μg/100g'\n",
    "y = 'Eiweiß (Protein)_mg/100g'\n",
    "# y = 'Eiweiß (Protein)_mg/100g'\n",
    "\n",
    "\n",
    "fig = px.scatter(df, \n",
    "                y=y,\n",
    "                   size= size,\n",
    "                 x = x,\n",
    "                 color = df.index, \n",
    "           hover_name=df.index, \n",
    "                 size_max=60,\n",
    "         color_discrete_sequence = oslo_rgb[:9],\n",
    "                 height = 750, \n",
    "                 title = 'Distribution of the food products in the database in regard to the chosen parameters.<br>Two parameters are shown on the x- and y- axis respectively, the size of the bubbles show the parameter<br>\"{}\".<br>By hovering over the bubbles the numbers are shown.'.format(size)\n",
    "                )\n",
    "fig.update_layout(\n",
    "                          margin={'t': 200})\n",
    "fig.show()"
   ]
  },
  {
   "cell_type": "code",
   "execution_count": null,
   "id": "80e8b41d",
   "metadata": {},
   "outputs": [],
   "source": [
    "# chose the dimensions to display\n",
    "\n",
    "x = 'Vitamin C-Ascorbinsäure_μg/100g'\n",
    "size = 'Zucker (gesamt)_mg/100g'\n",
    "y = 'Eiweiß (Protein)_mg/100g'\n",
    "\n",
    "\n",
    "fig = px.scatter(df, \n",
    "                y=y,\n",
    "                   size= size,\n",
    "                 x = x,\n",
    "                 color = df.index, \n",
    "           hover_name=df.index, \n",
    "                 size_max=60,\n",
    "         color_discrete_sequence = oslo_rgb,\n",
    "                 title = 'Distribution of the food products in the database in regard to the chosen parameters.'\n",
    "                )\n",
    "fig.show()"
   ]
  },
  {
   "cell_type": "code",
   "execution_count": null,
   "id": "dbcbc0f7",
   "metadata": {},
   "outputs": [],
   "source": [
    "# plt.figure(figsize=(8, 4))\n",
    "# sns.scatterplot(df_food, x = x, y = y, size = size, hue = 'Category', palette=cm.oslo.colors, legend='brief')\n",
    "# plt.legend(loc=(1.04, 0))\n",
    "\n",
    "# sns.despine(left=True, bottom=True)"
   ]
  },
  {
   "cell_type": "markdown",
   "id": "216aead3",
   "metadata": {},
   "source": [
    "### Anzahl pro Kategorie\n",
    " - zur Übersicht ob etwas überrepräsentiert ist\n",
    " - Aggregation, keine negative oder positive Aussage, keine Referenzwerte nötig\n",
    "  - Annotation/Farbe ja/nein"
   ]
  },
  {
   "cell_type": "markdown",
   "id": "7bf64ddc",
   "metadata": {},
   "source": [
    "## TODO:\n",
    "### kann ich das besser zur Übersicht verwenden? \n",
    "### Clickable machen?\n",
    "### Treemap"
   ]
  },
  {
   "cell_type": "code",
   "execution_count": null,
   "id": "d9c9251a",
   "metadata": {},
   "outputs": [],
   "source": [
    "fig = px.sunburst(df, path=[df.index, df.Category], color= 'Eiweiß (Protein)_mg/100g'\n",
    "                  , color_discrete_sequence = (oslo_rgb + oslo_rgb*2), \n",
    "                  title = 'Categories in the database (inner circle) and corresponding food products' \n",
    "                  '(outer circle). <br>Click on one category to zoom in. To go back, click on the category again.'\n",
    "                 )\n",
    "                \n",
    "fig.show()"
   ]
  },
  {
   "cell_type": "code",
   "execution_count": null,
   "id": "4114c5e4",
   "metadata": {},
   "outputs": [],
   "source": [
    "# # chose a parameter to display\n",
    "\n",
    "# list = ['Category', 'Allergens', 'FurProc', 'NutritionalForm']\n",
    "\n",
    "# choice = 'Allergens'\n",
    "\n",
    "# plt.figure(figsize=(8, 4))\n",
    "# sns.countplot(df_food, x= choice , color= zhaw_color, order=df[choice].value_counts().index)\n",
    "# sns.despine(left=True, bottom=True)\n",
    "# plt.title('Count of food products in the database in regard to the chosen parameter.')\n"
   ]
  },
  {
   "cell_type": "markdown",
   "id": "86a08b0e",
   "metadata": {},
   "source": [
    "### Anzahl missing values\n",
    " - Nur Anzahl pro Parameter oder Datensatz oder beides\n",
    " - keine Referenzwerte\n",
    " - fehlende Werte negativ notiert (dunkles rot/schwarz)\n",
    "     - Farben für Konsistenz beibehalten oder rot/schwarz?"
   ]
  },
  {
   "cell_type": "markdown",
   "id": "7bf99011",
   "metadata": {},
   "source": [
    "## TODO:\n",
    "[ X ] paar Produkte auswählen "
   ]
  },
  {
   "cell_type": "code",
   "execution_count": null,
   "id": "b14140e1",
   "metadata": {},
   "outputs": [],
   "source": [
    "# df_food.set_index('Food product', inplace=True)"
   ]
  },
  {
   "cell_type": "code",
   "execution_count": null,
   "id": "f02b7e79",
   "metadata": {},
   "outputs": [],
   "source": [
    "# choice = ['Rice', 'Potatoes', 'Milk']\n",
    "choice = df.columns[:]\n",
    "\n",
    "df_plot = df[choice].isna()\n",
    "\n",
    "plt.figure(figsize = (33, 10))\n",
    "\n",
    "sns.heatmap(df_plot, cbar = False, cmap = sns.blend_palette(cm.oslo.colors, n_colors=6))\n",
    "plt.tick_params(axis='both', which='major', \n",
    "                labelsize=10, labelbottom = False, bottom=False, top = False, labeltop=True)\n",
    "plt.xticks(rotation = 90)\n",
    "plt.title('Count of unknown values in the database. Dark color signifies known values, bright color signifies unknown value.')\n",
    "plt.show()"
   ]
  },
  {
   "cell_type": "code",
   "execution_count": null,
   "id": "72ee8449",
   "metadata": {},
   "outputs": [],
   "source": [
    "df_plot"
   ]
  },
  {
   "cell_type": "code",
   "execution_count": null,
   "id": "b7b58e5d",
   "metadata": {},
   "outputs": [],
   "source": [
    "import plotly\n",
    "\n",
    "choice = df.columns[:]\n",
    "\n",
    "df_plot = df[choice].isna()\n",
    "\n",
    "title_text = 'Count of unknown values in the database. Dark color signifies <br> known values, bright color signifies unknown value.'\n",
    "\n",
    "plt.figure(figsize=(20, 20))\n",
    "fig = px.imshow(df_plot, text_auto=False, aspect=\"auto\", width=2000,height=800, \n",
    "    color_continuous_scale=oslo_rgb\n",
    "               )\n",
    "fig.update_xaxes(side = \"top\")\n",
    "fig.update_layout(title_text=title_text,title_y = 0.95)\n",
    "fig.show()"
   ]
  },
  {
   "cell_type": "code",
   "execution_count": null,
   "id": "13c810a9",
   "metadata": {},
   "outputs": [],
   "source": [
    "import plotly\n",
    "\n",
    "choice = df.columns[50:65]\n",
    "\n",
    "size = len(choice)\n",
    "\n",
    "df_plot = df[choice]>0\n",
    "\n",
    "title_text = 'Count of zero values in the database. Dark color signifies zero values,<br>bright color signifies values bigger than zero.'\n",
    "\n",
    "plt.figure(figsize=(20, 20))\n",
    "fig = px.imshow(df_plot, text_auto=False, aspect=\"auto\", width=size*50,height=500, \n",
    "    color_continuous_scale=oslo_rgb\n",
    "               )\n",
    "fig.update_xaxes(side = \"top\")\n",
    "fig.update_layout(title_text=title_text,title_y = 0.95,\n",
    "         margin={'t': 200})\n",
    "\n",
    "fig.update_coloraxes(showscale=False)\n",
    "fig.show()"
   ]
  },
  {
   "cell_type": "code",
   "execution_count": null,
   "id": "e1292432",
   "metadata": {},
   "outputs": [],
   "source": [
    "df[choice]>0"
   ]
  },
  {
   "cell_type": "markdown",
   "id": "8fe14505",
   "metadata": {},
   "source": [
    "### distribution of a certain parameter\n",
    " - Verteilung der Daten, was sind typische hohe/niedrige Werte?\n",
    " - Skala kann eine Rolle spielen, wenn kleine und große Wertebereiche bei den Parametern vorhanden sind (Kalorien vs Asche)\n",
    " - trotzdem keine Referenzwerte verwendet, tatsächlicher Wertebereich soll abgebildet werden\n",
    " - keine negative /Positive Bewertung der Verteilung"
   ]
  },
  {
   "cell_type": "markdown",
   "id": "f3fe8711",
   "metadata": {},
   "source": [
    "## TODO:\n",
    "### nicht verständlich, so darstellen, dass Werte über 0, vielleicht Balken\n",
    "### Sinnvolle Beschreibung"
   ]
  },
  {
   "cell_type": "code",
   "execution_count": null,
   "id": "4f4e20f9",
   "metadata": {},
   "outputs": [],
   "source": [
    "df_dapro[df_dapro.columns[10:14]]"
   ]
  },
  {
   "cell_type": "code",
   "execution_count": null,
   "id": "eb8c695a",
   "metadata": {},
   "outputs": [],
   "source": [
    "# # column = ['Eiweiß (Protein)']\n",
    "# column = df_dapro.columns[10:14]\n",
    "# # column = df_food.columns[23:27]\n",
    "\n",
    "# plt.figure(figsize=(17, 10))\n",
    "# sns.histplot(df_dapro[column], palette = sns.blend_palette(cm.oslo.colors, n_colors=6), multiple='dodge' )\n",
    "# # plt.yticks(fontsize=20)\n",
    "# # plt.xticks(fontsize=20)\n",
    "# sns.despine(left=True, bottom=True)"
   ]
  },
  {
   "cell_type": "code",
   "execution_count": null,
   "id": "c1ac3f56",
   "metadata": {},
   "outputs": [],
   "source": [
    "# column = ['calories [kcal]', 'EuEmkg']\n",
    "\n",
    "# plt.figure(figsize=(17, 10))\n",
    "# sns.kdeplot(df_food[column], palette = cm.davos.colors)\n",
    "# # plt.yticks(fontsize=20)\n",
    "# # plt.xticks(fontsize=20)\n",
    "# sns.despine(left=True, bottom=True)"
   ]
  },
  {
   "cell_type": "markdown",
   "id": "9bc3a025",
   "metadata": {},
   "source": [
    "### Bubbles with data\n",
    "Nur Anzahl der Datenquellen, Datensätze, Parameter\n"
   ]
  },
  {
   "cell_type": "markdown",
   "id": "3728d223",
   "metadata": {},
   "source": [
    "## TODO:\n",
    "### mit Übersicht der Datenquellen kombinieren"
   ]
  },
  {
   "cell_type": "code",
   "execution_count": null,
   "id": "0d19cc46",
   "metadata": {},
   "outputs": [],
   "source": [
    "import numpy as np\n",
    "import matplotlib.pyplot as plt\n",
    "\n",
    "db_characterise = {\n",
    "    'dimensions': ['food products: {}'.format(len(df_dapro.index)), \n",
    "                   'parameter : {}'.format(len(df_dapro.columns)), 'data sources: {}'.format(5)],\n",
    "    'count': [len(df_dapro.index), len(df_dapro.columns), 2],\n",
    "    'color': (sns.blend_palette(cm.oslo.colors, n_colors=5)[-4:])\n",
    "}\n",
    "\n",
    "\n",
    "class BubbleChart:\n",
    "    def __init__(self, area, bubble_spacing=0):\n",
    "        \"\"\"\n",
    "        Setup for bubble collapse.\n",
    "\n",
    "        Parameters\n",
    "        ----------\n",
    "        area : array-like\n",
    "            Area of the bubbles.\n",
    "        bubble_spacing : float, default: 0\n",
    "            Minimal spacing between bubbles after collapsing.\n",
    "\n",
    "        Notes\n",
    "        -----\n",
    "        If \"area\" is sorted, the results might look weird.\n",
    "        \"\"\"\n",
    "        area = np.asarray(area)\n",
    "        r = np.sqrt(area / np.pi)\n",
    "\n",
    "        self.bubble_spacing = bubble_spacing\n",
    "        self.bubbles = np.ones((len(area), 4))\n",
    "        self.bubbles[:, 2] = r\n",
    "        self.bubbles[:, 3] = area\n",
    "        self.maxstep = 2 * self.bubbles[:, 2].max() + self.bubble_spacing\n",
    "        self.step_dist = self.maxstep / 2\n",
    "\n",
    "        # calculate initial grid layout for bubbles\n",
    "        length = np.ceil(np.sqrt(len(self.bubbles)))\n",
    "        grid = np.arange(length) * self.maxstep\n",
    "        gx, gy = np.meshgrid(grid, grid)\n",
    "        self.bubbles[:, 0] = gx.flatten()[:len(self.bubbles)]\n",
    "        self.bubbles[:, 1] = gy.flatten()[:len(self.bubbles)]\n",
    "\n",
    "        self.com = self.center_of_mass()\n",
    "\n",
    "    def center_of_mass(self):\n",
    "        return np.average(\n",
    "            self.bubbles[:, :2], axis=0, weights=self.bubbles[:, 3]\n",
    "        )\n",
    "\n",
    "    def center_distance(self, bubble, bubbles):\n",
    "        return np.hypot(bubble[0] - bubbles[:, 0],\n",
    "                        bubble[1] - bubbles[:, 1])\n",
    "\n",
    "    def outline_distance(self, bubble, bubbles):\n",
    "        center_distance = self.center_distance(bubble, bubbles)\n",
    "        return center_distance - bubble[2] - \\\n",
    "            bubbles[:, 2] - self.bubble_spacing\n",
    "\n",
    "    def check_collisions(self, bubble, bubbles):\n",
    "        distance = self.outline_distance(bubble, bubbles)\n",
    "        return len(distance[distance < 0])\n",
    "\n",
    "    def collides_with(self, bubble, bubbles):\n",
    "        distance = self.outline_distance(bubble, bubbles)\n",
    "        idx_min = np.argmin(distance)\n",
    "        return idx_min if type(idx_min) == np.ndarray else [idx_min]\n",
    "\n",
    "    def collapse(self, n_iterations=50):\n",
    "        \"\"\"\n",
    "        Move bubbles to the center of mass.\n",
    "\n",
    "        Parameters\n",
    "        ----------\n",
    "        n_iterations : int, default: 50\n",
    "            Number of moves to perform.\n",
    "        \"\"\"\n",
    "        for _i in range(n_iterations):\n",
    "            moves = 0\n",
    "            for i in range(len(self.bubbles)):\n",
    "                rest_bub = np.delete(self.bubbles, i, 0)\n",
    "                # try to move directly towards the center of mass\n",
    "                # direction vector from bubble to the center of mass\n",
    "                dir_vec = self.com - self.bubbles[i, :2]\n",
    "\n",
    "                # shorten direction vector to have length of 1\n",
    "                dir_vec = dir_vec / np.sqrt(dir_vec.dot(dir_vec))\n",
    "\n",
    "                # calculate new bubble position\n",
    "                new_point = self.bubbles[i, :2] + dir_vec * self.step_dist\n",
    "                new_bubble = np.append(new_point, self.bubbles[i, 2:4])\n",
    "\n",
    "                # check whether new bubble collides with other bubbles\n",
    "                if not self.check_collisions(new_bubble, rest_bub):\n",
    "                    self.bubbles[i, :] = new_bubble\n",
    "                    self.com = self.center_of_mass()\n",
    "                    moves += 1\n",
    "                else:\n",
    "                    # try to move around a bubble that you collide with\n",
    "                    # find colliding bubble\n",
    "                    for colliding in self.collides_with(new_bubble, rest_bub):\n",
    "                        # calculate direction vector\n",
    "                        dir_vec = rest_bub[colliding, :2] - self.bubbles[i, :2]\n",
    "                        dir_vec = dir_vec / np.sqrt(dir_vec.dot(dir_vec))\n",
    "                        # calculate orthogonal vector\n",
    "                        orth = np.array([dir_vec[1], -dir_vec[0]])\n",
    "                        # test which direction to go\n",
    "                        new_point1 = (self.bubbles[i, :2] + orth *\n",
    "                                      self.step_dist)\n",
    "                        new_point2 = (self.bubbles[i, :2] - orth *\n",
    "                                      self.step_dist)\n",
    "                        dist1 = self.center_distance(\n",
    "                            self.com, np.array([new_point1]))\n",
    "                        dist2 = self.center_distance(\n",
    "                            self.com, np.array([new_point2]))\n",
    "                        new_point = new_point1 if dist1 < dist2 else new_point2\n",
    "                        new_bubble = np.append(new_point, self.bubbles[i, 2:4])\n",
    "                        if not self.check_collisions(new_bubble, rest_bub):\n",
    "                            self.bubbles[i, :] = new_bubble\n",
    "                            self.com = self.center_of_mass()\n",
    "\n",
    "            if moves / len(self.bubbles) < 0.1:\n",
    "                self.step_dist = self.step_dist / 2\n",
    "\n",
    "    def plot(self, ax, labels, colors):\n",
    "        \"\"\"\n",
    "        Draw the bubble plot.\n",
    "\n",
    "        Parameters\n",
    "        ----------\n",
    "        ax : matplotlib.axes.Axes\n",
    "        labels : list\n",
    "            Labels of the bubbles.\n",
    "        colors : list\n",
    "            Colors of the bubbles.\n",
    "        \"\"\"\n",
    "        for i in range(len(self.bubbles)):\n",
    "            circ = plt.Circle(\n",
    "                self.bubbles[i, :2], self.bubbles[i, 2], color=colors[i])\n",
    "            ax.add_patch(circ)\n",
    "            ax.text(*self.bubbles[i, :2], labels[i],\n",
    "                    horizontalalignment='center', verticalalignment='center', \n",
    "                   color = 'black', fontsize = 18)\n",
    "\n",
    "\n",
    "bubble_chart = BubbleChart(area=db_characterise['count'],\n",
    "                           bubble_spacing=0.1)\n",
    "\n",
    "bubble_chart.collapse()\n",
    "\n",
    "fig, ax = plt.subplots(subplot_kw=dict(aspect=\"equal\"))\n",
    "bubble_chart.plot(\n",
    "    ax, db_characterise['dimensions'], db_characterise['color'])\n",
    "ax.axis(\"off\")\n",
    "ax.relim()\n",
    "ax.autoscale_view()\n",
    "ax.set_title('Characteristics of the DaPro database: Count of food products, parameters and data sources')\n",
    "ax.set_xticklabels(db_characterise['count'])\n",
    "\n",
    "plt.show()"
   ]
  },
  {
   "cell_type": "code",
   "execution_count": null,
   "id": "e7c0494f",
   "metadata": {},
   "outputs": [],
   "source": [
    "# !pip install pyvis\n",
    "\n",
    "from pyvis.network import Network\n",
    "\n",
    "net = Network(notebook=True, directed = True,\n",
    "              heading = 'Characteristics of the DaPro database: Count of food products, parameters and data sources')\n",
    "\n",
    "count_sources = 8\n",
    "\n",
    "db_characterise = {\n",
    "    'dimensions': ['food products: {}'.format(len(df_dapro.index)), \n",
    "                   'parameter : {}'.format(len(df_dapro.columns)), 'data sources: {}'.format(count_sources)],\n",
    "    'count': [len(df_dapro.index), len(df_dapro.columns), 2],\n",
    "    'color': oslo_rgb[1: 1+len(db_characterise['dimensions'])]\n",
    "}\n",
    "\n",
    "\n",
    "net.add_nodes(range(len(db_characterise['dimensions'])), \n",
    "              label= db_characterise['dimensions'],\n",
    "              \n",
    "              size=[ len(df_dapro.index), len(df_dapro.columns), count_sources],\n",
    "              \n",
    "              color=db_characterise['color'])\n",
    "\n",
    "\n",
    "\n",
    "net.toggle_physics(True)\n",
    "net.show('bubbles.html')"
   ]
  },
  {
   "cell_type": "markdown",
   "id": "6a5674b7",
   "metadata": {},
   "source": [
    "#### Add databsse structure and sources"
   ]
  },
  {
   "cell_type": "code",
   "execution_count": null,
   "id": "afb1d4fc",
   "metadata": {},
   "outputs": [],
   "source": [
    "# !pip install pyvis\n",
    "\n",
    "from pyvis.network import Network\n",
    "\n",
    "net = Network(notebook=True, directed = True,\n",
    "                heading = 'Structure of the database sources: international food databases are collected in the Swiss Food Data Mediator and directed to DaPro.')\n",
    "\n",
    "\n",
    "\n",
    "net.add_nodes(range(count_sources+2), \n",
    "              label=['DaPro', 'Swiss Food Data Mediator', 'USDA FoodData Central', 'BLSDB', 'Schweizer Nährwertdatenbank', 'FOODON', \n",
    "                     'ecoinvent', 'IUNR-DB', 'Recipes', 'Scientific Studies'],\n",
    "      \n",
    "              \n",
    "              title=[ 'https://dapro.ulozezoz.myhostpoint.ch/webvowl/#', 'Link Swiss Food Data Mediator', \n",
    "                    'https://fdc.nal.usda.gov/','https://www.blsdb.de/', \n",
    "                     'https://naehrwertdaten.ch/de/', 'https://foodon.org/', \n",
    "                     'https://ecoinvent.org/', 'https://www.zhaw.ch/en/lsfm/institutes-centres/iunr/', \n",
    "                    '?', '?'],\n",
    "              \n",
    "              color=[oslo_rgb[5], \n",
    "                      oslo_rgb[3], \n",
    "                     oslo_rgb[1], oslo_rgb[1], oslo_rgb[1], oslo_rgb[1], oslo_rgb[1], oslo_rgb[1], \n",
    "                     oslo_rgb[9], oslo_rgb[9]],\n",
    "             )\n",
    "\n",
    "net.add_edges([(1,0,4), (2, 1,1),  (3, 1,1), (4, 1,1), (5, 1,1), (6, 1,1), (7, 1,1), (8, 1,1), (9, 1,1)])\n",
    "\n",
    "net.toggle_physics(True)\n",
    "net.show('mygraph.html')"
   ]
  }
 ],
 "metadata": {
  "kernelspec": {
   "display_name": "Python 3 (ipykernel)",
   "language": "python",
   "name": "python3"
  },
  "language_info": {
   "codemirror_mode": {
    "name": "ipython",
    "version": 3
   },
   "file_extension": ".py",
   "mimetype": "text/x-python",
   "name": "python",
   "nbconvert_exporter": "python",
   "pygments_lexer": "ipython3",
   "version": "3.9.13"
  }
 },
 "nbformat": 4,
 "nbformat_minor": 5
}
