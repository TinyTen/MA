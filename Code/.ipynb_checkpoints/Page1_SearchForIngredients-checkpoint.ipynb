{
 "cells": [
  {
   "cell_type": "markdown",
   "id": "8668637c",
   "metadata": {},
   "source": [
    "# Food Environmental Impact\n",
    "## ILV Datenvisualisierung und Visual Analytics\n",
    "## Christina Köck\n",
    "## Februar 2023\n",
    "### Link to the Gitlab-Repo: https://gitlab.web.fh-kufstein.ac.at/christina.koeck/datenvisualisierung_und_visualanalytics"
   ]
  },
  {
   "cell_type": "markdown",
   "id": "d74abbc5",
   "metadata": {},
   "source": [
    "### Libraries and data"
   ]
  },
  {
   "cell_type": "code",
   "execution_count": 34,
   "id": "9a7d02fb",
   "metadata": {},
   "outputs": [],
   "source": [
    "# !pip install -U kaleido"
   ]
  },
  {
   "cell_type": "code",
   "execution_count": 1,
   "id": "0843a275",
   "metadata": {},
   "outputs": [],
   "source": [
    "from cmcrameri import cm\n",
    "import math as math\n",
    "import pandas as pd\n",
    "import numpy as np\n",
    "import seaborn as sns\n",
    "\n",
    "import matplotlib.pyplot as plt\n",
    "import plotly.express as px\n",
    "\n",
    "from colors_cameri import davos\n",
    "from math import pi"
   ]
  },
  {
   "cell_type": "code",
   "execution_count": 2,
   "id": "d28a922e",
   "metadata": {},
   "outputs": [],
   "source": [
    "df_food = pd.read_excel(\"Mockdata012.xlsx\")"
   ]
  },
  {
   "cell_type": "code",
   "execution_count": 3,
   "id": "ff07e61d",
   "metadata": {},
   "outputs": [],
   "source": [
    "df_food.drop('Unnamed: 0', axis = 1, inplace = True)"
   ]
  },
  {
   "cell_type": "code",
   "execution_count": 4,
   "id": "778956cf",
   "metadata": {},
   "outputs": [
    {
     "data": {
      "text/html": [
       "<div>\n",
       "<style scoped>\n",
       "    .dataframe tbody tr th:only-of-type {\n",
       "        vertical-align: middle;\n",
       "    }\n",
       "\n",
       "    .dataframe tbody tr th {\n",
       "        vertical-align: top;\n",
       "    }\n",
       "\n",
       "    .dataframe thead th {\n",
       "        text-align: right;\n",
       "    }\n",
       "</style>\n",
       "<table border=\"1\" class=\"dataframe\">\n",
       "  <thead>\n",
       "    <tr style=\"text-align: right;\">\n",
       "      <th></th>\n",
       "      <th>Food product</th>\n",
       "      <th>Land use change</th>\n",
       "      <th>Animal Feed</th>\n",
       "      <th>Farm</th>\n",
       "      <th>Processing</th>\n",
       "      <th>Transport</th>\n",
       "      <th>Packging</th>\n",
       "      <th>Retail</th>\n",
       "      <th>Total_emissions</th>\n",
       "      <th>EuEmkg</th>\n",
       "      <th>...</th>\n",
       "      <th>fat [g]</th>\n",
       "      <th>sat_fat_acids [g]</th>\n",
       "      <th>mon_fat_acids [g]</th>\n",
       "      <th>pol_fat_acids [g]</th>\n",
       "      <th>trans_fat_acids [mg]</th>\n",
       "      <th>alcohol [g]</th>\n",
       "      <th>ash [g]</th>\n",
       "      <th>caffeine [mg]</th>\n",
       "      <th>theobromine [mg]</th>\n",
       "      <th>water [g]</th>\n",
       "    </tr>\n",
       "  </thead>\n",
       "  <tbody>\n",
       "    <tr>\n",
       "      <th>0</th>\n",
       "      <td>Wheat &amp; Rye (Bread)</td>\n",
       "      <td>0.1</td>\n",
       "      <td>0.0</td>\n",
       "      <td>0.8</td>\n",
       "      <td>0.2</td>\n",
       "      <td>0.1</td>\n",
       "      <td>0.1</td>\n",
       "      <td>0.1</td>\n",
       "      <td>1.4</td>\n",
       "      <td>NaN</td>\n",
       "      <td>...</td>\n",
       "      <td>3.50</td>\n",
       "      <td>0.700</td>\n",
       "      <td>0.700</td>\n",
       "      <td>1.900</td>\n",
       "      <td>1</td>\n",
       "      <td>0</td>\n",
       "      <td>1.90</td>\n",
       "      <td>0</td>\n",
       "      <td>0</td>\n",
       "      <td>36.90</td>\n",
       "    </tr>\n",
       "    <tr>\n",
       "      <th>1</th>\n",
       "      <td>Rice</td>\n",
       "      <td>0.0</td>\n",
       "      <td>0.0</td>\n",
       "      <td>3.6</td>\n",
       "      <td>0.1</td>\n",
       "      <td>0.1</td>\n",
       "      <td>0.1</td>\n",
       "      <td>0.1</td>\n",
       "      <td>4.0</td>\n",
       "      <td>35.07</td>\n",
       "      <td>...</td>\n",
       "      <td>0.52</td>\n",
       "      <td>0.140</td>\n",
       "      <td>0.161</td>\n",
       "      <td>0.138</td>\n",
       "      <td>0</td>\n",
       "      <td>0</td>\n",
       "      <td>0.54</td>\n",
       "      <td>0</td>\n",
       "      <td>0</td>\n",
       "      <td>13.29</td>\n",
       "    </tr>\n",
       "    <tr>\n",
       "      <th>2</th>\n",
       "      <td>Potatoes</td>\n",
       "      <td>0.0</td>\n",
       "      <td>0.0</td>\n",
       "      <td>0.2</td>\n",
       "      <td>0.0</td>\n",
       "      <td>0.1</td>\n",
       "      <td>0.0</td>\n",
       "      <td>0.0</td>\n",
       "      <td>0.3</td>\n",
       "      <td>3.48</td>\n",
       "      <td>...</td>\n",
       "      <td>0.10</td>\n",
       "      <td>0.026</td>\n",
       "      <td>0.002</td>\n",
       "      <td>0.043</td>\n",
       "      <td>0</td>\n",
       "      <td>0</td>\n",
       "      <td>1.61</td>\n",
       "      <td>0</td>\n",
       "      <td>0</td>\n",
       "      <td>83.29</td>\n",
       "    </tr>\n",
       "  </tbody>\n",
       "</table>\n",
       "<p>3 rows × 94 columns</p>\n",
       "</div>"
      ],
      "text/plain": [
       "          Food product  Land use change  Animal Feed  Farm  Processing  \\\n",
       "0  Wheat & Rye (Bread)              0.1          0.0   0.8         0.2   \n",
       "1                 Rice              0.0          0.0   3.6         0.1   \n",
       "2             Potatoes              0.0          0.0   0.2         0.0   \n",
       "\n",
       "   Transport  Packging  Retail  Total_emissions  EuEmkg  ...  fat [g]  \\\n",
       "0        0.1       0.1     0.1              1.4     NaN  ...     3.50   \n",
       "1        0.1       0.1     0.1              4.0   35.07  ...     0.52   \n",
       "2        0.1       0.0     0.0              0.3    3.48  ...     0.10   \n",
       "\n",
       "   sat_fat_acids [g]  mon_fat_acids [g]  pol_fat_acids [g]  \\\n",
       "0              0.700              0.700              1.900   \n",
       "1              0.140              0.161              0.138   \n",
       "2              0.026              0.002              0.043   \n",
       "\n",
       "  trans_fat_acids [mg] alcohol [g] ash [g] caffeine [mg] theobromine [mg]  \\\n",
       "0                    1           0    1.90             0                0   \n",
       "1                    0           0    0.54             0                0   \n",
       "2                    0           0    1.61             0                0   \n",
       "\n",
       "   water [g]  \n",
       "0      36.90  \n",
       "1      13.29  \n",
       "2      83.29  \n",
       "\n",
       "[3 rows x 94 columns]"
      ]
     },
     "execution_count": 4,
     "metadata": {},
     "output_type": "execute_result"
    }
   ],
   "source": [
    "df_food.head(3)"
   ]
  },
  {
   "cell_type": "code",
   "execution_count": 5,
   "id": "ac4edf7c",
   "metadata": {},
   "outputs": [],
   "source": [
    "content = df_food.groupby(['Category', 'FurProc', 'NutritionalForm', 'Allergens'] ).count()"
   ]
  },
  {
   "cell_type": "code",
   "execution_count": 6,
   "id": "6932ffcc",
   "metadata": {},
   "outputs": [
    {
     "data": {
      "text/html": [
       "<div>\n",
       "<style scoped>\n",
       "    .dataframe tbody tr th:only-of-type {\n",
       "        vertical-align: middle;\n",
       "    }\n",
       "\n",
       "    .dataframe tbody tr th {\n",
       "        vertical-align: top;\n",
       "    }\n",
       "\n",
       "    .dataframe thead th {\n",
       "        text-align: right;\n",
       "    }\n",
       "</style>\n",
       "<table border=\"1\" class=\"dataframe\">\n",
       "  <thead>\n",
       "    <tr style=\"text-align: right;\">\n",
       "      <th></th>\n",
       "      <th></th>\n",
       "      <th></th>\n",
       "      <th></th>\n",
       "      <th>Food product</th>\n",
       "      <th>Land use change</th>\n",
       "      <th>Animal Feed</th>\n",
       "      <th>Farm</th>\n",
       "      <th>Processing</th>\n",
       "      <th>Transport</th>\n",
       "      <th>Packging</th>\n",
       "      <th>Retail</th>\n",
       "      <th>Total_emissions</th>\n",
       "      <th>EuEmkg</th>\n",
       "      <th>...</th>\n",
       "      <th>fat [g]</th>\n",
       "      <th>sat_fat_acids [g]</th>\n",
       "      <th>mon_fat_acids [g]</th>\n",
       "      <th>pol_fat_acids [g]</th>\n",
       "      <th>trans_fat_acids [mg]</th>\n",
       "      <th>alcohol [g]</th>\n",
       "      <th>ash [g]</th>\n",
       "      <th>caffeine [mg]</th>\n",
       "      <th>theobromine [mg]</th>\n",
       "      <th>water [g]</th>\n",
       "    </tr>\n",
       "    <tr>\n",
       "      <th>Category</th>\n",
       "      <th>FurProc</th>\n",
       "      <th>NutritionalForm</th>\n",
       "      <th>Allergens</th>\n",
       "      <th></th>\n",
       "      <th></th>\n",
       "      <th></th>\n",
       "      <th></th>\n",
       "      <th></th>\n",
       "      <th></th>\n",
       "      <th></th>\n",
       "      <th></th>\n",
       "      <th></th>\n",
       "      <th></th>\n",
       "      <th></th>\n",
       "      <th></th>\n",
       "      <th></th>\n",
       "      <th></th>\n",
       "      <th></th>\n",
       "      <th></th>\n",
       "      <th></th>\n",
       "      <th></th>\n",
       "      <th></th>\n",
       "      <th></th>\n",
       "      <th></th>\n",
       "    </tr>\n",
       "  </thead>\n",
       "  <tbody>\n",
       "    <tr>\n",
       "      <th rowspan=\"3\" valign=\"top\">Animal_Prod</th>\n",
       "      <th rowspan=\"3\" valign=\"top\">yes</th>\n",
       "      <th>omnivorous diet</th>\n",
       "      <th>none</th>\n",
       "      <td>2</td>\n",
       "      <td>2</td>\n",
       "      <td>2</td>\n",
       "      <td>2</td>\n",
       "      <td>2</td>\n",
       "      <td>2</td>\n",
       "      <td>2</td>\n",
       "      <td>2</td>\n",
       "      <td>2</td>\n",
       "      <td>2</td>\n",
       "      <td>...</td>\n",
       "      <td>2</td>\n",
       "      <td>2</td>\n",
       "      <td>2</td>\n",
       "      <td>2</td>\n",
       "      <td>2</td>\n",
       "      <td>2</td>\n",
       "      <td>2</td>\n",
       "      <td>2</td>\n",
       "      <td>2</td>\n",
       "      <td>2</td>\n",
       "    </tr>\n",
       "    <tr>\n",
       "      <th rowspan=\"2\" valign=\"top\">pescetarian diet</th>\n",
       "      <th>crustaceans</th>\n",
       "      <td>1</td>\n",
       "      <td>1</td>\n",
       "      <td>1</td>\n",
       "      <td>1</td>\n",
       "      <td>1</td>\n",
       "      <td>1</td>\n",
       "      <td>1</td>\n",
       "      <td>1</td>\n",
       "      <td>1</td>\n",
       "      <td>0</td>\n",
       "      <td>...</td>\n",
       "      <td>1</td>\n",
       "      <td>1</td>\n",
       "      <td>1</td>\n",
       "      <td>1</td>\n",
       "      <td>1</td>\n",
       "      <td>1</td>\n",
       "      <td>1</td>\n",
       "      <td>1</td>\n",
       "      <td>1</td>\n",
       "      <td>1</td>\n",
       "    </tr>\n",
       "    <tr>\n",
       "      <th>fish</th>\n",
       "      <td>1</td>\n",
       "      <td>1</td>\n",
       "      <td>1</td>\n",
       "      <td>1</td>\n",
       "      <td>1</td>\n",
       "      <td>1</td>\n",
       "      <td>1</td>\n",
       "      <td>1</td>\n",
       "      <td>1</td>\n",
       "      <td>1</td>\n",
       "      <td>...</td>\n",
       "      <td>1</td>\n",
       "      <td>1</td>\n",
       "      <td>1</td>\n",
       "      <td>1</td>\n",
       "      <td>1</td>\n",
       "      <td>1</td>\n",
       "      <td>1</td>\n",
       "      <td>1</td>\n",
       "      <td>1</td>\n",
       "      <td>1</td>\n",
       "    </tr>\n",
       "    <tr>\n",
       "      <th>Dairy</th>\n",
       "      <th>no</th>\n",
       "      <th>lacto-vegetarian</th>\n",
       "      <th>milk</th>\n",
       "      <td>2</td>\n",
       "      <td>2</td>\n",
       "      <td>2</td>\n",
       "      <td>2</td>\n",
       "      <td>2</td>\n",
       "      <td>2</td>\n",
       "      <td>2</td>\n",
       "      <td>2</td>\n",
       "      <td>2</td>\n",
       "      <td>2</td>\n",
       "      <td>...</td>\n",
       "      <td>2</td>\n",
       "      <td>2</td>\n",
       "      <td>2</td>\n",
       "      <td>2</td>\n",
       "      <td>2</td>\n",
       "      <td>2</td>\n",
       "      <td>2</td>\n",
       "      <td>2</td>\n",
       "      <td>2</td>\n",
       "      <td>2</td>\n",
       "    </tr>\n",
       "    <tr>\n",
       "      <th>Egg_Prod</th>\n",
       "      <th>yes</th>\n",
       "      <th>ovo-vegetarian</th>\n",
       "      <th>eggs</th>\n",
       "      <td>1</td>\n",
       "      <td>1</td>\n",
       "      <td>1</td>\n",
       "      <td>1</td>\n",
       "      <td>1</td>\n",
       "      <td>1</td>\n",
       "      <td>1</td>\n",
       "      <td>1</td>\n",
       "      <td>1</td>\n",
       "      <td>1</td>\n",
       "      <td>...</td>\n",
       "      <td>1</td>\n",
       "      <td>1</td>\n",
       "      <td>1</td>\n",
       "      <td>1</td>\n",
       "      <td>1</td>\n",
       "      <td>1</td>\n",
       "      <td>1</td>\n",
       "      <td>1</td>\n",
       "      <td>1</td>\n",
       "      <td>1</td>\n",
       "    </tr>\n",
       "    <tr>\n",
       "      <th>Fruits</th>\n",
       "      <th>no</th>\n",
       "      <th>vegan</th>\n",
       "      <th>none</th>\n",
       "      <td>3</td>\n",
       "      <td>3</td>\n",
       "      <td>3</td>\n",
       "      <td>3</td>\n",
       "      <td>3</td>\n",
       "      <td>3</td>\n",
       "      <td>3</td>\n",
       "      <td>3</td>\n",
       "      <td>3</td>\n",
       "      <td>3</td>\n",
       "      <td>...</td>\n",
       "      <td>3</td>\n",
       "      <td>3</td>\n",
       "      <td>3</td>\n",
       "      <td>3</td>\n",
       "      <td>3</td>\n",
       "      <td>3</td>\n",
       "      <td>3</td>\n",
       "      <td>3</td>\n",
       "      <td>3</td>\n",
       "      <td>3</td>\n",
       "    </tr>\n",
       "    <tr>\n",
       "      <th rowspan=\"2\" valign=\"top\">Grains</th>\n",
       "      <th rowspan=\"2\" valign=\"top\">yes</th>\n",
       "      <th rowspan=\"2\" valign=\"top\">vegan</th>\n",
       "      <th>gluten</th>\n",
       "      <td>1</td>\n",
       "      <td>1</td>\n",
       "      <td>1</td>\n",
       "      <td>1</td>\n",
       "      <td>1</td>\n",
       "      <td>1</td>\n",
       "      <td>1</td>\n",
       "      <td>1</td>\n",
       "      <td>1</td>\n",
       "      <td>0</td>\n",
       "      <td>...</td>\n",
       "      <td>1</td>\n",
       "      <td>1</td>\n",
       "      <td>1</td>\n",
       "      <td>1</td>\n",
       "      <td>1</td>\n",
       "      <td>1</td>\n",
       "      <td>1</td>\n",
       "      <td>1</td>\n",
       "      <td>1</td>\n",
       "      <td>1</td>\n",
       "    </tr>\n",
       "    <tr>\n",
       "      <th>none</th>\n",
       "      <td>1</td>\n",
       "      <td>1</td>\n",
       "      <td>1</td>\n",
       "      <td>1</td>\n",
       "      <td>1</td>\n",
       "      <td>1</td>\n",
       "      <td>1</td>\n",
       "      <td>1</td>\n",
       "      <td>1</td>\n",
       "      <td>1</td>\n",
       "      <td>...</td>\n",
       "      <td>1</td>\n",
       "      <td>1</td>\n",
       "      <td>1</td>\n",
       "      <td>1</td>\n",
       "      <td>1</td>\n",
       "      <td>1</td>\n",
       "      <td>1</td>\n",
       "      <td>1</td>\n",
       "      <td>1</td>\n",
       "      <td>1</td>\n",
       "    </tr>\n",
       "    <tr>\n",
       "      <th>Nuts</th>\n",
       "      <th>no</th>\n",
       "      <th>vegan</th>\n",
       "      <th>nuts</th>\n",
       "      <td>1</td>\n",
       "      <td>1</td>\n",
       "      <td>1</td>\n",
       "      <td>1</td>\n",
       "      <td>1</td>\n",
       "      <td>1</td>\n",
       "      <td>1</td>\n",
       "      <td>1</td>\n",
       "      <td>1</td>\n",
       "      <td>1</td>\n",
       "      <td>...</td>\n",
       "      <td>1</td>\n",
       "      <td>1</td>\n",
       "      <td>1</td>\n",
       "      <td>1</td>\n",
       "      <td>1</td>\n",
       "      <td>1</td>\n",
       "      <td>1</td>\n",
       "      <td>1</td>\n",
       "      <td>1</td>\n",
       "      <td>1</td>\n",
       "    </tr>\n",
       "    <tr>\n",
       "      <th>Plant_Dairy</th>\n",
       "      <th>no</th>\n",
       "      <th>vegan</th>\n",
       "      <th>soya</th>\n",
       "      <td>2</td>\n",
       "      <td>2</td>\n",
       "      <td>2</td>\n",
       "      <td>2</td>\n",
       "      <td>2</td>\n",
       "      <td>2</td>\n",
       "      <td>2</td>\n",
       "      <td>2</td>\n",
       "      <td>2</td>\n",
       "      <td>1</td>\n",
       "      <td>...</td>\n",
       "      <td>2</td>\n",
       "      <td>2</td>\n",
       "      <td>2</td>\n",
       "      <td>2</td>\n",
       "      <td>2</td>\n",
       "      <td>2</td>\n",
       "      <td>2</td>\n",
       "      <td>2</td>\n",
       "      <td>2</td>\n",
       "      <td>2</td>\n",
       "    </tr>\n",
       "    <tr>\n",
       "      <th>Sugar</th>\n",
       "      <th>no</th>\n",
       "      <th>vegan</th>\n",
       "      <th>none</th>\n",
       "      <td>1</td>\n",
       "      <td>1</td>\n",
       "      <td>1</td>\n",
       "      <td>1</td>\n",
       "      <td>1</td>\n",
       "      <td>1</td>\n",
       "      <td>1</td>\n",
       "      <td>1</td>\n",
       "      <td>1</td>\n",
       "      <td>1</td>\n",
       "      <td>...</td>\n",
       "      <td>1</td>\n",
       "      <td>1</td>\n",
       "      <td>1</td>\n",
       "      <td>1</td>\n",
       "      <td>1</td>\n",
       "      <td>1</td>\n",
       "      <td>1</td>\n",
       "      <td>1</td>\n",
       "      <td>1</td>\n",
       "      <td>1</td>\n",
       "    </tr>\n",
       "    <tr>\n",
       "      <th rowspan=\"2\" valign=\"top\">Vegetables</th>\n",
       "      <th>no</th>\n",
       "      <th>vegan</th>\n",
       "      <th>none</th>\n",
       "      <td>2</td>\n",
       "      <td>2</td>\n",
       "      <td>2</td>\n",
       "      <td>2</td>\n",
       "      <td>2</td>\n",
       "      <td>2</td>\n",
       "      <td>2</td>\n",
       "      <td>2</td>\n",
       "      <td>2</td>\n",
       "      <td>2</td>\n",
       "      <td>...</td>\n",
       "      <td>2</td>\n",
       "      <td>2</td>\n",
       "      <td>2</td>\n",
       "      <td>2</td>\n",
       "      <td>2</td>\n",
       "      <td>2</td>\n",
       "      <td>2</td>\n",
       "      <td>2</td>\n",
       "      <td>2</td>\n",
       "      <td>2</td>\n",
       "    </tr>\n",
       "    <tr>\n",
       "      <th>yes</th>\n",
       "      <th>vegan</th>\n",
       "      <th>none</th>\n",
       "      <td>2</td>\n",
       "      <td>2</td>\n",
       "      <td>2</td>\n",
       "      <td>2</td>\n",
       "      <td>2</td>\n",
       "      <td>2</td>\n",
       "      <td>2</td>\n",
       "      <td>2</td>\n",
       "      <td>2</td>\n",
       "      <td>2</td>\n",
       "      <td>...</td>\n",
       "      <td>2</td>\n",
       "      <td>2</td>\n",
       "      <td>2</td>\n",
       "      <td>2</td>\n",
       "      <td>2</td>\n",
       "      <td>2</td>\n",
       "      <td>2</td>\n",
       "      <td>2</td>\n",
       "      <td>2</td>\n",
       "      <td>2</td>\n",
       "    </tr>\n",
       "  </tbody>\n",
       "</table>\n",
       "<p>13 rows × 90 columns</p>\n",
       "</div>"
      ],
      "text/plain": [
       "                                                  Food product  \\\n",
       "Category    FurProc NutritionalForm  Allergens                   \n",
       "Animal_Prod yes     omnivorous diet  none                    2   \n",
       "                    pescetarian diet crustaceans             1   \n",
       "                                     fish                    1   \n",
       "Dairy       no      lacto-vegetarian milk                    2   \n",
       "Egg_Prod    yes     ovo-vegetarian   eggs                    1   \n",
       "Fruits      no      vegan            none                    3   \n",
       "Grains      yes     vegan            gluten                  1   \n",
       "                                     none                    1   \n",
       "Nuts        no      vegan            nuts                    1   \n",
       "Plant_Dairy no      vegan            soya                    2   \n",
       "Sugar       no      vegan            none                    1   \n",
       "Vegetables  no      vegan            none                    2   \n",
       "            yes     vegan            none                    2   \n",
       "\n",
       "                                                  Land use change  \\\n",
       "Category    FurProc NutritionalForm  Allergens                      \n",
       "Animal_Prod yes     omnivorous diet  none                       2   \n",
       "                    pescetarian diet crustaceans                1   \n",
       "                                     fish                       1   \n",
       "Dairy       no      lacto-vegetarian milk                       2   \n",
       "Egg_Prod    yes     ovo-vegetarian   eggs                       1   \n",
       "Fruits      no      vegan            none                       3   \n",
       "Grains      yes     vegan            gluten                     1   \n",
       "                                     none                       1   \n",
       "Nuts        no      vegan            nuts                       1   \n",
       "Plant_Dairy no      vegan            soya                       2   \n",
       "Sugar       no      vegan            none                       1   \n",
       "Vegetables  no      vegan            none                       2   \n",
       "            yes     vegan            none                       2   \n",
       "\n",
       "                                                  Animal Feed  Farm  \\\n",
       "Category    FurProc NutritionalForm  Allergens                        \n",
       "Animal_Prod yes     omnivorous diet  none                   2     2   \n",
       "                    pescetarian diet crustaceans            1     1   \n",
       "                                     fish                   1     1   \n",
       "Dairy       no      lacto-vegetarian milk                   2     2   \n",
       "Egg_Prod    yes     ovo-vegetarian   eggs                   1     1   \n",
       "Fruits      no      vegan            none                   3     3   \n",
       "Grains      yes     vegan            gluten                 1     1   \n",
       "                                     none                   1     1   \n",
       "Nuts        no      vegan            nuts                   1     1   \n",
       "Plant_Dairy no      vegan            soya                   2     2   \n",
       "Sugar       no      vegan            none                   1     1   \n",
       "Vegetables  no      vegan            none                   2     2   \n",
       "            yes     vegan            none                   2     2   \n",
       "\n",
       "                                                  Processing  Transport  \\\n",
       "Category    FurProc NutritionalForm  Allergens                            \n",
       "Animal_Prod yes     omnivorous diet  none                  2          2   \n",
       "                    pescetarian diet crustaceans           1          1   \n",
       "                                     fish                  1          1   \n",
       "Dairy       no      lacto-vegetarian milk                  2          2   \n",
       "Egg_Prod    yes     ovo-vegetarian   eggs                  1          1   \n",
       "Fruits      no      vegan            none                  3          3   \n",
       "Grains      yes     vegan            gluten                1          1   \n",
       "                                     none                  1          1   \n",
       "Nuts        no      vegan            nuts                  1          1   \n",
       "Plant_Dairy no      vegan            soya                  2          2   \n",
       "Sugar       no      vegan            none                  1          1   \n",
       "Vegetables  no      vegan            none                  2          2   \n",
       "            yes     vegan            none                  2          2   \n",
       "\n",
       "                                                  Packging  Retail  \\\n",
       "Category    FurProc NutritionalForm  Allergens                       \n",
       "Animal_Prod yes     omnivorous diet  none                2       2   \n",
       "                    pescetarian diet crustaceans         1       1   \n",
       "                                     fish                1       1   \n",
       "Dairy       no      lacto-vegetarian milk                2       2   \n",
       "Egg_Prod    yes     ovo-vegetarian   eggs                1       1   \n",
       "Fruits      no      vegan            none                3       3   \n",
       "Grains      yes     vegan            gluten              1       1   \n",
       "                                     none                1       1   \n",
       "Nuts        no      vegan            nuts                1       1   \n",
       "Plant_Dairy no      vegan            soya                2       2   \n",
       "Sugar       no      vegan            none                1       1   \n",
       "Vegetables  no      vegan            none                2       2   \n",
       "            yes     vegan            none                2       2   \n",
       "\n",
       "                                                  Total_emissions  EuEmkg  \\\n",
       "Category    FurProc NutritionalForm  Allergens                              \n",
       "Animal_Prod yes     omnivorous diet  none                       2       2   \n",
       "                    pescetarian diet crustaceans                1       0   \n",
       "                                     fish                       1       1   \n",
       "Dairy       no      lacto-vegetarian milk                       2       2   \n",
       "Egg_Prod    yes     ovo-vegetarian   eggs                       1       1   \n",
       "Fruits      no      vegan            none                       3       3   \n",
       "Grains      yes     vegan            gluten                     1       0   \n",
       "                                     none                       1       1   \n",
       "Nuts        no      vegan            nuts                       1       1   \n",
       "Plant_Dairy no      vegan            soya                       2       1   \n",
       "Sugar       no      vegan            none                       1       1   \n",
       "Vegetables  no      vegan            none                       2       2   \n",
       "            yes     vegan            none                       2       2   \n",
       "\n",
       "                                                  ...  fat [g]  \\\n",
       "Category    FurProc NutritionalForm  Allergens    ...            \n",
       "Animal_Prod yes     omnivorous diet  none         ...        2   \n",
       "                    pescetarian diet crustaceans  ...        1   \n",
       "                                     fish         ...        1   \n",
       "Dairy       no      lacto-vegetarian milk         ...        2   \n",
       "Egg_Prod    yes     ovo-vegetarian   eggs         ...        1   \n",
       "Fruits      no      vegan            none         ...        3   \n",
       "Grains      yes     vegan            gluten       ...        1   \n",
       "                                     none         ...        1   \n",
       "Nuts        no      vegan            nuts         ...        1   \n",
       "Plant_Dairy no      vegan            soya         ...        2   \n",
       "Sugar       no      vegan            none         ...        1   \n",
       "Vegetables  no      vegan            none         ...        2   \n",
       "            yes     vegan            none         ...        2   \n",
       "\n",
       "                                                  sat_fat_acids [g]  \\\n",
       "Category    FurProc NutritionalForm  Allergens                        \n",
       "Animal_Prod yes     omnivorous diet  none                         2   \n",
       "                    pescetarian diet crustaceans                  1   \n",
       "                                     fish                         1   \n",
       "Dairy       no      lacto-vegetarian milk                         2   \n",
       "Egg_Prod    yes     ovo-vegetarian   eggs                         1   \n",
       "Fruits      no      vegan            none                         3   \n",
       "Grains      yes     vegan            gluten                       1   \n",
       "                                     none                         1   \n",
       "Nuts        no      vegan            nuts                         1   \n",
       "Plant_Dairy no      vegan            soya                         2   \n",
       "Sugar       no      vegan            none                         1   \n",
       "Vegetables  no      vegan            none                         2   \n",
       "            yes     vegan            none                         2   \n",
       "\n",
       "                                                  mon_fat_acids [g]  \\\n",
       "Category    FurProc NutritionalForm  Allergens                        \n",
       "Animal_Prod yes     omnivorous diet  none                         2   \n",
       "                    pescetarian diet crustaceans                  1   \n",
       "                                     fish                         1   \n",
       "Dairy       no      lacto-vegetarian milk                         2   \n",
       "Egg_Prod    yes     ovo-vegetarian   eggs                         1   \n",
       "Fruits      no      vegan            none                         3   \n",
       "Grains      yes     vegan            gluten                       1   \n",
       "                                     none                         1   \n",
       "Nuts        no      vegan            nuts                         1   \n",
       "Plant_Dairy no      vegan            soya                         2   \n",
       "Sugar       no      vegan            none                         1   \n",
       "Vegetables  no      vegan            none                         2   \n",
       "            yes     vegan            none                         2   \n",
       "\n",
       "                                                  pol_fat_acids [g]  \\\n",
       "Category    FurProc NutritionalForm  Allergens                        \n",
       "Animal_Prod yes     omnivorous diet  none                         2   \n",
       "                    pescetarian diet crustaceans                  1   \n",
       "                                     fish                         1   \n",
       "Dairy       no      lacto-vegetarian milk                         2   \n",
       "Egg_Prod    yes     ovo-vegetarian   eggs                         1   \n",
       "Fruits      no      vegan            none                         3   \n",
       "Grains      yes     vegan            gluten                       1   \n",
       "                                     none                         1   \n",
       "Nuts        no      vegan            nuts                         1   \n",
       "Plant_Dairy no      vegan            soya                         2   \n",
       "Sugar       no      vegan            none                         1   \n",
       "Vegetables  no      vegan            none                         2   \n",
       "            yes     vegan            none                         2   \n",
       "\n",
       "                                                  trans_fat_acids [mg]  \\\n",
       "Category    FurProc NutritionalForm  Allergens                           \n",
       "Animal_Prod yes     omnivorous diet  none                            2   \n",
       "                    pescetarian diet crustaceans                     1   \n",
       "                                     fish                            1   \n",
       "Dairy       no      lacto-vegetarian milk                            2   \n",
       "Egg_Prod    yes     ovo-vegetarian   eggs                            1   \n",
       "Fruits      no      vegan            none                            3   \n",
       "Grains      yes     vegan            gluten                          1   \n",
       "                                     none                            1   \n",
       "Nuts        no      vegan            nuts                            1   \n",
       "Plant_Dairy no      vegan            soya                            2   \n",
       "Sugar       no      vegan            none                            1   \n",
       "Vegetables  no      vegan            none                            2   \n",
       "            yes     vegan            none                            2   \n",
       "\n",
       "                                                  alcohol [g]  ash [g]  \\\n",
       "Category    FurProc NutritionalForm  Allergens                           \n",
       "Animal_Prod yes     omnivorous diet  none                   2        2   \n",
       "                    pescetarian diet crustaceans            1        1   \n",
       "                                     fish                   1        1   \n",
       "Dairy       no      lacto-vegetarian milk                   2        2   \n",
       "Egg_Prod    yes     ovo-vegetarian   eggs                   1        1   \n",
       "Fruits      no      vegan            none                   3        3   \n",
       "Grains      yes     vegan            gluten                 1        1   \n",
       "                                     none                   1        1   \n",
       "Nuts        no      vegan            nuts                   1        1   \n",
       "Plant_Dairy no      vegan            soya                   2        2   \n",
       "Sugar       no      vegan            none                   1        1   \n",
       "Vegetables  no      vegan            none                   2        2   \n",
       "            yes     vegan            none                   2        2   \n",
       "\n",
       "                                                  caffeine [mg]  \\\n",
       "Category    FurProc NutritionalForm  Allergens                    \n",
       "Animal_Prod yes     omnivorous diet  none                     2   \n",
       "                    pescetarian diet crustaceans              1   \n",
       "                                     fish                     1   \n",
       "Dairy       no      lacto-vegetarian milk                     2   \n",
       "Egg_Prod    yes     ovo-vegetarian   eggs                     1   \n",
       "Fruits      no      vegan            none                     3   \n",
       "Grains      yes     vegan            gluten                   1   \n",
       "                                     none                     1   \n",
       "Nuts        no      vegan            nuts                     1   \n",
       "Plant_Dairy no      vegan            soya                     2   \n",
       "Sugar       no      vegan            none                     1   \n",
       "Vegetables  no      vegan            none                     2   \n",
       "            yes     vegan            none                     2   \n",
       "\n",
       "                                                  theobromine [mg]  water [g]  \n",
       "Category    FurProc NutritionalForm  Allergens                                 \n",
       "Animal_Prod yes     omnivorous diet  none                        2          2  \n",
       "                    pescetarian diet crustaceans                 1          1  \n",
       "                                     fish                        1          1  \n",
       "Dairy       no      lacto-vegetarian milk                        2          2  \n",
       "Egg_Prod    yes     ovo-vegetarian   eggs                        1          1  \n",
       "Fruits      no      vegan            none                        3          3  \n",
       "Grains      yes     vegan            gluten                      1          1  \n",
       "                                     none                        1          1  \n",
       "Nuts        no      vegan            nuts                        1          1  \n",
       "Plant_Dairy no      vegan            soya                        2          2  \n",
       "Sugar       no      vegan            none                        1          1  \n",
       "Vegetables  no      vegan            none                        2          2  \n",
       "            yes     vegan            none                        2          2  \n",
       "\n",
       "[13 rows x 90 columns]"
      ]
     },
     "execution_count": 6,
     "metadata": {},
     "output_type": "execute_result"
    }
   ],
   "source": [
    "content"
   ]
  },
  {
   "cell_type": "code",
   "execution_count": 7,
   "id": "d7135ad9",
   "metadata": {},
   "outputs": [],
   "source": [
    "content.reset_index(inplace=True)"
   ]
  },
  {
   "cell_type": "markdown",
   "id": "2a84783a",
   "metadata": {},
   "source": [
    "## Visualisierungen"
   ]
  },
  {
   "cell_type": "markdown",
   "id": "7226b96e",
   "metadata": {},
   "source": [
    "## scientific colormaps (see http://www.fabiocrameri.ch/visualisation.php)"
   ]
  },
  {
   "cell_type": "code",
   "execution_count": 8,
   "id": "b1444d81",
   "metadata": {},
   "outputs": [],
   "source": [
    "from colors_cameri import bilbao, tofino"
   ]
  },
  {
   "cell_type": "markdown",
   "id": "7b8267e0",
   "metadata": {},
   "source": [
    "## Overview over chosen samples (food products)"
   ]
  },
  {
   "cell_type": "markdown",
   "id": "71bcac51",
   "metadata": {},
   "source": [
    "#### calculate mean for reference first"
   ]
  },
  {
   "cell_type": "code",
   "execution_count": 9,
   "id": "3c28f9d2",
   "metadata": {},
   "outputs": [],
   "source": [
    "df_food.set_index('Food product', inplace=True)"
   ]
  },
  {
   "cell_type": "code",
   "execution_count": 10,
   "id": "38bb799f",
   "metadata": {},
   "outputs": [],
   "source": [
    "mean_value = df_food.median(skipna=True,\n",
    "    level=None,\n",
    "    numeric_only=True,)"
   ]
  },
  {
   "cell_type": "code",
   "execution_count": 11,
   "id": "5532eb85",
   "metadata": {},
   "outputs": [
    {
     "data": {
      "text/plain": [
       "Land use change      0.15\n",
       "Animal Feed          0.00\n",
       "Farm                 0.70\n",
       "Processing           0.05\n",
       "Transport            0.10\n",
       "                    ...  \n",
       "alcohol [g]          0.00\n",
       "ash [g]              0.91\n",
       "caffeine [mg]        0.00\n",
       "theobromine [mg]     0.00\n",
       "water [g]           78.89\n",
       "Length: 88, dtype: float64"
      ]
     },
     "execution_count": 11,
     "metadata": {},
     "output_type": "execute_result"
    }
   ],
   "source": [
    "mean_value"
   ]
  },
  {
   "cell_type": "code",
   "execution_count": 12,
   "id": "7b080957",
   "metadata": {},
   "outputs": [],
   "source": [
    "normalised_df_food = df_food/mean_value"
   ]
  },
  {
   "cell_type": "code",
   "execution_count": 13,
   "id": "7ae97e52",
   "metadata": {},
   "outputs": [],
   "source": [
    "# normalized_df_food=(df_food-df_food.mean())/df_food.std()"
   ]
  },
  {
   "cell_type": "markdown",
   "id": "d7605271",
   "metadata": {},
   "source": [
    "### define positive and negative parameters"
   ]
  },
  {
   "cell_type": "code",
   "execution_count": 14,
   "id": "0585f03c",
   "metadata": {},
   "outputs": [],
   "source": [
    "neutral = ['calories [kcal]',\n",
    " 'total_fat [g]',\n",
    " 'carbhy [g]',\n",
    " 'sugars [g]',\n",
    " 'fructose [g]',\n",
    " 'galactose [g]',\n",
    " 'glucose [g]',\n",
    " 'lactose [g]',\n",
    " 'maltose [g]',\n",
    " 'sucrose [g]',\n",
    "'fat [g]',\n",
    " 'ash [g]',\n",
    " 'caffeine [mg]',\n",
    "'water [g]',\n",
    " 'theobromine [mg]',]"
   ]
  },
  {
   "cell_type": "code",
   "execution_count": 15,
   "id": "38a7d6d1",
   "metadata": {},
   "outputs": [],
   "source": [
    "positive = [ 'choline [mg]',\n",
    " 'folate [mcg]',\n",
    " 'folic_acid [mcg]',\n",
    " 'niacin [mg]',\n",
    " 'pant_acid [mg]',\n",
    " 'riboflavin [mg]',\n",
    " 'thiamin [mg]',\n",
    " 'vitamin_a [IU]',\n",
    " 'vitamin_a_rae [mcg]',\n",
    " 'carotene_alpha [mcg]',\n",
    " 'carotene_beta [mcg]',\n",
    " 'cryxaanthin [mcg]',\n",
    " 'lut_zea [mcg]',\n",
    " 'lucopene [nan]',\n",
    " 'vitamin_b12 [mcg]',\n",
    " 'vitamin_b6 [mg]',\n",
    " 'vitamin_c [mg]',\n",
    " 'vitamin_d [IU]',\n",
    " 'vitamin_e [mg]',\n",
    " 'tocoph [mg]',\n",
    " 'vitamin_k [mcg]',\n",
    " 'calcium [mg]',\n",
    " 'copper [mg]',\n",
    " 'irom [mg]',\n",
    " 'magnesium [mg]',\n",
    " 'manganese [mg]',\n",
    " 'phosphorous [mg]',\n",
    " 'potassium [mg]',\n",
    " 'selenium [mcg]',\n",
    " 'zink [mg]',\n",
    " 'protein [g]',\n",
    " 'alanine [g]',\n",
    " 'arginine [g]',\n",
    " 'aspar [g]',\n",
    " 'cystine [g]',\n",
    " 'glutam [g]',\n",
    " 'glycine [g]',\n",
    " 'histidine [g]',\n",
    " 'hy_proline [nan]',\n",
    " 'isoleucine [g]',\n",
    " 'leucine [g]',\n",
    " 'lysine [g]',\n",
    " 'methionine [g]',\n",
    " 'ph_alanine [g]',\n",
    " 'proline [g]',\n",
    " 'serine [g]',\n",
    " 'threonine [g]',\n",
    " 'tryptophan [g]',\n",
    " 'tyrosine [g]',\n",
    " 'valine [g]',\n",
    " 'fiber [g]',\n",
    " 'mon_fat_acids [g]',\n",
    " 'pol_fat_acids [g]']"
   ]
  },
  {
   "cell_type": "code",
   "execution_count": 16,
   "id": "d956fdb6",
   "metadata": {},
   "outputs": [],
   "source": [
    "negative = ['Land use change',\n",
    " 'Animal Feed',\n",
    " 'Farm',\n",
    " 'Processing',\n",
    " 'Transport',\n",
    " 'Packging',\n",
    " 'Retail',\n",
    " 'Total_emissions',\n",
    " 'EuEmkg',\n",
    " 'Waterkg',\n",
    " 'GreGaskcal',\n",
    " 'Lndusekg',\n",
    " 'Scarkg',\n",
    "'saturated_fat [g]',\n",
    "'cholesterol [mg]',\n",
    " 'sodium [mg]',\n",
    "'sat_fat_acids [g]',\n",
    " 'trans_fat_acids [mg]',\n",
    " 'alcohol [g]']"
   ]
  },
  {
   "cell_type": "markdown",
   "id": "deb547cd",
   "metadata": {},
   "source": [
    "### Filter kreiieren"
   ]
  },
  {
   "cell_type": "code",
   "execution_count": 17,
   "id": "329f22fa",
   "metadata": {},
   "outputs": [],
   "source": [
    "nutrition =  ['calories [kcal]',\n",
    " 'total_fat [g]',\n",
    " 'saturated_fat [g]',\n",
    " 'cholesterol [mg]',\n",
    " 'sodium [mg]',\n",
    " 'choline [mg]',\n",
    " 'folate [mcg]',\n",
    " 'folic_acid [mcg]',\n",
    " 'niacin [mg]',\n",
    " 'pant_acid [mg]',\n",
    " 'riboflavin [mg]',\n",
    " 'thiamin [mg]',\n",
    " 'vitamin_a [IU]',\n",
    " 'vitamin_a_rae [mcg]',\n",
    " 'carotene_alpha [mcg]',\n",
    " 'carotene_beta [mcg]',\n",
    " 'cryxaanthin [mcg]',\n",
    " 'lut_zea [mcg]',\n",
    " 'lucopene [nan]',\n",
    " 'vitamin_b12 [mcg]',\n",
    " 'vitamin_b6 [mg]',\n",
    " 'vitamin_c [mg]',\n",
    " 'vitamin_d [IU]',\n",
    " 'vitamin_e [mg]',\n",
    " 'tocoph [mg]',\n",
    " 'vitamin_k [mcg]',\n",
    " 'calcium [mg]',\n",
    " 'copper [mg]',\n",
    " 'irom [mg]',\n",
    " 'magnesium [mg]',\n",
    " 'manganese [mg]',\n",
    " 'phosphorous [mg]',\n",
    " 'potassium [mg]',\n",
    " 'selenium [mcg]',\n",
    " 'zink [mg]',\n",
    " 'protein [g]',\n",
    " 'alanine [g]',\n",
    " 'arginine [g]',\n",
    " 'aspar [g]',\n",
    " 'cystine [g]',\n",
    " 'glutam [g]',\n",
    " 'glycine [g]',\n",
    " 'histidine [g]',\n",
    " 'hy_proline [nan]',\n",
    " 'isoleucine [g]',\n",
    " 'leucine [g]',\n",
    " 'lysine [g]',\n",
    " 'methionine [g]',\n",
    " 'ph_alanine [g]',\n",
    " 'proline [g]',\n",
    " 'serine [g]',\n",
    " 'threonine [g]',\n",
    " 'tryptophan [g]',\n",
    " 'tyrosine [g]',\n",
    " 'valine [g]',\n",
    " 'carbhy [g]',\n",
    " 'fiber [g]',\n",
    " 'sugars [g]',\n",
    " 'fructose [g]',\n",
    " 'galactose [g]',\n",
    " 'glucose [g]',\n",
    " 'lactose [g]',\n",
    " 'maltose [g]',\n",
    " 'sucrose [g]',\n",
    " 'fat [g]',\n",
    " 'sat_fat_acids [g]',\n",
    " 'mon_fat_acids [g]',\n",
    " 'pol_fat_acids [g]',\n",
    " 'trans_fat_acids [mg]',\n",
    " 'alcohol [g]',\n",
    " 'ash [g]',\n",
    " 'caffeine [mg]',\n",
    " 'theobromine [mg]',\n",
    " 'water [g]']"
   ]
  },
  {
   "cell_type": "code",
   "execution_count": 18,
   "id": "299182b8",
   "metadata": {},
   "outputs": [],
   "source": [
    "ecology = ['Land use change',\n",
    " 'Animal Feed',\n",
    " 'Farm',\n",
    " 'Processing',\n",
    " 'Transport',\n",
    " 'Packging',\n",
    " 'Retail',\n",
    " 'Total_emissions',\n",
    " 'EuEmkg',\n",
    " 'Waterkg',\n",
    " 'GreGaskcal',\n",
    " 'Lndusekg',\n",
    " 'Scarkg']"
   ]
  },
  {
   "cell_type": "code",
   "execution_count": 19,
   "id": "58da7fff",
   "metadata": {},
   "outputs": [],
   "source": [
    "all_aspects = nutrition + ecology"
   ]
  },
  {
   "cell_type": "code",
   "execution_count": 20,
   "id": "722dce91",
   "metadata": {},
   "outputs": [
    {
     "data": {
      "text/plain": [
       "Food product\n",
       "Rice        1.329243\n",
       "Potatoes    0.525562\n",
       "Eggs        2.783231\n",
       "Name: protein [g], dtype: float64"
      ]
     },
     "execution_count": 20,
     "metadata": {},
     "output_type": "execute_result"
    }
   ],
   "source": [
    "normalised_df_food.loc[['Rice', 'Potatoes', 'Eggs']]['protein [g]']"
   ]
  },
  {
   "cell_type": "markdown",
   "id": "cf29c448",
   "metadata": {},
   "source": [
    "### filtern;"
   ]
  },
  {
   "cell_type": "code",
   "execution_count": 21,
   "id": "269a5201",
   "metadata": {},
   "outputs": [],
   "source": [
    "def filter_data(normalised_df_food = normalised_df_food, \n",
    "                choice_food_products = list(normalised_df_food.index), choice_aspects = all_aspects, \n",
    "                category = normalised_df_food['Category'], allergens = normalised_df_food['Allergens'],\n",
    "                nutritionalform = normalised_df_food['NutritionalForm'], protein_limit = 0):\n",
    "\n",
    "    normalised_df_food = normalised_df_food.loc[choice_food_products][normalised_df_food.loc[choice_food_products]['Category'].isin(list(category))]\n",
    "    normalised_df_food = normalised_df_food.loc[choice_food_products][normalised_df_food.loc[choice_food_products]['Allergens'].isin((allergens))]\n",
    "    normalised_df_food = normalised_df_food.loc[choice_food_products][normalised_df_food.loc[choice_food_products]['NutritionalForm'].isin(list(nutritionalform))]\n",
    "    normalised_df_food = normalised_df_food.loc[choice_food_products][normalised_df_food.loc[choice_food_products]['protein [g]'] > protein_limit]\n",
    "\n",
    "\n",
    "    df = normalised_df_food[ choice_aspects]\n",
    "    \n",
    "    return df"
   ]
  },
  {
   "cell_type": "code",
   "execution_count": 44,
   "id": "3aed1c49",
   "metadata": {},
   "outputs": [],
   "source": [
    "##set filters\n",
    "\n",
    "normalised_df_food = normalised_df_food\n",
    "choice_food_products = ['Rice', 'Potatoes', 'Eggs', 'Cheese', 'Wheat & Rye (Bread)']\n",
    "choice_aspects = all_aspects\n",
    "category = normalised_df_food['Category']\n",
    "allergens = normalised_df_food['Allergens']\n",
    "nutritionalform = normalised_df_food['NutritionalForm']\n",
    "protein_limit = 30"
   ]
  },
  {
   "cell_type": "code",
   "execution_count": 45,
   "id": "1b7ee995",
   "metadata": {},
   "outputs": [],
   "source": [
    "df = filter_data(choice_food_products = choice_food_products, protein_limit = 0)"
   ]
  },
  {
   "cell_type": "markdown",
   "id": "c91a660e",
   "metadata": {},
   "source": [
    "### Heatmap\n",
    "\n",
    "- Refernzwert dringend gebraucht - normalisierung meiner meinung ok!!\n",
    "- auf Kalorien oder Portion\n",
    "- positive und negative Auswirkungen gegeben, können aber nicht in einer Heatmap dargestellt werden\n",
    " - positive und negative Parameter könnten getrennt werden\n",
    " - Nans herausfiltern"
   ]
  },
  {
   "cell_type": "code",
   "execution_count": 47,
   "id": "abee6c25",
   "metadata": {},
   "outputs": [
    {
     "data": {
      "application/vnd.plotly.v1+json": {
       "config": {
        "plotlyServerURL": "https://plot.ly"
       },
       "data": [
        {
         "coloraxis": "coloraxis",
         "hovertemplate": "Food product: %{x}<br>y: %{y}<br>color: %{z}<extra></extra>",
         "name": "0",
         "type": "heatmap",
         "x": [
          "Rice",
          "Potatoes",
          "Eggs",
          "Cheese",
          "Wheat & Rye (Bread)"
         ],
         "xaxis": "x",
         "y": [
          "calories [kcal]",
          "total_fat [g]",
          "saturated_fat [g]",
          "cholesterol [mg]",
          "sodium [mg]",
          "choline [mg]",
          "folate [mcg]",
          "folic_acid [mcg]",
          "niacin [mg]",
          "pant_acid [mg]",
          "riboflavin [mg]",
          "thiamin [mg]",
          "vitamin_a [IU]",
          "vitamin_a_rae [mcg]",
          "carotene_alpha [mcg]",
          "carotene_beta [mcg]",
          "cryxaanthin [mcg]",
          "lut_zea [mcg]",
          "lucopene [nan]",
          "vitamin_b12 [mcg]",
          "vitamin_b6 [mg]",
          "vitamin_c [mg]",
          "vitamin_d [IU]",
          "vitamin_e [mg]",
          "tocoph [mg]",
          "vitamin_k [mcg]",
          "calcium [mg]",
          "copper [mg]",
          "irom [mg]",
          "magnesium [mg]",
          "manganese [mg]",
          "phosphorous [mg]",
          "potassium [mg]",
          "selenium [mcg]",
          "zink [mg]",
          "protein [g]",
          "alanine [g]",
          "arginine [g]",
          "aspar [g]",
          "cystine [g]",
          "glutam [g]",
          "glycine [g]",
          "histidine [g]",
          "hy_proline [nan]",
          "isoleucine [g]",
          "leucine [g]",
          "lysine [g]",
          "methionine [g]",
          "ph_alanine [g]",
          "proline [g]",
          "serine [g]",
          "threonine [g]",
          "tryptophan [g]",
          "tyrosine [g]",
          "valine [g]",
          "carbhy [g]",
          "fiber [g]",
          "sugars [g]",
          "fructose [g]",
          "galactose [g]",
          "glucose [g]",
          "lactose [g]",
          "maltose [g]",
          "sucrose [g]",
          "fat [g]",
          "sat_fat_acids [g]",
          "mon_fat_acids [g]",
          "pol_fat_acids [g]",
          "trans_fat_acids [mg]",
          "alcohol [g]",
          "ash [g]",
          "caffeine [mg]",
          "theobromine [mg]",
          "water [g]",
          "Land use change",
          "Animal Feed",
          "Farm",
          "Processing",
          "Transport",
          "Packging",
          "Retail",
          "Total_emissions",
          "EuEmkg",
          "Waterkg",
          "GreGaskcal",
          "Lndusekg",
          "Scarkg"
         ],
         "yaxis": "y",
         "z": [
          [
           4.114942528735632,
           0.6666666666666666,
           2.2528735632183907,
           4.64367816091954,
           3.0229885057471266
          ],
          [
           0.45454545454545453,
           0.09090909090909091,
           13.636363636363635,
           29.999999999999996,
           3.1818181818181817
          ],
          [
           0.14285714285714288,
           null,
           6.142857142857143,
           27.142857142857146,
           1
          ],
          [
           null,
           null,
           null,
           null,
           null
          ],
          [
           0.04878048780487805,
           0.4878048780487805,
           10.097560975609756,
           31.853658536585368,
           12.097560975609756
          ],
          [
           0,
           0,
           67.46808510638299,
           3.5106382978723403,
           0
          ],
          [
           14.4375,
           1.0625,
           3.1875,
           1.6875,
           0
          ],
          [
           null,
           null,
           null,
           null,
           null
          ],
          [
           7.43089430894309,
           1.8663053297199637,
           0.14814814814814817,
           0.1065943992773261,
           0.903342366757001
          ],
          [
           4.131621187800963,
           0.9695024077046549,
           5.329052969502407,
           1.3162118780096308,
           0
          ],
          [
           0.9142857142857143,
           0.7238095238095237,
           9.428571428571427,
           8.152380952380952,
           3.8095238095238093
          ],
          [
           15.27027027027027,
           0.5675675675675677,
           1.1891891891891893,
           0.7837837837837839,
           5.405405405405406
          ],
          [
           0,
           0,
           14.18018018018018,
           22.37837837837838,
           1.8018018018018018
          ],
          [
           0,
           0,
           73,
           110,
           0
          ],
          [
           null,
           null,
           null,
           null,
           null
          ],
          [
           null,
           null,
           null,
           null,
           null
          ],
          [
           null,
           null,
           null,
           null,
           null
          ],
          [
           null,
           null,
           null,
           null,
           null
          ],
          [
           null,
           null,
           null,
           null,
           null
          ],
          [
           null,
           null,
           null,
           null,
           null
          ],
          [
           1.5000000000000002,
           2.0964912280701755,
           1.6140350877192984,
           0.5789473684210527,
           0
          ],
          [
           0,
           11.4,
           0,
           0,
           0.9
          ],
          [
           null,
           null,
           null,
           null,
           null
          ],
          [
           0,
           0,
           13.789473684210527,
           7.473684210526315,
           0
          ],
          [
           0,
           0,
           13.789473684210527,
           7.473684210526315,
           0
          ],
          [
           0,
           0,
           12.444444444444443,
           5.333333333333333,
           0
          ],
          [
           0.10714285714285714,
           1.0714285714285714,
           2.2142857142857144,
           25.357142857142858,
           3.357142857142857
          ],
          [
           3.6206896551724137,
           7.293103448275862,
           1.3448275862068966,
           0.5172413793103449,
           0
          ],
          [
           9.195652173913045,
           7.043478260869565,
           4.108695652173913,
           0.30434782608695654,
           6.08695652173913
          ],
          [
           1.7692307692307692,
           1.7692307692307692,
           1,
           2.076923076923077,
           0
          ],
          [
           31.907692307692304,
           18.52307692307692,
           0.923076923076923,
           0.8307692307692307,
           0
          ],
          [
           1.6814159292035398,
           0.672566371681416,
           3.8053097345132745,
           8.053097345132743,
           0
          ],
          [
           0.6178861788617886,
           3.3577235772357725,
           1.2357723577235773,
           0.6178861788617886,
           0
          ],
          [
           4.950819672131148,
           0.09836065573770492,
           10.852459016393444,
           9.344262295081968,
           0
          ],
          [
           3.2835820895522394,
           1.0447761194029852,
           4.149253731343284,
           10.865671641791046,
           0
          ],
          [
           1.329243353783231,
           0.5255623721881391,
           2.783231083844581,
           4.676891615541923,
           0.002044989775051125
          ],
          [
           3.474654377880184,
           0,
           7.327188940092166,
           6.921658986175116,
           0
          ],
          [
           3.5424836601307192,
           0,
           5.7973856209150325,
           3.5751633986928106,
           0
          ],
          [
           2.2756052141527006,
           0,
           5.355679702048418,
           6.458100558659218,
           0
          ],
          [
           6.820512820512821,
           0,
           15.076923076923077,
           6.3076923076923075,
           0
          ],
          [
           2.1601362862010225,
           0,
           3.0954003407155026,
           8.066439522998298,
           0
          ],
          [
           3.441860465116279,
           0,
           5.430232558139536,
           6.36046511627907,
           0
          ],
          [
           1.8433734939759039,
           0,
           4.0361445783132535,
           6.590361445783134,
           0
          ],
          [
           null,
           null,
           null,
           null,
           null
          ],
          [
           1.8012820512820515,
           0,
           4.666666666666667,
           7.730769230769231,
           0
          ],
          [
           2.1222879684418148,
           0,
           4.642998027613412,
           7.648915187376726,
           0
          ],
          [
           1.2841530054644807,
           0,
           5.404371584699454,
           5.601092896174863,
           0
          ],
          [
           2.8073394495412844,
           0,
           7.541284403669724,
           10.036697247706423,
           0
          ],
          [
           2.5682656826568264,
           0,
           5.431734317343173,
           7.92619926199262,
           0
          ],
          [
           1.3509933774834437,
           0,
           2.463576158940398,
           11.024282560706402,
           0
          ],
          [
           2.150943396226415,
           0,
           6.610062893081761,
           4.90566037735849,
           0
          ],
          [
           1.8203125,
           0,
           4.703125,
           8.15625,
           0
          ],
          [
           1.7857142857142858,
           0,
           4.30952380952381,
           13.023809523809526,
           0
          ],
          [
           1.757085020242915,
           0,
           4.380566801619434,
           8.97165991902834,
           0
          ],
          [
           2.3560830860534123,
           0,
           5.519287833827893,
           8.33234421364985,
           0
          ],
          [
           10.134443021766966,
           1.5928297055057616,
           0.10627400768245837,
           0.3956466069142125,
           6.043533930857874
          ],
          [
           2.6666666666666665,
           2.380952380952381,
           0,
           0,
           8.857142857142858
          ],
          [
           0,
           0,
           0.25723472668810293,
           0.3086816720257235,
           4.758842443729904
          ],
          [
           null,
           null,
           null,
           null,
           null
          ],
          [
           null,
           null,
           null,
           null,
           null
          ],
          [
           null,
           null,
           null,
           null,
           null
          ],
          [
           null,
           null,
           null,
           null,
           null
          ],
          [
           null,
           null,
           null,
           null,
           null
          ],
          [
           null,
           null,
           null,
           null,
           null
          ],
          [
           0.47926267281105994,
           0.09216589861751152,
           13.67741935483871,
           30.70046082949309,
           3.2258064516129035
          ],
          [
           0.7650273224043717,
           0.14207650273224043,
           23.622950819672134,
           103.09836065573771,
           3.8251366120218577
          ],
          [
           0.7612293144208038,
           0.009456264775413711,
           29.229314420803785,
           43.71631205673759,
           3.309692671394799
          ],
          [
           0.5986984815618223,
           0.18655097613882862,
           14.10412147505423,
           6.164859002169198,
           8.24295010845987
          ],
          [
           null,
           null,
           null,
           null,
           null
          ],
          [
           null,
           null,
           null,
           null,
           null
          ],
          [
           0.5934065934065935,
           1.7692307692307694,
           1.3846153846153848,
           4.0769230769230775,
           2.087912087912088
          ],
          [
           null,
           null,
           null,
           null,
           null
          ],
          [
           null,
           null,
           null,
           null,
           null
          ],
          [
           0.16846241602230952,
           1.055773862339967,
           0.8805932310812523,
           0.4692609963239955,
           0.46773989098745083
          ],
          [
           0,
           0,
           4.666666666666666,
           29.999999999999996,
           0.6666666666666666
          ],
          [
           null,
           null,
           null,
           null,
           null
          ],
          [
           5.142857142857143,
           0.28571428571428575,
           1.8571428571428574,
           18.714285714285715,
           1.142857142857143
          ],
          [
           2,
           0,
           0,
           13.999999999999998,
           4
          ],
          [
           1,
           1,
           1,
           1,
           1
          ],
          [
           1,
           0,
           2,
           2,
           1
          ],
          [
           null,
           null,
           null,
           null,
           null
          ],
          [
           2.857142857142857,
           0.2142857142857143,
           3.2142857142857144,
           15.142857142857144,
           1
          ],
          [
           4.663563829787234,
           0.46276595744680854,
           2.893617021276596,
           13.081117021276597,
           null
          ],
          [
           5.358436606291706,
           0.14084842707340323,
           1.376787416587226,
           13.358436606291706,
           null
          ],
          [
           0.5864033488610861,
           0.3052379391789254,
           1.5752378928090487,
           2.9971958270766774,
           null
          ],
          [
           1,
           0.31428571428571433,
           2.2392857142857143,
           31.35357142857143,
           null
          ],
          [
           2.7568885651209216,
           0.15315831326775176,
           1,
           10.056921374432093,
           null
          ]
         ]
        }
       ],
       "layout": {
        "coloraxis": {
         "colorscale": [
          [
           0,
           "rgb(44, 26, 76)"
          ],
          [
           0.1,
           "rgb(40, 59, 110)"
          ],
          [
           0.2,
           "rgb(42, 94, 151)"
          ],
          [
           0.3,
           "rgb(68, 117, 193)"
          ],
          [
           0.4,
           "rgb(96, 137, 190)"
          ],
          [
           0.5,
           "rgb(125, 156, 181)"
          ],
          [
           0.6,
           "rgb(155, 175, 172)"
          ],
          [
           0.7,
           "rgb(186, 196, 163)"
          ],
          [
           0.8,
           "rgb(215, 217, 161)"
          ],
          [
           0.9,
           "rgb(237, 236, 206)"
          ],
          [
           1,
           "rgb(255, 255, 255)"
          ]
         ]
        },
        "height": 1600,
        "margin": {
         "t": 60
        },
        "template": {
         "data": {
          "bar": [
           {
            "error_x": {
             "color": "#2a3f5f"
            },
            "error_y": {
             "color": "#2a3f5f"
            },
            "marker": {
             "line": {
              "color": "#E5ECF6",
              "width": 0.5
             },
             "pattern": {
              "fillmode": "overlay",
              "size": 10,
              "solidity": 0.2
             }
            },
            "type": "bar"
           }
          ],
          "barpolar": [
           {
            "marker": {
             "line": {
              "color": "#E5ECF6",
              "width": 0.5
             },
             "pattern": {
              "fillmode": "overlay",
              "size": 10,
              "solidity": 0.2
             }
            },
            "type": "barpolar"
           }
          ],
          "carpet": [
           {
            "aaxis": {
             "endlinecolor": "#2a3f5f",
             "gridcolor": "white",
             "linecolor": "white",
             "minorgridcolor": "white",
             "startlinecolor": "#2a3f5f"
            },
            "baxis": {
             "endlinecolor": "#2a3f5f",
             "gridcolor": "white",
             "linecolor": "white",
             "minorgridcolor": "white",
             "startlinecolor": "#2a3f5f"
            },
            "type": "carpet"
           }
          ],
          "choropleth": [
           {
            "colorbar": {
             "outlinewidth": 0,
             "ticks": ""
            },
            "type": "choropleth"
           }
          ],
          "contour": [
           {
            "colorbar": {
             "outlinewidth": 0,
             "ticks": ""
            },
            "colorscale": [
             [
              0,
              "#0d0887"
             ],
             [
              0.1111111111111111,
              "#46039f"
             ],
             [
              0.2222222222222222,
              "#7201a8"
             ],
             [
              0.3333333333333333,
              "#9c179e"
             ],
             [
              0.4444444444444444,
              "#bd3786"
             ],
             [
              0.5555555555555556,
              "#d8576b"
             ],
             [
              0.6666666666666666,
              "#ed7953"
             ],
             [
              0.7777777777777778,
              "#fb9f3a"
             ],
             [
              0.8888888888888888,
              "#fdca26"
             ],
             [
              1,
              "#f0f921"
             ]
            ],
            "type": "contour"
           }
          ],
          "contourcarpet": [
           {
            "colorbar": {
             "outlinewidth": 0,
             "ticks": ""
            },
            "type": "contourcarpet"
           }
          ],
          "heatmap": [
           {
            "colorbar": {
             "outlinewidth": 0,
             "ticks": ""
            },
            "colorscale": [
             [
              0,
              "#0d0887"
             ],
             [
              0.1111111111111111,
              "#46039f"
             ],
             [
              0.2222222222222222,
              "#7201a8"
             ],
             [
              0.3333333333333333,
              "#9c179e"
             ],
             [
              0.4444444444444444,
              "#bd3786"
             ],
             [
              0.5555555555555556,
              "#d8576b"
             ],
             [
              0.6666666666666666,
              "#ed7953"
             ],
             [
              0.7777777777777778,
              "#fb9f3a"
             ],
             [
              0.8888888888888888,
              "#fdca26"
             ],
             [
              1,
              "#f0f921"
             ]
            ],
            "type": "heatmap"
           }
          ],
          "heatmapgl": [
           {
            "colorbar": {
             "outlinewidth": 0,
             "ticks": ""
            },
            "colorscale": [
             [
              0,
              "#0d0887"
             ],
             [
              0.1111111111111111,
              "#46039f"
             ],
             [
              0.2222222222222222,
              "#7201a8"
             ],
             [
              0.3333333333333333,
              "#9c179e"
             ],
             [
              0.4444444444444444,
              "#bd3786"
             ],
             [
              0.5555555555555556,
              "#d8576b"
             ],
             [
              0.6666666666666666,
              "#ed7953"
             ],
             [
              0.7777777777777778,
              "#fb9f3a"
             ],
             [
              0.8888888888888888,
              "#fdca26"
             ],
             [
              1,
              "#f0f921"
             ]
            ],
            "type": "heatmapgl"
           }
          ],
          "histogram": [
           {
            "marker": {
             "pattern": {
              "fillmode": "overlay",
              "size": 10,
              "solidity": 0.2
             }
            },
            "type": "histogram"
           }
          ],
          "histogram2d": [
           {
            "colorbar": {
             "outlinewidth": 0,
             "ticks": ""
            },
            "colorscale": [
             [
              0,
              "#0d0887"
             ],
             [
              0.1111111111111111,
              "#46039f"
             ],
             [
              0.2222222222222222,
              "#7201a8"
             ],
             [
              0.3333333333333333,
              "#9c179e"
             ],
             [
              0.4444444444444444,
              "#bd3786"
             ],
             [
              0.5555555555555556,
              "#d8576b"
             ],
             [
              0.6666666666666666,
              "#ed7953"
             ],
             [
              0.7777777777777778,
              "#fb9f3a"
             ],
             [
              0.8888888888888888,
              "#fdca26"
             ],
             [
              1,
              "#f0f921"
             ]
            ],
            "type": "histogram2d"
           }
          ],
          "histogram2dcontour": [
           {
            "colorbar": {
             "outlinewidth": 0,
             "ticks": ""
            },
            "colorscale": [
             [
              0,
              "#0d0887"
             ],
             [
              0.1111111111111111,
              "#46039f"
             ],
             [
              0.2222222222222222,
              "#7201a8"
             ],
             [
              0.3333333333333333,
              "#9c179e"
             ],
             [
              0.4444444444444444,
              "#bd3786"
             ],
             [
              0.5555555555555556,
              "#d8576b"
             ],
             [
              0.6666666666666666,
              "#ed7953"
             ],
             [
              0.7777777777777778,
              "#fb9f3a"
             ],
             [
              0.8888888888888888,
              "#fdca26"
             ],
             [
              1,
              "#f0f921"
             ]
            ],
            "type": "histogram2dcontour"
           }
          ],
          "mesh3d": [
           {
            "colorbar": {
             "outlinewidth": 0,
             "ticks": ""
            },
            "type": "mesh3d"
           }
          ],
          "parcoords": [
           {
            "line": {
             "colorbar": {
              "outlinewidth": 0,
              "ticks": ""
             }
            },
            "type": "parcoords"
           }
          ],
          "pie": [
           {
            "automargin": true,
            "type": "pie"
           }
          ],
          "scatter": [
           {
            "fillpattern": {
             "fillmode": "overlay",
             "size": 10,
             "solidity": 0.2
            },
            "type": "scatter"
           }
          ],
          "scatter3d": [
           {
            "line": {
             "colorbar": {
              "outlinewidth": 0,
              "ticks": ""
             }
            },
            "marker": {
             "colorbar": {
              "outlinewidth": 0,
              "ticks": ""
             }
            },
            "type": "scatter3d"
           }
          ],
          "scattercarpet": [
           {
            "marker": {
             "colorbar": {
              "outlinewidth": 0,
              "ticks": ""
             }
            },
            "type": "scattercarpet"
           }
          ],
          "scattergeo": [
           {
            "marker": {
             "colorbar": {
              "outlinewidth": 0,
              "ticks": ""
             }
            },
            "type": "scattergeo"
           }
          ],
          "scattergl": [
           {
            "marker": {
             "colorbar": {
              "outlinewidth": 0,
              "ticks": ""
             }
            },
            "type": "scattergl"
           }
          ],
          "scattermapbox": [
           {
            "marker": {
             "colorbar": {
              "outlinewidth": 0,
              "ticks": ""
             }
            },
            "type": "scattermapbox"
           }
          ],
          "scatterpolar": [
           {
            "marker": {
             "colorbar": {
              "outlinewidth": 0,
              "ticks": ""
             }
            },
            "type": "scatterpolar"
           }
          ],
          "scatterpolargl": [
           {
            "marker": {
             "colorbar": {
              "outlinewidth": 0,
              "ticks": ""
             }
            },
            "type": "scatterpolargl"
           }
          ],
          "scatterternary": [
           {
            "marker": {
             "colorbar": {
              "outlinewidth": 0,
              "ticks": ""
             }
            },
            "type": "scatterternary"
           }
          ],
          "surface": [
           {
            "colorbar": {
             "outlinewidth": 0,
             "ticks": ""
            },
            "colorscale": [
             [
              0,
              "#0d0887"
             ],
             [
              0.1111111111111111,
              "#46039f"
             ],
             [
              0.2222222222222222,
              "#7201a8"
             ],
             [
              0.3333333333333333,
              "#9c179e"
             ],
             [
              0.4444444444444444,
              "#bd3786"
             ],
             [
              0.5555555555555556,
              "#d8576b"
             ],
             [
              0.6666666666666666,
              "#ed7953"
             ],
             [
              0.7777777777777778,
              "#fb9f3a"
             ],
             [
              0.8888888888888888,
              "#fdca26"
             ],
             [
              1,
              "#f0f921"
             ]
            ],
            "type": "surface"
           }
          ],
          "table": [
           {
            "cells": {
             "fill": {
              "color": "#EBF0F8"
             },
             "line": {
              "color": "white"
             }
            },
            "header": {
             "fill": {
              "color": "#C8D4E3"
             },
             "line": {
              "color": "white"
             }
            },
            "type": "table"
           }
          ]
         },
         "layout": {
          "annotationdefaults": {
           "arrowcolor": "#2a3f5f",
           "arrowhead": 0,
           "arrowwidth": 1
          },
          "autotypenumbers": "strict",
          "coloraxis": {
           "colorbar": {
            "outlinewidth": 0,
            "ticks": ""
           }
          },
          "colorscale": {
           "diverging": [
            [
             0,
             "#8e0152"
            ],
            [
             0.1,
             "#c51b7d"
            ],
            [
             0.2,
             "#de77ae"
            ],
            [
             0.3,
             "#f1b6da"
            ],
            [
             0.4,
             "#fde0ef"
            ],
            [
             0.5,
             "#f7f7f7"
            ],
            [
             0.6,
             "#e6f5d0"
            ],
            [
             0.7,
             "#b8e186"
            ],
            [
             0.8,
             "#7fbc41"
            ],
            [
             0.9,
             "#4d9221"
            ],
            [
             1,
             "#276419"
            ]
           ],
           "sequential": [
            [
             0,
             "#0d0887"
            ],
            [
             0.1111111111111111,
             "#46039f"
            ],
            [
             0.2222222222222222,
             "#7201a8"
            ],
            [
             0.3333333333333333,
             "#9c179e"
            ],
            [
             0.4444444444444444,
             "#bd3786"
            ],
            [
             0.5555555555555556,
             "#d8576b"
            ],
            [
             0.6666666666666666,
             "#ed7953"
            ],
            [
             0.7777777777777778,
             "#fb9f3a"
            ],
            [
             0.8888888888888888,
             "#fdca26"
            ],
            [
             1,
             "#f0f921"
            ]
           ],
           "sequentialminus": [
            [
             0,
             "#0d0887"
            ],
            [
             0.1111111111111111,
             "#46039f"
            ],
            [
             0.2222222222222222,
             "#7201a8"
            ],
            [
             0.3333333333333333,
             "#9c179e"
            ],
            [
             0.4444444444444444,
             "#bd3786"
            ],
            [
             0.5555555555555556,
             "#d8576b"
            ],
            [
             0.6666666666666666,
             "#ed7953"
            ],
            [
             0.7777777777777778,
             "#fb9f3a"
            ],
            [
             0.8888888888888888,
             "#fdca26"
            ],
            [
             1,
             "#f0f921"
            ]
           ]
          },
          "colorway": [
           "#636efa",
           "#EF553B",
           "#00cc96",
           "#ab63fa",
           "#FFA15A",
           "#19d3f3",
           "#FF6692",
           "#B6E880",
           "#FF97FF",
           "#FECB52"
          ],
          "font": {
           "color": "#2a3f5f"
          },
          "geo": {
           "bgcolor": "white",
           "lakecolor": "white",
           "landcolor": "#E5ECF6",
           "showlakes": true,
           "showland": true,
           "subunitcolor": "white"
          },
          "hoverlabel": {
           "align": "left"
          },
          "hovermode": "closest",
          "mapbox": {
           "style": "light"
          },
          "paper_bgcolor": "white",
          "plot_bgcolor": "#E5ECF6",
          "polar": {
           "angularaxis": {
            "gridcolor": "white",
            "linecolor": "white",
            "ticks": ""
           },
           "bgcolor": "#E5ECF6",
           "radialaxis": {
            "gridcolor": "white",
            "linecolor": "white",
            "ticks": ""
           }
          },
          "scene": {
           "xaxis": {
            "backgroundcolor": "#E5ECF6",
            "gridcolor": "white",
            "gridwidth": 2,
            "linecolor": "white",
            "showbackground": true,
            "ticks": "",
            "zerolinecolor": "white"
           },
           "yaxis": {
            "backgroundcolor": "#E5ECF6",
            "gridcolor": "white",
            "gridwidth": 2,
            "linecolor": "white",
            "showbackground": true,
            "ticks": "",
            "zerolinecolor": "white"
           },
           "zaxis": {
            "backgroundcolor": "#E5ECF6",
            "gridcolor": "white",
            "gridwidth": 2,
            "linecolor": "white",
            "showbackground": true,
            "ticks": "",
            "zerolinecolor": "white"
           }
          },
          "shapedefaults": {
           "line": {
            "color": "#2a3f5f"
           }
          },
          "ternary": {
           "aaxis": {
            "gridcolor": "white",
            "linecolor": "white",
            "ticks": ""
           },
           "baxis": {
            "gridcolor": "white",
            "linecolor": "white",
            "ticks": ""
           },
           "bgcolor": "#E5ECF6",
           "caxis": {
            "gridcolor": "white",
            "linecolor": "white",
            "ticks": ""
           }
          },
          "title": {
           "x": 0.05
          },
          "xaxis": {
           "automargin": true,
           "gridcolor": "white",
           "linecolor": "white",
           "ticks": "",
           "title": {
            "standoff": 15
           },
           "zerolinecolor": "white",
           "zerolinewidth": 2
          },
          "yaxis": {
           "automargin": true,
           "gridcolor": "white",
           "linecolor": "white",
           "ticks": "",
           "title": {
            "standoff": 15
           },
           "zerolinecolor": "white",
           "zerolinewidth": 2
          }
         }
        },
        "width": 800,
        "xaxis": {
         "anchor": "y",
         "domain": [
          0,
          1
         ],
         "side": "top",
         "title": {
          "text": "Food product"
         }
        },
        "yaxis": {
         "anchor": "x",
         "autorange": "reversed",
         "domain": [
          0,
          1
         ]
        }
       }
      },
      "text/html": [
       "<div>                            <div id=\"f67dddcb-b27e-44b2-a86b-d290af7d4d63\" class=\"plotly-graph-div\" style=\"height:1600px; width:800px;\"></div>            <script type=\"text/javascript\">                require([\"plotly\"], function(Plotly) {                    window.PLOTLYENV=window.PLOTLYENV || {};                                    if (document.getElementById(\"f67dddcb-b27e-44b2-a86b-d290af7d4d63\")) {                    Plotly.newPlot(                        \"f67dddcb-b27e-44b2-a86b-d290af7d4d63\",                        [{\"coloraxis\":\"coloraxis\",\"name\":\"0\",\"x\":[\"Rice\",\"Potatoes\",\"Eggs\",\"Cheese\",\"Wheat & Rye (Bread)\"],\"y\":[\"calories [kcal]\",\"total_fat [g]\",\"saturated_fat [g]\",\"cholesterol [mg]\",\"sodium [mg]\",\"choline [mg]\",\"folate [mcg]\",\"folic_acid [mcg]\",\"niacin [mg]\",\"pant_acid [mg]\",\"riboflavin [mg]\",\"thiamin [mg]\",\"vitamin_a [IU]\",\"vitamin_a_rae [mcg]\",\"carotene_alpha [mcg]\",\"carotene_beta [mcg]\",\"cryxaanthin [mcg]\",\"lut_zea [mcg]\",\"lucopene [nan]\",\"vitamin_b12 [mcg]\",\"vitamin_b6 [mg]\",\"vitamin_c [mg]\",\"vitamin_d [IU]\",\"vitamin_e [mg]\",\"tocoph [mg]\",\"vitamin_k [mcg]\",\"calcium [mg]\",\"copper [mg]\",\"irom [mg]\",\"magnesium [mg]\",\"manganese [mg]\",\"phosphorous [mg]\",\"potassium [mg]\",\"selenium [mcg]\",\"zink [mg]\",\"protein [g]\",\"alanine [g]\",\"arginine [g]\",\"aspar [g]\",\"cystine [g]\",\"glutam [g]\",\"glycine [g]\",\"histidine [g]\",\"hy_proline [nan]\",\"isoleucine [g]\",\"leucine [g]\",\"lysine [g]\",\"methionine [g]\",\"ph_alanine [g]\",\"proline [g]\",\"serine [g]\",\"threonine [g]\",\"tryptophan [g]\",\"tyrosine [g]\",\"valine [g]\",\"carbhy [g]\",\"fiber [g]\",\"sugars [g]\",\"fructose [g]\",\"galactose [g]\",\"glucose [g]\",\"lactose [g]\",\"maltose [g]\",\"sucrose [g]\",\"fat [g]\",\"sat_fat_acids [g]\",\"mon_fat_acids [g]\",\"pol_fat_acids [g]\",\"trans_fat_acids [mg]\",\"alcohol [g]\",\"ash [g]\",\"caffeine [mg]\",\"theobromine [mg]\",\"water [g]\",\"Land use change\",\"Animal Feed\",\"Farm\",\"Processing\",\"Transport\",\"Packging\",\"Retail\",\"Total_emissions\",\"EuEmkg\",\"Waterkg\",\"GreGaskcal\",\"Lndusekg\",\"Scarkg\"],\"z\":[[4.114942528735632,0.6666666666666666,2.2528735632183907,4.64367816091954,3.0229885057471266],[0.45454545454545453,0.09090909090909091,13.636363636363635,29.999999999999996,3.1818181818181817],[0.14285714285714288,null,6.142857142857143,27.142857142857146,1.0],[null,null,null,null,null],[0.04878048780487805,0.4878048780487805,10.097560975609756,31.853658536585368,12.097560975609756],[0.0,0.0,67.46808510638299,3.5106382978723403,0.0],[14.4375,1.0625,3.1875,1.6875,0.0],[null,null,null,null,null],[7.43089430894309,1.8663053297199637,0.14814814814814817,0.1065943992773261,0.903342366757001],[4.131621187800963,0.9695024077046549,5.329052969502407,1.3162118780096308,0.0],[0.9142857142857143,0.7238095238095237,9.428571428571427,8.152380952380952,3.8095238095238093],[15.27027027027027,0.5675675675675677,1.1891891891891893,0.7837837837837839,5.405405405405406],[0.0,0.0,14.18018018018018,22.37837837837838,1.8018018018018018],[0.0,0.0,73.0,110.0,0.0],[null,null,null,null,null],[null,null,null,null,null],[null,null,null,null,null],[null,null,null,null,null],[null,null,null,null,null],[null,null,null,null,null],[1.5000000000000002,2.0964912280701755,1.6140350877192984,0.5789473684210527,0.0],[0.0,11.4,0.0,0.0,0.9],[null,null,null,null,null],[0.0,0.0,13.789473684210527,7.473684210526315,0.0],[0.0,0.0,13.789473684210527,7.473684210526315,0.0],[0.0,0.0,12.444444444444443,5.333333333333333,0.0],[0.10714285714285714,1.0714285714285714,2.2142857142857144,25.357142857142858,3.357142857142857],[3.6206896551724137,7.293103448275862,1.3448275862068966,0.5172413793103449,0.0],[9.195652173913045,7.043478260869565,4.108695652173913,0.30434782608695654,6.08695652173913],[1.7692307692307692,1.7692307692307692,1.0,2.076923076923077,0.0],[31.907692307692304,18.52307692307692,0.923076923076923,0.8307692307692307,0.0],[1.6814159292035398,0.672566371681416,3.8053097345132745,8.053097345132743,0.0],[0.6178861788617886,3.3577235772357725,1.2357723577235773,0.6178861788617886,0.0],[4.950819672131148,0.09836065573770492,10.852459016393444,9.344262295081968,0.0],[3.2835820895522394,1.0447761194029852,4.149253731343284,10.865671641791046,0.0],[1.329243353783231,0.5255623721881391,2.783231083844581,4.676891615541923,0.002044989775051125],[3.474654377880184,0.0,7.327188940092166,6.921658986175116,0.0],[3.5424836601307192,0.0,5.7973856209150325,3.5751633986928106,0.0],[2.2756052141527006,0.0,5.355679702048418,6.458100558659218,0.0],[6.820512820512821,0.0,15.076923076923077,6.3076923076923075,0.0],[2.1601362862010225,0.0,3.0954003407155026,8.066439522998298,0.0],[3.441860465116279,0.0,5.430232558139536,6.36046511627907,0.0],[1.8433734939759039,0.0,4.0361445783132535,6.590361445783134,0.0],[null,null,null,null,null],[1.8012820512820515,0.0,4.666666666666667,7.730769230769231,0.0],[2.1222879684418148,0.0,4.642998027613412,7.648915187376726,0.0],[1.2841530054644807,0.0,5.404371584699454,5.601092896174863,0.0],[2.8073394495412844,0.0,7.541284403669724,10.036697247706423,0.0],[2.5682656826568264,0.0,5.431734317343173,7.92619926199262,0.0],[1.3509933774834437,0.0,2.463576158940398,11.024282560706402,0.0],[2.150943396226415,0.0,6.610062893081761,4.90566037735849,0.0],[1.8203125,0.0,4.703125,8.15625,0.0],[1.7857142857142858,0.0,4.30952380952381,13.023809523809526,0.0],[1.757085020242915,0.0,4.380566801619434,8.97165991902834,0.0],[2.3560830860534123,0.0,5.519287833827893,8.33234421364985,0.0],[10.134443021766966,1.5928297055057616,0.10627400768245837,0.3956466069142125,6.043533930857874],[2.6666666666666665,2.380952380952381,0.0,0.0,8.857142857142858],[0.0,0.0,0.25723472668810293,0.3086816720257235,4.758842443729904],[null,null,null,null,null],[null,null,null,null,null],[null,null,null,null,null],[null,null,null,null,null],[null,null,null,null,null],[null,null,null,null,null],[0.47926267281105994,0.09216589861751152,13.67741935483871,30.70046082949309,3.2258064516129035],[0.7650273224043717,0.14207650273224043,23.622950819672134,103.09836065573771,3.8251366120218577],[0.7612293144208038,0.009456264775413711,29.229314420803785,43.71631205673759,3.309692671394799],[0.5986984815618223,0.18655097613882862,14.10412147505423,6.164859002169198,8.24295010845987],[null,null,null,null,null],[null,null,null,null,null],[0.5934065934065935,1.7692307692307694,1.3846153846153848,4.0769230769230775,2.087912087912088],[null,null,null,null,null],[null,null,null,null,null],[0.16846241602230952,1.055773862339967,0.8805932310812523,0.4692609963239955,0.46773989098745083],[0.0,0.0,4.666666666666666,29.999999999999996,0.6666666666666666],[null,null,null,null,null],[5.142857142857143,0.28571428571428575,1.8571428571428574,18.714285714285715,1.142857142857143],[2.0,0.0,0.0,13.999999999999998,4.0],[1.0,1.0,1.0,1.0,1.0],[1.0,0.0,2.0,2.0,1.0],[null,null,null,null,null],[2.857142857142857,0.2142857142857143,3.2142857142857144,15.142857142857144,1.0],[4.663563829787234,0.46276595744680854,2.893617021276596,13.081117021276597,null],[5.358436606291706,0.14084842707340323,1.376787416587226,13.358436606291706,null],[0.5864033488610861,0.3052379391789254,1.5752378928090487,2.9971958270766774,null],[1.0,0.31428571428571433,2.2392857142857143,31.35357142857143,null],[2.7568885651209216,0.15315831326775176,1.0,10.056921374432093,null]],\"type\":\"heatmap\",\"xaxis\":\"x\",\"yaxis\":\"y\",\"hovertemplate\":\"Food product: %{x}<br>y: %{y}<br>color: %{z}<extra></extra>\"}],                        {\"template\":{\"data\":{\"histogram2dcontour\":[{\"type\":\"histogram2dcontour\",\"colorbar\":{\"outlinewidth\":0,\"ticks\":\"\"},\"colorscale\":[[0.0,\"#0d0887\"],[0.1111111111111111,\"#46039f\"],[0.2222222222222222,\"#7201a8\"],[0.3333333333333333,\"#9c179e\"],[0.4444444444444444,\"#bd3786\"],[0.5555555555555556,\"#d8576b\"],[0.6666666666666666,\"#ed7953\"],[0.7777777777777778,\"#fb9f3a\"],[0.8888888888888888,\"#fdca26\"],[1.0,\"#f0f921\"]]}],\"choropleth\":[{\"type\":\"choropleth\",\"colorbar\":{\"outlinewidth\":0,\"ticks\":\"\"}}],\"histogram2d\":[{\"type\":\"histogram2d\",\"colorbar\":{\"outlinewidth\":0,\"ticks\":\"\"},\"colorscale\":[[0.0,\"#0d0887\"],[0.1111111111111111,\"#46039f\"],[0.2222222222222222,\"#7201a8\"],[0.3333333333333333,\"#9c179e\"],[0.4444444444444444,\"#bd3786\"],[0.5555555555555556,\"#d8576b\"],[0.6666666666666666,\"#ed7953\"],[0.7777777777777778,\"#fb9f3a\"],[0.8888888888888888,\"#fdca26\"],[1.0,\"#f0f921\"]]}],\"heatmap\":[{\"type\":\"heatmap\",\"colorbar\":{\"outlinewidth\":0,\"ticks\":\"\"},\"colorscale\":[[0.0,\"#0d0887\"],[0.1111111111111111,\"#46039f\"],[0.2222222222222222,\"#7201a8\"],[0.3333333333333333,\"#9c179e\"],[0.4444444444444444,\"#bd3786\"],[0.5555555555555556,\"#d8576b\"],[0.6666666666666666,\"#ed7953\"],[0.7777777777777778,\"#fb9f3a\"],[0.8888888888888888,\"#fdca26\"],[1.0,\"#f0f921\"]]}],\"heatmapgl\":[{\"type\":\"heatmapgl\",\"colorbar\":{\"outlinewidth\":0,\"ticks\":\"\"},\"colorscale\":[[0.0,\"#0d0887\"],[0.1111111111111111,\"#46039f\"],[0.2222222222222222,\"#7201a8\"],[0.3333333333333333,\"#9c179e\"],[0.4444444444444444,\"#bd3786\"],[0.5555555555555556,\"#d8576b\"],[0.6666666666666666,\"#ed7953\"],[0.7777777777777778,\"#fb9f3a\"],[0.8888888888888888,\"#fdca26\"],[1.0,\"#f0f921\"]]}],\"contourcarpet\":[{\"type\":\"contourcarpet\",\"colorbar\":{\"outlinewidth\":0,\"ticks\":\"\"}}],\"contour\":[{\"type\":\"contour\",\"colorbar\":{\"outlinewidth\":0,\"ticks\":\"\"},\"colorscale\":[[0.0,\"#0d0887\"],[0.1111111111111111,\"#46039f\"],[0.2222222222222222,\"#7201a8\"],[0.3333333333333333,\"#9c179e\"],[0.4444444444444444,\"#bd3786\"],[0.5555555555555556,\"#d8576b\"],[0.6666666666666666,\"#ed7953\"],[0.7777777777777778,\"#fb9f3a\"],[0.8888888888888888,\"#fdca26\"],[1.0,\"#f0f921\"]]}],\"surface\":[{\"type\":\"surface\",\"colorbar\":{\"outlinewidth\":0,\"ticks\":\"\"},\"colorscale\":[[0.0,\"#0d0887\"],[0.1111111111111111,\"#46039f\"],[0.2222222222222222,\"#7201a8\"],[0.3333333333333333,\"#9c179e\"],[0.4444444444444444,\"#bd3786\"],[0.5555555555555556,\"#d8576b\"],[0.6666666666666666,\"#ed7953\"],[0.7777777777777778,\"#fb9f3a\"],[0.8888888888888888,\"#fdca26\"],[1.0,\"#f0f921\"]]}],\"mesh3d\":[{\"type\":\"mesh3d\",\"colorbar\":{\"outlinewidth\":0,\"ticks\":\"\"}}],\"scatter\":[{\"fillpattern\":{\"fillmode\":\"overlay\",\"size\":10,\"solidity\":0.2},\"type\":\"scatter\"}],\"parcoords\":[{\"type\":\"parcoords\",\"line\":{\"colorbar\":{\"outlinewidth\":0,\"ticks\":\"\"}}}],\"scatterpolargl\":[{\"type\":\"scatterpolargl\",\"marker\":{\"colorbar\":{\"outlinewidth\":0,\"ticks\":\"\"}}}],\"bar\":[{\"error_x\":{\"color\":\"#2a3f5f\"},\"error_y\":{\"color\":\"#2a3f5f\"},\"marker\":{\"line\":{\"color\":\"#E5ECF6\",\"width\":0.5},\"pattern\":{\"fillmode\":\"overlay\",\"size\":10,\"solidity\":0.2}},\"type\":\"bar\"}],\"scattergeo\":[{\"type\":\"scattergeo\",\"marker\":{\"colorbar\":{\"outlinewidth\":0,\"ticks\":\"\"}}}],\"scatterpolar\":[{\"type\":\"scatterpolar\",\"marker\":{\"colorbar\":{\"outlinewidth\":0,\"ticks\":\"\"}}}],\"histogram\":[{\"marker\":{\"pattern\":{\"fillmode\":\"overlay\",\"size\":10,\"solidity\":0.2}},\"type\":\"histogram\"}],\"scattergl\":[{\"type\":\"scattergl\",\"marker\":{\"colorbar\":{\"outlinewidth\":0,\"ticks\":\"\"}}}],\"scatter3d\":[{\"type\":\"scatter3d\",\"line\":{\"colorbar\":{\"outlinewidth\":0,\"ticks\":\"\"}},\"marker\":{\"colorbar\":{\"outlinewidth\":0,\"ticks\":\"\"}}}],\"scattermapbox\":[{\"type\":\"scattermapbox\",\"marker\":{\"colorbar\":{\"outlinewidth\":0,\"ticks\":\"\"}}}],\"scatterternary\":[{\"type\":\"scatterternary\",\"marker\":{\"colorbar\":{\"outlinewidth\":0,\"ticks\":\"\"}}}],\"scattercarpet\":[{\"type\":\"scattercarpet\",\"marker\":{\"colorbar\":{\"outlinewidth\":0,\"ticks\":\"\"}}}],\"carpet\":[{\"aaxis\":{\"endlinecolor\":\"#2a3f5f\",\"gridcolor\":\"white\",\"linecolor\":\"white\",\"minorgridcolor\":\"white\",\"startlinecolor\":\"#2a3f5f\"},\"baxis\":{\"endlinecolor\":\"#2a3f5f\",\"gridcolor\":\"white\",\"linecolor\":\"white\",\"minorgridcolor\":\"white\",\"startlinecolor\":\"#2a3f5f\"},\"type\":\"carpet\"}],\"table\":[{\"cells\":{\"fill\":{\"color\":\"#EBF0F8\"},\"line\":{\"color\":\"white\"}},\"header\":{\"fill\":{\"color\":\"#C8D4E3\"},\"line\":{\"color\":\"white\"}},\"type\":\"table\"}],\"barpolar\":[{\"marker\":{\"line\":{\"color\":\"#E5ECF6\",\"width\":0.5},\"pattern\":{\"fillmode\":\"overlay\",\"size\":10,\"solidity\":0.2}},\"type\":\"barpolar\"}],\"pie\":[{\"automargin\":true,\"type\":\"pie\"}]},\"layout\":{\"autotypenumbers\":\"strict\",\"colorway\":[\"#636efa\",\"#EF553B\",\"#00cc96\",\"#ab63fa\",\"#FFA15A\",\"#19d3f3\",\"#FF6692\",\"#B6E880\",\"#FF97FF\",\"#FECB52\"],\"font\":{\"color\":\"#2a3f5f\"},\"hovermode\":\"closest\",\"hoverlabel\":{\"align\":\"left\"},\"paper_bgcolor\":\"white\",\"plot_bgcolor\":\"#E5ECF6\",\"polar\":{\"bgcolor\":\"#E5ECF6\",\"angularaxis\":{\"gridcolor\":\"white\",\"linecolor\":\"white\",\"ticks\":\"\"},\"radialaxis\":{\"gridcolor\":\"white\",\"linecolor\":\"white\",\"ticks\":\"\"}},\"ternary\":{\"bgcolor\":\"#E5ECF6\",\"aaxis\":{\"gridcolor\":\"white\",\"linecolor\":\"white\",\"ticks\":\"\"},\"baxis\":{\"gridcolor\":\"white\",\"linecolor\":\"white\",\"ticks\":\"\"},\"caxis\":{\"gridcolor\":\"white\",\"linecolor\":\"white\",\"ticks\":\"\"}},\"coloraxis\":{\"colorbar\":{\"outlinewidth\":0,\"ticks\":\"\"}},\"colorscale\":{\"sequential\":[[0.0,\"#0d0887\"],[0.1111111111111111,\"#46039f\"],[0.2222222222222222,\"#7201a8\"],[0.3333333333333333,\"#9c179e\"],[0.4444444444444444,\"#bd3786\"],[0.5555555555555556,\"#d8576b\"],[0.6666666666666666,\"#ed7953\"],[0.7777777777777778,\"#fb9f3a\"],[0.8888888888888888,\"#fdca26\"],[1.0,\"#f0f921\"]],\"sequentialminus\":[[0.0,\"#0d0887\"],[0.1111111111111111,\"#46039f\"],[0.2222222222222222,\"#7201a8\"],[0.3333333333333333,\"#9c179e\"],[0.4444444444444444,\"#bd3786\"],[0.5555555555555556,\"#d8576b\"],[0.6666666666666666,\"#ed7953\"],[0.7777777777777778,\"#fb9f3a\"],[0.8888888888888888,\"#fdca26\"],[1.0,\"#f0f921\"]],\"diverging\":[[0,\"#8e0152\"],[0.1,\"#c51b7d\"],[0.2,\"#de77ae\"],[0.3,\"#f1b6da\"],[0.4,\"#fde0ef\"],[0.5,\"#f7f7f7\"],[0.6,\"#e6f5d0\"],[0.7,\"#b8e186\"],[0.8,\"#7fbc41\"],[0.9,\"#4d9221\"],[1,\"#276419\"]]},\"xaxis\":{\"gridcolor\":\"white\",\"linecolor\":\"white\",\"ticks\":\"\",\"title\":{\"standoff\":15},\"zerolinecolor\":\"white\",\"automargin\":true,\"zerolinewidth\":2},\"yaxis\":{\"gridcolor\":\"white\",\"linecolor\":\"white\",\"ticks\":\"\",\"title\":{\"standoff\":15},\"zerolinecolor\":\"white\",\"automargin\":true,\"zerolinewidth\":2},\"scene\":{\"xaxis\":{\"backgroundcolor\":\"#E5ECF6\",\"gridcolor\":\"white\",\"linecolor\":\"white\",\"showbackground\":true,\"ticks\":\"\",\"zerolinecolor\":\"white\",\"gridwidth\":2},\"yaxis\":{\"backgroundcolor\":\"#E5ECF6\",\"gridcolor\":\"white\",\"linecolor\":\"white\",\"showbackground\":true,\"ticks\":\"\",\"zerolinecolor\":\"white\",\"gridwidth\":2},\"zaxis\":{\"backgroundcolor\":\"#E5ECF6\",\"gridcolor\":\"white\",\"linecolor\":\"white\",\"showbackground\":true,\"ticks\":\"\",\"zerolinecolor\":\"white\",\"gridwidth\":2}},\"shapedefaults\":{\"line\":{\"color\":\"#2a3f5f\"}},\"annotationdefaults\":{\"arrowcolor\":\"#2a3f5f\",\"arrowhead\":0,\"arrowwidth\":1},\"geo\":{\"bgcolor\":\"white\",\"landcolor\":\"#E5ECF6\",\"subunitcolor\":\"white\",\"showland\":true,\"showlakes\":true,\"lakecolor\":\"white\"},\"title\":{\"x\":0.05},\"mapbox\":{\"style\":\"light\"}}},\"xaxis\":{\"anchor\":\"y\",\"domain\":[0.0,1.0],\"title\":{\"text\":\"Food product\"},\"side\":\"top\"},\"yaxis\":{\"anchor\":\"x\",\"domain\":[0.0,1.0],\"autorange\":\"reversed\"},\"coloraxis\":{\"colorscale\":[[0.0,\"rgb(44, 26, 76)\"],[0.1,\"rgb(40, 59, 110)\"],[0.2,\"rgb(42, 94, 151)\"],[0.3,\"rgb(68, 117, 193)\"],[0.4,\"rgb(96, 137, 190)\"],[0.5,\"rgb(125, 156, 181)\"],[0.6,\"rgb(155, 175, 172)\"],[0.7,\"rgb(186, 196, 163)\"],[0.8,\"rgb(215, 217, 161)\"],[0.9,\"rgb(237, 236, 206)\"],[1.0,\"rgb(255, 255, 255)\"]]},\"margin\":{\"t\":60},\"height\":1600,\"width\":800},                        {\"responsive\": true}                    ).then(function(){\n",
       "                            \n",
       "var gd = document.getElementById('f67dddcb-b27e-44b2-a86b-d290af7d4d63');\n",
       "var x = new MutationObserver(function (mutations, observer) {{\n",
       "        var display = window.getComputedStyle(gd).display;\n",
       "        if (!display || display === 'none') {{\n",
       "            console.log([gd, 'removed!']);\n",
       "            Plotly.purge(gd);\n",
       "            observer.disconnect();\n",
       "        }}\n",
       "}});\n",
       "\n",
       "// Listen for the removal of the full notebook cells\n",
       "var notebookContainer = gd.closest('#notebook-container');\n",
       "if (notebookContainer) {{\n",
       "    x.observe(notebookContainer, {childList: true});\n",
       "}}\n",
       "\n",
       "// Listen for the clearing of the current output cell\n",
       "var outputEl = gd.closest('.output');\n",
       "if (outputEl) {{\n",
       "    x.observe(outputEl, {childList: true});\n",
       "}}\n",
       "\n",
       "                        })                };                });            </script>        </div>"
      ]
     },
     "metadata": {},
     "output_type": "display_data"
    },
    {
     "data": {
      "text/plain": [
       "<Figure size 2000x2000 with 0 Axes>"
      ]
     },
     "metadata": {},
     "output_type": "display_data"
    }
   ],
   "source": [
    "import plotly\n",
    "plt.figure(figsize=(20, 20))\n",
    "fig = px.imshow(df.T, text_auto=False, aspect=\"auto\", width=800,height=1600,\n",
    "    color_continuous_scale=davos\n",
    "               )\n",
    "fig.update_xaxes(side = \"top\")\n",
    "fig.show()"
   ]
  },
  {
   "cell_type": "code",
   "execution_count": 48,
   "id": "f3440b61",
   "metadata": {},
   "outputs": [
    {
     "data": {
      "application/vnd.plotly.v1+json": {
       "config": {
        "plotlyServerURL": "https://plot.ly"
       },
       "data": [
        {
         "coloraxis": "coloraxis",
         "hovertemplate": "Food product: %{x}<br>y: %{y}<br>color: %{z}<extra></extra>",
         "name": "0",
         "texttemplate": "%{z}",
         "type": "heatmap",
         "x": [
          "Rice",
          "Potatoes",
          "Eggs",
          "Cheese",
          "Wheat & Rye (Bread)"
         ],
         "xaxis": "x",
         "y": [
          "calories [kcal]",
          "total_fat [g]",
          "saturated_fat [g]",
          "cholesterol [mg]",
          "sodium [mg]",
          "choline [mg]",
          "folate [mcg]",
          "folic_acid [mcg]",
          "niacin [mg]",
          "pant_acid [mg]",
          "riboflavin [mg]",
          "thiamin [mg]",
          "vitamin_a [IU]",
          "vitamin_a_rae [mcg]",
          "carotene_alpha [mcg]",
          "carotene_beta [mcg]",
          "cryxaanthin [mcg]",
          "lut_zea [mcg]",
          "lucopene [nan]",
          "vitamin_b12 [mcg]",
          "vitamin_b6 [mg]",
          "vitamin_c [mg]",
          "vitamin_d [IU]",
          "vitamin_e [mg]",
          "tocoph [mg]",
          "vitamin_k [mcg]",
          "calcium [mg]",
          "copper [mg]",
          "irom [mg]",
          "magnesium [mg]",
          "manganese [mg]",
          "phosphorous [mg]",
          "potassium [mg]",
          "selenium [mcg]",
          "zink [mg]",
          "protein [g]",
          "alanine [g]",
          "arginine [g]",
          "aspar [g]",
          "cystine [g]",
          "glutam [g]",
          "glycine [g]",
          "histidine [g]",
          "hy_proline [nan]",
          "isoleucine [g]",
          "leucine [g]",
          "lysine [g]",
          "methionine [g]",
          "ph_alanine [g]",
          "proline [g]",
          "serine [g]",
          "threonine [g]",
          "tryptophan [g]",
          "tyrosine [g]",
          "valine [g]",
          "carbhy [g]",
          "fiber [g]",
          "sugars [g]",
          "fructose [g]",
          "galactose [g]",
          "glucose [g]",
          "lactose [g]",
          "maltose [g]",
          "sucrose [g]",
          "fat [g]",
          "sat_fat_acids [g]",
          "mon_fat_acids [g]",
          "pol_fat_acids [g]",
          "trans_fat_acids [mg]",
          "alcohol [g]",
          "ash [g]",
          "caffeine [mg]",
          "theobromine [mg]",
          "water [g]",
          "Land use change",
          "Animal Feed",
          "Farm",
          "Processing",
          "Transport",
          "Packging",
          "Retail",
          "Total_emissions",
          "EuEmkg",
          "Waterkg",
          "GreGaskcal",
          "Lndusekg",
          "Scarkg"
         ],
         "yaxis": "y",
         "z": [
          [
           4.114942528735632,
           0.6666666666666666,
           2.2528735632183907,
           4.64367816091954,
           3.0229885057471266
          ],
          [
           0.45454545454545453,
           0.09090909090909091,
           13.636363636363635,
           29.999999999999996,
           3.1818181818181817
          ],
          [
           0.14285714285714288,
           null,
           6.142857142857143,
           27.142857142857146,
           1
          ],
          [
           null,
           null,
           null,
           null,
           null
          ],
          [
           0.04878048780487805,
           0.4878048780487805,
           10.097560975609756,
           31.853658536585368,
           12.097560975609756
          ],
          [
           0,
           0,
           67.46808510638299,
           3.5106382978723403,
           0
          ],
          [
           14.4375,
           1.0625,
           3.1875,
           1.6875,
           0
          ],
          [
           null,
           null,
           null,
           null,
           null
          ],
          [
           7.43089430894309,
           1.8663053297199637,
           0.14814814814814817,
           0.1065943992773261,
           0.903342366757001
          ],
          [
           4.131621187800963,
           0.9695024077046549,
           5.329052969502407,
           1.3162118780096308,
           0
          ],
          [
           0.9142857142857143,
           0.7238095238095237,
           9.428571428571427,
           8.152380952380952,
           3.8095238095238093
          ],
          [
           15.27027027027027,
           0.5675675675675677,
           1.1891891891891893,
           0.7837837837837839,
           5.405405405405406
          ],
          [
           0,
           0,
           14.18018018018018,
           22.37837837837838,
           1.8018018018018018
          ],
          [
           0,
           0,
           73,
           110,
           0
          ],
          [
           null,
           null,
           null,
           null,
           null
          ],
          [
           null,
           null,
           null,
           null,
           null
          ],
          [
           null,
           null,
           null,
           null,
           null
          ],
          [
           null,
           null,
           null,
           null,
           null
          ],
          [
           null,
           null,
           null,
           null,
           null
          ],
          [
           null,
           null,
           null,
           null,
           null
          ],
          [
           1.5000000000000002,
           2.0964912280701755,
           1.6140350877192984,
           0.5789473684210527,
           0
          ],
          [
           0,
           11.4,
           0,
           0,
           0.9
          ],
          [
           null,
           null,
           null,
           null,
           null
          ],
          [
           0,
           0,
           13.789473684210527,
           7.473684210526315,
           0
          ],
          [
           0,
           0,
           13.789473684210527,
           7.473684210526315,
           0
          ],
          [
           0,
           0,
           12.444444444444443,
           5.333333333333333,
           0
          ],
          [
           0.10714285714285714,
           1.0714285714285714,
           2.2142857142857144,
           25.357142857142858,
           3.357142857142857
          ],
          [
           3.6206896551724137,
           7.293103448275862,
           1.3448275862068966,
           0.5172413793103449,
           0
          ],
          [
           9.195652173913045,
           7.043478260869565,
           4.108695652173913,
           0.30434782608695654,
           6.08695652173913
          ],
          [
           1.7692307692307692,
           1.7692307692307692,
           1,
           2.076923076923077,
           0
          ],
          [
           31.907692307692304,
           18.52307692307692,
           0.923076923076923,
           0.8307692307692307,
           0
          ],
          [
           1.6814159292035398,
           0.672566371681416,
           3.8053097345132745,
           8.053097345132743,
           0
          ],
          [
           0.6178861788617886,
           3.3577235772357725,
           1.2357723577235773,
           0.6178861788617886,
           0
          ],
          [
           4.950819672131148,
           0.09836065573770492,
           10.852459016393444,
           9.344262295081968,
           0
          ],
          [
           3.2835820895522394,
           1.0447761194029852,
           4.149253731343284,
           10.865671641791046,
           0
          ],
          [
           1.329243353783231,
           0.5255623721881391,
           2.783231083844581,
           4.676891615541923,
           0.002044989775051125
          ],
          [
           3.474654377880184,
           0,
           7.327188940092166,
           6.921658986175116,
           0
          ],
          [
           3.5424836601307192,
           0,
           5.7973856209150325,
           3.5751633986928106,
           0
          ],
          [
           2.2756052141527006,
           0,
           5.355679702048418,
           6.458100558659218,
           0
          ],
          [
           6.820512820512821,
           0,
           15.076923076923077,
           6.3076923076923075,
           0
          ],
          [
           2.1601362862010225,
           0,
           3.0954003407155026,
           8.066439522998298,
           0
          ],
          [
           3.441860465116279,
           0,
           5.430232558139536,
           6.36046511627907,
           0
          ],
          [
           1.8433734939759039,
           0,
           4.0361445783132535,
           6.590361445783134,
           0
          ],
          [
           null,
           null,
           null,
           null,
           null
          ],
          [
           1.8012820512820515,
           0,
           4.666666666666667,
           7.730769230769231,
           0
          ],
          [
           2.1222879684418148,
           0,
           4.642998027613412,
           7.648915187376726,
           0
          ],
          [
           1.2841530054644807,
           0,
           5.404371584699454,
           5.601092896174863,
           0
          ],
          [
           2.8073394495412844,
           0,
           7.541284403669724,
           10.036697247706423,
           0
          ],
          [
           2.5682656826568264,
           0,
           5.431734317343173,
           7.92619926199262,
           0
          ],
          [
           1.3509933774834437,
           0,
           2.463576158940398,
           11.024282560706402,
           0
          ],
          [
           2.150943396226415,
           0,
           6.610062893081761,
           4.90566037735849,
           0
          ],
          [
           1.8203125,
           0,
           4.703125,
           8.15625,
           0
          ],
          [
           1.7857142857142858,
           0,
           4.30952380952381,
           13.023809523809526,
           0
          ],
          [
           1.757085020242915,
           0,
           4.380566801619434,
           8.97165991902834,
           0
          ],
          [
           2.3560830860534123,
           0,
           5.519287833827893,
           8.33234421364985,
           0
          ],
          [
           10.134443021766966,
           1.5928297055057616,
           0.10627400768245837,
           0.3956466069142125,
           6.043533930857874
          ],
          [
           2.6666666666666665,
           2.380952380952381,
           0,
           0,
           8.857142857142858
          ],
          [
           0,
           0,
           0.25723472668810293,
           0.3086816720257235,
           4.758842443729904
          ],
          [
           null,
           null,
           null,
           null,
           null
          ],
          [
           null,
           null,
           null,
           null,
           null
          ],
          [
           null,
           null,
           null,
           null,
           null
          ],
          [
           null,
           null,
           null,
           null,
           null
          ],
          [
           null,
           null,
           null,
           null,
           null
          ],
          [
           null,
           null,
           null,
           null,
           null
          ],
          [
           0.47926267281105994,
           0.09216589861751152,
           13.67741935483871,
           30.70046082949309,
           3.2258064516129035
          ],
          [
           0.7650273224043717,
           0.14207650273224043,
           23.622950819672134,
           103.09836065573771,
           3.8251366120218577
          ],
          [
           0.7612293144208038,
           0.009456264775413711,
           29.229314420803785,
           43.71631205673759,
           3.309692671394799
          ],
          [
           0.5986984815618223,
           0.18655097613882862,
           14.10412147505423,
           6.164859002169198,
           8.24295010845987
          ],
          [
           null,
           null,
           null,
           null,
           null
          ],
          [
           null,
           null,
           null,
           null,
           null
          ],
          [
           0.5934065934065935,
           1.7692307692307694,
           1.3846153846153848,
           4.0769230769230775,
           2.087912087912088
          ],
          [
           null,
           null,
           null,
           null,
           null
          ],
          [
           null,
           null,
           null,
           null,
           null
          ],
          [
           0.16846241602230952,
           1.055773862339967,
           0.8805932310812523,
           0.4692609963239955,
           0.46773989098745083
          ],
          [
           0,
           0,
           4.666666666666666,
           29.999999999999996,
           0.6666666666666666
          ],
          [
           null,
           null,
           null,
           null,
           null
          ],
          [
           5.142857142857143,
           0.28571428571428575,
           1.8571428571428574,
           18.714285714285715,
           1.142857142857143
          ],
          [
           2,
           0,
           0,
           13.999999999999998,
           4
          ],
          [
           1,
           1,
           1,
           1,
           1
          ],
          [
           1,
           0,
           2,
           2,
           1
          ],
          [
           null,
           null,
           null,
           null,
           null
          ],
          [
           2.857142857142857,
           0.2142857142857143,
           3.2142857142857144,
           15.142857142857144,
           1
          ],
          [
           4.663563829787234,
           0.46276595744680854,
           2.893617021276596,
           13.081117021276597,
           null
          ],
          [
           5.358436606291706,
           0.14084842707340323,
           1.376787416587226,
           13.358436606291706,
           null
          ],
          [
           0.5864033488610861,
           0.3052379391789254,
           1.5752378928090487,
           2.9971958270766774,
           null
          ],
          [
           1,
           0.31428571428571433,
           2.2392857142857143,
           31.35357142857143,
           null
          ],
          [
           2.7568885651209216,
           0.15315831326775176,
           1,
           10.056921374432093,
           null
          ]
         ]
        }
       ],
       "layout": {
        "coloraxis": {
         "colorscale": [
          [
           0,
           "rgb(44, 26, 76)"
          ],
          [
           0.1,
           "rgb(40, 59, 110)"
          ],
          [
           0.2,
           "rgb(42, 94, 151)"
          ],
          [
           0.3,
           "rgb(68, 117, 193)"
          ],
          [
           0.4,
           "rgb(96, 137, 190)"
          ],
          [
           0.5,
           "rgb(125, 156, 181)"
          ],
          [
           0.6,
           "rgb(155, 175, 172)"
          ],
          [
           0.7,
           "rgb(186, 196, 163)"
          ],
          [
           0.8,
           "rgb(215, 217, 161)"
          ],
          [
           0.9,
           "rgb(237, 236, 206)"
          ],
          [
           1,
           "rgb(255, 255, 255)"
          ]
         ]
        },
        "height": 1600,
        "margin": {
         "t": 60
        },
        "template": {
         "data": {
          "bar": [
           {
            "error_x": {
             "color": "#2a3f5f"
            },
            "error_y": {
             "color": "#2a3f5f"
            },
            "marker": {
             "line": {
              "color": "#E5ECF6",
              "width": 0.5
             },
             "pattern": {
              "fillmode": "overlay",
              "size": 10,
              "solidity": 0.2
             }
            },
            "type": "bar"
           }
          ],
          "barpolar": [
           {
            "marker": {
             "line": {
              "color": "#E5ECF6",
              "width": 0.5
             },
             "pattern": {
              "fillmode": "overlay",
              "size": 10,
              "solidity": 0.2
             }
            },
            "type": "barpolar"
           }
          ],
          "carpet": [
           {
            "aaxis": {
             "endlinecolor": "#2a3f5f",
             "gridcolor": "white",
             "linecolor": "white",
             "minorgridcolor": "white",
             "startlinecolor": "#2a3f5f"
            },
            "baxis": {
             "endlinecolor": "#2a3f5f",
             "gridcolor": "white",
             "linecolor": "white",
             "minorgridcolor": "white",
             "startlinecolor": "#2a3f5f"
            },
            "type": "carpet"
           }
          ],
          "choropleth": [
           {
            "colorbar": {
             "outlinewidth": 0,
             "ticks": ""
            },
            "type": "choropleth"
           }
          ],
          "contour": [
           {
            "colorbar": {
             "outlinewidth": 0,
             "ticks": ""
            },
            "colorscale": [
             [
              0,
              "#0d0887"
             ],
             [
              0.1111111111111111,
              "#46039f"
             ],
             [
              0.2222222222222222,
              "#7201a8"
             ],
             [
              0.3333333333333333,
              "#9c179e"
             ],
             [
              0.4444444444444444,
              "#bd3786"
             ],
             [
              0.5555555555555556,
              "#d8576b"
             ],
             [
              0.6666666666666666,
              "#ed7953"
             ],
             [
              0.7777777777777778,
              "#fb9f3a"
             ],
             [
              0.8888888888888888,
              "#fdca26"
             ],
             [
              1,
              "#f0f921"
             ]
            ],
            "type": "contour"
           }
          ],
          "contourcarpet": [
           {
            "colorbar": {
             "outlinewidth": 0,
             "ticks": ""
            },
            "type": "contourcarpet"
           }
          ],
          "heatmap": [
           {
            "colorbar": {
             "outlinewidth": 0,
             "ticks": ""
            },
            "colorscale": [
             [
              0,
              "#0d0887"
             ],
             [
              0.1111111111111111,
              "#46039f"
             ],
             [
              0.2222222222222222,
              "#7201a8"
             ],
             [
              0.3333333333333333,
              "#9c179e"
             ],
             [
              0.4444444444444444,
              "#bd3786"
             ],
             [
              0.5555555555555556,
              "#d8576b"
             ],
             [
              0.6666666666666666,
              "#ed7953"
             ],
             [
              0.7777777777777778,
              "#fb9f3a"
             ],
             [
              0.8888888888888888,
              "#fdca26"
             ],
             [
              1,
              "#f0f921"
             ]
            ],
            "type": "heatmap"
           }
          ],
          "heatmapgl": [
           {
            "colorbar": {
             "outlinewidth": 0,
             "ticks": ""
            },
            "colorscale": [
             [
              0,
              "#0d0887"
             ],
             [
              0.1111111111111111,
              "#46039f"
             ],
             [
              0.2222222222222222,
              "#7201a8"
             ],
             [
              0.3333333333333333,
              "#9c179e"
             ],
             [
              0.4444444444444444,
              "#bd3786"
             ],
             [
              0.5555555555555556,
              "#d8576b"
             ],
             [
              0.6666666666666666,
              "#ed7953"
             ],
             [
              0.7777777777777778,
              "#fb9f3a"
             ],
             [
              0.8888888888888888,
              "#fdca26"
             ],
             [
              1,
              "#f0f921"
             ]
            ],
            "type": "heatmapgl"
           }
          ],
          "histogram": [
           {
            "marker": {
             "pattern": {
              "fillmode": "overlay",
              "size": 10,
              "solidity": 0.2
             }
            },
            "type": "histogram"
           }
          ],
          "histogram2d": [
           {
            "colorbar": {
             "outlinewidth": 0,
             "ticks": ""
            },
            "colorscale": [
             [
              0,
              "#0d0887"
             ],
             [
              0.1111111111111111,
              "#46039f"
             ],
             [
              0.2222222222222222,
              "#7201a8"
             ],
             [
              0.3333333333333333,
              "#9c179e"
             ],
             [
              0.4444444444444444,
              "#bd3786"
             ],
             [
              0.5555555555555556,
              "#d8576b"
             ],
             [
              0.6666666666666666,
              "#ed7953"
             ],
             [
              0.7777777777777778,
              "#fb9f3a"
             ],
             [
              0.8888888888888888,
              "#fdca26"
             ],
             [
              1,
              "#f0f921"
             ]
            ],
            "type": "histogram2d"
           }
          ],
          "histogram2dcontour": [
           {
            "colorbar": {
             "outlinewidth": 0,
             "ticks": ""
            },
            "colorscale": [
             [
              0,
              "#0d0887"
             ],
             [
              0.1111111111111111,
              "#46039f"
             ],
             [
              0.2222222222222222,
              "#7201a8"
             ],
             [
              0.3333333333333333,
              "#9c179e"
             ],
             [
              0.4444444444444444,
              "#bd3786"
             ],
             [
              0.5555555555555556,
              "#d8576b"
             ],
             [
              0.6666666666666666,
              "#ed7953"
             ],
             [
              0.7777777777777778,
              "#fb9f3a"
             ],
             [
              0.8888888888888888,
              "#fdca26"
             ],
             [
              1,
              "#f0f921"
             ]
            ],
            "type": "histogram2dcontour"
           }
          ],
          "mesh3d": [
           {
            "colorbar": {
             "outlinewidth": 0,
             "ticks": ""
            },
            "type": "mesh3d"
           }
          ],
          "parcoords": [
           {
            "line": {
             "colorbar": {
              "outlinewidth": 0,
              "ticks": ""
             }
            },
            "type": "parcoords"
           }
          ],
          "pie": [
           {
            "automargin": true,
            "type": "pie"
           }
          ],
          "scatter": [
           {
            "fillpattern": {
             "fillmode": "overlay",
             "size": 10,
             "solidity": 0.2
            },
            "type": "scatter"
           }
          ],
          "scatter3d": [
           {
            "line": {
             "colorbar": {
              "outlinewidth": 0,
              "ticks": ""
             }
            },
            "marker": {
             "colorbar": {
              "outlinewidth": 0,
              "ticks": ""
             }
            },
            "type": "scatter3d"
           }
          ],
          "scattercarpet": [
           {
            "marker": {
             "colorbar": {
              "outlinewidth": 0,
              "ticks": ""
             }
            },
            "type": "scattercarpet"
           }
          ],
          "scattergeo": [
           {
            "marker": {
             "colorbar": {
              "outlinewidth": 0,
              "ticks": ""
             }
            },
            "type": "scattergeo"
           }
          ],
          "scattergl": [
           {
            "marker": {
             "colorbar": {
              "outlinewidth": 0,
              "ticks": ""
             }
            },
            "type": "scattergl"
           }
          ],
          "scattermapbox": [
           {
            "marker": {
             "colorbar": {
              "outlinewidth": 0,
              "ticks": ""
             }
            },
            "type": "scattermapbox"
           }
          ],
          "scatterpolar": [
           {
            "marker": {
             "colorbar": {
              "outlinewidth": 0,
              "ticks": ""
             }
            },
            "type": "scatterpolar"
           }
          ],
          "scatterpolargl": [
           {
            "marker": {
             "colorbar": {
              "outlinewidth": 0,
              "ticks": ""
             }
            },
            "type": "scatterpolargl"
           }
          ],
          "scatterternary": [
           {
            "marker": {
             "colorbar": {
              "outlinewidth": 0,
              "ticks": ""
             }
            },
            "type": "scatterternary"
           }
          ],
          "surface": [
           {
            "colorbar": {
             "outlinewidth": 0,
             "ticks": ""
            },
            "colorscale": [
             [
              0,
              "#0d0887"
             ],
             [
              0.1111111111111111,
              "#46039f"
             ],
             [
              0.2222222222222222,
              "#7201a8"
             ],
             [
              0.3333333333333333,
              "#9c179e"
             ],
             [
              0.4444444444444444,
              "#bd3786"
             ],
             [
              0.5555555555555556,
              "#d8576b"
             ],
             [
              0.6666666666666666,
              "#ed7953"
             ],
             [
              0.7777777777777778,
              "#fb9f3a"
             ],
             [
              0.8888888888888888,
              "#fdca26"
             ],
             [
              1,
              "#f0f921"
             ]
            ],
            "type": "surface"
           }
          ],
          "table": [
           {
            "cells": {
             "fill": {
              "color": "#EBF0F8"
             },
             "line": {
              "color": "white"
             }
            },
            "header": {
             "fill": {
              "color": "#C8D4E3"
             },
             "line": {
              "color": "white"
             }
            },
            "type": "table"
           }
          ]
         },
         "layout": {
          "annotationdefaults": {
           "arrowcolor": "#2a3f5f",
           "arrowhead": 0,
           "arrowwidth": 1
          },
          "autotypenumbers": "strict",
          "coloraxis": {
           "colorbar": {
            "outlinewidth": 0,
            "ticks": ""
           }
          },
          "colorscale": {
           "diverging": [
            [
             0,
             "#8e0152"
            ],
            [
             0.1,
             "#c51b7d"
            ],
            [
             0.2,
             "#de77ae"
            ],
            [
             0.3,
             "#f1b6da"
            ],
            [
             0.4,
             "#fde0ef"
            ],
            [
             0.5,
             "#f7f7f7"
            ],
            [
             0.6,
             "#e6f5d0"
            ],
            [
             0.7,
             "#b8e186"
            ],
            [
             0.8,
             "#7fbc41"
            ],
            [
             0.9,
             "#4d9221"
            ],
            [
             1,
             "#276419"
            ]
           ],
           "sequential": [
            [
             0,
             "#0d0887"
            ],
            [
             0.1111111111111111,
             "#46039f"
            ],
            [
             0.2222222222222222,
             "#7201a8"
            ],
            [
             0.3333333333333333,
             "#9c179e"
            ],
            [
             0.4444444444444444,
             "#bd3786"
            ],
            [
             0.5555555555555556,
             "#d8576b"
            ],
            [
             0.6666666666666666,
             "#ed7953"
            ],
            [
             0.7777777777777778,
             "#fb9f3a"
            ],
            [
             0.8888888888888888,
             "#fdca26"
            ],
            [
             1,
             "#f0f921"
            ]
           ],
           "sequentialminus": [
            [
             0,
             "#0d0887"
            ],
            [
             0.1111111111111111,
             "#46039f"
            ],
            [
             0.2222222222222222,
             "#7201a8"
            ],
            [
             0.3333333333333333,
             "#9c179e"
            ],
            [
             0.4444444444444444,
             "#bd3786"
            ],
            [
             0.5555555555555556,
             "#d8576b"
            ],
            [
             0.6666666666666666,
             "#ed7953"
            ],
            [
             0.7777777777777778,
             "#fb9f3a"
            ],
            [
             0.8888888888888888,
             "#fdca26"
            ],
            [
             1,
             "#f0f921"
            ]
           ]
          },
          "colorway": [
           "#636efa",
           "#EF553B",
           "#00cc96",
           "#ab63fa",
           "#FFA15A",
           "#19d3f3",
           "#FF6692",
           "#B6E880",
           "#FF97FF",
           "#FECB52"
          ],
          "font": {
           "color": "#2a3f5f"
          },
          "geo": {
           "bgcolor": "white",
           "lakecolor": "white",
           "landcolor": "#E5ECF6",
           "showlakes": true,
           "showland": true,
           "subunitcolor": "white"
          },
          "hoverlabel": {
           "align": "left"
          },
          "hovermode": "closest",
          "mapbox": {
           "style": "light"
          },
          "paper_bgcolor": "white",
          "plot_bgcolor": "#E5ECF6",
          "polar": {
           "angularaxis": {
            "gridcolor": "white",
            "linecolor": "white",
            "ticks": ""
           },
           "bgcolor": "#E5ECF6",
           "radialaxis": {
            "gridcolor": "white",
            "linecolor": "white",
            "ticks": ""
           }
          },
          "scene": {
           "xaxis": {
            "backgroundcolor": "#E5ECF6",
            "gridcolor": "white",
            "gridwidth": 2,
            "linecolor": "white",
            "showbackground": true,
            "ticks": "",
            "zerolinecolor": "white"
           },
           "yaxis": {
            "backgroundcolor": "#E5ECF6",
            "gridcolor": "white",
            "gridwidth": 2,
            "linecolor": "white",
            "showbackground": true,
            "ticks": "",
            "zerolinecolor": "white"
           },
           "zaxis": {
            "backgroundcolor": "#E5ECF6",
            "gridcolor": "white",
            "gridwidth": 2,
            "linecolor": "white",
            "showbackground": true,
            "ticks": "",
            "zerolinecolor": "white"
           }
          },
          "shapedefaults": {
           "line": {
            "color": "#2a3f5f"
           }
          },
          "ternary": {
           "aaxis": {
            "gridcolor": "white",
            "linecolor": "white",
            "ticks": ""
           },
           "baxis": {
            "gridcolor": "white",
            "linecolor": "white",
            "ticks": ""
           },
           "bgcolor": "#E5ECF6",
           "caxis": {
            "gridcolor": "white",
            "linecolor": "white",
            "ticks": ""
           }
          },
          "title": {
           "x": 0.05
          },
          "xaxis": {
           "automargin": true,
           "gridcolor": "white",
           "linecolor": "white",
           "ticks": "",
           "title": {
            "standoff": 15
           },
           "zerolinecolor": "white",
           "zerolinewidth": 2
          },
          "yaxis": {
           "automargin": true,
           "gridcolor": "white",
           "linecolor": "white",
           "ticks": "",
           "title": {
            "standoff": 15
           },
           "zerolinecolor": "white",
           "zerolinewidth": 2
          }
         }
        },
        "width": 800,
        "xaxis": {
         "anchor": "y",
         "domain": [
          0,
          1
         ],
         "side": "top",
         "title": {
          "text": "Food product"
         }
        },
        "yaxis": {
         "anchor": "x",
         "autorange": "reversed",
         "domain": [
          0,
          1
         ]
        }
       }
      },
      "text/html": [
       "<div>                            <div id=\"a678fba5-7c81-4d9f-b0a0-89c020925d4d\" class=\"plotly-graph-div\" style=\"height:1600px; width:800px;\"></div>            <script type=\"text/javascript\">                require([\"plotly\"], function(Plotly) {                    window.PLOTLYENV=window.PLOTLYENV || {};                                    if (document.getElementById(\"a678fba5-7c81-4d9f-b0a0-89c020925d4d\")) {                    Plotly.newPlot(                        \"a678fba5-7c81-4d9f-b0a0-89c020925d4d\",                        [{\"coloraxis\":\"coloraxis\",\"name\":\"0\",\"texttemplate\":\"%{z}\",\"x\":[\"Rice\",\"Potatoes\",\"Eggs\",\"Cheese\",\"Wheat & Rye (Bread)\"],\"y\":[\"calories [kcal]\",\"total_fat [g]\",\"saturated_fat [g]\",\"cholesterol [mg]\",\"sodium [mg]\",\"choline [mg]\",\"folate [mcg]\",\"folic_acid [mcg]\",\"niacin [mg]\",\"pant_acid [mg]\",\"riboflavin [mg]\",\"thiamin [mg]\",\"vitamin_a [IU]\",\"vitamin_a_rae [mcg]\",\"carotene_alpha [mcg]\",\"carotene_beta [mcg]\",\"cryxaanthin [mcg]\",\"lut_zea [mcg]\",\"lucopene [nan]\",\"vitamin_b12 [mcg]\",\"vitamin_b6 [mg]\",\"vitamin_c [mg]\",\"vitamin_d [IU]\",\"vitamin_e [mg]\",\"tocoph [mg]\",\"vitamin_k [mcg]\",\"calcium [mg]\",\"copper [mg]\",\"irom [mg]\",\"magnesium [mg]\",\"manganese [mg]\",\"phosphorous [mg]\",\"potassium [mg]\",\"selenium [mcg]\",\"zink [mg]\",\"protein [g]\",\"alanine [g]\",\"arginine [g]\",\"aspar [g]\",\"cystine [g]\",\"glutam [g]\",\"glycine [g]\",\"histidine [g]\",\"hy_proline [nan]\",\"isoleucine [g]\",\"leucine [g]\",\"lysine [g]\",\"methionine [g]\",\"ph_alanine [g]\",\"proline [g]\",\"serine [g]\",\"threonine [g]\",\"tryptophan [g]\",\"tyrosine [g]\",\"valine [g]\",\"carbhy [g]\",\"fiber [g]\",\"sugars [g]\",\"fructose [g]\",\"galactose [g]\",\"glucose [g]\",\"lactose [g]\",\"maltose [g]\",\"sucrose [g]\",\"fat [g]\",\"sat_fat_acids [g]\",\"mon_fat_acids [g]\",\"pol_fat_acids [g]\",\"trans_fat_acids [mg]\",\"alcohol [g]\",\"ash [g]\",\"caffeine [mg]\",\"theobromine [mg]\",\"water [g]\",\"Land use change\",\"Animal Feed\",\"Farm\",\"Processing\",\"Transport\",\"Packging\",\"Retail\",\"Total_emissions\",\"EuEmkg\",\"Waterkg\",\"GreGaskcal\",\"Lndusekg\",\"Scarkg\"],\"z\":[[4.114942528735632,0.6666666666666666,2.2528735632183907,4.64367816091954,3.0229885057471266],[0.45454545454545453,0.09090909090909091,13.636363636363635,29.999999999999996,3.1818181818181817],[0.14285714285714288,null,6.142857142857143,27.142857142857146,1.0],[null,null,null,null,null],[0.04878048780487805,0.4878048780487805,10.097560975609756,31.853658536585368,12.097560975609756],[0.0,0.0,67.46808510638299,3.5106382978723403,0.0],[14.4375,1.0625,3.1875,1.6875,0.0],[null,null,null,null,null],[7.43089430894309,1.8663053297199637,0.14814814814814817,0.1065943992773261,0.903342366757001],[4.131621187800963,0.9695024077046549,5.329052969502407,1.3162118780096308,0.0],[0.9142857142857143,0.7238095238095237,9.428571428571427,8.152380952380952,3.8095238095238093],[15.27027027027027,0.5675675675675677,1.1891891891891893,0.7837837837837839,5.405405405405406],[0.0,0.0,14.18018018018018,22.37837837837838,1.8018018018018018],[0.0,0.0,73.0,110.0,0.0],[null,null,null,null,null],[null,null,null,null,null],[null,null,null,null,null],[null,null,null,null,null],[null,null,null,null,null],[null,null,null,null,null],[1.5000000000000002,2.0964912280701755,1.6140350877192984,0.5789473684210527,0.0],[0.0,11.4,0.0,0.0,0.9],[null,null,null,null,null],[0.0,0.0,13.789473684210527,7.473684210526315,0.0],[0.0,0.0,13.789473684210527,7.473684210526315,0.0],[0.0,0.0,12.444444444444443,5.333333333333333,0.0],[0.10714285714285714,1.0714285714285714,2.2142857142857144,25.357142857142858,3.357142857142857],[3.6206896551724137,7.293103448275862,1.3448275862068966,0.5172413793103449,0.0],[9.195652173913045,7.043478260869565,4.108695652173913,0.30434782608695654,6.08695652173913],[1.7692307692307692,1.7692307692307692,1.0,2.076923076923077,0.0],[31.907692307692304,18.52307692307692,0.923076923076923,0.8307692307692307,0.0],[1.6814159292035398,0.672566371681416,3.8053097345132745,8.053097345132743,0.0],[0.6178861788617886,3.3577235772357725,1.2357723577235773,0.6178861788617886,0.0],[4.950819672131148,0.09836065573770492,10.852459016393444,9.344262295081968,0.0],[3.2835820895522394,1.0447761194029852,4.149253731343284,10.865671641791046,0.0],[1.329243353783231,0.5255623721881391,2.783231083844581,4.676891615541923,0.002044989775051125],[3.474654377880184,0.0,7.327188940092166,6.921658986175116,0.0],[3.5424836601307192,0.0,5.7973856209150325,3.5751633986928106,0.0],[2.2756052141527006,0.0,5.355679702048418,6.458100558659218,0.0],[6.820512820512821,0.0,15.076923076923077,6.3076923076923075,0.0],[2.1601362862010225,0.0,3.0954003407155026,8.066439522998298,0.0],[3.441860465116279,0.0,5.430232558139536,6.36046511627907,0.0],[1.8433734939759039,0.0,4.0361445783132535,6.590361445783134,0.0],[null,null,null,null,null],[1.8012820512820515,0.0,4.666666666666667,7.730769230769231,0.0],[2.1222879684418148,0.0,4.642998027613412,7.648915187376726,0.0],[1.2841530054644807,0.0,5.404371584699454,5.601092896174863,0.0],[2.8073394495412844,0.0,7.541284403669724,10.036697247706423,0.0],[2.5682656826568264,0.0,5.431734317343173,7.92619926199262,0.0],[1.3509933774834437,0.0,2.463576158940398,11.024282560706402,0.0],[2.150943396226415,0.0,6.610062893081761,4.90566037735849,0.0],[1.8203125,0.0,4.703125,8.15625,0.0],[1.7857142857142858,0.0,4.30952380952381,13.023809523809526,0.0],[1.757085020242915,0.0,4.380566801619434,8.97165991902834,0.0],[2.3560830860534123,0.0,5.519287833827893,8.33234421364985,0.0],[10.134443021766966,1.5928297055057616,0.10627400768245837,0.3956466069142125,6.043533930857874],[2.6666666666666665,2.380952380952381,0.0,0.0,8.857142857142858],[0.0,0.0,0.25723472668810293,0.3086816720257235,4.758842443729904],[null,null,null,null,null],[null,null,null,null,null],[null,null,null,null,null],[null,null,null,null,null],[null,null,null,null,null],[null,null,null,null,null],[0.47926267281105994,0.09216589861751152,13.67741935483871,30.70046082949309,3.2258064516129035],[0.7650273224043717,0.14207650273224043,23.622950819672134,103.09836065573771,3.8251366120218577],[0.7612293144208038,0.009456264775413711,29.229314420803785,43.71631205673759,3.309692671394799],[0.5986984815618223,0.18655097613882862,14.10412147505423,6.164859002169198,8.24295010845987],[null,null,null,null,null],[null,null,null,null,null],[0.5934065934065935,1.7692307692307694,1.3846153846153848,4.0769230769230775,2.087912087912088],[null,null,null,null,null],[null,null,null,null,null],[0.16846241602230952,1.055773862339967,0.8805932310812523,0.4692609963239955,0.46773989098745083],[0.0,0.0,4.666666666666666,29.999999999999996,0.6666666666666666],[null,null,null,null,null],[5.142857142857143,0.28571428571428575,1.8571428571428574,18.714285714285715,1.142857142857143],[2.0,0.0,0.0,13.999999999999998,4.0],[1.0,1.0,1.0,1.0,1.0],[1.0,0.0,2.0,2.0,1.0],[null,null,null,null,null],[2.857142857142857,0.2142857142857143,3.2142857142857144,15.142857142857144,1.0],[4.663563829787234,0.46276595744680854,2.893617021276596,13.081117021276597,null],[5.358436606291706,0.14084842707340323,1.376787416587226,13.358436606291706,null],[0.5864033488610861,0.3052379391789254,1.5752378928090487,2.9971958270766774,null],[1.0,0.31428571428571433,2.2392857142857143,31.35357142857143,null],[2.7568885651209216,0.15315831326775176,1.0,10.056921374432093,null]],\"type\":\"heatmap\",\"xaxis\":\"x\",\"yaxis\":\"y\",\"hovertemplate\":\"Food product: %{x}<br>y: %{y}<br>color: %{z}<extra></extra>\"}],                        {\"template\":{\"data\":{\"histogram2dcontour\":[{\"type\":\"histogram2dcontour\",\"colorbar\":{\"outlinewidth\":0,\"ticks\":\"\"},\"colorscale\":[[0.0,\"#0d0887\"],[0.1111111111111111,\"#46039f\"],[0.2222222222222222,\"#7201a8\"],[0.3333333333333333,\"#9c179e\"],[0.4444444444444444,\"#bd3786\"],[0.5555555555555556,\"#d8576b\"],[0.6666666666666666,\"#ed7953\"],[0.7777777777777778,\"#fb9f3a\"],[0.8888888888888888,\"#fdca26\"],[1.0,\"#f0f921\"]]}],\"choropleth\":[{\"type\":\"choropleth\",\"colorbar\":{\"outlinewidth\":0,\"ticks\":\"\"}}],\"histogram2d\":[{\"type\":\"histogram2d\",\"colorbar\":{\"outlinewidth\":0,\"ticks\":\"\"},\"colorscale\":[[0.0,\"#0d0887\"],[0.1111111111111111,\"#46039f\"],[0.2222222222222222,\"#7201a8\"],[0.3333333333333333,\"#9c179e\"],[0.4444444444444444,\"#bd3786\"],[0.5555555555555556,\"#d8576b\"],[0.6666666666666666,\"#ed7953\"],[0.7777777777777778,\"#fb9f3a\"],[0.8888888888888888,\"#fdca26\"],[1.0,\"#f0f921\"]]}],\"heatmap\":[{\"type\":\"heatmap\",\"colorbar\":{\"outlinewidth\":0,\"ticks\":\"\"},\"colorscale\":[[0.0,\"#0d0887\"],[0.1111111111111111,\"#46039f\"],[0.2222222222222222,\"#7201a8\"],[0.3333333333333333,\"#9c179e\"],[0.4444444444444444,\"#bd3786\"],[0.5555555555555556,\"#d8576b\"],[0.6666666666666666,\"#ed7953\"],[0.7777777777777778,\"#fb9f3a\"],[0.8888888888888888,\"#fdca26\"],[1.0,\"#f0f921\"]]}],\"heatmapgl\":[{\"type\":\"heatmapgl\",\"colorbar\":{\"outlinewidth\":0,\"ticks\":\"\"},\"colorscale\":[[0.0,\"#0d0887\"],[0.1111111111111111,\"#46039f\"],[0.2222222222222222,\"#7201a8\"],[0.3333333333333333,\"#9c179e\"],[0.4444444444444444,\"#bd3786\"],[0.5555555555555556,\"#d8576b\"],[0.6666666666666666,\"#ed7953\"],[0.7777777777777778,\"#fb9f3a\"],[0.8888888888888888,\"#fdca26\"],[1.0,\"#f0f921\"]]}],\"contourcarpet\":[{\"type\":\"contourcarpet\",\"colorbar\":{\"outlinewidth\":0,\"ticks\":\"\"}}],\"contour\":[{\"type\":\"contour\",\"colorbar\":{\"outlinewidth\":0,\"ticks\":\"\"},\"colorscale\":[[0.0,\"#0d0887\"],[0.1111111111111111,\"#46039f\"],[0.2222222222222222,\"#7201a8\"],[0.3333333333333333,\"#9c179e\"],[0.4444444444444444,\"#bd3786\"],[0.5555555555555556,\"#d8576b\"],[0.6666666666666666,\"#ed7953\"],[0.7777777777777778,\"#fb9f3a\"],[0.8888888888888888,\"#fdca26\"],[1.0,\"#f0f921\"]]}],\"surface\":[{\"type\":\"surface\",\"colorbar\":{\"outlinewidth\":0,\"ticks\":\"\"},\"colorscale\":[[0.0,\"#0d0887\"],[0.1111111111111111,\"#46039f\"],[0.2222222222222222,\"#7201a8\"],[0.3333333333333333,\"#9c179e\"],[0.4444444444444444,\"#bd3786\"],[0.5555555555555556,\"#d8576b\"],[0.6666666666666666,\"#ed7953\"],[0.7777777777777778,\"#fb9f3a\"],[0.8888888888888888,\"#fdca26\"],[1.0,\"#f0f921\"]]}],\"mesh3d\":[{\"type\":\"mesh3d\",\"colorbar\":{\"outlinewidth\":0,\"ticks\":\"\"}}],\"scatter\":[{\"fillpattern\":{\"fillmode\":\"overlay\",\"size\":10,\"solidity\":0.2},\"type\":\"scatter\"}],\"parcoords\":[{\"type\":\"parcoords\",\"line\":{\"colorbar\":{\"outlinewidth\":0,\"ticks\":\"\"}}}],\"scatterpolargl\":[{\"type\":\"scatterpolargl\",\"marker\":{\"colorbar\":{\"outlinewidth\":0,\"ticks\":\"\"}}}],\"bar\":[{\"error_x\":{\"color\":\"#2a3f5f\"},\"error_y\":{\"color\":\"#2a3f5f\"},\"marker\":{\"line\":{\"color\":\"#E5ECF6\",\"width\":0.5},\"pattern\":{\"fillmode\":\"overlay\",\"size\":10,\"solidity\":0.2}},\"type\":\"bar\"}],\"scattergeo\":[{\"type\":\"scattergeo\",\"marker\":{\"colorbar\":{\"outlinewidth\":0,\"ticks\":\"\"}}}],\"scatterpolar\":[{\"type\":\"scatterpolar\",\"marker\":{\"colorbar\":{\"outlinewidth\":0,\"ticks\":\"\"}}}],\"histogram\":[{\"marker\":{\"pattern\":{\"fillmode\":\"overlay\",\"size\":10,\"solidity\":0.2}},\"type\":\"histogram\"}],\"scattergl\":[{\"type\":\"scattergl\",\"marker\":{\"colorbar\":{\"outlinewidth\":0,\"ticks\":\"\"}}}],\"scatter3d\":[{\"type\":\"scatter3d\",\"line\":{\"colorbar\":{\"outlinewidth\":0,\"ticks\":\"\"}},\"marker\":{\"colorbar\":{\"outlinewidth\":0,\"ticks\":\"\"}}}],\"scattermapbox\":[{\"type\":\"scattermapbox\",\"marker\":{\"colorbar\":{\"outlinewidth\":0,\"ticks\":\"\"}}}],\"scatterternary\":[{\"type\":\"scatterternary\",\"marker\":{\"colorbar\":{\"outlinewidth\":0,\"ticks\":\"\"}}}],\"scattercarpet\":[{\"type\":\"scattercarpet\",\"marker\":{\"colorbar\":{\"outlinewidth\":0,\"ticks\":\"\"}}}],\"carpet\":[{\"aaxis\":{\"endlinecolor\":\"#2a3f5f\",\"gridcolor\":\"white\",\"linecolor\":\"white\",\"minorgridcolor\":\"white\",\"startlinecolor\":\"#2a3f5f\"},\"baxis\":{\"endlinecolor\":\"#2a3f5f\",\"gridcolor\":\"white\",\"linecolor\":\"white\",\"minorgridcolor\":\"white\",\"startlinecolor\":\"#2a3f5f\"},\"type\":\"carpet\"}],\"table\":[{\"cells\":{\"fill\":{\"color\":\"#EBF0F8\"},\"line\":{\"color\":\"white\"}},\"header\":{\"fill\":{\"color\":\"#C8D4E3\"},\"line\":{\"color\":\"white\"}},\"type\":\"table\"}],\"barpolar\":[{\"marker\":{\"line\":{\"color\":\"#E5ECF6\",\"width\":0.5},\"pattern\":{\"fillmode\":\"overlay\",\"size\":10,\"solidity\":0.2}},\"type\":\"barpolar\"}],\"pie\":[{\"automargin\":true,\"type\":\"pie\"}]},\"layout\":{\"autotypenumbers\":\"strict\",\"colorway\":[\"#636efa\",\"#EF553B\",\"#00cc96\",\"#ab63fa\",\"#FFA15A\",\"#19d3f3\",\"#FF6692\",\"#B6E880\",\"#FF97FF\",\"#FECB52\"],\"font\":{\"color\":\"#2a3f5f\"},\"hovermode\":\"closest\",\"hoverlabel\":{\"align\":\"left\"},\"paper_bgcolor\":\"white\",\"plot_bgcolor\":\"#E5ECF6\",\"polar\":{\"bgcolor\":\"#E5ECF6\",\"angularaxis\":{\"gridcolor\":\"white\",\"linecolor\":\"white\",\"ticks\":\"\"},\"radialaxis\":{\"gridcolor\":\"white\",\"linecolor\":\"white\",\"ticks\":\"\"}},\"ternary\":{\"bgcolor\":\"#E5ECF6\",\"aaxis\":{\"gridcolor\":\"white\",\"linecolor\":\"white\",\"ticks\":\"\"},\"baxis\":{\"gridcolor\":\"white\",\"linecolor\":\"white\",\"ticks\":\"\"},\"caxis\":{\"gridcolor\":\"white\",\"linecolor\":\"white\",\"ticks\":\"\"}},\"coloraxis\":{\"colorbar\":{\"outlinewidth\":0,\"ticks\":\"\"}},\"colorscale\":{\"sequential\":[[0.0,\"#0d0887\"],[0.1111111111111111,\"#46039f\"],[0.2222222222222222,\"#7201a8\"],[0.3333333333333333,\"#9c179e\"],[0.4444444444444444,\"#bd3786\"],[0.5555555555555556,\"#d8576b\"],[0.6666666666666666,\"#ed7953\"],[0.7777777777777778,\"#fb9f3a\"],[0.8888888888888888,\"#fdca26\"],[1.0,\"#f0f921\"]],\"sequentialminus\":[[0.0,\"#0d0887\"],[0.1111111111111111,\"#46039f\"],[0.2222222222222222,\"#7201a8\"],[0.3333333333333333,\"#9c179e\"],[0.4444444444444444,\"#bd3786\"],[0.5555555555555556,\"#d8576b\"],[0.6666666666666666,\"#ed7953\"],[0.7777777777777778,\"#fb9f3a\"],[0.8888888888888888,\"#fdca26\"],[1.0,\"#f0f921\"]],\"diverging\":[[0,\"#8e0152\"],[0.1,\"#c51b7d\"],[0.2,\"#de77ae\"],[0.3,\"#f1b6da\"],[0.4,\"#fde0ef\"],[0.5,\"#f7f7f7\"],[0.6,\"#e6f5d0\"],[0.7,\"#b8e186\"],[0.8,\"#7fbc41\"],[0.9,\"#4d9221\"],[1,\"#276419\"]]},\"xaxis\":{\"gridcolor\":\"white\",\"linecolor\":\"white\",\"ticks\":\"\",\"title\":{\"standoff\":15},\"zerolinecolor\":\"white\",\"automargin\":true,\"zerolinewidth\":2},\"yaxis\":{\"gridcolor\":\"white\",\"linecolor\":\"white\",\"ticks\":\"\",\"title\":{\"standoff\":15},\"zerolinecolor\":\"white\",\"automargin\":true,\"zerolinewidth\":2},\"scene\":{\"xaxis\":{\"backgroundcolor\":\"#E5ECF6\",\"gridcolor\":\"white\",\"linecolor\":\"white\",\"showbackground\":true,\"ticks\":\"\",\"zerolinecolor\":\"white\",\"gridwidth\":2},\"yaxis\":{\"backgroundcolor\":\"#E5ECF6\",\"gridcolor\":\"white\",\"linecolor\":\"white\",\"showbackground\":true,\"ticks\":\"\",\"zerolinecolor\":\"white\",\"gridwidth\":2},\"zaxis\":{\"backgroundcolor\":\"#E5ECF6\",\"gridcolor\":\"white\",\"linecolor\":\"white\",\"showbackground\":true,\"ticks\":\"\",\"zerolinecolor\":\"white\",\"gridwidth\":2}},\"shapedefaults\":{\"line\":{\"color\":\"#2a3f5f\"}},\"annotationdefaults\":{\"arrowcolor\":\"#2a3f5f\",\"arrowhead\":0,\"arrowwidth\":1},\"geo\":{\"bgcolor\":\"white\",\"landcolor\":\"#E5ECF6\",\"subunitcolor\":\"white\",\"showland\":true,\"showlakes\":true,\"lakecolor\":\"white\"},\"title\":{\"x\":0.05},\"mapbox\":{\"style\":\"light\"}}},\"xaxis\":{\"anchor\":\"y\",\"domain\":[0.0,1.0],\"title\":{\"text\":\"Food product\"},\"side\":\"top\"},\"yaxis\":{\"anchor\":\"x\",\"domain\":[0.0,1.0],\"autorange\":\"reversed\"},\"coloraxis\":{\"colorscale\":[[0.0,\"rgb(44, 26, 76)\"],[0.1,\"rgb(40, 59, 110)\"],[0.2,\"rgb(42, 94, 151)\"],[0.3,\"rgb(68, 117, 193)\"],[0.4,\"rgb(96, 137, 190)\"],[0.5,\"rgb(125, 156, 181)\"],[0.6,\"rgb(155, 175, 172)\"],[0.7,\"rgb(186, 196, 163)\"],[0.8,\"rgb(215, 217, 161)\"],[0.9,\"rgb(237, 236, 206)\"],[1.0,\"rgb(255, 255, 255)\"]]},\"margin\":{\"t\":60},\"height\":1600,\"width\":800},                        {\"responsive\": true}                    ).then(function(){\n",
       "                            \n",
       "var gd = document.getElementById('a678fba5-7c81-4d9f-b0a0-89c020925d4d');\n",
       "var x = new MutationObserver(function (mutations, observer) {{\n",
       "        var display = window.getComputedStyle(gd).display;\n",
       "        if (!display || display === 'none') {{\n",
       "            console.log([gd, 'removed!']);\n",
       "            Plotly.purge(gd);\n",
       "            observer.disconnect();\n",
       "        }}\n",
       "}});\n",
       "\n",
       "// Listen for the removal of the full notebook cells\n",
       "var notebookContainer = gd.closest('#notebook-container');\n",
       "if (notebookContainer) {{\n",
       "    x.observe(notebookContainer, {childList: true});\n",
       "}}\n",
       "\n",
       "// Listen for the clearing of the current output cell\n",
       "var outputEl = gd.closest('.output');\n",
       "if (outputEl) {{\n",
       "    x.observe(outputEl, {childList: true});\n",
       "}}\n",
       "\n",
       "                        })                };                });            </script>        </div>"
      ]
     },
     "metadata": {},
     "output_type": "display_data"
    },
    {
     "data": {
      "text/plain": [
       "<Figure size 2000x2000 with 0 Axes>"
      ]
     },
     "metadata": {},
     "output_type": "display_data"
    }
   ],
   "source": [
    "import plotly\n",
    "plt.figure(figsize=(20, 20))\n",
    "fig = px.imshow(df.T, text_auto=True, aspect=\"auto\", width=800,height=1600,\n",
    "    color_continuous_scale=davos\n",
    "               )\n",
    "fig.update_xaxes(side = \"top\")\n",
    "fig.show()"
   ]
  },
  {
   "cell_type": "markdown",
   "id": "068a538c",
   "metadata": {},
   "source": [
    "### Rose chart for important parameters of one category\n",
    " - negative und positive Parameter müssen getrennt dargestellt werden\n",
    " - normalisierung notwendig, auch Referenzwerte sind ok, dann sehe ich, welcher Teil der Ernährung abgebildet werden kann\n",
    " - Pro Kalorien, dann Referenzwert entsprechend anpassen oder pro Portion\n",
    " - Nans herausfiltern"
   ]
  },
  {
   "cell_type": "code",
   "execution_count": 43,
   "id": "1aaa33a9",
   "metadata": {},
   "outputs": [
    {
     "data": {
      "text/plain": [
       "<matplotlib.legend.Legend at 0x23c18fbff70>"
      ]
     },
     "execution_count": 43,
     "metadata": {},
     "output_type": "execute_result"
    },
    {
     "data": {
      "image/png": "[encoded data removed]",
      "text/plain": [
       "<Figure size 640x480 with 1 Axes>"
      ]
     },
     "metadata": {},
     "output_type": "display_data"
    }
   ],
   "source": [
    "main_parameters = ['Total_emissions', 'sat_fat_acids [g]', 'sodium [mg]', 'sugars [g]', 'fat [g]']\n",
    "\n",
    "products = ['Wheat & Rye (Bread)', 'Eggs',  'Cheese']\n",
    "\n",
    "colors = sns.blend_palette(cm.davos.colors, n_colors=4)\n",
    "\n",
    "# plt.set_cmap(davos)\n",
    "for product in products:\n",
    "    #auf Kalorien bezogen\n",
    "    values = list(normalised_df_food.loc[product][main_parameters]/df_food.loc[product]['calories [kcal]'])\n",
    "#     values = list(normalised_df_food.loc[product][main_parameters])\n",
    "    N = len(values)\n",
    "\n",
    "    values += values[:1]\n",
    "    angles = [n / float(N) *2 * pi for n in range(N)]\n",
    "    angles += angles[:1]\n",
    "\n",
    "    plt.polar(angles, values, c=colors[products.index(product)])\n",
    "    plt.fill(angles, values, alpha=0.2, label = product, color = colors[products.index(product)])\n",
    "\n",
    "plt.thetagrids(angles= range(0, 360, 72), labels = main_parameters)\n",
    "plt.legend( bbox_to_anchor =(1.1,1.1,0,0))"
   ]
  },
  {
   "cell_type": "code",
   "execution_count": 55,
   "id": "fa029397",
   "metadata": {},
   "outputs": [
    {
     "data": {
      "text/plain": [
       "<matplotlib.legend.Legend at 0x23c1a1f1970>"
      ]
     },
     "execution_count": 55,
     "metadata": {},
     "output_type": "execute_result"
    },
    {
     "data": {
      "image/png": "[encoded data removed]",
      "text/plain": [
       "<Figure size 640x480 with 1 Axes>"
      ]
     },
     "metadata": {},
     "output_type": "display_data"
    }
   ],
   "source": [
    "main_parameters = ['vitamin_b6 [mg]', 'folate [mcg]', 'pol_fat_acids [g]', 'fiber [g]', 'tocoph [mg]']\n",
    "\n",
    "products = ['Wheat & Rye (Bread)', 'Eggs',  'Cheese']\n",
    "\n",
    "colors = sns.blend_palette(cm.davos.colors, n_colors=4)\n",
    "\n",
    "# plt.set_cmap(davos)\n",
    "for product in products:\n",
    "    #auf Kalorien bezogen\n",
    "    values = list(normalised_df_food.loc[product][main_parameters]/df_food.loc[product]['calories [kcal]'])\n",
    "#     values = list(normalised_df_food.loc[product][main_parameters])\n",
    "    N = len(values)\n",
    "\n",
    "    values += values[:1]\n",
    "    angles = [n / float(N) *2 * pi for n in range(N)]\n",
    "    angles += angles[:1]\n",
    "\n",
    "    plt.polar(angles, values, c=colors[products.index(product)])\n",
    "    plt.fill(angles, values, alpha=0.2, label = product, color = colors[products.index(product)])\n",
    "\n",
    "plt.thetagrids(angles= range(0, 360, 72), labels = main_parameters)\n",
    "plt.legend( bbox_to_anchor =(1.5,1.1,0,0))"
   ]
  },
  {
   "cell_type": "markdown",
   "id": "fe2ee6b4",
   "metadata": {},
   "source": [
    "siehe unten: alle parameter können nicht dargestellt werden\n",
    "\n",
    "Nans müssen herausgenommen werden"
   ]
  },
  {
   "cell_type": "code",
   "execution_count": 56,
   "id": "41eba3b7",
   "metadata": {},
   "outputs": [
    {
     "data": {
      "text/plain": [
       "<matplotlib.legend.Legend at 0x23c1a1194c0>"
      ]
     },
     "execution_count": 56,
     "metadata": {},
     "output_type": "execute_result"
    },
    {
     "data": {
      "image/png": "[encoded data removed]",
      "text/plain": [
       "<Figure size 640x480 with 1 Axes>"
      ]
     },
     "metadata": {},
     "output_type": "display_data"
    }
   ],
   "source": [
    "main_parameters = ecology\n",
    "\n",
    "\n",
    "\n",
    "products = ['Wheat & Rye (Bread)', 'Rice', 'Eggs']\n",
    "# products = ['Wheat & Rye (Bread)']\n",
    "\n",
    "colors = sns.blend_palette(cm.davos.colors, n_colors=5)\n",
    "\n",
    "# plt.set_cmap(davos)\n",
    "for product in products:\n",
    "    values = list(normalised_df_food.loc[product][main_parameters].fillna(0))\n",
    "    N = len(main_parameters)\n",
    "\n",
    "    values += values[:1]\n",
    "    angles = [n / float(N) *2 * pi for n in range(N)]\n",
    "    angles += angles[:1]\n",
    "\n",
    "    plt.polar(angles, values, c=colors[products.index(product)])\n",
    "    plt.fill(angles, values, alpha=0.2, label = product, color = colors[products.index(product)])\n",
    "\n",
    "plt.thetagrids(angles= range(0, 360-360//N, 360//N), labels = main_parameters)\n",
    "plt.legend( bbox_to_anchor =(1.5,1.1,0,0))"
   ]
  }
 ],
 "metadata": {
  "kernelspec": {
   "display_name": "Python 3 (ipykernel)",
   "language": "python",
   "name": "python3"
  },
  "language_info": {
   "codemirror_mode": {
    "name": "ipython",
    "version": 3
   },
   "file_extension": ".py",
   "mimetype": "text/x-python",
   "name": "python",
   "nbconvert_exporter": "python",
   "pygments_lexer": "ipython3",
   "version": "3.9.13"
  }
 },
 "nbformat": 4,
 "nbformat_minor": 5
}
