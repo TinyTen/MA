{
 "cells": [
  {
   "cell_type": "markdown",
   "id": "8668637c",
   "metadata": {},
   "source": [
    "# Food Environmental Impact\n",
    "## ILV Datenvisualisierung und Visual Analytics\n",
    "## Christina Köck\n",
    "## Februar 2023\n",
    "### Link to the Gitlab-Repo: https://gitlab.web.fh-kufstein.ac.at/christina.koeck/datenvisualisierung_und_visualanalytics"
   ]
  },
  {
   "cell_type": "markdown",
   "id": "fdec2b26",
   "metadata": {},
   "source": [
    "Die Visualisierungen werden in diesem Notebook erstellt. Designentscheidungen werden hier dokumentiert. Nach der Entwicklung wird der Code in eine streamlit-Anwendung für das Dashboarding übertragen.\n",
    "\n",
    "Die Streamlit-Anwendung ist für interessierte Verbaucher mit leicht wissenschaftlichem Hintergrund gedacht. Die Informationen sollten für VerbraucherInnen verständlich sein, allerdings sind gewisse Kenntnisse zu den Nachhaltigkeitsparamtern vorausgesetzt. Besonders die Darstellung der Korrelation setzt Kenntnisse der Pearson-Korrelation voraus. Die Streamlit-Anwendung könnte auch im Unterricht verwendet werden, um Lernenden verschiedene Ernährungsformen näherzubringen. Die Anwendung ist so gestaltet, dass sie mit verschiedenen Fragen durch die Daten führt. Somit soll auf verschiedene Aspekte und Zusammenhänge hingewiesen werden. Die NutzerInnen können dabei selbst wählen, welche Lebenmittel dargestellt werden sollen."
   ]
  },
  {
   "cell_type": "markdown",
   "id": "d74abbc5",
   "metadata": {},
   "source": [
    "### Libraries and data"
   ]
  },
  {
   "cell_type": "code",
   "execution_count": 1,
   "id": "c7a69843",
   "metadata": {},
   "outputs": [],
   "source": [
    "# ! pip install cmcrameri"
   ]
  },
  {
   "cell_type": "code",
   "execution_count": 2,
   "id": "0843a275",
   "metadata": {},
   "outputs": [],
   "source": [
    "from cmcrameri import cm\n",
    "import math as math\n",
    "import pandas as pd\n",
    "import numpy as np\n",
    "import seaborn as sns\n",
    "\n",
    "import matplotlib.pyplot as plt\n",
    "import plotly.express as px\n",
    "\n",
    "import sparql_dataframe"
   ]
  },
  {
   "cell_type": "code",
   "execution_count": 3,
   "id": "d28a922e",
   "metadata": {},
   "outputs": [],
   "source": [
    "# # Data are from:\n",
    "# # Hannah Ritchie and Max Roser (2022)\n",
    "# # \"Environmental Impacts of Food Production\".\n",
    "# # Published online at OurWorldInData.org. 'https://ourworldindata.org/environmental-impacts-of-food' [Online Resource]\n",
    "# # Data was retrieved in a shorter form from https://www.kaggle.com/datasets/selfvivek/environment-impact-of-food-production\n",
    "# df_food = pd.read_excel(\"Mockdata012.xlsx\")\n",
    "# df_food.drop('Unnamed: 0', axis = 1, inplace=True)\n"
   ]
  },
  {
   "cell_type": "code",
   "execution_count": 4,
   "id": "377a3fda",
   "metadata": {},
   "outputs": [],
   "source": [
    "# df_food.head(12)"
   ]
  },
  {
   "cell_type": "markdown",
   "id": "0eef4ede",
   "metadata": {},
   "source": [
    "## Read in Dapro Data"
   ]
  },
  {
   "cell_type": "code",
   "execution_count": 59,
   "id": "93833e86",
   "metadata": {},
   "outputs": [
    {
     "data": {
      "text/html": [
       "<div>\n",
       "<style scoped>\n",
       "    .dataframe tbody tr th:only-of-type {\n",
       "        vertical-align: middle;\n",
       "    }\n",
       "\n",
       "    .dataframe tbody tr th {\n",
       "        vertical-align: top;\n",
       "    }\n",
       "\n",
       "    .dataframe thead th {\n",
       "        text-align: right;\n",
       "    }\n",
       "</style>\n",
       "<table border=\"1\" class=\"dataframe\">\n",
       "  <thead>\n",
       "    <tr style=\"text-align: right;\">\n",
       "      <th></th>\n",
       "      <th>Alanin_mg/100g</th>\n",
       "      <th>Alkohol (Ethanol)_mg/100g</th>\n",
       "      <th>Arginin_mg/100g</th>\n",
       "      <th>Asparagic acid_mg/100g</th>\n",
       "      <th>Butteric acid/butyric acid_mg/100g</th>\n",
       "      <th>Calcium_mg/100g</th>\n",
       "      <th>Cholesterin_mg/100g</th>\n",
       "      <th>Cystein_mg/100g</th>\n",
       "      <th>Decanic acid/capric acid_mg/100g</th>\n",
       "      <th>Decosanic acid/beetic acid_mg/100g</th>\n",
       "      <th>...</th>\n",
       "      <th>Water -insoluble fiber_mg/100g</th>\n",
       "      <th>Xylit_mg/100g</th>\n",
       "      <th>Sugar (total) _mg/100g</th>\n",
       "      <th>http://purl.obolibrary.org/obo/CHEBI_16646_mg/100g</th>\n",
       "      <th>http://purl.obolibrary.org/obo/FOODON_03316427_mg/100g</th>\n",
       "      <th>http://purl.obolibrary.org/obo/FOODON_03420190_mg/100g</th>\n",
       "      <th>ecological scarcity 2013, total, UBP/100g</th>\n",
       "      <th>Eutrophying emissions per 100g (gPO₄eq per 100g}</th>\n",
       "      <th>Freshwater withdrawals per 100g (liters per 100g)</th>\n",
       "      <th>Land use per 100g (m² per 100g)</th>\n",
       "    </tr>\n",
       "    <tr>\n",
       "      <th></th>\n",
       "      <th></th>\n",
       "      <th></th>\n",
       "      <th></th>\n",
       "      <th></th>\n",
       "      <th></th>\n",
       "      <th></th>\n",
       "      <th></th>\n",
       "      <th></th>\n",
       "      <th></th>\n",
       "      <th></th>\n",
       "      <th></th>\n",
       "      <th></th>\n",
       "      <th></th>\n",
       "      <th></th>\n",
       "      <th></th>\n",
       "      <th></th>\n",
       "      <th></th>\n",
       "      <th></th>\n",
       "      <th></th>\n",
       "      <th></th>\n",
       "      <th></th>\n",
       "    </tr>\n",
       "  </thead>\n",
       "  <tbody>\n",
       "    <tr>\n",
       "      <th>Apple</th>\n",
       "      <td>0.0008</td>\n",
       "      <td>1.82757</td>\n",
       "      <td>0.052</td>\n",
       "      <td>0</td>\n",
       "      <td>3.250</td>\n",
       "      <td>0.303</td>\n",
       "      <td>0.000</td>\n",
       "      <td>0.005</td>\n",
       "      <td>3.250</td>\n",
       "      <td>0.859</td>\n",
       "      <td>...</td>\n",
       "      <td>0.0000</td>\n",
       "      <td>2.010</td>\n",
       "      <td>0.490</td>\n",
       "      <td>0</td>\n",
       "      <td>0</td>\n",
       "      <td>0</td>\n",
       "      <td>134.470</td>\n",
       "      <td>0.145</td>\n",
       "      <td>18.01</td>\n",
       "      <td>0.063</td>\n",
       "    </tr>\n",
       "    <tr>\n",
       "      <th>Feta</th>\n",
       "      <td>0.0780</td>\n",
       "      <td>17.15552</td>\n",
       "      <td>0.000</td>\n",
       "      <td>0</td>\n",
       "      <td>0.000</td>\n",
       "      <td>0.137</td>\n",
       "      <td>0.251</td>\n",
       "      <td>0.017</td>\n",
       "      <td>0.000</td>\n",
       "      <td>0.000</td>\n",
       "      <td>...</td>\n",
       "      <td>0.0004</td>\n",
       "      <td>0.000</td>\n",
       "      <td>0.795</td>\n",
       "      <td>0</td>\n",
       "      <td>0</td>\n",
       "      <td>0</td>\n",
       "      <td>NaN</td>\n",
       "      <td>NaN</td>\n",
       "      <td>NaN</td>\n",
       "      <td>NaN</td>\n",
       "    </tr>\n",
       "    <tr>\n",
       "      <th>Pine nut</th>\n",
       "      <td>0.0020</td>\n",
       "      <td>10.16515</td>\n",
       "      <td>1.030</td>\n",
       "      <td>0</td>\n",
       "      <td>0.146</td>\n",
       "      <td>0.204</td>\n",
       "      <td>0.000</td>\n",
       "      <td>0.235</td>\n",
       "      <td>0.146</td>\n",
       "      <td>0.144</td>\n",
       "      <td>...</td>\n",
       "      <td>0.0000</td>\n",
       "      <td>7.200</td>\n",
       "      <td>12.470</td>\n",
       "      <td>0</td>\n",
       "      <td>0</td>\n",
       "      <td>0</td>\n",
       "      <td>NaN</td>\n",
       "      <td>NaN</td>\n",
       "      <td>NaN</td>\n",
       "      <td>NaN</td>\n",
       "    </tr>\n",
       "    <tr>\n",
       "      <th>Sesame</th>\n",
       "      <td>0.0100</td>\n",
       "      <td>10.16515</td>\n",
       "      <td>1.460</td>\n",
       "      <td>0</td>\n",
       "      <td>0.204</td>\n",
       "      <td>0.202</td>\n",
       "      <td>0.000</td>\n",
       "      <td>0.347</td>\n",
       "      <td>0.204</td>\n",
       "      <td>0.559</td>\n",
       "      <td>...</td>\n",
       "      <td>0.0000</td>\n",
       "      <td>11.180</td>\n",
       "      <td>0.250</td>\n",
       "      <td>0</td>\n",
       "      <td>0</td>\n",
       "      <td>0</td>\n",
       "      <td>592.590</td>\n",
       "      <td>NaN</td>\n",
       "      <td>NaN</td>\n",
       "      <td>NaN</td>\n",
       "    </tr>\n",
       "    <tr>\n",
       "      <th>Pistachio</th>\n",
       "      <td>0.0050</td>\n",
       "      <td>14.99285</td>\n",
       "      <td>1.180</td>\n",
       "      <td>0</td>\n",
       "      <td>2.310</td>\n",
       "      <td>0.206</td>\n",
       "      <td>0.000</td>\n",
       "      <td>0.158</td>\n",
       "      <td>2.310</td>\n",
       "      <td>0.212</td>\n",
       "      <td>...</td>\n",
       "      <td>0.0000</td>\n",
       "      <td>10.610</td>\n",
       "      <td>5.200</td>\n",
       "      <td>0</td>\n",
       "      <td>0</td>\n",
       "      <td>0</td>\n",
       "      <td>NaN</td>\n",
       "      <td>NaN</td>\n",
       "      <td>NaN</td>\n",
       "      <td>NaN</td>\n",
       "    </tr>\n",
       "    <tr>\n",
       "      <th>Cashew nut</th>\n",
       "      <td>0.0050</td>\n",
       "      <td>14.99285</td>\n",
       "      <td>2.060</td>\n",
       "      <td>0</td>\n",
       "      <td>22.180</td>\n",
       "      <td>0.213</td>\n",
       "      <td>0.005</td>\n",
       "      <td>0.258</td>\n",
       "      <td>22.180</td>\n",
       "      <td>0.000</td>\n",
       "      <td>...</td>\n",
       "      <td>0.0000</td>\n",
       "      <td>3.100</td>\n",
       "      <td>0.323</td>\n",
       "      <td>0</td>\n",
       "      <td>0</td>\n",
       "      <td>0</td>\n",
       "      <td>3322.200</td>\n",
       "      <td>NaN</td>\n",
       "      <td>NaN</td>\n",
       "      <td>NaN</td>\n",
       "    </tr>\n",
       "    <tr>\n",
       "      <th>Hard cheese</th>\n",
       "      <td>0.0520</td>\n",
       "      <td>15.30880</td>\n",
       "      <td>0.050</td>\n",
       "      <td>0</td>\n",
       "      <td>0.000</td>\n",
       "      <td>0.179</td>\n",
       "      <td>0.206</td>\n",
       "      <td>0.030</td>\n",
       "      <td>0.000</td>\n",
       "      <td>0.000</td>\n",
       "      <td>...</td>\n",
       "      <td>0.0014</td>\n",
       "      <td>0.000</td>\n",
       "      <td>0.550</td>\n",
       "      <td>0</td>\n",
       "      <td>0</td>\n",
       "      <td>0</td>\n",
       "      <td>3554.700</td>\n",
       "      <td>9.837</td>\n",
       "      <td>560.52</td>\n",
       "      <td>8.779</td>\n",
       "    </tr>\n",
       "    <tr>\n",
       "      <th>Hazel nut</th>\n",
       "      <td>0.0010</td>\n",
       "      <td>14.99285</td>\n",
       "      <td>1.600</td>\n",
       "      <td>0</td>\n",
       "      <td>5.970</td>\n",
       "      <td>0.219</td>\n",
       "      <td>0.006</td>\n",
       "      <td>0.163</td>\n",
       "      <td>5.970</td>\n",
       "      <td>0.000</td>\n",
       "      <td>...</td>\n",
       "      <td>0.0000</td>\n",
       "      <td>7.700</td>\n",
       "      <td>22.200</td>\n",
       "      <td>0</td>\n",
       "      <td>0</td>\n",
       "      <td>0</td>\n",
       "      <td>NaN</td>\n",
       "      <td>NaN</td>\n",
       "      <td>NaN</td>\n",
       "      <td>NaN</td>\n",
       "    </tr>\n",
       "    <tr>\n",
       "      <th>Chicken</th>\n",
       "      <td>0.0094</td>\n",
       "      <td>9.46711</td>\n",
       "      <td>0.065</td>\n",
       "      <td>0</td>\n",
       "      <td>0.000</td>\n",
       "      <td>0.264</td>\n",
       "      <td>0.000</td>\n",
       "      <td>0.011</td>\n",
       "      <td>0.000</td>\n",
       "      <td>0.000</td>\n",
       "      <td>...</td>\n",
       "      <td>0.0019</td>\n",
       "      <td>0.000</td>\n",
       "      <td>1.960</td>\n",
       "      <td>0</td>\n",
       "      <td>0</td>\n",
       "      <td>0</td>\n",
       "      <td>668.100</td>\n",
       "      <td>2.176</td>\n",
       "      <td>57.77</td>\n",
       "      <td>0.627</td>\n",
       "    </tr>\n",
       "    <tr>\n",
       "      <th>Peanut</th>\n",
       "      <td>0.0130</td>\n",
       "      <td>7.81262</td>\n",
       "      <td>0.767</td>\n",
       "      <td>0</td>\n",
       "      <td>2.635</td>\n",
       "      <td>0.129</td>\n",
       "      <td>0.000</td>\n",
       "      <td>0.160</td>\n",
       "      <td>2.635</td>\n",
       "      <td>3.620</td>\n",
       "      <td>...</td>\n",
       "      <td>0.0000</td>\n",
       "      <td>11.738</td>\n",
       "      <td>10.027</td>\n",
       "      <td>0</td>\n",
       "      <td>0</td>\n",
       "      <td>0</td>\n",
       "      <td>755.670</td>\n",
       "      <td>1.414</td>\n",
       "      <td>185.23</td>\n",
       "      <td>0.911</td>\n",
       "    </tr>\n",
       "    <tr>\n",
       "      <th>Linseed</th>\n",
       "      <td>0.0020</td>\n",
       "      <td>10.01235</td>\n",
       "      <td>1.200</td>\n",
       "      <td>0</td>\n",
       "      <td>7.710</td>\n",
       "      <td>0.203</td>\n",
       "      <td>0.007</td>\n",
       "      <td>0.323</td>\n",
       "      <td>7.710</td>\n",
       "      <td>0.000</td>\n",
       "      <td>...</td>\n",
       "      <td>0.0000</td>\n",
       "      <td>22.700</td>\n",
       "      <td>0.000</td>\n",
       "      <td>0</td>\n",
       "      <td>0</td>\n",
       "      <td>0</td>\n",
       "      <td>88.025</td>\n",
       "      <td>NaN</td>\n",
       "      <td>NaN</td>\n",
       "      <td>NaN</td>\n",
       "    </tr>\n",
       "    <tr>\n",
       "      <th>Sunflower seed</th>\n",
       "      <td>0.0040</td>\n",
       "      <td>10.16515</td>\n",
       "      <td>1.890</td>\n",
       "      <td>0</td>\n",
       "      <td>34.740</td>\n",
       "      <td>0.200</td>\n",
       "      <td>0.005</td>\n",
       "      <td>0.336</td>\n",
       "      <td>34.740</td>\n",
       "      <td>0.000</td>\n",
       "      <td>...</td>\n",
       "      <td>0.0000</td>\n",
       "      <td>5.800</td>\n",
       "      <td>37.200</td>\n",
       "      <td>0</td>\n",
       "      <td>0</td>\n",
       "      <td>0</td>\n",
       "      <td>1251.300</td>\n",
       "      <td>NaN</td>\n",
       "      <td>NaN</td>\n",
       "      <td>NaN</td>\n",
       "    </tr>\n",
       "    <tr>\n",
       "      <th>Durum wheat</th>\n",
       "      <td>0.0051</td>\n",
       "      <td>4.04499</td>\n",
       "      <td>0.150</td>\n",
       "      <td>0</td>\n",
       "      <td>0.690</td>\n",
       "      <td>0.385</td>\n",
       "      <td>0.001</td>\n",
       "      <td>0.030</td>\n",
       "      <td>0.690</td>\n",
       "      <td>0.497</td>\n",
       "      <td>...</td>\n",
       "      <td>0.0000</td>\n",
       "      <td>7.100</td>\n",
       "      <td>0.800</td>\n",
       "      <td>0</td>\n",
       "      <td>0</td>\n",
       "      <td>0</td>\n",
       "      <td>280.510</td>\n",
       "      <td>NaN</td>\n",
       "      <td>NaN</td>\n",
       "      <td>NaN</td>\n",
       "    </tr>\n",
       "    <tr>\n",
       "      <th>Soybeans</th>\n",
       "      <td>0.0030</td>\n",
       "      <td>5.47653</td>\n",
       "      <td>0.100</td>\n",
       "      <td>0</td>\n",
       "      <td>0.643</td>\n",
       "      <td>0.046</td>\n",
       "      <td>0.000</td>\n",
       "      <td>0.024</td>\n",
       "      <td>0.643</td>\n",
       "      <td>0.390</td>\n",
       "      <td>...</td>\n",
       "      <td>0.0000</td>\n",
       "      <td>3.000</td>\n",
       "      <td>0.300</td>\n",
       "      <td>0</td>\n",
       "      <td>0</td>\n",
       "      <td>0</td>\n",
       "      <td>NaN</td>\n",
       "      <td>NaN</td>\n",
       "      <td>NaN</td>\n",
       "      <td>NaN</td>\n",
       "    </tr>\n",
       "    <tr>\n",
       "      <th>Cow's milk</th>\n",
       "      <td>0.0117</td>\n",
       "      <td>2.91995</td>\n",
       "      <td>0.007</td>\n",
       "      <td>0</td>\n",
       "      <td>0.000</td>\n",
       "      <td>0.135</td>\n",
       "      <td>0.046</td>\n",
       "      <td>0.012</td>\n",
       "      <td>4.685</td>\n",
       "      <td>0.000</td>\n",
       "      <td>...</td>\n",
       "      <td>0.0004</td>\n",
       "      <td>0.000</td>\n",
       "      <td>0.070</td>\n",
       "      <td>0</td>\n",
       "      <td>0</td>\n",
       "      <td>0</td>\n",
       "      <td>475.950</td>\n",
       "      <td>1.065</td>\n",
       "      <td>62.82</td>\n",
       "      <td>0.895</td>\n",
       "    </tr>\n",
       "    <tr>\n",
       "      <th>Pumpkin seed</th>\n",
       "      <td>0.0027</td>\n",
       "      <td>10.16515</td>\n",
       "      <td>0.833</td>\n",
       "      <td>0</td>\n",
       "      <td>0.762</td>\n",
       "      <td>0.205</td>\n",
       "      <td>0.000</td>\n",
       "      <td>0.285</td>\n",
       "      <td>0.762</td>\n",
       "      <td>0.173</td>\n",
       "      <td>...</td>\n",
       "      <td>0.0000</td>\n",
       "      <td>8.660</td>\n",
       "      <td>4.000</td>\n",
       "      <td>0</td>\n",
       "      <td>0</td>\n",
       "      <td>0</td>\n",
       "      <td>NaN</td>\n",
       "      <td>NaN</td>\n",
       "      <td>NaN</td>\n",
       "      <td>NaN</td>\n",
       "    </tr>\n",
       "    <tr>\n",
       "      <th>Soft cheese</th>\n",
       "      <td>0.0200</td>\n",
       "      <td>11.03291</td>\n",
       "      <td>0.070</td>\n",
       "      <td>0</td>\n",
       "      <td>0.000</td>\n",
       "      <td>0.520</td>\n",
       "      <td>0.247</td>\n",
       "      <td>0.020</td>\n",
       "      <td>0.001</td>\n",
       "      <td>0.000</td>\n",
       "      <td>...</td>\n",
       "      <td>0.0020</td>\n",
       "      <td>0.000</td>\n",
       "      <td>0.400</td>\n",
       "      <td>0</td>\n",
       "      <td>0</td>\n",
       "      <td>0</td>\n",
       "      <td>3554.700</td>\n",
       "      <td>NaN</td>\n",
       "      <td>NaN</td>\n",
       "      <td>NaN</td>\n",
       "    </tr>\n",
       "  </tbody>\n",
       "</table>\n",
       "<p>17 rows × 126 columns</p>\n",
       "</div>"
      ],
      "text/plain": [
       "                Alanin_mg/100g  Alkohol (Ethanol)_mg/100g  Arginin_mg/100g  \\\n",
       "                                                                             \n",
       "Apple                   0.0008                    1.82757            0.052   \n",
       "Feta                    0.0780                   17.15552            0.000   \n",
       "Pine nut                0.0020                   10.16515            1.030   \n",
       "Sesame                  0.0100                   10.16515            1.460   \n",
       "Pistachio               0.0050                   14.99285            1.180   \n",
       "Cashew nut              0.0050                   14.99285            2.060   \n",
       "Hard cheese             0.0520                   15.30880            0.050   \n",
       "Hazel nut               0.0010                   14.99285            1.600   \n",
       "Chicken                 0.0094                    9.46711            0.065   \n",
       "Peanut                  0.0130                    7.81262            0.767   \n",
       "Linseed                 0.0020                   10.01235            1.200   \n",
       "Sunflower seed          0.0040                   10.16515            1.890   \n",
       "Durum wheat             0.0051                    4.04499            0.150   \n",
       "Soybeans                0.0030                    5.47653            0.100   \n",
       "Cow's milk              0.0117                    2.91995            0.007   \n",
       "Pumpkin seed            0.0027                   10.16515            0.833   \n",
       "Soft cheese             0.0200                   11.03291            0.070   \n",
       "\n",
       "                Asparagic acid_mg/100g  Butteric acid/butyric acid_mg/100g  \\\n",
       "                                                                             \n",
       "Apple                                0                               3.250   \n",
       "Feta                                 0                               0.000   \n",
       "Pine nut                             0                               0.146   \n",
       "Sesame                               0                               0.204   \n",
       "Pistachio                            0                               2.310   \n",
       "Cashew nut                           0                              22.180   \n",
       "Hard cheese                          0                               0.000   \n",
       "Hazel nut                            0                               5.970   \n",
       "Chicken                              0                               0.000   \n",
       "Peanut                               0                               2.635   \n",
       "Linseed                              0                               7.710   \n",
       "Sunflower seed                       0                              34.740   \n",
       "Durum wheat                          0                               0.690   \n",
       "Soybeans                             0                               0.643   \n",
       "Cow's milk                           0                               0.000   \n",
       "Pumpkin seed                         0                               0.762   \n",
       "Soft cheese                          0                               0.000   \n",
       "\n",
       "                Calcium_mg/100g  Cholesterin_mg/100g  Cystein_mg/100g  \\\n",
       "                                                                        \n",
       "Apple                     0.303                0.000            0.005   \n",
       "Feta                      0.137                0.251            0.017   \n",
       "Pine nut                  0.204                0.000            0.235   \n",
       "Sesame                    0.202                0.000            0.347   \n",
       "Pistachio                 0.206                0.000            0.158   \n",
       "Cashew nut                0.213                0.005            0.258   \n",
       "Hard cheese               0.179                0.206            0.030   \n",
       "Hazel nut                 0.219                0.006            0.163   \n",
       "Chicken                   0.264                0.000            0.011   \n",
       "Peanut                    0.129                0.000            0.160   \n",
       "Linseed                   0.203                0.007            0.323   \n",
       "Sunflower seed            0.200                0.005            0.336   \n",
       "Durum wheat               0.385                0.001            0.030   \n",
       "Soybeans                  0.046                0.000            0.024   \n",
       "Cow's milk                0.135                0.046            0.012   \n",
       "Pumpkin seed              0.205                0.000            0.285   \n",
       "Soft cheese               0.520                0.247            0.020   \n",
       "\n",
       "                Decanic acid/capric acid_mg/100g  \\\n",
       "                                                   \n",
       "Apple                                      3.250   \n",
       "Feta                                       0.000   \n",
       "Pine nut                                   0.146   \n",
       "Sesame                                     0.204   \n",
       "Pistachio                                  2.310   \n",
       "Cashew nut                                22.180   \n",
       "Hard cheese                                0.000   \n",
       "Hazel nut                                  5.970   \n",
       "Chicken                                    0.000   \n",
       "Peanut                                     2.635   \n",
       "Linseed                                    7.710   \n",
       "Sunflower seed                            34.740   \n",
       "Durum wheat                                0.690   \n",
       "Soybeans                                   0.643   \n",
       "Cow's milk                                 4.685   \n",
       "Pumpkin seed                               0.762   \n",
       "Soft cheese                                0.001   \n",
       "\n",
       "                Decosanic acid/beetic acid_mg/100g  ...  \\\n",
       "                                                    ...   \n",
       "Apple                                        0.859  ...   \n",
       "Feta                                         0.000  ...   \n",
       "Pine nut                                     0.144  ...   \n",
       "Sesame                                       0.559  ...   \n",
       "Pistachio                                    0.212  ...   \n",
       "Cashew nut                                   0.000  ...   \n",
       "Hard cheese                                  0.000  ...   \n",
       "Hazel nut                                    0.000  ...   \n",
       "Chicken                                      0.000  ...   \n",
       "Peanut                                       3.620  ...   \n",
       "Linseed                                      0.000  ...   \n",
       "Sunflower seed                               0.000  ...   \n",
       "Durum wheat                                  0.497  ...   \n",
       "Soybeans                                     0.390  ...   \n",
       "Cow's milk                                   0.000  ...   \n",
       "Pumpkin seed                                 0.173  ...   \n",
       "Soft cheese                                  0.000  ...   \n",
       "\n",
       "                Water -insoluble fiber_mg/100g  Xylit_mg/100g  \\\n",
       "                                                                \n",
       "Apple                                   0.0000          2.010   \n",
       "Feta                                    0.0004          0.000   \n",
       "Pine nut                                0.0000          7.200   \n",
       "Sesame                                  0.0000         11.180   \n",
       "Pistachio                               0.0000         10.610   \n",
       "Cashew nut                              0.0000          3.100   \n",
       "Hard cheese                             0.0014          0.000   \n",
       "Hazel nut                               0.0000          7.700   \n",
       "Chicken                                 0.0019          0.000   \n",
       "Peanut                                  0.0000         11.738   \n",
       "Linseed                                 0.0000         22.700   \n",
       "Sunflower seed                          0.0000          5.800   \n",
       "Durum wheat                             0.0000          7.100   \n",
       "Soybeans                                0.0000          3.000   \n",
       "Cow's milk                              0.0004          0.000   \n",
       "Pumpkin seed                            0.0000          8.660   \n",
       "Soft cheese                             0.0020          0.000   \n",
       "\n",
       "                Sugar (total) _mg/100g  \\\n",
       "                                         \n",
       "Apple                            0.490   \n",
       "Feta                             0.795   \n",
       "Pine nut                        12.470   \n",
       "Sesame                           0.250   \n",
       "Pistachio                        5.200   \n",
       "Cashew nut                       0.323   \n",
       "Hard cheese                      0.550   \n",
       "Hazel nut                       22.200   \n",
       "Chicken                          1.960   \n",
       "Peanut                          10.027   \n",
       "Linseed                          0.000   \n",
       "Sunflower seed                  37.200   \n",
       "Durum wheat                      0.800   \n",
       "Soybeans                         0.300   \n",
       "Cow's milk                       0.070   \n",
       "Pumpkin seed                     4.000   \n",
       "Soft cheese                      0.400   \n",
       "\n",
       "                http://purl.obolibrary.org/obo/CHEBI_16646_mg/100g  \\\n",
       "                                                                     \n",
       "Apple                                                           0    \n",
       "Feta                                                            0    \n",
       "Pine nut                                                        0    \n",
       "Sesame                                                          0    \n",
       "Pistachio                                                       0    \n",
       "Cashew nut                                                      0    \n",
       "Hard cheese                                                     0    \n",
       "Hazel nut                                                       0    \n",
       "Chicken                                                         0    \n",
       "Peanut                                                          0    \n",
       "Linseed                                                         0    \n",
       "Sunflower seed                                                  0    \n",
       "Durum wheat                                                     0    \n",
       "Soybeans                                                        0    \n",
       "Cow's milk                                                      0    \n",
       "Pumpkin seed                                                    0    \n",
       "Soft cheese                                                     0    \n",
       "\n",
       "                http://purl.obolibrary.org/obo/FOODON_03316427_mg/100g  \\\n",
       "                                                                         \n",
       "Apple                                                           0        \n",
       "Feta                                                            0        \n",
       "Pine nut                                                        0        \n",
       "Sesame                                                          0        \n",
       "Pistachio                                                       0        \n",
       "Cashew nut                                                      0        \n",
       "Hard cheese                                                     0        \n",
       "Hazel nut                                                       0        \n",
       "Chicken                                                         0        \n",
       "Peanut                                                          0        \n",
       "Linseed                                                         0        \n",
       "Sunflower seed                                                  0        \n",
       "Durum wheat                                                     0        \n",
       "Soybeans                                                        0        \n",
       "Cow's milk                                                      0        \n",
       "Pumpkin seed                                                    0        \n",
       "Soft cheese                                                     0        \n",
       "\n",
       "                http://purl.obolibrary.org/obo/FOODON_03420190_mg/100g  \\\n",
       "                                                                         \n",
       "Apple                                                           0        \n",
       "Feta                                                            0        \n",
       "Pine nut                                                        0        \n",
       "Sesame                                                          0        \n",
       "Pistachio                                                       0        \n",
       "Cashew nut                                                      0        \n",
       "Hard cheese                                                     0        \n",
       "Hazel nut                                                       0        \n",
       "Chicken                                                         0        \n",
       "Peanut                                                          0        \n",
       "Linseed                                                         0        \n",
       "Sunflower seed                                                  0        \n",
       "Durum wheat                                                     0        \n",
       "Soybeans                                                        0        \n",
       "Cow's milk                                                      0        \n",
       "Pumpkin seed                                                    0        \n",
       "Soft cheese                                                     0        \n",
       "\n",
       "                ecological scarcity 2013, total, UBP/100g  \\\n",
       "                                                            \n",
       "Apple                                             134.470   \n",
       "Feta                                                  NaN   \n",
       "Pine nut                                              NaN   \n",
       "Sesame                                            592.590   \n",
       "Pistachio                                             NaN   \n",
       "Cashew nut                                       3322.200   \n",
       "Hard cheese                                      3554.700   \n",
       "Hazel nut                                             NaN   \n",
       "Chicken                                           668.100   \n",
       "Peanut                                            755.670   \n",
       "Linseed                                            88.025   \n",
       "Sunflower seed                                   1251.300   \n",
       "Durum wheat                                       280.510   \n",
       "Soybeans                                              NaN   \n",
       "Cow's milk                                        475.950   \n",
       "Pumpkin seed                                          NaN   \n",
       "Soft cheese                                      3554.700   \n",
       "\n",
       "                Eutrophying emissions per 100g (gPO₄eq per 100g}  \\\n",
       "                                                                   \n",
       "Apple                                                      0.145   \n",
       "Feta                                                         NaN   \n",
       "Pine nut                                                     NaN   \n",
       "Sesame                                                       NaN   \n",
       "Pistachio                                                    NaN   \n",
       "Cashew nut                                                   NaN   \n",
       "Hard cheese                                                9.837   \n",
       "Hazel nut                                                    NaN   \n",
       "Chicken                                                    2.176   \n",
       "Peanut                                                     1.414   \n",
       "Linseed                                                      NaN   \n",
       "Sunflower seed                                               NaN   \n",
       "Durum wheat                                                  NaN   \n",
       "Soybeans                                                     NaN   \n",
       "Cow's milk                                                 1.065   \n",
       "Pumpkin seed                                                 NaN   \n",
       "Soft cheese                                                  NaN   \n",
       "\n",
       "                Freshwater withdrawals per 100g (liters per 100g)  \\\n",
       "                                                                    \n",
       "Apple                                                       18.01   \n",
       "Feta                                                          NaN   \n",
       "Pine nut                                                      NaN   \n",
       "Sesame                                                        NaN   \n",
       "Pistachio                                                     NaN   \n",
       "Cashew nut                                                    NaN   \n",
       "Hard cheese                                                560.52   \n",
       "Hazel nut                                                     NaN   \n",
       "Chicken                                                     57.77   \n",
       "Peanut                                                     185.23   \n",
       "Linseed                                                       NaN   \n",
       "Sunflower seed                                                NaN   \n",
       "Durum wheat                                                   NaN   \n",
       "Soybeans                                                      NaN   \n",
       "Cow's milk                                                  62.82   \n",
       "Pumpkin seed                                                  NaN   \n",
       "Soft cheese                                                   NaN   \n",
       "\n",
       "                Land use per 100g (m² per 100g)  \n",
       "                                                 \n",
       "Apple                                     0.063  \n",
       "Feta                                        NaN  \n",
       "Pine nut                                    NaN  \n",
       "Sesame                                      NaN  \n",
       "Pistachio                                   NaN  \n",
       "Cashew nut                                  NaN  \n",
       "Hard cheese                               8.779  \n",
       "Hazel nut                                   NaN  \n",
       "Chicken                                   0.627  \n",
       "Peanut                                    0.911  \n",
       "Linseed                                     NaN  \n",
       "Sunflower seed                              NaN  \n",
       "Durum wheat                                 NaN  \n",
       "Soybeans                                    NaN  \n",
       "Cow's milk                                0.895  \n",
       "Pumpkin seed                                NaN  \n",
       "Soft cheese                                 NaN  \n",
       "\n",
       "[17 rows x 126 columns]"
      ]
     },
     "execution_count": 59,
     "metadata": {},
     "output_type": "execute_result"
    }
   ],
   "source": [
    "df_dapro = pd.read_excel('df_dapro_en.xlsx')\n",
    "df_dapro.rename(columns= {'Unnamed: 0': ' '}, inplace=True)\n",
    "df_dapro.set_index(' ', drop = True, inplace=True)\n",
    "df_dapro['Fat_g/100g'] = [\n",
    "    0.4,\n",
    "    23,\n",
    "    60,\n",
    "    50,\n",
    "    52,\n",
    "    42,\n",
    "    32,\n",
    "    61.6,\n",
    "    2,\n",
    "    49.7, \n",
    "    30,\n",
    "    49,\n",
    "    0.8,\n",
    "    18.1,\n",
    "    3.5,\n",
    "    45,\n",
    "    14\n",
    "]"
   ]
  },
  {
   "cell_type": "markdown",
   "id": "2a84783a",
   "metadata": {},
   "source": [
    "## Visualisierungen"
   ]
  },
  {
   "cell_type": "code",
   "execution_count": 60,
   "id": "139f26c2",
   "metadata": {},
   "outputs": [],
   "source": [
    "def annontations_hor(plots):\n",
    "    # Place a label for each bar\n",
    "    for bar in plots.patches:\n",
    "        # Get X and Y placement of label from rect\n",
    "        x_value = bar.get_width()\n",
    "        y_value = bar.get_y() + bar.get_height() / 2\n",
    "\n",
    "        # Number of points between bar and label; change to your liking\n",
    "        space = -30\n",
    "        # Vertical alignment for positive values\n",
    "        ha = 'left'\n",
    "\n",
    "        # If value of bar is negative: place label to the left of the bar\n",
    "        if x_value < 0:\n",
    "            # Invert space to place label to the left\n",
    "            space *= -1\n",
    "            # Horizontally align label to the right\n",
    "            ha = 'right'\n",
    "\n",
    "        # Use X value as label and format number\n",
    "        label = '{:,.0f}'.format(x_value)\n",
    "\n",
    "        # Create annotation\n",
    "        plt.annotate(\n",
    "            label,                      # Use `label` as label\n",
    "            (x_value, y_value),         # Place label at bar end\n",
    "            xytext=(space, 0),          # Horizontally shift label by `space`\n",
    "            textcoords='offset points', # Interpret `xytext` as offset in points\n",
    "            va='center',                # Vertically center label\n",
    "            ha=ha,                      # Horizontally align label differently for positive and negative values\n",
    "            color = 'white',\n",
    "        fontsize = 25)            # Change label color to white\n"
   ]
  },
  {
   "cell_type": "markdown",
   "id": "7226b96e",
   "metadata": {},
   "source": [
    "## scientific colormaps (see http://www.fabiocrameri.ch/visualisation.php)"
   ]
  },
  {
   "cell_type": "code",
   "execution_count": 61,
   "id": "b1444d81",
   "metadata": {},
   "outputs": [],
   "source": [
    "from colors_cameri import bilbao, tofino, davos, lisbon, oslo"
   ]
  },
  {
   "cell_type": "code",
   "execution_count": 62,
   "id": "edd3cf2b",
   "metadata": {},
   "outputs": [],
   "source": [
    "tofino_rgb = [el[1] for el in tofino]"
   ]
  },
  {
   "cell_type": "code",
   "execution_count": 63,
   "id": "e75f8899",
   "metadata": {},
   "outputs": [],
   "source": [
    "davos_rgb = [el[1] for el in davos]\n",
    "oslo_rgb = [el[1] for el in oslo]"
   ]
  },
  {
   "cell_type": "code",
   "execution_count": 64,
   "id": "7b3b33be",
   "metadata": {},
   "outputs": [],
   "source": [
    "# colors =  dict(zip(df_food[\"Category\"].unique(), tofino_rgb))"
   ]
  },
  {
   "cell_type": "code",
   "execution_count": 65,
   "id": "29f1149f",
   "metadata": {},
   "outputs": [],
   "source": [
    "zhaw_color = (0.00000 , 0.39216 , 0.65098)"
   ]
  },
  {
   "cell_type": "code",
   "execution_count": 74,
   "id": "c9ed6218",
   "metadata": {},
   "outputs": [
    {
     "data": {
      "text/plain": [
       "['rgb(0, 1, 0)',\n",
       " 'rgb(11, 25, 39)',\n",
       " 'rgb(17, 48, 77)',\n",
       " 'rgb(27, 73, 117)',\n",
       " 'rgb(46, 98, 160)',\n",
       " 'rgb(78, 125, 199)',\n",
       " 'rgb(111, 146, 202)',\n",
       " 'rgb(144, 166, 201)',\n",
       " 'rgb(176, 185, 200)',\n",
       " 'rgb(215, 215, 216)',\n",
       " 'rgb(255, 255, 255)']"
      ]
     },
     "execution_count": 74,
     "metadata": {},
     "output_type": "execute_result"
    }
   ],
   "source": [
    "oslo_rgb"
   ]
  },
  {
   "cell_type": "markdown",
   "id": "7b8267e0",
   "metadata": {},
   "source": [
    "### Verteilungen bestimmter Spalten\n",
    " - alle beliebigen Spalten können gewählt werden werden\n",
    " - Zusammenhänge der Spalten werden dargestellt\n",
    " - ob Parameter positiv oder negative zu bewerten sind, muss User feststellen"
   ]
  },
  {
   "cell_type": "markdown",
   "id": "56a3d95f",
   "metadata": {},
   "source": [
    "## TODO:\n",
    " [ x ] Auswahl aller Spalten"
   ]
  },
  {
   "cell_type": "code",
   "execution_count": 66,
   "id": "5f27c100",
   "metadata": {},
   "outputs": [],
   "source": [
    "df = df_dapro"
   ]
  },
  {
   "cell_type": "code",
   "execution_count": 67,
   "id": "d18616ef",
   "metadata": {},
   "outputs": [
    {
     "data": {
      "text/html": [
       "<div>\n",
       "<style scoped>\n",
       "    .dataframe tbody tr th:only-of-type {\n",
       "        vertical-align: middle;\n",
       "    }\n",
       "\n",
       "    .dataframe tbody tr th {\n",
       "        vertical-align: top;\n",
       "    }\n",
       "\n",
       "    .dataframe thead th {\n",
       "        text-align: right;\n",
       "    }\n",
       "</style>\n",
       "<table border=\"1\" class=\"dataframe\">\n",
       "  <thead>\n",
       "    <tr style=\"text-align: right;\">\n",
       "      <th></th>\n",
       "      <th>Alanin_mg/100g</th>\n",
       "      <th>Alkohol (Ethanol)_mg/100g</th>\n",
       "      <th>Arginin_mg/100g</th>\n",
       "      <th>Asparagic acid_mg/100g</th>\n",
       "      <th>Butteric acid/butyric acid_mg/100g</th>\n",
       "      <th>Calcium_mg/100g</th>\n",
       "      <th>Cholesterin_mg/100g</th>\n",
       "      <th>Cystein_mg/100g</th>\n",
       "      <th>Decanic acid/capric acid_mg/100g</th>\n",
       "      <th>Decosanic acid/beetic acid_mg/100g</th>\n",
       "      <th>...</th>\n",
       "      <th>Water -insoluble fiber_mg/100g</th>\n",
       "      <th>Xylit_mg/100g</th>\n",
       "      <th>Sugar (total) _mg/100g</th>\n",
       "      <th>http://purl.obolibrary.org/obo/CHEBI_16646_mg/100g</th>\n",
       "      <th>http://purl.obolibrary.org/obo/FOODON_03316427_mg/100g</th>\n",
       "      <th>http://purl.obolibrary.org/obo/FOODON_03420190_mg/100g</th>\n",
       "      <th>ecological scarcity 2013, total, UBP/100g</th>\n",
       "      <th>Eutrophying emissions per 100g (gPO₄eq per 100g}</th>\n",
       "      <th>Freshwater withdrawals per 100g (liters per 100g)</th>\n",
       "      <th>Land use per 100g (m² per 100g)</th>\n",
       "    </tr>\n",
       "    <tr>\n",
       "      <th></th>\n",
       "      <th></th>\n",
       "      <th></th>\n",
       "      <th></th>\n",
       "      <th></th>\n",
       "      <th></th>\n",
       "      <th></th>\n",
       "      <th></th>\n",
       "      <th></th>\n",
       "      <th></th>\n",
       "      <th></th>\n",
       "      <th></th>\n",
       "      <th></th>\n",
       "      <th></th>\n",
       "      <th></th>\n",
       "      <th></th>\n",
       "      <th></th>\n",
       "      <th></th>\n",
       "      <th></th>\n",
       "      <th></th>\n",
       "      <th></th>\n",
       "      <th></th>\n",
       "    </tr>\n",
       "  </thead>\n",
       "  <tbody>\n",
       "    <tr>\n",
       "      <th>Apple</th>\n",
       "      <td>0.0008</td>\n",
       "      <td>1.82757</td>\n",
       "      <td>0.052</td>\n",
       "      <td>0</td>\n",
       "      <td>3.250</td>\n",
       "      <td>0.303</td>\n",
       "      <td>0.000</td>\n",
       "      <td>0.005</td>\n",
       "      <td>3.250</td>\n",
       "      <td>0.859</td>\n",
       "      <td>...</td>\n",
       "      <td>0.0000</td>\n",
       "      <td>2.010</td>\n",
       "      <td>0.490</td>\n",
       "      <td>0</td>\n",
       "      <td>0</td>\n",
       "      <td>0</td>\n",
       "      <td>134.470</td>\n",
       "      <td>0.145</td>\n",
       "      <td>18.01</td>\n",
       "      <td>0.063</td>\n",
       "    </tr>\n",
       "    <tr>\n",
       "      <th>Feta</th>\n",
       "      <td>0.0780</td>\n",
       "      <td>17.15552</td>\n",
       "      <td>0.000</td>\n",
       "      <td>0</td>\n",
       "      <td>0.000</td>\n",
       "      <td>0.137</td>\n",
       "      <td>0.251</td>\n",
       "      <td>0.017</td>\n",
       "      <td>0.000</td>\n",
       "      <td>0.000</td>\n",
       "      <td>...</td>\n",
       "      <td>0.0004</td>\n",
       "      <td>0.000</td>\n",
       "      <td>0.795</td>\n",
       "      <td>0</td>\n",
       "      <td>0</td>\n",
       "      <td>0</td>\n",
       "      <td>NaN</td>\n",
       "      <td>NaN</td>\n",
       "      <td>NaN</td>\n",
       "      <td>NaN</td>\n",
       "    </tr>\n",
       "    <tr>\n",
       "      <th>Pine nut</th>\n",
       "      <td>0.0020</td>\n",
       "      <td>10.16515</td>\n",
       "      <td>1.030</td>\n",
       "      <td>0</td>\n",
       "      <td>0.146</td>\n",
       "      <td>0.204</td>\n",
       "      <td>0.000</td>\n",
       "      <td>0.235</td>\n",
       "      <td>0.146</td>\n",
       "      <td>0.144</td>\n",
       "      <td>...</td>\n",
       "      <td>0.0000</td>\n",
       "      <td>7.200</td>\n",
       "      <td>12.470</td>\n",
       "      <td>0</td>\n",
       "      <td>0</td>\n",
       "      <td>0</td>\n",
       "      <td>NaN</td>\n",
       "      <td>NaN</td>\n",
       "      <td>NaN</td>\n",
       "      <td>NaN</td>\n",
       "    </tr>\n",
       "    <tr>\n",
       "      <th>Sesame</th>\n",
       "      <td>0.0100</td>\n",
       "      <td>10.16515</td>\n",
       "      <td>1.460</td>\n",
       "      <td>0</td>\n",
       "      <td>0.204</td>\n",
       "      <td>0.202</td>\n",
       "      <td>0.000</td>\n",
       "      <td>0.347</td>\n",
       "      <td>0.204</td>\n",
       "      <td>0.559</td>\n",
       "      <td>...</td>\n",
       "      <td>0.0000</td>\n",
       "      <td>11.180</td>\n",
       "      <td>0.250</td>\n",
       "      <td>0</td>\n",
       "      <td>0</td>\n",
       "      <td>0</td>\n",
       "      <td>592.590</td>\n",
       "      <td>NaN</td>\n",
       "      <td>NaN</td>\n",
       "      <td>NaN</td>\n",
       "    </tr>\n",
       "    <tr>\n",
       "      <th>Pistachio</th>\n",
       "      <td>0.0050</td>\n",
       "      <td>14.99285</td>\n",
       "      <td>1.180</td>\n",
       "      <td>0</td>\n",
       "      <td>2.310</td>\n",
       "      <td>0.206</td>\n",
       "      <td>0.000</td>\n",
       "      <td>0.158</td>\n",
       "      <td>2.310</td>\n",
       "      <td>0.212</td>\n",
       "      <td>...</td>\n",
       "      <td>0.0000</td>\n",
       "      <td>10.610</td>\n",
       "      <td>5.200</td>\n",
       "      <td>0</td>\n",
       "      <td>0</td>\n",
       "      <td>0</td>\n",
       "      <td>NaN</td>\n",
       "      <td>NaN</td>\n",
       "      <td>NaN</td>\n",
       "      <td>NaN</td>\n",
       "    </tr>\n",
       "    <tr>\n",
       "      <th>Cashew nut</th>\n",
       "      <td>0.0050</td>\n",
       "      <td>14.99285</td>\n",
       "      <td>2.060</td>\n",
       "      <td>0</td>\n",
       "      <td>22.180</td>\n",
       "      <td>0.213</td>\n",
       "      <td>0.005</td>\n",
       "      <td>0.258</td>\n",
       "      <td>22.180</td>\n",
       "      <td>0.000</td>\n",
       "      <td>...</td>\n",
       "      <td>0.0000</td>\n",
       "      <td>3.100</td>\n",
       "      <td>0.323</td>\n",
       "      <td>0</td>\n",
       "      <td>0</td>\n",
       "      <td>0</td>\n",
       "      <td>3322.200</td>\n",
       "      <td>NaN</td>\n",
       "      <td>NaN</td>\n",
       "      <td>NaN</td>\n",
       "    </tr>\n",
       "    <tr>\n",
       "      <th>Hard cheese</th>\n",
       "      <td>0.0520</td>\n",
       "      <td>15.30880</td>\n",
       "      <td>0.050</td>\n",
       "      <td>0</td>\n",
       "      <td>0.000</td>\n",
       "      <td>0.179</td>\n",
       "      <td>0.206</td>\n",
       "      <td>0.030</td>\n",
       "      <td>0.000</td>\n",
       "      <td>0.000</td>\n",
       "      <td>...</td>\n",
       "      <td>0.0014</td>\n",
       "      <td>0.000</td>\n",
       "      <td>0.550</td>\n",
       "      <td>0</td>\n",
       "      <td>0</td>\n",
       "      <td>0</td>\n",
       "      <td>3554.700</td>\n",
       "      <td>9.837</td>\n",
       "      <td>560.52</td>\n",
       "      <td>8.779</td>\n",
       "    </tr>\n",
       "    <tr>\n",
       "      <th>Hazel nut</th>\n",
       "      <td>0.0010</td>\n",
       "      <td>14.99285</td>\n",
       "      <td>1.600</td>\n",
       "      <td>0</td>\n",
       "      <td>5.970</td>\n",
       "      <td>0.219</td>\n",
       "      <td>0.006</td>\n",
       "      <td>0.163</td>\n",
       "      <td>5.970</td>\n",
       "      <td>0.000</td>\n",
       "      <td>...</td>\n",
       "      <td>0.0000</td>\n",
       "      <td>7.700</td>\n",
       "      <td>22.200</td>\n",
       "      <td>0</td>\n",
       "      <td>0</td>\n",
       "      <td>0</td>\n",
       "      <td>NaN</td>\n",
       "      <td>NaN</td>\n",
       "      <td>NaN</td>\n",
       "      <td>NaN</td>\n",
       "    </tr>\n",
       "    <tr>\n",
       "      <th>Chicken</th>\n",
       "      <td>0.0094</td>\n",
       "      <td>9.46711</td>\n",
       "      <td>0.065</td>\n",
       "      <td>0</td>\n",
       "      <td>0.000</td>\n",
       "      <td>0.264</td>\n",
       "      <td>0.000</td>\n",
       "      <td>0.011</td>\n",
       "      <td>0.000</td>\n",
       "      <td>0.000</td>\n",
       "      <td>...</td>\n",
       "      <td>0.0019</td>\n",
       "      <td>0.000</td>\n",
       "      <td>1.960</td>\n",
       "      <td>0</td>\n",
       "      <td>0</td>\n",
       "      <td>0</td>\n",
       "      <td>668.100</td>\n",
       "      <td>2.176</td>\n",
       "      <td>57.77</td>\n",
       "      <td>0.627</td>\n",
       "    </tr>\n",
       "    <tr>\n",
       "      <th>Peanut</th>\n",
       "      <td>0.0130</td>\n",
       "      <td>7.81262</td>\n",
       "      <td>0.767</td>\n",
       "      <td>0</td>\n",
       "      <td>2.635</td>\n",
       "      <td>0.129</td>\n",
       "      <td>0.000</td>\n",
       "      <td>0.160</td>\n",
       "      <td>2.635</td>\n",
       "      <td>3.620</td>\n",
       "      <td>...</td>\n",
       "      <td>0.0000</td>\n",
       "      <td>11.738</td>\n",
       "      <td>10.027</td>\n",
       "      <td>0</td>\n",
       "      <td>0</td>\n",
       "      <td>0</td>\n",
       "      <td>755.670</td>\n",
       "      <td>1.414</td>\n",
       "      <td>185.23</td>\n",
       "      <td>0.911</td>\n",
       "    </tr>\n",
       "    <tr>\n",
       "      <th>Linseed</th>\n",
       "      <td>0.0020</td>\n",
       "      <td>10.01235</td>\n",
       "      <td>1.200</td>\n",
       "      <td>0</td>\n",
       "      <td>7.710</td>\n",
       "      <td>0.203</td>\n",
       "      <td>0.007</td>\n",
       "      <td>0.323</td>\n",
       "      <td>7.710</td>\n",
       "      <td>0.000</td>\n",
       "      <td>...</td>\n",
       "      <td>0.0000</td>\n",
       "      <td>22.700</td>\n",
       "      <td>0.000</td>\n",
       "      <td>0</td>\n",
       "      <td>0</td>\n",
       "      <td>0</td>\n",
       "      <td>88.025</td>\n",
       "      <td>NaN</td>\n",
       "      <td>NaN</td>\n",
       "      <td>NaN</td>\n",
       "    </tr>\n",
       "    <tr>\n",
       "      <th>Sunflower seed</th>\n",
       "      <td>0.0040</td>\n",
       "      <td>10.16515</td>\n",
       "      <td>1.890</td>\n",
       "      <td>0</td>\n",
       "      <td>34.740</td>\n",
       "      <td>0.200</td>\n",
       "      <td>0.005</td>\n",
       "      <td>0.336</td>\n",
       "      <td>34.740</td>\n",
       "      <td>0.000</td>\n",
       "      <td>...</td>\n",
       "      <td>0.0000</td>\n",
       "      <td>5.800</td>\n",
       "      <td>37.200</td>\n",
       "      <td>0</td>\n",
       "      <td>0</td>\n",
       "      <td>0</td>\n",
       "      <td>1251.300</td>\n",
       "      <td>NaN</td>\n",
       "      <td>NaN</td>\n",
       "      <td>NaN</td>\n",
       "    </tr>\n",
       "    <tr>\n",
       "      <th>Durum wheat</th>\n",
       "      <td>0.0051</td>\n",
       "      <td>4.04499</td>\n",
       "      <td>0.150</td>\n",
       "      <td>0</td>\n",
       "      <td>0.690</td>\n",
       "      <td>0.385</td>\n",
       "      <td>0.001</td>\n",
       "      <td>0.030</td>\n",
       "      <td>0.690</td>\n",
       "      <td>0.497</td>\n",
       "      <td>...</td>\n",
       "      <td>0.0000</td>\n",
       "      <td>7.100</td>\n",
       "      <td>0.800</td>\n",
       "      <td>0</td>\n",
       "      <td>0</td>\n",
       "      <td>0</td>\n",
       "      <td>280.510</td>\n",
       "      <td>NaN</td>\n",
       "      <td>NaN</td>\n",
       "      <td>NaN</td>\n",
       "    </tr>\n",
       "    <tr>\n",
       "      <th>Soybeans</th>\n",
       "      <td>0.0030</td>\n",
       "      <td>5.47653</td>\n",
       "      <td>0.100</td>\n",
       "      <td>0</td>\n",
       "      <td>0.643</td>\n",
       "      <td>0.046</td>\n",
       "      <td>0.000</td>\n",
       "      <td>0.024</td>\n",
       "      <td>0.643</td>\n",
       "      <td>0.390</td>\n",
       "      <td>...</td>\n",
       "      <td>0.0000</td>\n",
       "      <td>3.000</td>\n",
       "      <td>0.300</td>\n",
       "      <td>0</td>\n",
       "      <td>0</td>\n",
       "      <td>0</td>\n",
       "      <td>NaN</td>\n",
       "      <td>NaN</td>\n",
       "      <td>NaN</td>\n",
       "      <td>NaN</td>\n",
       "    </tr>\n",
       "    <tr>\n",
       "      <th>Cow's milk</th>\n",
       "      <td>0.0117</td>\n",
       "      <td>2.91995</td>\n",
       "      <td>0.007</td>\n",
       "      <td>0</td>\n",
       "      <td>0.000</td>\n",
       "      <td>0.135</td>\n",
       "      <td>0.046</td>\n",
       "      <td>0.012</td>\n",
       "      <td>4.685</td>\n",
       "      <td>0.000</td>\n",
       "      <td>...</td>\n",
       "      <td>0.0004</td>\n",
       "      <td>0.000</td>\n",
       "      <td>0.070</td>\n",
       "      <td>0</td>\n",
       "      <td>0</td>\n",
       "      <td>0</td>\n",
       "      <td>475.950</td>\n",
       "      <td>1.065</td>\n",
       "      <td>62.82</td>\n",
       "      <td>0.895</td>\n",
       "    </tr>\n",
       "    <tr>\n",
       "      <th>Pumpkin seed</th>\n",
       "      <td>0.0027</td>\n",
       "      <td>10.16515</td>\n",
       "      <td>0.833</td>\n",
       "      <td>0</td>\n",
       "      <td>0.762</td>\n",
       "      <td>0.205</td>\n",
       "      <td>0.000</td>\n",
       "      <td>0.285</td>\n",
       "      <td>0.762</td>\n",
       "      <td>0.173</td>\n",
       "      <td>...</td>\n",
       "      <td>0.0000</td>\n",
       "      <td>8.660</td>\n",
       "      <td>4.000</td>\n",
       "      <td>0</td>\n",
       "      <td>0</td>\n",
       "      <td>0</td>\n",
       "      <td>NaN</td>\n",
       "      <td>NaN</td>\n",
       "      <td>NaN</td>\n",
       "      <td>NaN</td>\n",
       "    </tr>\n",
       "    <tr>\n",
       "      <th>Soft cheese</th>\n",
       "      <td>0.0200</td>\n",
       "      <td>11.03291</td>\n",
       "      <td>0.070</td>\n",
       "      <td>0</td>\n",
       "      <td>0.000</td>\n",
       "      <td>0.520</td>\n",
       "      <td>0.247</td>\n",
       "      <td>0.020</td>\n",
       "      <td>0.001</td>\n",
       "      <td>0.000</td>\n",
       "      <td>...</td>\n",
       "      <td>0.0020</td>\n",
       "      <td>0.000</td>\n",
       "      <td>0.400</td>\n",
       "      <td>0</td>\n",
       "      <td>0</td>\n",
       "      <td>0</td>\n",
       "      <td>3554.700</td>\n",
       "      <td>NaN</td>\n",
       "      <td>NaN</td>\n",
       "      <td>NaN</td>\n",
       "    </tr>\n",
       "  </tbody>\n",
       "</table>\n",
       "<p>17 rows × 126 columns</p>\n",
       "</div>"
      ],
      "text/plain": [
       "                Alanin_mg/100g  Alkohol (Ethanol)_mg/100g  Arginin_mg/100g  \\\n",
       "                                                                             \n",
       "Apple                   0.0008                    1.82757            0.052   \n",
       "Feta                    0.0780                   17.15552            0.000   \n",
       "Pine nut                0.0020                   10.16515            1.030   \n",
       "Sesame                  0.0100                   10.16515            1.460   \n",
       "Pistachio               0.0050                   14.99285            1.180   \n",
       "Cashew nut              0.0050                   14.99285            2.060   \n",
       "Hard cheese             0.0520                   15.30880            0.050   \n",
       "Hazel nut               0.0010                   14.99285            1.600   \n",
       "Chicken                 0.0094                    9.46711            0.065   \n",
       "Peanut                  0.0130                    7.81262            0.767   \n",
       "Linseed                 0.0020                   10.01235            1.200   \n",
       "Sunflower seed          0.0040                   10.16515            1.890   \n",
       "Durum wheat             0.0051                    4.04499            0.150   \n",
       "Soybeans                0.0030                    5.47653            0.100   \n",
       "Cow's milk              0.0117                    2.91995            0.007   \n",
       "Pumpkin seed            0.0027                   10.16515            0.833   \n",
       "Soft cheese             0.0200                   11.03291            0.070   \n",
       "\n",
       "                Asparagic acid_mg/100g  Butteric acid/butyric acid_mg/100g  \\\n",
       "                                                                             \n",
       "Apple                                0                               3.250   \n",
       "Feta                                 0                               0.000   \n",
       "Pine nut                             0                               0.146   \n",
       "Sesame                               0                               0.204   \n",
       "Pistachio                            0                               2.310   \n",
       "Cashew nut                           0                              22.180   \n",
       "Hard cheese                          0                               0.000   \n",
       "Hazel nut                            0                               5.970   \n",
       "Chicken                              0                               0.000   \n",
       "Peanut                               0                               2.635   \n",
       "Linseed                              0                               7.710   \n",
       "Sunflower seed                       0                              34.740   \n",
       "Durum wheat                          0                               0.690   \n",
       "Soybeans                             0                               0.643   \n",
       "Cow's milk                           0                               0.000   \n",
       "Pumpkin seed                         0                               0.762   \n",
       "Soft cheese                          0                               0.000   \n",
       "\n",
       "                Calcium_mg/100g  Cholesterin_mg/100g  Cystein_mg/100g  \\\n",
       "                                                                        \n",
       "Apple                     0.303                0.000            0.005   \n",
       "Feta                      0.137                0.251            0.017   \n",
       "Pine nut                  0.204                0.000            0.235   \n",
       "Sesame                    0.202                0.000            0.347   \n",
       "Pistachio                 0.206                0.000            0.158   \n",
       "Cashew nut                0.213                0.005            0.258   \n",
       "Hard cheese               0.179                0.206            0.030   \n",
       "Hazel nut                 0.219                0.006            0.163   \n",
       "Chicken                   0.264                0.000            0.011   \n",
       "Peanut                    0.129                0.000            0.160   \n",
       "Linseed                   0.203                0.007            0.323   \n",
       "Sunflower seed            0.200                0.005            0.336   \n",
       "Durum wheat               0.385                0.001            0.030   \n",
       "Soybeans                  0.046                0.000            0.024   \n",
       "Cow's milk                0.135                0.046            0.012   \n",
       "Pumpkin seed              0.205                0.000            0.285   \n",
       "Soft cheese               0.520                0.247            0.020   \n",
       "\n",
       "                Decanic acid/capric acid_mg/100g  \\\n",
       "                                                   \n",
       "Apple                                      3.250   \n",
       "Feta                                       0.000   \n",
       "Pine nut                                   0.146   \n",
       "Sesame                                     0.204   \n",
       "Pistachio                                  2.310   \n",
       "Cashew nut                                22.180   \n",
       "Hard cheese                                0.000   \n",
       "Hazel nut                                  5.970   \n",
       "Chicken                                    0.000   \n",
       "Peanut                                     2.635   \n",
       "Linseed                                    7.710   \n",
       "Sunflower seed                            34.740   \n",
       "Durum wheat                                0.690   \n",
       "Soybeans                                   0.643   \n",
       "Cow's milk                                 4.685   \n",
       "Pumpkin seed                               0.762   \n",
       "Soft cheese                                0.001   \n",
       "\n",
       "                Decosanic acid/beetic acid_mg/100g  ...  \\\n",
       "                                                    ...   \n",
       "Apple                                        0.859  ...   \n",
       "Feta                                         0.000  ...   \n",
       "Pine nut                                     0.144  ...   \n",
       "Sesame                                       0.559  ...   \n",
       "Pistachio                                    0.212  ...   \n",
       "Cashew nut                                   0.000  ...   \n",
       "Hard cheese                                  0.000  ...   \n",
       "Hazel nut                                    0.000  ...   \n",
       "Chicken                                      0.000  ...   \n",
       "Peanut                                       3.620  ...   \n",
       "Linseed                                      0.000  ...   \n",
       "Sunflower seed                               0.000  ...   \n",
       "Durum wheat                                  0.497  ...   \n",
       "Soybeans                                     0.390  ...   \n",
       "Cow's milk                                   0.000  ...   \n",
       "Pumpkin seed                                 0.173  ...   \n",
       "Soft cheese                                  0.000  ...   \n",
       "\n",
       "                Water -insoluble fiber_mg/100g  Xylit_mg/100g  \\\n",
       "                                                                \n",
       "Apple                                   0.0000          2.010   \n",
       "Feta                                    0.0004          0.000   \n",
       "Pine nut                                0.0000          7.200   \n",
       "Sesame                                  0.0000         11.180   \n",
       "Pistachio                               0.0000         10.610   \n",
       "Cashew nut                              0.0000          3.100   \n",
       "Hard cheese                             0.0014          0.000   \n",
       "Hazel nut                               0.0000          7.700   \n",
       "Chicken                                 0.0019          0.000   \n",
       "Peanut                                  0.0000         11.738   \n",
       "Linseed                                 0.0000         22.700   \n",
       "Sunflower seed                          0.0000          5.800   \n",
       "Durum wheat                             0.0000          7.100   \n",
       "Soybeans                                0.0000          3.000   \n",
       "Cow's milk                              0.0004          0.000   \n",
       "Pumpkin seed                            0.0000          8.660   \n",
       "Soft cheese                             0.0020          0.000   \n",
       "\n",
       "                Sugar (total) _mg/100g  \\\n",
       "                                         \n",
       "Apple                            0.490   \n",
       "Feta                             0.795   \n",
       "Pine nut                        12.470   \n",
       "Sesame                           0.250   \n",
       "Pistachio                        5.200   \n",
       "Cashew nut                       0.323   \n",
       "Hard cheese                      0.550   \n",
       "Hazel nut                       22.200   \n",
       "Chicken                          1.960   \n",
       "Peanut                          10.027   \n",
       "Linseed                          0.000   \n",
       "Sunflower seed                  37.200   \n",
       "Durum wheat                      0.800   \n",
       "Soybeans                         0.300   \n",
       "Cow's milk                       0.070   \n",
       "Pumpkin seed                     4.000   \n",
       "Soft cheese                      0.400   \n",
       "\n",
       "                http://purl.obolibrary.org/obo/CHEBI_16646_mg/100g  \\\n",
       "                                                                     \n",
       "Apple                                                           0    \n",
       "Feta                                                            0    \n",
       "Pine nut                                                        0    \n",
       "Sesame                                                          0    \n",
       "Pistachio                                                       0    \n",
       "Cashew nut                                                      0    \n",
       "Hard cheese                                                     0    \n",
       "Hazel nut                                                       0    \n",
       "Chicken                                                         0    \n",
       "Peanut                                                          0    \n",
       "Linseed                                                         0    \n",
       "Sunflower seed                                                  0    \n",
       "Durum wheat                                                     0    \n",
       "Soybeans                                                        0    \n",
       "Cow's milk                                                      0    \n",
       "Pumpkin seed                                                    0    \n",
       "Soft cheese                                                     0    \n",
       "\n",
       "                http://purl.obolibrary.org/obo/FOODON_03316427_mg/100g  \\\n",
       "                                                                         \n",
       "Apple                                                           0        \n",
       "Feta                                                            0        \n",
       "Pine nut                                                        0        \n",
       "Sesame                                                          0        \n",
       "Pistachio                                                       0        \n",
       "Cashew nut                                                      0        \n",
       "Hard cheese                                                     0        \n",
       "Hazel nut                                                       0        \n",
       "Chicken                                                         0        \n",
       "Peanut                                                          0        \n",
       "Linseed                                                         0        \n",
       "Sunflower seed                                                  0        \n",
       "Durum wheat                                                     0        \n",
       "Soybeans                                                        0        \n",
       "Cow's milk                                                      0        \n",
       "Pumpkin seed                                                    0        \n",
       "Soft cheese                                                     0        \n",
       "\n",
       "                http://purl.obolibrary.org/obo/FOODON_03420190_mg/100g  \\\n",
       "                                                                         \n",
       "Apple                                                           0        \n",
       "Feta                                                            0        \n",
       "Pine nut                                                        0        \n",
       "Sesame                                                          0        \n",
       "Pistachio                                                       0        \n",
       "Cashew nut                                                      0        \n",
       "Hard cheese                                                     0        \n",
       "Hazel nut                                                       0        \n",
       "Chicken                                                         0        \n",
       "Peanut                                                          0        \n",
       "Linseed                                                         0        \n",
       "Sunflower seed                                                  0        \n",
       "Durum wheat                                                     0        \n",
       "Soybeans                                                        0        \n",
       "Cow's milk                                                      0        \n",
       "Pumpkin seed                                                    0        \n",
       "Soft cheese                                                     0        \n",
       "\n",
       "                ecological scarcity 2013, total, UBP/100g  \\\n",
       "                                                            \n",
       "Apple                                             134.470   \n",
       "Feta                                                  NaN   \n",
       "Pine nut                                              NaN   \n",
       "Sesame                                            592.590   \n",
       "Pistachio                                             NaN   \n",
       "Cashew nut                                       3322.200   \n",
       "Hard cheese                                      3554.700   \n",
       "Hazel nut                                             NaN   \n",
       "Chicken                                           668.100   \n",
       "Peanut                                            755.670   \n",
       "Linseed                                            88.025   \n",
       "Sunflower seed                                   1251.300   \n",
       "Durum wheat                                       280.510   \n",
       "Soybeans                                              NaN   \n",
       "Cow's milk                                        475.950   \n",
       "Pumpkin seed                                          NaN   \n",
       "Soft cheese                                      3554.700   \n",
       "\n",
       "                Eutrophying emissions per 100g (gPO₄eq per 100g}  \\\n",
       "                                                                   \n",
       "Apple                                                      0.145   \n",
       "Feta                                                         NaN   \n",
       "Pine nut                                                     NaN   \n",
       "Sesame                                                       NaN   \n",
       "Pistachio                                                    NaN   \n",
       "Cashew nut                                                   NaN   \n",
       "Hard cheese                                                9.837   \n",
       "Hazel nut                                                    NaN   \n",
       "Chicken                                                    2.176   \n",
       "Peanut                                                     1.414   \n",
       "Linseed                                                      NaN   \n",
       "Sunflower seed                                               NaN   \n",
       "Durum wheat                                                  NaN   \n",
       "Soybeans                                                     NaN   \n",
       "Cow's milk                                                 1.065   \n",
       "Pumpkin seed                                                 NaN   \n",
       "Soft cheese                                                  NaN   \n",
       "\n",
       "                Freshwater withdrawals per 100g (liters per 100g)  \\\n",
       "                                                                    \n",
       "Apple                                                       18.01   \n",
       "Feta                                                          NaN   \n",
       "Pine nut                                                      NaN   \n",
       "Sesame                                                        NaN   \n",
       "Pistachio                                                     NaN   \n",
       "Cashew nut                                                    NaN   \n",
       "Hard cheese                                                560.52   \n",
       "Hazel nut                                                     NaN   \n",
       "Chicken                                                     57.77   \n",
       "Peanut                                                     185.23   \n",
       "Linseed                                                       NaN   \n",
       "Sunflower seed                                                NaN   \n",
       "Durum wheat                                                   NaN   \n",
       "Soybeans                                                      NaN   \n",
       "Cow's milk                                                  62.82   \n",
       "Pumpkin seed                                                  NaN   \n",
       "Soft cheese                                                   NaN   \n",
       "\n",
       "                Land use per 100g (m² per 100g)  \n",
       "                                                 \n",
       "Apple                                     0.063  \n",
       "Feta                                        NaN  \n",
       "Pine nut                                    NaN  \n",
       "Sesame                                      NaN  \n",
       "Pistachio                                   NaN  \n",
       "Cashew nut                                  NaN  \n",
       "Hard cheese                               8.779  \n",
       "Hazel nut                                   NaN  \n",
       "Chicken                                   0.627  \n",
       "Peanut                                    0.911  \n",
       "Linseed                                     NaN  \n",
       "Sunflower seed                              NaN  \n",
       "Durum wheat                                 NaN  \n",
       "Soybeans                                    NaN  \n",
       "Cow's milk                                0.895  \n",
       "Pumpkin seed                                NaN  \n",
       "Soft cheese                                 NaN  \n",
       "\n",
       "[17 rows x 126 columns]"
      ]
     },
     "execution_count": 67,
     "metadata": {},
     "output_type": "execute_result"
    }
   ],
   "source": [
    "df"
   ]
  },
  {
   "cell_type": "code",
   "execution_count": 68,
   "id": "e8cb6de3",
   "metadata": {},
   "outputs": [],
   "source": [
    "# # chose the dimensions to display\n",
    "\n",
    "# # x = 'Vitamin B12-Cobalamin_μg/100g'\n",
    "# x = 'Einfach ungesättigte Fettsäuren_mg/100g'\n",
    "# #  'Wasserunlösliche Ballaststoffe_mg/100g'\n",
    "# size = 'Vitamin B12-Cobalamin_μg/100g'\n",
    "# y = 'Eiweiß (Protein)_mg/100g'\n",
    "# # y = 'Eiweiß (Protein)_mg/100g'\n",
    "\n",
    "\n",
    "# fig = px.scatter(df, \n",
    "#                 y=y,\n",
    "#                    size= size,\n",
    "#                  x = x,\n",
    "#                  color = df.index, \n",
    "#            hover_name=df.index, \n",
    "#                  size_max=60,\n",
    "#          color_discrete_sequence = oslo_rgb[:9],\n",
    "#                  height = 750, \n",
    "#                  title = 'Distribution of the food products in the database in regard to the chosen parameters.<br>Two parameters are shown on the x- and y- axis respectively, the size of the bubbles show the parameter<br>\"{}\".<br>By hovering over the bubbles the numbers are shown.'.format(size)\n",
    "#                 )\n",
    "# fig.update_layout(\n",
    "#                           margin={'t': 200})\n",
    "# fig.show()"
   ]
  },
  {
   "cell_type": "code",
   "execution_count": 73,
   "id": "2d675c56",
   "metadata": {},
   "outputs": [
    {
     "data": {
      "text/plain": [
       "Index(['Hexadecan acid/palmitic acid_mg/100g', 'Hexadecatetraensäure_mg/100g',\n",
       "       'Hexadecensic acid/palmitoleic acid_mg/100g',\n",
       "       'Hexanic acid/capronic acid_mg/100g', 'Histidin_mg/100g',\n",
       "       'Iodid_μg/100g', 'Isoleucin_mg/100g', 'Kalium_mg/100g',\n",
       "       'KUPFER_MG/100G', 'Short -chain fatty acids_mg/100g',\n",
       "       'Lactose (milk sugar) _mg/100g', 'Long -chain fatty acids_mg/100g',\n",
       "       'Leucin_mg/100g', 'Lignin_mg/100g', 'Lysin_mg/100g',\n",
       "       'Maltose (Malzzucker)_mg/100g', 'Mangan_μg/100g', 'Mannit_mg/100g',\n",
       "       'Polyunsaturated fatty acids MG/100G', 'Methionin_mg/100g',\n",
       "       'Minerals (raw ash) _mg/100g', 'Medium -chain fatty acids_mg/100g',\n",
       "       'Monosaccharide (1M)_mg/100g', 'Sodium_mg/100g',\n",
       "       'Non -essential amino acids_mg/100g', 'Nonadecatrio acid_mg/100g',\n",
       "       'Octadiic acid/linoleic acid_mg/100g',\n",
       "       'Octadecanic acid/stearic acid_mg/100g',\n",
       "       'Octadecriosic acid/linolenic acid_mg/100g',\n",
       "       'Octadecenic acid/oleic acid_mg/100g',\n",
       "       'Octanic acid/caprylic acid_mg/100g',\n",
       "       'OctradeCateTrade acid/stearidonic acid_mg/100g',\n",
       "       'Oligosaccharides, not resorbable_mg/100g',\n",
       "       'Oligosaccharide, sorbierbar (3-9 M)_mg/100g',\n",
       "       'Omega-3 fatty acids_mg/100g', 'Omega-6 fatty acids_mg/100g',\n",
       "       'Organic acids_mg/100g', 'Pentaecanic acid_mg/100g',\n",
       "       'Pentadecensic acid_mg/100g', 'Phenylalanine mg/100g',\n",
       "       'Poly-Hexosen_mg/100g', 'Poly-Pentosen_mg/100g',\n",
       "       'Poly-Uronic acid_mg/100g', 'Polysaccharide (> 9M)_mg/100g',\n",
       "       'Prolin_mg/100g', 'Purin_mg/100g', 'Saccharosis (beet sugar) _MG/100G',\n",
       "       'Serin_mg/100g', 'Sorbit_mg/100g', 'Starch_mg/100g',\n",
       "       'Sum sugar alcohols_mg/100g',\n",
       "       'Tetracosanic acid/lignoceric acid_mg/100g',\n",
       "       'Tetracosenic acid/nervous acid_mg/100g',\n",
       "       'TetraCanic acid/myristic acid_mg/100g', 'TetradeCensic acid_mg/100g',\n",
       "       'Threonin_mg/100g', 'Tryptophan_mg/100g', 'Tyrosin_mg/100g',\n",
       "       'Valin_mg/100g', 'Vitamin A-Beta-Carotin_μg/100g',\n",
       "       'Vitamin A-Retinol_μg/100g', 'Vitamin A-Retinoläquivalent_μg/100g',\n",
       "       'Vitamin B1-Thiamin_μg/100g', 'Vitamin B12-Cobalamin_μg/100g',\n",
       "       'Vitamin B2-Riboflavin_μg/100g',\n",
       "       'Vitamin B3-niacin, nicotinic acid_μg/100g',\n",
       "       'Vitamin B3-Niacinäquivalent_μg/100g',\n",
       "       'Vitamin B5-Pantothenic acid_μg/100g', 'Vitamin B6-Pyridoxin_μg/100g',\n",
       "       'Vitamin B7-Biotin (VitaminH)_μg/100g',\n",
       "       'Vitamin B9-overall folic acid_μg/100g',\n",
       "       'Vitamin C-ASCORBINCOCHER_INCH/100G', 'Vitamin D-Calciferole_μg/100g',\n",
       "       'Vitamin E-Alpha-Tocopherol_μg/100g',\n",
       "       'Vitamin E-Tocopheroläquivalent_μg/100g',\n",
       "       'Vitamin K-Phyllochinon_μg/100g', 'Water -insoluble fiber_mg/100g',\n",
       "       'Xylit_mg/100g', 'Sugar (total) _mg/100g',\n",
       "       'http://purl.obolibrary.org/obo/CHEBI_16646_mg/100g',\n",
       "       'http://purl.obolibrary.org/obo/FOODON_03316427_mg/100g',\n",
       "       'http://purl.obolibrary.org/obo/FOODON_03420190_mg/100g',\n",
       "       'ecological scarcity 2013, total, UBP/100g',\n",
       "       'Eutrophying emissions per 100g (gPO₄eq per 100g}',\n",
       "       'Freshwater withdrawals per 100g (liters per 100g)',\n",
       "       'Land use per 100g (m² per 100g)'],\n",
       "      dtype='object')"
      ]
     },
     "execution_count": 73,
     "metadata": {},
     "output_type": "execute_result"
    }
   ],
   "source": [
    "df.columns[40:]"
   ]
  },
  {
   "cell_type": "code",
   "execution_count": 69,
   "id": "80e8b41d",
   "metadata": {},
   "outputs": [
    {
     "data": {
      "application/vnd.plotly.v1+json": {
       "config": {
        "plotlyServerURL": "https://plot.ly"
       },
       "data": [
        {
         "hovertemplate": "<b>%{hovertext}</b><br><br> =Apple<br>ecological scarcity 2013, total, UBP/100g=%{x}<br>Lysin_mg/100g=%{y}<br>Protein_g/g=%{marker.size}<extra></extra>",
         "hovertext": [
          "Apple"
         ],
         "legendgroup": "Apple",
         "marker": {
          "color": "rgb(0, 1, 0)",
          "size": [
           0.303
          ],
          "sizemode": "area",
          "sizeref": 0.00014444444444444444,
          "symbol": "circle"
         },
         "mode": "markers",
         "name": "Apple",
         "orientation": "v",
         "showlegend": true,
         "type": "scatter",
         "x": [
          134.47
         ],
         "xaxis": "x",
         "y": [
          0.119
         ],
         "yaxis": "y"
        },
        {
         "hovertemplate": "<b>%{hovertext}</b><br><br> =Feta<br>ecological scarcity 2013, total, UBP/100g=%{x}<br>Lysin_mg/100g=%{y}<br>Protein_g/g=%{marker.size}<extra></extra>",
         "hovertext": [
          "Feta"
         ],
         "legendgroup": "Feta",
         "marker": {
          "color": "rgb(11, 25, 39)",
          "size": [
           0.137
          ],
          "sizemode": "area",
          "sizeref": 0.00014444444444444444,
          "symbol": "circle"
         },
         "mode": "markers",
         "name": "Feta",
         "orientation": "v",
         "showlegend": true,
         "type": "scatter",
         "x": [
          null
         ],
         "xaxis": "x",
         "y": [
          0.057
         ],
         "yaxis": "y"
        },
        {
         "hovertemplate": "<b>%{hovertext}</b><br><br> =Pine nut<br>ecological scarcity 2013, total, UBP/100g=%{x}<br>Lysin_mg/100g=%{y}<br>Protein_g/g=%{marker.size}<extra></extra>",
         "hovertext": [
          "Pine nut"
         ],
         "legendgroup": "Pine nut",
         "marker": {
          "color": "rgb(17, 48, 77)",
          "size": [
           0.204
          ],
          "sizemode": "area",
          "sizeref": 0.00014444444444444444,
          "symbol": "circle"
         },
         "mode": "markers",
         "name": "Pine nut",
         "orientation": "v",
         "showlegend": true,
         "type": "scatter",
         "x": [
          null
         ],
         "xaxis": "x",
         "y": [
          0.6
         ],
         "yaxis": "y"
        },
        {
         "hovertemplate": "<b>%{hovertext}</b><br><br> =Sesame<br>ecological scarcity 2013, total, UBP/100g=%{x}<br>Lysin_mg/100g=%{y}<br>Protein_g/g=%{marker.size}<extra></extra>",
         "hovertext": [
          "Sesame"
         ],
         "legendgroup": "Sesame",
         "marker": {
          "color": "rgb(27, 73, 117)",
          "size": [
           0.202
          ],
          "sizemode": "area",
          "sizeref": 0.00014444444444444444,
          "symbol": "circle"
         },
         "mode": "markers",
         "name": "Sesame",
         "orientation": "v",
         "showlegend": true,
         "type": "scatter",
         "x": [
          592.5899999999999
         ],
         "xaxis": "x",
         "y": [
          0.458
         ],
         "yaxis": "y"
        },
        {
         "hovertemplate": "<b>%{hovertext}</b><br><br> =Pistachio<br>ecological scarcity 2013, total, UBP/100g=%{x}<br>Lysin_mg/100g=%{y}<br>Protein_g/g=%{marker.size}<extra></extra>",
         "hovertext": [
          "Pistachio"
         ],
         "legendgroup": "Pistachio",
         "marker": {
          "color": "rgb(46, 98, 160)",
          "size": [
           0.206
          ],
          "sizemode": "area",
          "sizeref": 0.00014444444444444444,
          "symbol": "circle"
         },
         "mode": "markers",
         "name": "Pistachio",
         "orientation": "v",
         "showlegend": true,
         "type": "scatter",
         "x": [
          null
         ],
         "xaxis": "x",
         "y": [
          1.02
         ],
         "yaxis": "y"
        },
        {
         "hovertemplate": "<b>%{hovertext}</b><br><br> =Cashew nut<br>ecological scarcity 2013, total, UBP/100g=%{x}<br>Lysin_mg/100g=%{y}<br>Protein_g/g=%{marker.size}<extra></extra>",
         "hovertext": [
          "Cashew nut"
         ],
         "legendgroup": "Cashew nut",
         "marker": {
          "color": "rgb(78, 125, 199)",
          "size": [
           0.213
          ],
          "sizemode": "area",
          "sizeref": 0.00014444444444444444,
          "symbol": "circle"
         },
         "mode": "markers",
         "name": "Cashew nut",
         "orientation": "v",
         "showlegend": true,
         "type": "scatter",
         "x": [
          3322.2
         ],
         "xaxis": "x",
         "y": [
          0.689
         ],
         "yaxis": "y"
        },
        {
         "hovertemplate": "<b>%{hovertext}</b><br><br> =Hard cheese<br>ecological scarcity 2013, total, UBP/100g=%{x}<br>Lysin_mg/100g=%{y}<br>Protein_g/g=%{marker.size}<extra></extra>",
         "hovertext": [
          "Hard cheese"
         ],
         "legendgroup": "Hard cheese",
         "marker": {
          "color": "rgb(111, 146, 202)",
          "size": [
           0.179
          ],
          "sizemode": "area",
          "sizeref": 0.00014444444444444444,
          "symbol": "circle"
         },
         "mode": "markers",
         "name": "Hard cheese",
         "orientation": "v",
         "showlegend": true,
         "type": "scatter",
         "x": [
          3554.7
         ],
         "xaxis": "x",
         "y": [
          0.1
         ],
         "yaxis": "y"
        },
        {
         "hovertemplate": "<b>%{hovertext}</b><br><br> =Hazel nut<br>ecological scarcity 2013, total, UBP/100g=%{x}<br>Lysin_mg/100g=%{y}<br>Protein_g/g=%{marker.size}<extra></extra>",
         "hovertext": [
          "Hazel nut"
         ],
         "legendgroup": "Hazel nut",
         "marker": {
          "color": "rgb(144, 166, 201)",
          "size": [
           0.219
          ],
          "sizemode": "area",
          "sizeref": 0.00014444444444444444,
          "symbol": "circle"
         },
         "mode": "markers",
         "name": "Hazel nut",
         "orientation": "v",
         "showlegend": true,
         "type": "scatter",
         "x": [
          null
         ],
         "xaxis": "x",
         "y": [
          0.745
         ],
         "yaxis": "y"
        },
        {
         "hovertemplate": "<b>%{hovertext}</b><br><br> =Chicken<br>ecological scarcity 2013, total, UBP/100g=%{x}<br>Lysin_mg/100g=%{y}<br>Protein_g/g=%{marker.size}<extra></extra>",
         "hovertext": [
          "Chicken"
         ],
         "legendgroup": "Chicken",
         "marker": {
          "color": "rgb(176, 185, 200)",
          "size": [
           0.264
          ],
          "sizemode": "area",
          "sizeref": 0.00014444444444444444,
          "symbol": "circle"
         },
         "mode": "markers",
         "name": "Chicken",
         "orientation": "v",
         "showlegend": true,
         "type": "scatter",
         "x": [
          668.1
         ],
         "xaxis": "x",
         "y": [
          0.147
         ],
         "yaxis": "y"
        },
        {
         "hovertemplate": "<b>%{hovertext}</b><br><br> =Peanut<br>ecological scarcity 2013, total, UBP/100g=%{x}<br>Lysin_mg/100g=%{y}<br>Protein_g/g=%{marker.size}<extra></extra>",
         "hovertext": [
          "Peanut"
         ],
         "legendgroup": "Peanut",
         "marker": {
          "color": "rgb(215, 215, 216)",
          "size": [
           0.129
          ],
          "sizemode": "area",
          "sizeref": 0.00014444444444444444,
          "symbol": "circle"
         },
         "mode": "markers",
         "name": "Peanut",
         "orientation": "v",
         "showlegend": true,
         "type": "scatter",
         "x": [
          755.67
         ],
         "xaxis": "x",
         "y": [
          0.66
         ],
         "yaxis": "y"
        },
        {
         "hovertemplate": "<b>%{hovertext}</b><br><br> =Linseed<br>ecological scarcity 2013, total, UBP/100g=%{x}<br>Lysin_mg/100g=%{y}<br>Protein_g/g=%{marker.size}<extra></extra>",
         "hovertext": [
          "Linseed"
         ],
         "legendgroup": "Linseed",
         "marker": {
          "color": "rgb(255, 255, 255)",
          "size": [
           0.203
          ],
          "sizemode": "area",
          "sizeref": 0.00014444444444444444,
          "symbol": "circle"
         },
         "mode": "markers",
         "name": "Linseed",
         "orientation": "v",
         "showlegend": true,
         "type": "scatter",
         "x": [
          88.025
         ],
         "xaxis": "x",
         "y": [
          0.731
         ],
         "yaxis": "y"
        },
        {
         "hovertemplate": "<b>%{hovertext}</b><br><br> =Sunflower seed<br>ecological scarcity 2013, total, UBP/100g=%{x}<br>Lysin_mg/100g=%{y}<br>Protein_g/g=%{marker.size}<extra></extra>",
         "hovertext": [
          "Sunflower seed"
         ],
         "legendgroup": "Sunflower seed",
         "marker": {
          "color": "rgb(0, 1, 0)",
          "size": [
           0.2
          ],
          "sizemode": "area",
          "sizeref": 0.00014444444444444444,
          "symbol": "circle"
         },
         "mode": "markers",
         "name": "Sunflower seed",
         "orientation": "v",
         "showlegend": true,
         "type": "scatter",
         "x": [
          1251.3
         ],
         "xaxis": "x",
         "y": [
          0.784
         ],
         "yaxis": "y"
        },
        {
         "hovertemplate": "<b>%{hovertext}</b><br><br> =Durum wheat<br>ecological scarcity 2013, total, UBP/100g=%{x}<br>Lysin_mg/100g=%{y}<br>Protein_g/g=%{marker.size}<extra></extra>",
         "hovertext": [
          "Durum wheat"
         ],
         "legendgroup": "Durum wheat",
         "marker": {
          "color": "rgb(11, 25, 39)",
          "size": [
           0.385
          ],
          "sizemode": "area",
          "sizeref": 0.00014444444444444444,
          "symbol": "circle"
         },
         "mode": "markers",
         "name": "Durum wheat",
         "orientation": "v",
         "showlegend": true,
         "type": "scatter",
         "x": [
          280.51
         ],
         "xaxis": "x",
         "y": [
          0.112
         ],
         "yaxis": "y"
        },
        {
         "hovertemplate": "<b>%{hovertext}</b><br><br> =Soybeans<br>ecological scarcity 2013, total, UBP/100g=%{x}<br>Lysin_mg/100g=%{y}<br>Protein_g/g=%{marker.size}<extra></extra>",
         "hovertext": [
          "Soybeans"
         ],
         "legendgroup": "Soybeans",
         "marker": {
          "color": "rgb(17, 48, 77)",
          "size": [
           0.046
          ],
          "sizemode": "area",
          "sizeref": 0.00014444444444444444,
          "symbol": "circle"
         },
         "mode": "markers",
         "name": "Soybeans",
         "orientation": "v",
         "showlegend": true,
         "type": "scatter",
         "x": [
          null
         ],
         "xaxis": "x",
         "y": [
          0.25
         ],
         "yaxis": "y"
        },
        {
         "hovertemplate": "<b>%{hovertext}</b><br><br> =Cow's milk<br>ecological scarcity 2013, total, UBP/100g=%{x}<br>Lysin_mg/100g=%{y}<br>Protein_g/g=%{marker.size}<extra></extra>",
         "hovertext": [
          "Cow's milk"
         ],
         "legendgroup": "Cow's milk",
         "marker": {
          "color": "rgb(27, 73, 117)",
          "size": [
           0.135
          ],
          "sizemode": "area",
          "sizeref": 0.00014444444444444444,
          "symbol": "circle"
         },
         "mode": "markers",
         "name": "Cow's milk",
         "orientation": "v",
         "showlegend": true,
         "type": "scatter",
         "x": [
          475.95
         ],
         "xaxis": "x",
         "y": [
          0.14
         ],
         "yaxis": "y"
        },
        {
         "hovertemplate": "<b>%{hovertext}</b><br><br> =Pumpkin seed<br>ecological scarcity 2013, total, UBP/100g=%{x}<br>Lysin_mg/100g=%{y}<br>Protein_g/g=%{marker.size}<extra></extra>",
         "hovertext": [
          "Pumpkin seed"
         ],
         "legendgroup": "Pumpkin seed",
         "marker": {
          "color": "rgb(46, 98, 160)",
          "size": [
           0.205
          ],
          "sizemode": "area",
          "sizeref": 0.00014444444444444444,
          "symbol": "circle"
         },
         "mode": "markers",
         "name": "Pumpkin seed",
         "orientation": "v",
         "showlegend": true,
         "type": "scatter",
         "x": [
          null
         ],
         "xaxis": "x",
         "y": [
          0.57
         ],
         "yaxis": "y"
        },
        {
         "hovertemplate": "<b>%{hovertext}</b><br><br> =Soft cheese<br>ecological scarcity 2013, total, UBP/100g=%{x}<br>Lysin_mg/100g=%{y}<br>Protein_g/g=%{marker.size}<extra></extra>",
         "hovertext": [
          "Soft cheese"
         ],
         "legendgroup": "Soft cheese",
         "marker": {
          "color": "rgb(78, 125, 199)",
          "size": [
           0.52
          ],
          "sizemode": "area",
          "sizeref": 0.00014444444444444444,
          "symbol": "circle"
         },
         "mode": "markers",
         "name": "Soft cheese",
         "orientation": "v",
         "showlegend": true,
         "type": "scatter",
         "x": [
          3554.7
         ],
         "xaxis": "x",
         "y": [
          0.15
         ],
         "yaxis": "y"
        }
       ],
       "layout": {
        "legend": {
         "itemsizing": "constant",
         "title": {
          "text": " "
         },
         "tracegroupgap": 0
        },
        "template": {
         "data": {
          "bar": [
           {
            "error_x": {
             "color": "#2a3f5f"
            },
            "error_y": {
             "color": "#2a3f5f"
            },
            "marker": {
             "line": {
              "color": "#E5ECF6",
              "width": 0.5
             },
             "pattern": {
              "fillmode": "overlay",
              "size": 10,
              "solidity": 0.2
             }
            },
            "type": "bar"
           }
          ],
          "barpolar": [
           {
            "marker": {
             "line": {
              "color": "#E5ECF6",
              "width": 0.5
             },
             "pattern": {
              "fillmode": "overlay",
              "size": 10,
              "solidity": 0.2
             }
            },
            "type": "barpolar"
           }
          ],
          "carpet": [
           {
            "aaxis": {
             "endlinecolor": "#2a3f5f",
             "gridcolor": "white",
             "linecolor": "white",
             "minorgridcolor": "white",
             "startlinecolor": "#2a3f5f"
            },
            "baxis": {
             "endlinecolor": "#2a3f5f",
             "gridcolor": "white",
             "linecolor": "white",
             "minorgridcolor": "white",
             "startlinecolor": "#2a3f5f"
            },
            "type": "carpet"
           }
          ],
          "choropleth": [
           {
            "colorbar": {
             "outlinewidth": 0,
             "ticks": ""
            },
            "type": "choropleth"
           }
          ],
          "contour": [
           {
            "colorbar": {
             "outlinewidth": 0,
             "ticks": ""
            },
            "colorscale": [
             [
              0,
              "#0d0887"
             ],
             [
              0.1111111111111111,
              "#46039f"
             ],
             [
              0.2222222222222222,
              "#7201a8"
             ],
             [
              0.3333333333333333,
              "#9c179e"
             ],
             [
              0.4444444444444444,
              "#bd3786"
             ],
             [
              0.5555555555555556,
              "#d8576b"
             ],
             [
              0.6666666666666666,
              "#ed7953"
             ],
             [
              0.7777777777777778,
              "#fb9f3a"
             ],
             [
              0.8888888888888888,
              "#fdca26"
             ],
             [
              1,
              "#f0f921"
             ]
            ],
            "type": "contour"
           }
          ],
          "contourcarpet": [
           {
            "colorbar": {
             "outlinewidth": 0,
             "ticks": ""
            },
            "type": "contourcarpet"
           }
          ],
          "heatmap": [
           {
            "colorbar": {
             "outlinewidth": 0,
             "ticks": ""
            },
            "colorscale": [
             [
              0,
              "#0d0887"
             ],
             [
              0.1111111111111111,
              "#46039f"
             ],
             [
              0.2222222222222222,
              "#7201a8"
             ],
             [
              0.3333333333333333,
              "#9c179e"
             ],
             [
              0.4444444444444444,
              "#bd3786"
             ],
             [
              0.5555555555555556,
              "#d8576b"
             ],
             [
              0.6666666666666666,
              "#ed7953"
             ],
             [
              0.7777777777777778,
              "#fb9f3a"
             ],
             [
              0.8888888888888888,
              "#fdca26"
             ],
             [
              1,
              "#f0f921"
             ]
            ],
            "type": "heatmap"
           }
          ],
          "heatmapgl": [
           {
            "colorbar": {
             "outlinewidth": 0,
             "ticks": ""
            },
            "colorscale": [
             [
              0,
              "#0d0887"
             ],
             [
              0.1111111111111111,
              "#46039f"
             ],
             [
              0.2222222222222222,
              "#7201a8"
             ],
             [
              0.3333333333333333,
              "#9c179e"
             ],
             [
              0.4444444444444444,
              "#bd3786"
             ],
             [
              0.5555555555555556,
              "#d8576b"
             ],
             [
              0.6666666666666666,
              "#ed7953"
             ],
             [
              0.7777777777777778,
              "#fb9f3a"
             ],
             [
              0.8888888888888888,
              "#fdca26"
             ],
             [
              1,
              "#f0f921"
             ]
            ],
            "type": "heatmapgl"
           }
          ],
          "histogram": [
           {
            "marker": {
             "pattern": {
              "fillmode": "overlay",
              "size": 10,
              "solidity": 0.2
             }
            },
            "type": "histogram"
           }
          ],
          "histogram2d": [
           {
            "colorbar": {
             "outlinewidth": 0,
             "ticks": ""
            },
            "colorscale": [
             [
              0,
              "#0d0887"
             ],
             [
              0.1111111111111111,
              "#46039f"
             ],
             [
              0.2222222222222222,
              "#7201a8"
             ],
             [
              0.3333333333333333,
              "#9c179e"
             ],
             [
              0.4444444444444444,
              "#bd3786"
             ],
             [
              0.5555555555555556,
              "#d8576b"
             ],
             [
              0.6666666666666666,
              "#ed7953"
             ],
             [
              0.7777777777777778,
              "#fb9f3a"
             ],
             [
              0.8888888888888888,
              "#fdca26"
             ],
             [
              1,
              "#f0f921"
             ]
            ],
            "type": "histogram2d"
           }
          ],
          "histogram2dcontour": [
           {
            "colorbar": {
             "outlinewidth": 0,
             "ticks": ""
            },
            "colorscale": [
             [
              0,
              "#0d0887"
             ],
             [
              0.1111111111111111,
              "#46039f"
             ],
             [
              0.2222222222222222,
              "#7201a8"
             ],
             [
              0.3333333333333333,
              "#9c179e"
             ],
             [
              0.4444444444444444,
              "#bd3786"
             ],
             [
              0.5555555555555556,
              "#d8576b"
             ],
             [
              0.6666666666666666,
              "#ed7953"
             ],
             [
              0.7777777777777778,
              "#fb9f3a"
             ],
             [
              0.8888888888888888,
              "#fdca26"
             ],
             [
              1,
              "#f0f921"
             ]
            ],
            "type": "histogram2dcontour"
           }
          ],
          "mesh3d": [
           {
            "colorbar": {
             "outlinewidth": 0,
             "ticks": ""
            },
            "type": "mesh3d"
           }
          ],
          "parcoords": [
           {
            "line": {
             "colorbar": {
              "outlinewidth": 0,
              "ticks": ""
             }
            },
            "type": "parcoords"
           }
          ],
          "pie": [
           {
            "automargin": true,
            "type": "pie"
           }
          ],
          "scatter": [
           {
            "fillpattern": {
             "fillmode": "overlay",
             "size": 10,
             "solidity": 0.2
            },
            "type": "scatter"
           }
          ],
          "scatter3d": [
           {
            "line": {
             "colorbar": {
              "outlinewidth": 0,
              "ticks": ""
             }
            },
            "marker": {
             "colorbar": {
              "outlinewidth": 0,
              "ticks": ""
             }
            },
            "type": "scatter3d"
           }
          ],
          "scattercarpet": [
           {
            "marker": {
             "colorbar": {
              "outlinewidth": 0,
              "ticks": ""
             }
            },
            "type": "scattercarpet"
           }
          ],
          "scattergeo": [
           {
            "marker": {
             "colorbar": {
              "outlinewidth": 0,
              "ticks": ""
             }
            },
            "type": "scattergeo"
           }
          ],
          "scattergl": [
           {
            "marker": {
             "colorbar": {
              "outlinewidth": 0,
              "ticks": ""
             }
            },
            "type": "scattergl"
           }
          ],
          "scattermapbox": [
           {
            "marker": {
             "colorbar": {
              "outlinewidth": 0,
              "ticks": ""
             }
            },
            "type": "scattermapbox"
           }
          ],
          "scatterpolar": [
           {
            "marker": {
             "colorbar": {
              "outlinewidth": 0,
              "ticks": ""
             }
            },
            "type": "scatterpolar"
           }
          ],
          "scatterpolargl": [
           {
            "marker": {
             "colorbar": {
              "outlinewidth": 0,
              "ticks": ""
             }
            },
            "type": "scatterpolargl"
           }
          ],
          "scatterternary": [
           {
            "marker": {
             "colorbar": {
              "outlinewidth": 0,
              "ticks": ""
             }
            },
            "type": "scatterternary"
           }
          ],
          "surface": [
           {
            "colorbar": {
             "outlinewidth": 0,
             "ticks": ""
            },
            "colorscale": [
             [
              0,
              "#0d0887"
             ],
             [
              0.1111111111111111,
              "#46039f"
             ],
             [
              0.2222222222222222,
              "#7201a8"
             ],
             [
              0.3333333333333333,
              "#9c179e"
             ],
             [
              0.4444444444444444,
              "#bd3786"
             ],
             [
              0.5555555555555556,
              "#d8576b"
             ],
             [
              0.6666666666666666,
              "#ed7953"
             ],
             [
              0.7777777777777778,
              "#fb9f3a"
             ],
             [
              0.8888888888888888,
              "#fdca26"
             ],
             [
              1,
              "#f0f921"
             ]
            ],
            "type": "surface"
           }
          ],
          "table": [
           {
            "cells": {
             "fill": {
              "color": "#EBF0F8"
             },
             "line": {
              "color": "white"
             }
            },
            "header": {
             "fill": {
              "color": "#C8D4E3"
             },
             "line": {
              "color": "white"
             }
            },
            "type": "table"
           }
          ]
         },
         "layout": {
          "annotationdefaults": {
           "arrowcolor": "#2a3f5f",
           "arrowhead": 0,
           "arrowwidth": 1
          },
          "autotypenumbers": "strict",
          "coloraxis": {
           "colorbar": {
            "outlinewidth": 0,
            "ticks": ""
           }
          },
          "colorscale": {
           "diverging": [
            [
             0,
             "#8e0152"
            ],
            [
             0.1,
             "#c51b7d"
            ],
            [
             0.2,
             "#de77ae"
            ],
            [
             0.3,
             "#f1b6da"
            ],
            [
             0.4,
             "#fde0ef"
            ],
            [
             0.5,
             "#f7f7f7"
            ],
            [
             0.6,
             "#e6f5d0"
            ],
            [
             0.7,
             "#b8e186"
            ],
            [
             0.8,
             "#7fbc41"
            ],
            [
             0.9,
             "#4d9221"
            ],
            [
             1,
             "#276419"
            ]
           ],
           "sequential": [
            [
             0,
             "#0d0887"
            ],
            [
             0.1111111111111111,
             "#46039f"
            ],
            [
             0.2222222222222222,
             "#7201a8"
            ],
            [
             0.3333333333333333,
             "#9c179e"
            ],
            [
             0.4444444444444444,
             "#bd3786"
            ],
            [
             0.5555555555555556,
             "#d8576b"
            ],
            [
             0.6666666666666666,
             "#ed7953"
            ],
            [
             0.7777777777777778,
             "#fb9f3a"
            ],
            [
             0.8888888888888888,
             "#fdca26"
            ],
            [
             1,
             "#f0f921"
            ]
           ],
           "sequentialminus": [
            [
             0,
             "#0d0887"
            ],
            [
             0.1111111111111111,
             "#46039f"
            ],
            [
             0.2222222222222222,
             "#7201a8"
            ],
            [
             0.3333333333333333,
             "#9c179e"
            ],
            [
             0.4444444444444444,
             "#bd3786"
            ],
            [
             0.5555555555555556,
             "#d8576b"
            ],
            [
             0.6666666666666666,
             "#ed7953"
            ],
            [
             0.7777777777777778,
             "#fb9f3a"
            ],
            [
             0.8888888888888888,
             "#fdca26"
            ],
            [
             1,
             "#f0f921"
            ]
           ]
          },
          "colorway": [
           "#636efa",
           "#EF553B",
           "#00cc96",
           "#ab63fa",
           "#FFA15A",
           "#19d3f3",
           "#FF6692",
           "#B6E880",
           "#FF97FF",
           "#FECB52"
          ],
          "font": {
           "color": "#2a3f5f"
          },
          "geo": {
           "bgcolor": "white",
           "lakecolor": "white",
           "landcolor": "#E5ECF6",
           "showlakes": true,
           "showland": true,
           "subunitcolor": "white"
          },
          "hoverlabel": {
           "align": "left"
          },
          "hovermode": "closest",
          "mapbox": {
           "style": "light"
          },
          "paper_bgcolor": "white",
          "plot_bgcolor": "#E5ECF6",
          "polar": {
           "angularaxis": {
            "gridcolor": "white",
            "linecolor": "white",
            "ticks": ""
           },
           "bgcolor": "#E5ECF6",
           "radialaxis": {
            "gridcolor": "white",
            "linecolor": "white",
            "ticks": ""
           }
          },
          "scene": {
           "xaxis": {
            "backgroundcolor": "#E5ECF6",
            "gridcolor": "white",
            "gridwidth": 2,
            "linecolor": "white",
            "showbackground": true,
            "ticks": "",
            "zerolinecolor": "white"
           },
           "yaxis": {
            "backgroundcolor": "#E5ECF6",
            "gridcolor": "white",
            "gridwidth": 2,
            "linecolor": "white",
            "showbackground": true,
            "ticks": "",
            "zerolinecolor": "white"
           },
           "zaxis": {
            "backgroundcolor": "#E5ECF6",
            "gridcolor": "white",
            "gridwidth": 2,
            "linecolor": "white",
            "showbackground": true,
            "ticks": "",
            "zerolinecolor": "white"
           }
          },
          "shapedefaults": {
           "line": {
            "color": "#2a3f5f"
           }
          },
          "ternary": {
           "aaxis": {
            "gridcolor": "white",
            "linecolor": "white",
            "ticks": ""
           },
           "baxis": {
            "gridcolor": "white",
            "linecolor": "white",
            "ticks": ""
           },
           "bgcolor": "#E5ECF6",
           "caxis": {
            "gridcolor": "white",
            "linecolor": "white",
            "ticks": ""
           }
          },
          "title": {
           "x": 0.05
          },
          "xaxis": {
           "automargin": true,
           "gridcolor": "white",
           "linecolor": "white",
           "ticks": "",
           "title": {
            "standoff": 15
           },
           "zerolinecolor": "white",
           "zerolinewidth": 2
          },
          "yaxis": {
           "automargin": true,
           "gridcolor": "white",
           "linecolor": "white",
           "ticks": "",
           "title": {
            "standoff": 15
           },
           "zerolinecolor": "white",
           "zerolinewidth": 2
          }
         }
        },
        "title": {
         "text": "Distribution of the food products in the database in regard to the chosen parameters."
        },
        "xaxis": {
         "anchor": "y",
         "domain": [
          0,
          1
         ],
         "title": {
          "text": "ecological scarcity 2013, total, UBP/100g"
         }
        },
        "yaxis": {
         "anchor": "x",
         "domain": [
          0,
          1
         ],
         "title": {
          "text": "Lysin_mg/100g"
         }
        }
       }
      },
      "text/html": [
       "<div>                            <div id=\"1b7ad505-5707-4a67-b3b2-e18491894213\" class=\"plotly-graph-div\" style=\"height:525px; width:100%;\"></div>            <script type=\"text/javascript\">                require([\"plotly\"], function(Plotly) {                    window.PLOTLYENV=window.PLOTLYENV || {};                                    if (document.getElementById(\"1b7ad505-5707-4a67-b3b2-e18491894213\")) {                    Plotly.newPlot(                        \"1b7ad505-5707-4a67-b3b2-e18491894213\",                        [{\"hovertemplate\":\"<b>%{hovertext}</b><br><br> =Apple<br>ecological scarcity 2013, total, UBP/100g=%{x}<br>Lysin_mg/100g=%{y}<br>Protein_g/g=%{marker.size}<extra></extra>\",\"hovertext\":[\"Apple\"],\"legendgroup\":\"Apple\",\"marker\":{\"color\":\"rgb(0, 1, 0)\",\"size\":[0.303],\"sizemode\":\"area\",\"sizeref\":0.00014444444444444444,\"symbol\":\"circle\"},\"mode\":\"markers\",\"name\":\"Apple\",\"orientation\":\"v\",\"showlegend\":true,\"x\":[134.47],\"xaxis\":\"x\",\"y\":[0.119],\"yaxis\":\"y\",\"type\":\"scatter\"},{\"hovertemplate\":\"<b>%{hovertext}</b><br><br> =Feta<br>ecological scarcity 2013, total, UBP/100g=%{x}<br>Lysin_mg/100g=%{y}<br>Protein_g/g=%{marker.size}<extra></extra>\",\"hovertext\":[\"Feta\"],\"legendgroup\":\"Feta\",\"marker\":{\"color\":\"rgb(11, 25, 39)\",\"size\":[0.137],\"sizemode\":\"area\",\"sizeref\":0.00014444444444444444,\"symbol\":\"circle\"},\"mode\":\"markers\",\"name\":\"Feta\",\"orientation\":\"v\",\"showlegend\":true,\"x\":[null],\"xaxis\":\"x\",\"y\":[0.057],\"yaxis\":\"y\",\"type\":\"scatter\"},{\"hovertemplate\":\"<b>%{hovertext}</b><br><br> =Pine nut<br>ecological scarcity 2013, total, UBP/100g=%{x}<br>Lysin_mg/100g=%{y}<br>Protein_g/g=%{marker.size}<extra></extra>\",\"hovertext\":[\"Pine nut\"],\"legendgroup\":\"Pine nut\",\"marker\":{\"color\":\"rgb(17, 48, 77)\",\"size\":[0.204],\"sizemode\":\"area\",\"sizeref\":0.00014444444444444444,\"symbol\":\"circle\"},\"mode\":\"markers\",\"name\":\"Pine nut\",\"orientation\":\"v\",\"showlegend\":true,\"x\":[null],\"xaxis\":\"x\",\"y\":[0.6],\"yaxis\":\"y\",\"type\":\"scatter\"},{\"hovertemplate\":\"<b>%{hovertext}</b><br><br> =Sesame<br>ecological scarcity 2013, total, UBP/100g=%{x}<br>Lysin_mg/100g=%{y}<br>Protein_g/g=%{marker.size}<extra></extra>\",\"hovertext\":[\"Sesame\"],\"legendgroup\":\"Sesame\",\"marker\":{\"color\":\"rgb(27, 73, 117)\",\"size\":[0.202],\"sizemode\":\"area\",\"sizeref\":0.00014444444444444444,\"symbol\":\"circle\"},\"mode\":\"markers\",\"name\":\"Sesame\",\"orientation\":\"v\",\"showlegend\":true,\"x\":[592.5899999999999],\"xaxis\":\"x\",\"y\":[0.458],\"yaxis\":\"y\",\"type\":\"scatter\"},{\"hovertemplate\":\"<b>%{hovertext}</b><br><br> =Pistachio<br>ecological scarcity 2013, total, UBP/100g=%{x}<br>Lysin_mg/100g=%{y}<br>Protein_g/g=%{marker.size}<extra></extra>\",\"hovertext\":[\"Pistachio\"],\"legendgroup\":\"Pistachio\",\"marker\":{\"color\":\"rgb(46, 98, 160)\",\"size\":[0.206],\"sizemode\":\"area\",\"sizeref\":0.00014444444444444444,\"symbol\":\"circle\"},\"mode\":\"markers\",\"name\":\"Pistachio\",\"orientation\":\"v\",\"showlegend\":true,\"x\":[null],\"xaxis\":\"x\",\"y\":[1.02],\"yaxis\":\"y\",\"type\":\"scatter\"},{\"hovertemplate\":\"<b>%{hovertext}</b><br><br> =Cashew nut<br>ecological scarcity 2013, total, UBP/100g=%{x}<br>Lysin_mg/100g=%{y}<br>Protein_g/g=%{marker.size}<extra></extra>\",\"hovertext\":[\"Cashew nut\"],\"legendgroup\":\"Cashew nut\",\"marker\":{\"color\":\"rgb(78, 125, 199)\",\"size\":[0.213],\"sizemode\":\"area\",\"sizeref\":0.00014444444444444444,\"symbol\":\"circle\"},\"mode\":\"markers\",\"name\":\"Cashew nut\",\"orientation\":\"v\",\"showlegend\":true,\"x\":[3322.2],\"xaxis\":\"x\",\"y\":[0.689],\"yaxis\":\"y\",\"type\":\"scatter\"},{\"hovertemplate\":\"<b>%{hovertext}</b><br><br> =Hard cheese<br>ecological scarcity 2013, total, UBP/100g=%{x}<br>Lysin_mg/100g=%{y}<br>Protein_g/g=%{marker.size}<extra></extra>\",\"hovertext\":[\"Hard cheese\"],\"legendgroup\":\"Hard cheese\",\"marker\":{\"color\":\"rgb(111, 146, 202)\",\"size\":[0.179],\"sizemode\":\"area\",\"sizeref\":0.00014444444444444444,\"symbol\":\"circle\"},\"mode\":\"markers\",\"name\":\"Hard cheese\",\"orientation\":\"v\",\"showlegend\":true,\"x\":[3554.7],\"xaxis\":\"x\",\"y\":[0.1],\"yaxis\":\"y\",\"type\":\"scatter\"},{\"hovertemplate\":\"<b>%{hovertext}</b><br><br> =Hazel nut<br>ecological scarcity 2013, total, UBP/100g=%{x}<br>Lysin_mg/100g=%{y}<br>Protein_g/g=%{marker.size}<extra></extra>\",\"hovertext\":[\"Hazel nut\"],\"legendgroup\":\"Hazel nut\",\"marker\":{\"color\":\"rgb(144, 166, 201)\",\"size\":[0.219],\"sizemode\":\"area\",\"sizeref\":0.00014444444444444444,\"symbol\":\"circle\"},\"mode\":\"markers\",\"name\":\"Hazel nut\",\"orientation\":\"v\",\"showlegend\":true,\"x\":[null],\"xaxis\":\"x\",\"y\":[0.745],\"yaxis\":\"y\",\"type\":\"scatter\"},{\"hovertemplate\":\"<b>%{hovertext}</b><br><br> =Chicken<br>ecological scarcity 2013, total, UBP/100g=%{x}<br>Lysin_mg/100g=%{y}<br>Protein_g/g=%{marker.size}<extra></extra>\",\"hovertext\":[\"Chicken\"],\"legendgroup\":\"Chicken\",\"marker\":{\"color\":\"rgb(176, 185, 200)\",\"size\":[0.264],\"sizemode\":\"area\",\"sizeref\":0.00014444444444444444,\"symbol\":\"circle\"},\"mode\":\"markers\",\"name\":\"Chicken\",\"orientation\":\"v\",\"showlegend\":true,\"x\":[668.1],\"xaxis\":\"x\",\"y\":[0.147],\"yaxis\":\"y\",\"type\":\"scatter\"},{\"hovertemplate\":\"<b>%{hovertext}</b><br><br> =Peanut<br>ecological scarcity 2013, total, UBP/100g=%{x}<br>Lysin_mg/100g=%{y}<br>Protein_g/g=%{marker.size}<extra></extra>\",\"hovertext\":[\"Peanut\"],\"legendgroup\":\"Peanut\",\"marker\":{\"color\":\"rgb(215, 215, 216)\",\"size\":[0.129],\"sizemode\":\"area\",\"sizeref\":0.00014444444444444444,\"symbol\":\"circle\"},\"mode\":\"markers\",\"name\":\"Peanut\",\"orientation\":\"v\",\"showlegend\":true,\"x\":[755.67],\"xaxis\":\"x\",\"y\":[0.66],\"yaxis\":\"y\",\"type\":\"scatter\"},{\"hovertemplate\":\"<b>%{hovertext}</b><br><br> =Linseed<br>ecological scarcity 2013, total, UBP/100g=%{x}<br>Lysin_mg/100g=%{y}<br>Protein_g/g=%{marker.size}<extra></extra>\",\"hovertext\":[\"Linseed\"],\"legendgroup\":\"Linseed\",\"marker\":{\"color\":\"rgb(255, 255, 255)\",\"size\":[0.203],\"sizemode\":\"area\",\"sizeref\":0.00014444444444444444,\"symbol\":\"circle\"},\"mode\":\"markers\",\"name\":\"Linseed\",\"orientation\":\"v\",\"showlegend\":true,\"x\":[88.025],\"xaxis\":\"x\",\"y\":[0.731],\"yaxis\":\"y\",\"type\":\"scatter\"},{\"hovertemplate\":\"<b>%{hovertext}</b><br><br> =Sunflower seed<br>ecological scarcity 2013, total, UBP/100g=%{x}<br>Lysin_mg/100g=%{y}<br>Protein_g/g=%{marker.size}<extra></extra>\",\"hovertext\":[\"Sunflower seed\"],\"legendgroup\":\"Sunflower seed\",\"marker\":{\"color\":\"rgb(0, 1, 0)\",\"size\":[0.2],\"sizemode\":\"area\",\"sizeref\":0.00014444444444444444,\"symbol\":\"circle\"},\"mode\":\"markers\",\"name\":\"Sunflower seed\",\"orientation\":\"v\",\"showlegend\":true,\"x\":[1251.3],\"xaxis\":\"x\",\"y\":[0.784],\"yaxis\":\"y\",\"type\":\"scatter\"},{\"hovertemplate\":\"<b>%{hovertext}</b><br><br> =Durum wheat<br>ecological scarcity 2013, total, UBP/100g=%{x}<br>Lysin_mg/100g=%{y}<br>Protein_g/g=%{marker.size}<extra></extra>\",\"hovertext\":[\"Durum wheat\"],\"legendgroup\":\"Durum wheat\",\"marker\":{\"color\":\"rgb(11, 25, 39)\",\"size\":[0.385],\"sizemode\":\"area\",\"sizeref\":0.00014444444444444444,\"symbol\":\"circle\"},\"mode\":\"markers\",\"name\":\"Durum wheat\",\"orientation\":\"v\",\"showlegend\":true,\"x\":[280.51],\"xaxis\":\"x\",\"y\":[0.112],\"yaxis\":\"y\",\"type\":\"scatter\"},{\"hovertemplate\":\"<b>%{hovertext}</b><br><br> =Soybeans<br>ecological scarcity 2013, total, UBP/100g=%{x}<br>Lysin_mg/100g=%{y}<br>Protein_g/g=%{marker.size}<extra></extra>\",\"hovertext\":[\"Soybeans\"],\"legendgroup\":\"Soybeans\",\"marker\":{\"color\":\"rgb(17, 48, 77)\",\"size\":[0.046],\"sizemode\":\"area\",\"sizeref\":0.00014444444444444444,\"symbol\":\"circle\"},\"mode\":\"markers\",\"name\":\"Soybeans\",\"orientation\":\"v\",\"showlegend\":true,\"x\":[null],\"xaxis\":\"x\",\"y\":[0.25],\"yaxis\":\"y\",\"type\":\"scatter\"},{\"hovertemplate\":\"<b>%{hovertext}</b><br><br> =Cow's milk<br>ecological scarcity 2013, total, UBP/100g=%{x}<br>Lysin_mg/100g=%{y}<br>Protein_g/g=%{marker.size}<extra></extra>\",\"hovertext\":[\"Cow's milk\"],\"legendgroup\":\"Cow's milk\",\"marker\":{\"color\":\"rgb(27, 73, 117)\",\"size\":[0.135],\"sizemode\":\"area\",\"sizeref\":0.00014444444444444444,\"symbol\":\"circle\"},\"mode\":\"markers\",\"name\":\"Cow's milk\",\"orientation\":\"v\",\"showlegend\":true,\"x\":[475.95],\"xaxis\":\"x\",\"y\":[0.14],\"yaxis\":\"y\",\"type\":\"scatter\"},{\"hovertemplate\":\"<b>%{hovertext}</b><br><br> =Pumpkin seed<br>ecological scarcity 2013, total, UBP/100g=%{x}<br>Lysin_mg/100g=%{y}<br>Protein_g/g=%{marker.size}<extra></extra>\",\"hovertext\":[\"Pumpkin seed\"],\"legendgroup\":\"Pumpkin seed\",\"marker\":{\"color\":\"rgb(46, 98, 160)\",\"size\":[0.205],\"sizemode\":\"area\",\"sizeref\":0.00014444444444444444,\"symbol\":\"circle\"},\"mode\":\"markers\",\"name\":\"Pumpkin seed\",\"orientation\":\"v\",\"showlegend\":true,\"x\":[null],\"xaxis\":\"x\",\"y\":[0.57],\"yaxis\":\"y\",\"type\":\"scatter\"},{\"hovertemplate\":\"<b>%{hovertext}</b><br><br> =Soft cheese<br>ecological scarcity 2013, total, UBP/100g=%{x}<br>Lysin_mg/100g=%{y}<br>Protein_g/g=%{marker.size}<extra></extra>\",\"hovertext\":[\"Soft cheese\"],\"legendgroup\":\"Soft cheese\",\"marker\":{\"color\":\"rgb(78, 125, 199)\",\"size\":[0.52],\"sizemode\":\"area\",\"sizeref\":0.00014444444444444444,\"symbol\":\"circle\"},\"mode\":\"markers\",\"name\":\"Soft cheese\",\"orientation\":\"v\",\"showlegend\":true,\"x\":[3554.7],\"xaxis\":\"x\",\"y\":[0.15],\"yaxis\":\"y\",\"type\":\"scatter\"}],                        {\"template\":{\"data\":{\"histogram2dcontour\":[{\"type\":\"histogram2dcontour\",\"colorbar\":{\"outlinewidth\":0,\"ticks\":\"\"},\"colorscale\":[[0.0,\"#0d0887\"],[0.1111111111111111,\"#46039f\"],[0.2222222222222222,\"#7201a8\"],[0.3333333333333333,\"#9c179e\"],[0.4444444444444444,\"#bd3786\"],[0.5555555555555556,\"#d8576b\"],[0.6666666666666666,\"#ed7953\"],[0.7777777777777778,\"#fb9f3a\"],[0.8888888888888888,\"#fdca26\"],[1.0,\"#f0f921\"]]}],\"choropleth\":[{\"type\":\"choropleth\",\"colorbar\":{\"outlinewidth\":0,\"ticks\":\"\"}}],\"histogram2d\":[{\"type\":\"histogram2d\",\"colorbar\":{\"outlinewidth\":0,\"ticks\":\"\"},\"colorscale\":[[0.0,\"#0d0887\"],[0.1111111111111111,\"#46039f\"],[0.2222222222222222,\"#7201a8\"],[0.3333333333333333,\"#9c179e\"],[0.4444444444444444,\"#bd3786\"],[0.5555555555555556,\"#d8576b\"],[0.6666666666666666,\"#ed7953\"],[0.7777777777777778,\"#fb9f3a\"],[0.8888888888888888,\"#fdca26\"],[1.0,\"#f0f921\"]]}],\"heatmap\":[{\"type\":\"heatmap\",\"colorbar\":{\"outlinewidth\":0,\"ticks\":\"\"},\"colorscale\":[[0.0,\"#0d0887\"],[0.1111111111111111,\"#46039f\"],[0.2222222222222222,\"#7201a8\"],[0.3333333333333333,\"#9c179e\"],[0.4444444444444444,\"#bd3786\"],[0.5555555555555556,\"#d8576b\"],[0.6666666666666666,\"#ed7953\"],[0.7777777777777778,\"#fb9f3a\"],[0.8888888888888888,\"#fdca26\"],[1.0,\"#f0f921\"]]}],\"heatmapgl\":[{\"type\":\"heatmapgl\",\"colorbar\":{\"outlinewidth\":0,\"ticks\":\"\"},\"colorscale\":[[0.0,\"#0d0887\"],[0.1111111111111111,\"#46039f\"],[0.2222222222222222,\"#7201a8\"],[0.3333333333333333,\"#9c179e\"],[0.4444444444444444,\"#bd3786\"],[0.5555555555555556,\"#d8576b\"],[0.6666666666666666,\"#ed7953\"],[0.7777777777777778,\"#fb9f3a\"],[0.8888888888888888,\"#fdca26\"],[1.0,\"#f0f921\"]]}],\"contourcarpet\":[{\"type\":\"contourcarpet\",\"colorbar\":{\"outlinewidth\":0,\"ticks\":\"\"}}],\"contour\":[{\"type\":\"contour\",\"colorbar\":{\"outlinewidth\":0,\"ticks\":\"\"},\"colorscale\":[[0.0,\"#0d0887\"],[0.1111111111111111,\"#46039f\"],[0.2222222222222222,\"#7201a8\"],[0.3333333333333333,\"#9c179e\"],[0.4444444444444444,\"#bd3786\"],[0.5555555555555556,\"#d8576b\"],[0.6666666666666666,\"#ed7953\"],[0.7777777777777778,\"#fb9f3a\"],[0.8888888888888888,\"#fdca26\"],[1.0,\"#f0f921\"]]}],\"surface\":[{\"type\":\"surface\",\"colorbar\":{\"outlinewidth\":0,\"ticks\":\"\"},\"colorscale\":[[0.0,\"#0d0887\"],[0.1111111111111111,\"#46039f\"],[0.2222222222222222,\"#7201a8\"],[0.3333333333333333,\"#9c179e\"],[0.4444444444444444,\"#bd3786\"],[0.5555555555555556,\"#d8576b\"],[0.6666666666666666,\"#ed7953\"],[0.7777777777777778,\"#fb9f3a\"],[0.8888888888888888,\"#fdca26\"],[1.0,\"#f0f921\"]]}],\"mesh3d\":[{\"type\":\"mesh3d\",\"colorbar\":{\"outlinewidth\":0,\"ticks\":\"\"}}],\"scatter\":[{\"fillpattern\":{\"fillmode\":\"overlay\",\"size\":10,\"solidity\":0.2},\"type\":\"scatter\"}],\"parcoords\":[{\"type\":\"parcoords\",\"line\":{\"colorbar\":{\"outlinewidth\":0,\"ticks\":\"\"}}}],\"scatterpolargl\":[{\"type\":\"scatterpolargl\",\"marker\":{\"colorbar\":{\"outlinewidth\":0,\"ticks\":\"\"}}}],\"bar\":[{\"error_x\":{\"color\":\"#2a3f5f\"},\"error_y\":{\"color\":\"#2a3f5f\"},\"marker\":{\"line\":{\"color\":\"#E5ECF6\",\"width\":0.5},\"pattern\":{\"fillmode\":\"overlay\",\"size\":10,\"solidity\":0.2}},\"type\":\"bar\"}],\"scattergeo\":[{\"type\":\"scattergeo\",\"marker\":{\"colorbar\":{\"outlinewidth\":0,\"ticks\":\"\"}}}],\"scatterpolar\":[{\"type\":\"scatterpolar\",\"marker\":{\"colorbar\":{\"outlinewidth\":0,\"ticks\":\"\"}}}],\"histogram\":[{\"marker\":{\"pattern\":{\"fillmode\":\"overlay\",\"size\":10,\"solidity\":0.2}},\"type\":\"histogram\"}],\"scattergl\":[{\"type\":\"scattergl\",\"marker\":{\"colorbar\":{\"outlinewidth\":0,\"ticks\":\"\"}}}],\"scatter3d\":[{\"type\":\"scatter3d\",\"line\":{\"colorbar\":{\"outlinewidth\":0,\"ticks\":\"\"}},\"marker\":{\"colorbar\":{\"outlinewidth\":0,\"ticks\":\"\"}}}],\"scattermapbox\":[{\"type\":\"scattermapbox\",\"marker\":{\"colorbar\":{\"outlinewidth\":0,\"ticks\":\"\"}}}],\"scatterternary\":[{\"type\":\"scatterternary\",\"marker\":{\"colorbar\":{\"outlinewidth\":0,\"ticks\":\"\"}}}],\"scattercarpet\":[{\"type\":\"scattercarpet\",\"marker\":{\"colorbar\":{\"outlinewidth\":0,\"ticks\":\"\"}}}],\"carpet\":[{\"aaxis\":{\"endlinecolor\":\"#2a3f5f\",\"gridcolor\":\"white\",\"linecolor\":\"white\",\"minorgridcolor\":\"white\",\"startlinecolor\":\"#2a3f5f\"},\"baxis\":{\"endlinecolor\":\"#2a3f5f\",\"gridcolor\":\"white\",\"linecolor\":\"white\",\"minorgridcolor\":\"white\",\"startlinecolor\":\"#2a3f5f\"},\"type\":\"carpet\"}],\"table\":[{\"cells\":{\"fill\":{\"color\":\"#EBF0F8\"},\"line\":{\"color\":\"white\"}},\"header\":{\"fill\":{\"color\":\"#C8D4E3\"},\"line\":{\"color\":\"white\"}},\"type\":\"table\"}],\"barpolar\":[{\"marker\":{\"line\":{\"color\":\"#E5ECF6\",\"width\":0.5},\"pattern\":{\"fillmode\":\"overlay\",\"size\":10,\"solidity\":0.2}},\"type\":\"barpolar\"}],\"pie\":[{\"automargin\":true,\"type\":\"pie\"}]},\"layout\":{\"autotypenumbers\":\"strict\",\"colorway\":[\"#636efa\",\"#EF553B\",\"#00cc96\",\"#ab63fa\",\"#FFA15A\",\"#19d3f3\",\"#FF6692\",\"#B6E880\",\"#FF97FF\",\"#FECB52\"],\"font\":{\"color\":\"#2a3f5f\"},\"hovermode\":\"closest\",\"hoverlabel\":{\"align\":\"left\"},\"paper_bgcolor\":\"white\",\"plot_bgcolor\":\"#E5ECF6\",\"polar\":{\"bgcolor\":\"#E5ECF6\",\"angularaxis\":{\"gridcolor\":\"white\",\"linecolor\":\"white\",\"ticks\":\"\"},\"radialaxis\":{\"gridcolor\":\"white\",\"linecolor\":\"white\",\"ticks\":\"\"}},\"ternary\":{\"bgcolor\":\"#E5ECF6\",\"aaxis\":{\"gridcolor\":\"white\",\"linecolor\":\"white\",\"ticks\":\"\"},\"baxis\":{\"gridcolor\":\"white\",\"linecolor\":\"white\",\"ticks\":\"\"},\"caxis\":{\"gridcolor\":\"white\",\"linecolor\":\"white\",\"ticks\":\"\"}},\"coloraxis\":{\"colorbar\":{\"outlinewidth\":0,\"ticks\":\"\"}},\"colorscale\":{\"sequential\":[[0.0,\"#0d0887\"],[0.1111111111111111,\"#46039f\"],[0.2222222222222222,\"#7201a8\"],[0.3333333333333333,\"#9c179e\"],[0.4444444444444444,\"#bd3786\"],[0.5555555555555556,\"#d8576b\"],[0.6666666666666666,\"#ed7953\"],[0.7777777777777778,\"#fb9f3a\"],[0.8888888888888888,\"#fdca26\"],[1.0,\"#f0f921\"]],\"sequentialminus\":[[0.0,\"#0d0887\"],[0.1111111111111111,\"#46039f\"],[0.2222222222222222,\"#7201a8\"],[0.3333333333333333,\"#9c179e\"],[0.4444444444444444,\"#bd3786\"],[0.5555555555555556,\"#d8576b\"],[0.6666666666666666,\"#ed7953\"],[0.7777777777777778,\"#fb9f3a\"],[0.8888888888888888,\"#fdca26\"],[1.0,\"#f0f921\"]],\"diverging\":[[0,\"#8e0152\"],[0.1,\"#c51b7d\"],[0.2,\"#de77ae\"],[0.3,\"#f1b6da\"],[0.4,\"#fde0ef\"],[0.5,\"#f7f7f7\"],[0.6,\"#e6f5d0\"],[0.7,\"#b8e186\"],[0.8,\"#7fbc41\"],[0.9,\"#4d9221\"],[1,\"#276419\"]]},\"xaxis\":{\"gridcolor\":\"white\",\"linecolor\":\"white\",\"ticks\":\"\",\"title\":{\"standoff\":15},\"zerolinecolor\":\"white\",\"automargin\":true,\"zerolinewidth\":2},\"yaxis\":{\"gridcolor\":\"white\",\"linecolor\":\"white\",\"ticks\":\"\",\"title\":{\"standoff\":15},\"zerolinecolor\":\"white\",\"automargin\":true,\"zerolinewidth\":2},\"scene\":{\"xaxis\":{\"backgroundcolor\":\"#E5ECF6\",\"gridcolor\":\"white\",\"linecolor\":\"white\",\"showbackground\":true,\"ticks\":\"\",\"zerolinecolor\":\"white\",\"gridwidth\":2},\"yaxis\":{\"backgroundcolor\":\"#E5ECF6\",\"gridcolor\":\"white\",\"linecolor\":\"white\",\"showbackground\":true,\"ticks\":\"\",\"zerolinecolor\":\"white\",\"gridwidth\":2},\"zaxis\":{\"backgroundcolor\":\"#E5ECF6\",\"gridcolor\":\"white\",\"linecolor\":\"white\",\"showbackground\":true,\"ticks\":\"\",\"zerolinecolor\":\"white\",\"gridwidth\":2}},\"shapedefaults\":{\"line\":{\"color\":\"#2a3f5f\"}},\"annotationdefaults\":{\"arrowcolor\":\"#2a3f5f\",\"arrowhead\":0,\"arrowwidth\":1},\"geo\":{\"bgcolor\":\"white\",\"landcolor\":\"#E5ECF6\",\"subunitcolor\":\"white\",\"showland\":true,\"showlakes\":true,\"lakecolor\":\"white\"},\"title\":{\"x\":0.05},\"mapbox\":{\"style\":\"light\"}}},\"xaxis\":{\"anchor\":\"y\",\"domain\":[0.0,1.0],\"title\":{\"text\":\"ecological scarcity 2013, total, UBP/100g\"}},\"yaxis\":{\"anchor\":\"x\",\"domain\":[0.0,1.0],\"title\":{\"text\":\"Lysin_mg/100g\"}},\"legend\":{\"title\":{\"text\":\" \"},\"tracegroupgap\":0,\"itemsizing\":\"constant\"},\"title\":{\"text\":\"Distribution of the food products in the database in regard to the chosen parameters.\"}},                        {\"responsive\": true}                    ).then(function(){\n",
       "                            \n",
       "var gd = document.getElementById('1b7ad505-5707-4a67-b3b2-e18491894213');\n",
       "var x = new MutationObserver(function (mutations, observer) {{\n",
       "        var display = window.getComputedStyle(gd).display;\n",
       "        if (!display || display === 'none') {{\n",
       "            console.log([gd, 'removed!']);\n",
       "            Plotly.purge(gd);\n",
       "            observer.disconnect();\n",
       "        }}\n",
       "}});\n",
       "\n",
       "// Listen for the removal of the full notebook cells\n",
       "var notebookContainer = gd.closest('#notebook-container');\n",
       "if (notebookContainer) {{\n",
       "    x.observe(notebookContainer, {childList: true});\n",
       "}}\n",
       "\n",
       "// Listen for the clearing of the current output cell\n",
       "var outputEl = gd.closest('.output');\n",
       "if (outputEl) {{\n",
       "    x.observe(outputEl, {childList: true});\n",
       "}}\n",
       "\n",
       "                        })                };                });            </script>        </div>"
      ]
     },
     "metadata": {},
     "output_type": "display_data"
    }
   ],
   "source": [
    "# chose the dimensions to display\n",
    "\n",
    "size =  'Protein_g/g'\n",
    "x = 'ecological scarcity 2013, total, UBP/100g'\n",
    "y = 'Lysin_mg/100g'\n",
    "\n",
    "\n",
    "\n",
    "                                    \n",
    "\n",
    "\n",
    "fig = px.scatter(df, \n",
    "                y=y,\n",
    "                   size= size,\n",
    "                 x = x,\n",
    "                 color = df.index, \n",
    "           hover_name=df.index, \n",
    "                 size_max=60,\n",
    "         color_discrete_sequence = oslo_rgb,\n",
    "                 title = 'Distribution of the food products in the database in regard to the chosen parameters.'\n",
    "                )\n",
    "fig.show()"
   ]
  },
  {
   "cell_type": "code",
   "execution_count": 70,
   "id": "dbcbc0f7",
   "metadata": {},
   "outputs": [],
   "source": [
    "# plt.figure(figsize=(8, 4))\n",
    "# sns.scatterplot(df_food, x = x, y = y, size = size, hue = 'Category', palette=cm.oslo.colors, legend='brief')\n",
    "# plt.legend(loc=(1.04, 0))\n",
    "\n",
    "# sns.despine(left=True, bottom=True)"
   ]
  },
  {
   "cell_type": "markdown",
   "id": "216aead3",
   "metadata": {},
   "source": [
    "### Anzahl pro Kategorie\n",
    " - zur Übersicht ob etwas überrepräsentiert ist\n",
    " - Aggregation, keine negative oder positive Aussage, keine Referenzwerte nötig\n",
    "  - Annotation/Farbe ja/nein"
   ]
  },
  {
   "cell_type": "markdown",
   "id": "7bf64ddc",
   "metadata": {},
   "source": [
    "## TODO:\n",
    "### kann ich das besser zur Übersicht verwenden? \n",
    "### Clickable machen?\n",
    "### Treemap"
   ]
  },
  {
   "cell_type": "code",
   "execution_count": 71,
   "id": "d9c9251a",
   "metadata": {},
   "outputs": [
    {
     "ename": "AttributeError",
     "evalue": "'DataFrame' object has no attribute 'Category'",
     "output_type": "error",
     "traceback": [
      "\u001b[1;31m---------------------------------------------------------------------------\u001b[0m",
      "\u001b[1;31mAttributeError\u001b[0m                            Traceback (most recent call last)",
      "Cell \u001b[1;32mIn [71], line 1\u001b[0m\n\u001b[1;32m----> 1\u001b[0m fig \u001b[38;5;241m=\u001b[39m px\u001b[38;5;241m.\u001b[39msunburst(df, path\u001b[38;5;241m=\u001b[39m[df\u001b[38;5;241m.\u001b[39mindex, df\u001b[38;5;241m.\u001b[39mCategory], color\u001b[38;5;241m=\u001b[39m \u001b[38;5;124m'\u001b[39m\u001b[38;5;124mEiweiß (Protein)_mg/100g\u001b[39m\u001b[38;5;124m'\u001b[39m\n\u001b[0;32m      2\u001b[0m                   , color_discrete_sequence \u001b[38;5;241m=\u001b[39m (oslo_rgb \u001b[38;5;241m+\u001b[39m oslo_rgb\u001b[38;5;241m*\u001b[39m\u001b[38;5;241m2\u001b[39m), \n\u001b[0;32m      3\u001b[0m                   title \u001b[38;5;241m=\u001b[39m \u001b[38;5;124m'\u001b[39m\u001b[38;5;124mCategories in the database (inner circle) and corresponding food products\u001b[39m\u001b[38;5;124m'\u001b[39m \n\u001b[0;32m      4\u001b[0m                   \u001b[38;5;124m'\u001b[39m\u001b[38;5;124m(outer circle). <br>Click on one category to zoom in. To go back, click on the category again.\u001b[39m\u001b[38;5;124m'\u001b[39m\n\u001b[0;32m      5\u001b[0m                  )\n\u001b[0;32m      7\u001b[0m fig\u001b[38;5;241m.\u001b[39mshow()\n",
      "File \u001b[1;32m~\\AppData\\Local\\Programs\\Python\\Python39\\lib\\site-packages\\pandas\\core\\generic.py:5907\u001b[0m, in \u001b[0;36mNDFrame.__getattr__\u001b[1;34m(self, name)\u001b[0m\n\u001b[0;32m   5900\u001b[0m \u001b[38;5;28;01mif\u001b[39;00m (\n\u001b[0;32m   5901\u001b[0m     name \u001b[38;5;129;01mnot\u001b[39;00m \u001b[38;5;129;01min\u001b[39;00m \u001b[38;5;28mself\u001b[39m\u001b[38;5;241m.\u001b[39m_internal_names_set\n\u001b[0;32m   5902\u001b[0m     \u001b[38;5;129;01mand\u001b[39;00m name \u001b[38;5;129;01mnot\u001b[39;00m \u001b[38;5;129;01min\u001b[39;00m \u001b[38;5;28mself\u001b[39m\u001b[38;5;241m.\u001b[39m_metadata\n\u001b[0;32m   5903\u001b[0m     \u001b[38;5;129;01mand\u001b[39;00m name \u001b[38;5;129;01mnot\u001b[39;00m \u001b[38;5;129;01min\u001b[39;00m \u001b[38;5;28mself\u001b[39m\u001b[38;5;241m.\u001b[39m_accessors\n\u001b[0;32m   5904\u001b[0m     \u001b[38;5;129;01mand\u001b[39;00m \u001b[38;5;28mself\u001b[39m\u001b[38;5;241m.\u001b[39m_info_axis\u001b[38;5;241m.\u001b[39m_can_hold_identifiers_and_holds_name(name)\n\u001b[0;32m   5905\u001b[0m ):\n\u001b[0;32m   5906\u001b[0m     \u001b[38;5;28;01mreturn\u001b[39;00m \u001b[38;5;28mself\u001b[39m[name]\n\u001b[1;32m-> 5907\u001b[0m \u001b[38;5;28;01mreturn\u001b[39;00m \u001b[38;5;28;43mobject\u001b[39;49m\u001b[38;5;241;43m.\u001b[39;49m\u001b[38;5;21;43m__getattribute__\u001b[39;49m\u001b[43m(\u001b[49m\u001b[38;5;28;43mself\u001b[39;49m\u001b[43m,\u001b[49m\u001b[43m \u001b[49m\u001b[43mname\u001b[49m\u001b[43m)\u001b[49m\n",
      "\u001b[1;31mAttributeError\u001b[0m: 'DataFrame' object has no attribute 'Category'"
     ]
    }
   ],
   "source": [
    "fig = px.sunburst(df, path=[df.index, df.Category], color= 'Eiweiß (Protein)_mg/100g'\n",
    "                  , color_discrete_sequence = (oslo_rgb + oslo_rgb*2), \n",
    "                  title = 'Categories in the database (inner circle) and corresponding food products' \n",
    "                  '(outer circle). <br>Click on one category to zoom in. To go back, click on the category again.'\n",
    "                 )\n",
    "                \n",
    "fig.show()"
   ]
  },
  {
   "cell_type": "code",
   "execution_count": null,
   "id": "4114c5e4",
   "metadata": {},
   "outputs": [],
   "source": [
    "# # chose a parameter to display\n",
    "\n",
    "# list = ['Category', 'Allergens', 'FurProc', 'NutritionalForm']\n",
    "\n",
    "# choice = 'Allergens'\n",
    "\n",
    "# plt.figure(figsize=(8, 4))\n",
    "# sns.countplot(df_food, x= choice , color= zhaw_color, order=df[choice].value_counts().index)\n",
    "# sns.despine(left=True, bottom=True)\n",
    "# plt.title('Count of food products in the database in regard to the chosen parameter.')\n"
   ]
  },
  {
   "cell_type": "markdown",
   "id": "86a08b0e",
   "metadata": {},
   "source": [
    "### Anzahl missing values\n",
    " - Nur Anzahl pro Parameter oder Datensatz oder beides\n",
    " - keine Referenzwerte\n",
    " - fehlende Werte negativ notiert (dunkles rot/schwarz)\n",
    "     - Farben für Konsistenz beibehalten oder rot/schwarz?"
   ]
  },
  {
   "cell_type": "markdown",
   "id": "7bf99011",
   "metadata": {},
   "source": [
    "## TODO:\n",
    "[ X ] paar Produkte auswählen "
   ]
  },
  {
   "cell_type": "code",
   "execution_count": null,
   "id": "b14140e1",
   "metadata": {},
   "outputs": [],
   "source": [
    "# df_food.set_index('Food product', inplace=True)"
   ]
  },
  {
   "cell_type": "code",
   "execution_count": null,
   "id": "f02b7e79",
   "metadata": {},
   "outputs": [],
   "source": [
    "# choice = ['Rice', 'Potatoes', 'Milk']\n",
    "choice = df.columns[:]\n",
    "\n",
    "df_plot = df[choice].isna()\n",
    "\n",
    "plt.figure(figsize = (33, 10))\n",
    "\n",
    "sns.heatmap(df_plot, cbar = False, cmap = sns.blend_palette(cm.oslo.colors, n_colors=6))\n",
    "plt.tick_params(axis='both', which='major', \n",
    "                labelsize=10, labelbottom = False, bottom=False, top = False, labeltop=True)\n",
    "plt.xticks(rotation = 90)\n",
    "plt.title('Count of unknown values in the database. Dark color signifies known values, bright color signifies unknown value.')\n",
    "plt.show()"
   ]
  },
  {
   "cell_type": "code",
   "execution_count": null,
   "id": "72ee8449",
   "metadata": {},
   "outputs": [],
   "source": [
    "df_plot"
   ]
  },
  {
   "cell_type": "code",
   "execution_count": null,
   "id": "b7b58e5d",
   "metadata": {},
   "outputs": [],
   "source": [
    "import plotly\n",
    "\n",
    "choice = df.columns[:]\n",
    "\n",
    "df_plot = df[choice].isna()\n",
    "\n",
    "title_text = 'Count of unknown values in the database. Dark color signifies <br> known values, bright color signifies unknown value.'\n",
    "\n",
    "plt.figure(figsize=(20, 20))\n",
    "fig = px.imshow(df_plot, text_auto=False, aspect=\"auto\", width=2000,height=800, \n",
    "    color_continuous_scale=oslo_rgb\n",
    "               )\n",
    "fig.update_xaxes(side = \"top\")\n",
    "fig.update_layout(title_text=title_text,title_y = 0.95)\n",
    "fig.show()"
   ]
  },
  {
   "cell_type": "code",
   "execution_count": null,
   "id": "13c810a9",
   "metadata": {},
   "outputs": [],
   "source": [
    "import plotly\n",
    "\n",
    "choice = df.columns[50:65]\n",
    "\n",
    "size = len(choice)\n",
    "\n",
    "df_plot = df[choice]>0\n",
    "\n",
    "title_text = 'Count of zero values in the database. Dark color signifies zero values,<br>bright color signifies values bigger than zero.'\n",
    "\n",
    "plt.figure(figsize=(20, 20))\n",
    "fig = px.imshow(df_plot, text_auto=False, aspect=\"auto\", width=size*50,height=500, \n",
    "    color_continuous_scale=oslo_rgb\n",
    "               )\n",
    "fig.update_xaxes(side = \"top\")\n",
    "fig.update_layout(title_text=title_text,title_y = 0.95,\n",
    "         margin={'t': 200})\n",
    "\n",
    "fig.update_coloraxes(showscale=False)\n",
    "fig.show()"
   ]
  },
  {
   "cell_type": "code",
   "execution_count": null,
   "id": "e1292432",
   "metadata": {},
   "outputs": [],
   "source": [
    "df[choice]>0"
   ]
  },
  {
   "cell_type": "markdown",
   "id": "8fe14505",
   "metadata": {},
   "source": [
    "### distribution of a certain parameter\n",
    " - Verteilung der Daten, was sind typische hohe/niedrige Werte?\n",
    " - Skala kann eine Rolle spielen, wenn kleine und große Wertebereiche bei den Parametern vorhanden sind (Kalorien vs Asche)\n",
    " - trotzdem keine Referenzwerte verwendet, tatsächlicher Wertebereich soll abgebildet werden\n",
    " - keine negative /Positive Bewertung der Verteilung"
   ]
  },
  {
   "cell_type": "markdown",
   "id": "f3fe8711",
   "metadata": {},
   "source": [
    "## TODO:\n",
    "### nicht verständlich, so darstellen, dass Werte über 0, vielleicht Balken\n",
    "### Sinnvolle Beschreibung"
   ]
  },
  {
   "cell_type": "code",
   "execution_count": null,
   "id": "4f4e20f9",
   "metadata": {},
   "outputs": [],
   "source": [
    "df_dapro[df_dapro.columns[10:14]]"
   ]
  },
  {
   "cell_type": "code",
   "execution_count": null,
   "id": "eb8c695a",
   "metadata": {},
   "outputs": [],
   "source": [
    "# # column = ['Eiweiß (Protein)']\n",
    "# column = df_dapro.columns[10:14]\n",
    "# # column = df_food.columns[23:27]\n",
    "\n",
    "# plt.figure(figsize=(17, 10))\n",
    "# sns.histplot(df_dapro[column], palette = sns.blend_palette(cm.oslo.colors, n_colors=6), multiple='dodge' )\n",
    "# # plt.yticks(fontsize=20)\n",
    "# # plt.xticks(fontsize=20)\n",
    "# sns.despine(left=True, bottom=True)"
   ]
  },
  {
   "cell_type": "code",
   "execution_count": null,
   "id": "c1ac3f56",
   "metadata": {},
   "outputs": [],
   "source": [
    "# column = ['calories [kcal]', 'EuEmkg']\n",
    "\n",
    "# plt.figure(figsize=(17, 10))\n",
    "# sns.kdeplot(df_food[column], palette = cm.davos.colors)\n",
    "# # plt.yticks(fontsize=20)\n",
    "# # plt.xticks(fontsize=20)\n",
    "# sns.despine(left=True, bottom=True)"
   ]
  },
  {
   "cell_type": "markdown",
   "id": "9bc3a025",
   "metadata": {},
   "source": [
    "### Bubbles with data\n",
    "Nur Anzahl der Datenquellen, Datensätze, Parameter\n"
   ]
  },
  {
   "cell_type": "markdown",
   "id": "3728d223",
   "metadata": {},
   "source": [
    "## TODO:\n",
    "### mit Übersicht der Datenquellen kombinieren"
   ]
  },
  {
   "cell_type": "code",
   "execution_count": null,
   "id": "0d19cc46",
   "metadata": {},
   "outputs": [],
   "source": [
    "import numpy as np\n",
    "import matplotlib.pyplot as plt\n",
    "\n",
    "db_characterise = {\n",
    "    'dimensions': ['food products: {}'.format(len(df_dapro.index)), \n",
    "                   'parameter : {}'.format(len(df_dapro.columns)), 'data sources: {}'.format(5)],\n",
    "    'count': [len(df_dapro.index), len(df_dapro.columns), 2],\n",
    "    'color': (sns.blend_palette(cm.oslo.colors, n_colors=5)[-4:])\n",
    "}\n",
    "\n",
    "\n",
    "class BubbleChart:\n",
    "    def __init__(self, area, bubble_spacing=0):\n",
    "        \"\"\"\n",
    "        Setup for bubble collapse.\n",
    "\n",
    "        Parameters\n",
    "        ----------\n",
    "        area : array-like\n",
    "            Area of the bubbles.\n",
    "        bubble_spacing : float, default: 0\n",
    "            Minimal spacing between bubbles after collapsing.\n",
    "\n",
    "        Notes\n",
    "        -----\n",
    "        If \"area\" is sorted, the results might look weird.\n",
    "        \"\"\"\n",
    "        area = np.asarray(area)\n",
    "        r = np.sqrt(area / np.pi)\n",
    "\n",
    "        self.bubble_spacing = bubble_spacing\n",
    "        self.bubbles = np.ones((len(area), 4))\n",
    "        self.bubbles[:, 2] = r\n",
    "        self.bubbles[:, 3] = area\n",
    "        self.maxstep = 2 * self.bubbles[:, 2].max() + self.bubble_spacing\n",
    "        self.step_dist = self.maxstep / 2\n",
    "\n",
    "        # calculate initial grid layout for bubbles\n",
    "        length = np.ceil(np.sqrt(len(self.bubbles)))\n",
    "        grid = np.arange(length) * self.maxstep\n",
    "        gx, gy = np.meshgrid(grid, grid)\n",
    "        self.bubbles[:, 0] = gx.flatten()[:len(self.bubbles)]\n",
    "        self.bubbles[:, 1] = gy.flatten()[:len(self.bubbles)]\n",
    "\n",
    "        self.com = self.center_of_mass()\n",
    "\n",
    "    def center_of_mass(self):\n",
    "        return np.average(\n",
    "            self.bubbles[:, :2], axis=0, weights=self.bubbles[:, 3]\n",
    "        )\n",
    "\n",
    "    def center_distance(self, bubble, bubbles):\n",
    "        return np.hypot(bubble[0] - bubbles[:, 0],\n",
    "                        bubble[1] - bubbles[:, 1])\n",
    "\n",
    "    def outline_distance(self, bubble, bubbles):\n",
    "        center_distance = self.center_distance(bubble, bubbles)\n",
    "        return center_distance - bubble[2] - \\\n",
    "            bubbles[:, 2] - self.bubble_spacing\n",
    "\n",
    "    def check_collisions(self, bubble, bubbles):\n",
    "        distance = self.outline_distance(bubble, bubbles)\n",
    "        return len(distance[distance < 0])\n",
    "\n",
    "    def collides_with(self, bubble, bubbles):\n",
    "        distance = self.outline_distance(bubble, bubbles)\n",
    "        idx_min = np.argmin(distance)\n",
    "        return idx_min if type(idx_min) == np.ndarray else [idx_min]\n",
    "\n",
    "    def collapse(self, n_iterations=50):\n",
    "        \"\"\"\n",
    "        Move bubbles to the center of mass.\n",
    "\n",
    "        Parameters\n",
    "        ----------\n",
    "        n_iterations : int, default: 50\n",
    "            Number of moves to perform.\n",
    "        \"\"\"\n",
    "        for _i in range(n_iterations):\n",
    "            moves = 0\n",
    "            for i in range(len(self.bubbles)):\n",
    "                rest_bub = np.delete(self.bubbles, i, 0)\n",
    "                # try to move directly towards the center of mass\n",
    "                # direction vector from bubble to the center of mass\n",
    "                dir_vec = self.com - self.bubbles[i, :2]\n",
    "\n",
    "                # shorten direction vector to have length of 1\n",
    "                dir_vec = dir_vec / np.sqrt(dir_vec.dot(dir_vec))\n",
    "\n",
    "                # calculate new bubble position\n",
    "                new_point = self.bubbles[i, :2] + dir_vec * self.step_dist\n",
    "                new_bubble = np.append(new_point, self.bubbles[i, 2:4])\n",
    "\n",
    "                # check whether new bubble collides with other bubbles\n",
    "                if not self.check_collisions(new_bubble, rest_bub):\n",
    "                    self.bubbles[i, :] = new_bubble\n",
    "                    self.com = self.center_of_mass()\n",
    "                    moves += 1\n",
    "                else:\n",
    "                    # try to move around a bubble that you collide with\n",
    "                    # find colliding bubble\n",
    "                    for colliding in self.collides_with(new_bubble, rest_bub):\n",
    "                        # calculate direction vector\n",
    "                        dir_vec = rest_bub[colliding, :2] - self.bubbles[i, :2]\n",
    "                        dir_vec = dir_vec / np.sqrt(dir_vec.dot(dir_vec))\n",
    "                        # calculate orthogonal vector\n",
    "                        orth = np.array([dir_vec[1], -dir_vec[0]])\n",
    "                        # test which direction to go\n",
    "                        new_point1 = (self.bubbles[i, :2] + orth *\n",
    "                                      self.step_dist)\n",
    "                        new_point2 = (self.bubbles[i, :2] - orth *\n",
    "                                      self.step_dist)\n",
    "                        dist1 = self.center_distance(\n",
    "                            self.com, np.array([new_point1]))\n",
    "                        dist2 = self.center_distance(\n",
    "                            self.com, np.array([new_point2]))\n",
    "                        new_point = new_point1 if dist1 < dist2 else new_point2\n",
    "                        new_bubble = np.append(new_point, self.bubbles[i, 2:4])\n",
    "                        if not self.check_collisions(new_bubble, rest_bub):\n",
    "                            self.bubbles[i, :] = new_bubble\n",
    "                            self.com = self.center_of_mass()\n",
    "\n",
    "            if moves / len(self.bubbles) < 0.1:\n",
    "                self.step_dist = self.step_dist / 2\n",
    "\n",
    "    def plot(self, ax, labels, colors):\n",
    "        \"\"\"\n",
    "        Draw the bubble plot.\n",
    "\n",
    "        Parameters\n",
    "        ----------\n",
    "        ax : matplotlib.axes.Axes\n",
    "        labels : list\n",
    "            Labels of the bubbles.\n",
    "        colors : list\n",
    "            Colors of the bubbles.\n",
    "        \"\"\"\n",
    "        for i in range(len(self.bubbles)):\n",
    "            circ = plt.Circle(\n",
    "                self.bubbles[i, :2], self.bubbles[i, 2], color=colors[i])\n",
    "            ax.add_patch(circ)\n",
    "            ax.text(*self.bubbles[i, :2], labels[i],\n",
    "                    horizontalalignment='center', verticalalignment='center', \n",
    "                   color = 'black', fontsize = 18)\n",
    "\n",
    "\n",
    "bubble_chart = BubbleChart(area=db_characterise['count'],\n",
    "                           bubble_spacing=0.1)\n",
    "\n",
    "bubble_chart.collapse()\n",
    "\n",
    "fig, ax = plt.subplots(subplot_kw=dict(aspect=\"equal\"))\n",
    "bubble_chart.plot(\n",
    "    ax, db_characterise['dimensions'], db_characterise['color'])\n",
    "ax.axis(\"off\")\n",
    "ax.relim()\n",
    "ax.autoscale_view()\n",
    "ax.set_title('Characteristics of the DaPro database: Count of food products, parameters and data sources')\n",
    "ax.set_xticklabels(db_characterise['count'])\n",
    "\n",
    "plt.show()"
   ]
  },
  {
   "cell_type": "code",
   "execution_count": null,
   "id": "e7c0494f",
   "metadata": {},
   "outputs": [],
   "source": [
    "# !pip install pyvis\n",
    "\n",
    "from pyvis.network import Network\n",
    "\n",
    "net = Network(notebook=True, directed = True,\n",
    "              heading = 'Characteristics of the DaPro database: Count of food products, parameters and data sources')\n",
    "\n",
    "count_sources = 8\n",
    "\n",
    "db_characterise = {\n",
    "    'dimensions': ['food products: {}'.format(len(df_dapro.index)), \n",
    "                   'parameter : {}'.format(len(df_dapro.columns)), 'data sources: {}'.format(count_sources)],\n",
    "    'count': [len(df_dapro.index), len(df_dapro.columns), 2],\n",
    "    'color': oslo_rgb[1: 1+len(db_characterise['dimensions'])]\n",
    "}\n",
    "\n",
    "\n",
    "net.add_nodes(range(len(db_characterise['dimensions'])), \n",
    "              label= db_characterise['dimensions'],\n",
    "              \n",
    "              size=[ len(df_dapro.index), len(df_dapro.columns), count_sources],\n",
    "              \n",
    "              color=db_characterise['color'])\n",
    "\n",
    "\n",
    "\n",
    "net.toggle_physics(True)\n",
    "net.show('bubbles.html')"
   ]
  },
  {
   "cell_type": "markdown",
   "id": "6a5674b7",
   "metadata": {},
   "source": [
    "#### Add databsse structure and sources"
   ]
  },
  {
   "cell_type": "code",
   "execution_count": null,
   "id": "afb1d4fc",
   "metadata": {},
   "outputs": [],
   "source": [
    "# !pip install pyvis\n",
    "\n",
    "from pyvis.network import Network\n",
    "\n",
    "net = Network(notebook=True, directed = True,\n",
    "                heading = 'Structure of the database sources: international food databases are collected in the Swiss Food Data Mediator and directed to DaPro.')\n",
    "\n",
    "\n",
    "\n",
    "net.add_nodes(range(count_sources+2), \n",
    "              label=['DaPro', 'Swiss Food Data Mediator', 'USDA FoodData Central', 'BLSDB', 'Schweizer Nährwertdatenbank', 'FOODON', \n",
    "                     'ecoinvent', 'IUNR-DB', 'Recipes', 'Scientific Studies'],\n",
    "      \n",
    "              \n",
    "              title=[ 'https://dapro.ulozezoz.myhostpoint.ch/webvowl/#', 'Link Swiss Food Data Mediator', \n",
    "                    'https://fdc.nal.usda.gov/','https://www.blsdb.de/', \n",
    "                     'https://naehrwertdaten.ch/de/', 'https://foodon.org/', \n",
    "                     'https://ecoinvent.org/', 'https://www.zhaw.ch/en/lsfm/institutes-centres/iunr/', \n",
    "                    '?', '?'],\n",
    "              \n",
    "              color=[oslo_rgb[5], \n",
    "                      oslo_rgb[3], \n",
    "                     oslo_rgb[1], oslo_rgb[1], oslo_rgb[1], oslo_rgb[1], oslo_rgb[1], oslo_rgb[1], \n",
    "                     oslo_rgb[9], oslo_rgb[9]],\n",
    "             )\n",
    "\n",
    "net.add_edges([(1,0,4), (2, 1,1),  (3, 1,1), (4, 1,1), (5, 1,1), (6, 1,1), (7, 1,1), (8, 1,1), (9, 1,1)])\n",
    "\n",
    "net.toggle_physics(True)\n",
    "net.show('mygraph.html')"
   ]
  }
 ],
 "metadata": {
  "kernelspec": {
   "display_name": "Python 3 (ipykernel)",
   "language": "python",
   "name": "python3"
  },
  "language_info": {
   "codemirror_mode": {
    "name": "ipython",
    "version": 3
   },
   "file_extension": ".py",
   "mimetype": "text/x-python",
   "name": "python",
   "nbconvert_exporter": "python",
   "pygments_lexer": "ipython3",
   "version": "3.9.13"
  }
 },
 "nbformat": 4,
 "nbformat_minor": 5
}
