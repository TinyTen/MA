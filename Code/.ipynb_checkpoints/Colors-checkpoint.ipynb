{
 "cells": [
  {
   "cell_type": "markdown",
   "id": "8668637c",
   "metadata": {},
   "source": [
    "# Food Environmental Impact\n",
    "## ILV Datenvisualisierung und Visual Analytics\n",
    "## Christina Köck\n",
    "## Februar 2023\n",
    "### Link to the Gitlab-Repo: https://gitlab.web.fh-kufstein.ac.at/christina.koeck/datenvisualisierung_und_visualanalytics"
   ]
  },
  {
   "cell_type": "markdown",
   "id": "fdec2b26",
   "metadata": {},
   "source": [
    "Die Visualisierungen werden in diesem Notebook erstellt. Designentscheidungen werden hier dokumentiert. Nach der Entwicklung wird der Code in eine streamlit-Anwendung für das Dashboarding übertragen.\n",
    "\n",
    "Die Streamlit-Anwendung ist für interessierte Verbaucher mit leicht wissenschaftlichem Hintergrund gedacht. Die Informationen sollten für VerbraucherInnen verständlich sein, allerdings sind gewisse Kenntnisse zu den Nachhaltigkeitsparamtern vorausgesetzt. Besonders die Darstellung der Korrelation setzt Kenntnisse der Pearson-Korrelation voraus. Die Streamlit-Anwendung könnte auch im Unterricht verwendet werden, um Lernenden verschiedene Ernährungsformen näherzubringen. Die Anwendung ist so gestaltet, dass sie mit verschiedenen Fragen durch die Daten führt. Somit soll auf verschiedene Aspekte und Zusammenhänge hingewiesen werden. Die NutzerInnen können dabei selbst wählen, welche Lebenmittel dargestellt werden sollen."
   ]
  },
  {
   "cell_type": "markdown",
   "id": "d74abbc5",
   "metadata": {},
   "source": [
    "### Libraries and data"
   ]
  },
  {
   "cell_type": "code",
   "execution_count": 2,
   "id": "0114fd6d",
   "metadata": {},
   "outputs": [
    {
     "name": "stdout",
     "output_type": "stream",
     "text": [
      "Requirement already satisfied: cmcrameri in c:\\users\\chris\\appdata\\local\\programs\\python\\python39\\lib\\site-packages (1.4)\n",
      "Requirement already satisfied: numpy in c:\\users\\chris\\appdata\\local\\programs\\python\\python39\\lib\\site-packages (from cmcrameri) (1.23.3)\n",
      "Requirement already satisfied: matplotlib in c:\\users\\chris\\appdata\\roaming\\python\\python39\\site-packages (from cmcrameri) (3.6.0)\n",
      "Requirement already satisfied: cycler>=0.10 in c:\\users\\chris\\appdata\\local\\programs\\python\\python39\\lib\\site-packages (from matplotlib->cmcrameri) (0.11.0)\n",
      "Requirement already satisfied: python-dateutil>=2.7 in c:\\users\\chris\\appdata\\local\\programs\\python\\python39\\lib\\site-packages (from matplotlib->cmcrameri) (2.8.2)\n",
      "Requirement already satisfied: fonttools>=4.22.0 in c:\\users\\chris\\appdata\\local\\programs\\python\\python39\\lib\\site-packages (from matplotlib->cmcrameri) (4.38.0)\n",
      "Requirement already satisfied: pyparsing>=2.2.1 in c:\\users\\chris\\appdata\\local\\programs\\python\\python39\\lib\\site-packages (from matplotlib->cmcrameri) (3.0.9)\n",
      "Requirement already satisfied: contourpy>=1.0.1 in c:\\users\\chris\\appdata\\local\\programs\\python\\python39\\lib\\site-packages (from matplotlib->cmcrameri) (1.0.5)\n",
      "Requirement already satisfied: pillow>=6.2.0 in c:\\users\\chris\\appdata\\local\\programs\\python\\python39\\lib\\site-packages (from matplotlib->cmcrameri) (9.2.0)\n",
      "Requirement already satisfied: kiwisolver>=1.0.1 in c:\\users\\chris\\appdata\\local\\programs\\python\\python39\\lib\\site-packages (from matplotlib->cmcrameri) (1.4.4)\n",
      "Requirement already satisfied: packaging>=20.0 in c:\\users\\chris\\appdata\\local\\programs\\python\\python39\\lib\\site-packages (from matplotlib->cmcrameri) (21.3)\n",
      "Requirement already satisfied: six>=1.5 in c:\\users\\chris\\appdata\\local\\programs\\python\\python39\\lib\\site-packages (from python-dateutil>=2.7->matplotlib->cmcrameri) (1.16.0)\n"
     ]
    },
    {
     "name": "stderr",
     "output_type": "stream",
     "text": [
      "WARNING: Ignoring invalid distribution -atplotlib (c:\\users\\chris\\appdata\\local\\programs\\python\\python39\\lib\\site-packages)\n",
      "WARNING: Ignoring invalid distribution -atplotlib (c:\\users\\chris\\appdata\\local\\programs\\python\\python39\\lib\\site-packages)\n",
      "WARNING: Ignoring invalid distribution -atplotlib (c:\\users\\chris\\appdata\\local\\programs\\python\\python39\\lib\\site-packages)\n",
      "WARNING: Ignoring invalid distribution -atplotlib (c:\\users\\chris\\appdata\\local\\programs\\python\\python39\\lib\\site-packages)\n",
      "WARNING: Ignoring invalid distribution -atplotlib (c:\\users\\chris\\appdata\\local\\programs\\python\\python39\\lib\\site-packages)\n",
      "WARNING: Ignoring invalid distribution -atplotlib (c:\\users\\chris\\appdata\\local\\programs\\python\\python39\\lib\\site-packages)\n",
      "\n",
      "[notice] A new release of pip available: 22.2.2 -> 23.0.1\n",
      "[notice] To update, run: python.exe -m pip install --upgrade pip\n"
     ]
    }
   ],
   "source": [
    "! pip install cmcrameri"
   ]
  },
  {
   "cell_type": "code",
   "execution_count": 2,
   "id": "0843a275",
   "metadata": {},
   "outputs": [],
   "source": [
    "from cmcrameri import cm\n",
    "import math as math\n",
    "import pandas as pd\n",
    "import numpy as np\n",
    "import seaborn as sns\n",
    "\n",
    "import matplotlib.pyplot as plt\n",
    "import plotly.express as px"
   ]
  },
  {
   "cell_type": "code",
   "execution_count": 8,
   "id": "235243fa",
   "metadata": {},
   "outputs": [
    {
     "data": {
      "text/plain": [
       "['acton',\n",
       " 'acton_r',\n",
       " 'actonS',\n",
       " 'bam',\n",
       " 'bam_r',\n",
       " 'bamako',\n",
       " 'bamako_r',\n",
       " 'bamakoS',\n",
       " 'bamO',\n",
       " 'bamO_r',\n",
       " 'batlow',\n",
       " 'batlow_r',\n",
       " 'batlowK',\n",
       " 'batlowK_r',\n",
       " 'batlowS',\n",
       " 'batlowW',\n",
       " 'batlowW_r',\n",
       " 'berlin',\n",
       " 'berlin_r',\n",
       " 'bilbao',\n",
       " 'bilbao_r',\n",
       " 'bilbaoS',\n",
       " 'broc',\n",
       " 'broc_r',\n",
       " 'brocO',\n",
       " 'brocO_r',\n",
       " 'buda',\n",
       " 'buda_r',\n",
       " 'budaS',\n",
       " 'bukavu',\n",
       " 'bukavu_r',\n",
       " 'cork',\n",
       " 'cork_r',\n",
       " 'corkO',\n",
       " 'corkO_r',\n",
       " 'davos',\n",
       " 'davos_r',\n",
       " 'davosS',\n",
       " 'devon',\n",
       " 'devon_r',\n",
       " 'devonS',\n",
       " 'fes',\n",
       " 'fes_r',\n",
       " 'grayC',\n",
       " 'grayC_r',\n",
       " 'grayCS',\n",
       " 'hawaii',\n",
       " 'hawaii_r',\n",
       " 'hawaiiS',\n",
       " 'imola',\n",
       " 'imola_r',\n",
       " 'imolaS',\n",
       " 'lajolla',\n",
       " 'lajolla_r',\n",
       " 'lajollaS',\n",
       " 'lapaz',\n",
       " 'lapaz_r',\n",
       " 'lapazS',\n",
       " 'lisbon',\n",
       " 'lisbon_r',\n",
       " 'nuuk',\n",
       " 'nuuk_r',\n",
       " 'nuukS',\n",
       " 'oleron',\n",
       " 'oleron_r',\n",
       " 'oslo',\n",
       " 'oslo_r',\n",
       " 'osloS',\n",
       " 'roma',\n",
       " 'roma_r',\n",
       " 'romaO',\n",
       " 'romaO_r',\n",
       " 'tofino',\n",
       " 'tofino_r',\n",
       " 'tokyo',\n",
       " 'tokyo_r',\n",
       " 'tokyoS',\n",
       " 'turku',\n",
       " 'turku_r',\n",
       " 'turkuS',\n",
       " 'vanimo',\n",
       " 'vanimo_r',\n",
       " 'vik',\n",
       " 'vik_r',\n",
       " 'vikO',\n",
       " 'vikO_r']"
      ]
     },
     "execution_count": 8,
     "metadata": {},
     "output_type": "execute_result"
    }
   ],
   "source": []
  },
  {
   "cell_type": "code",
   "execution_count": 37,
   "id": "ba071381",
   "metadata": {},
   "outputs": [
    {
     "name": "stderr",
     "output_type": "stream",
     "text": [
      "C:\\Users\\chris\\AppData\\Local\\Programs\\Python\\Python39\\lib\\site-packages\\plotly\\express\\_core.py:279: FutureWarning:\n",
      "\n",
      "iteritems is deprecated and will be removed in a future version. Use .items instead.\n",
      "\n"
     ]
    },
    {
     "data": {
      "application/vnd.plotly.v1+json": {
       "config": {
        "plotlyServerURL": "https://plot.ly"
       },
       "data": [
        {
         "dimensions": [
          {
           "axis": {
            "matches": true
           },
           "label": "vitamin_d [nan]",
           "values": [
            0,
            0
           ]
          },
          {
           "axis": {
            "matches": true
           },
           "label": "saturated_fat [g]",
           "values": [
            0.7,
            0.1
           ]
          },
          {
           "axis": {
            "matches": true
           },
           "label": "protein [g]",
           "values": [
            0.01,
            6.5
           ]
          },
          {
           "axis": {
            "matches": true
           },
           "label": "water [g]",
           "values": [
            36.9,
            13.29
           ]
          }
         ],
         "hovertemplate": "Category=Grains<br>%{xaxis.title.text}=%{x}<br>%{yaxis.title.text}=%{y}<extra></extra>",
         "legendgroup": "Grains",
         "marker": {
          "color": "rgb(222, 217, 255)",
          "symbol": "circle"
         },
         "name": "Grains",
         "showlegend": true,
         "type": "splom"
        },
        {
         "dimensions": [
          {
           "axis": {
            "matches": true
           },
           "label": "vitamin_d [nan]",
           "values": [
            0,
            0,
            0,
            0
           ]
          },
          {
           "axis": {
            "matches": true
           },
           "label": "saturated_fat [g]",
           "values": [
            null,
            0.2,
            null,
            null
           ]
          },
          {
           "axis": {
            "matches": true
           },
           "label": "protein [g]",
           "values": [
            2.57,
            23.82,
            0.88,
            1.1
           ]
          },
          {
           "axis": {
            "matches": true
           },
           "label": "water [g]",
           "values": [
            83.29,
            8.62,
            94.52,
            89.11
           ]
          }
         ],
         "hovertemplate": "Category=Vegetables<br>%{xaxis.title.text}=%{x}<br>%{yaxis.title.text}=%{y}<extra></extra>",
         "legendgroup": "Vegetables",
         "marker": {
          "color": "rgb(190, 194, 241)",
          "symbol": "circle"
         },
         "name": "Vegetables",
         "showlegend": true,
         "type": "splom"
        },
        {
         "dimensions": [
          {
           "axis": {
            "matches": true
           },
           "label": "vitamin_d [nan]",
           "values": [
            0
           ]
          },
          {
           "axis": {
            "matches": true
           },
           "label": "saturated_fat [g]",
           "values": [
            null
           ]
          },
          {
           "axis": {
            "matches": true
           },
           "label": "protein [g]",
           "values": [
            0
           ]
          },
          {
           "axis": {
            "matches": true
           },
           "label": "water [g]",
           "values": [
            0.02
           ]
          }
         ],
         "hovertemplate": "Category=Sugar<br>%{xaxis.title.text}=%{x}<br>%{yaxis.title.text}=%{y}<extra></extra>",
         "legendgroup": "Sugar",
         "marker": {
          "color": "rgb(155, 170, 226)",
          "symbol": "circle"
         },
         "name": "Sugar",
         "showlegend": true,
         "type": "splom"
        },
        {
         "dimensions": [
          {
           "axis": {
            "matches": true
           },
           "label": "vitamin_d [nan]",
           "values": [
            0
           ]
          },
          {
           "axis": {
            "matches": true
           },
           "label": "saturated_fat [g]",
           "values": [
            7.8
           ]
          },
          {
           "axis": {
            "matches": true
           },
           "label": "protein [g]",
           "values": [
            18.22
           ]
          },
          {
           "axis": {
            "matches": true
           },
           "label": "water [g]",
           "values": [
            5.2
           ]
          }
         ],
         "hovertemplate": "Category=Nuts<br>%{xaxis.title.text}=%{x}<br>%{yaxis.title.text}=%{y}<extra></extra>",
         "legendgroup": "Nuts",
         "marker": {
          "color": "rgb(121, 145, 209)",
          "symbol": "circle"
         },
         "name": "Nuts",
         "showlegend": true,
         "type": "splom"
        },
        {
         "dimensions": [
          {
           "axis": {
            "matches": true
           },
           "label": "vitamin_d [nan]",
           "values": [
            0,
            0
           ]
          },
          {
           "axis": {
            "matches": true
           },
           "label": "saturated_fat [g]",
           "values": [
            0.2,
            0.7
           ]
          },
          {
           "axis": {
            "matches": true
           },
           "label": "protein [g]",
           "values": [
            3.27,
            10.92
           ]
          },
          {
           "axis": {
            "matches": true
           },
           "label": "water [g]",
           "values": [
            88.05,
            82.87
           ]
          }
         ],
         "hovertemplate": "Category=Plant_Dairy<br>%{xaxis.title.text}=%{x}<br>%{yaxis.title.text}=%{y}<extra></extra>",
         "legendgroup": "Plant_Dairy",
         "marker": {
          "color": "rgb(87, 119, 186)",
          "symbol": "circle"
         },
         "name": "Plant_Dairy",
         "showlegend": true,
         "type": "splom"
        },
        {
         "dimensions": [
          {
           "axis": {
            "matches": true
           },
           "label": "vitamin_d [nan]",
           "values": [
            0,
            0,
            0
           ]
          },
          {
           "axis": {
            "matches": true
           },
           "label": "saturated_fat [g]",
           "values": [
            0.1,
            null,
            null
           ]
          },
          {
           "axis": {
            "matches": true
           },
           "label": "protein [g]",
           "values": [
            1.09,
            0.26,
            0.74
           ]
          },
          {
           "axis": {
            "matches": true
           },
           "label": "water [g]",
           "values": [
            74.91,
            85.56,
            84.21
           ]
          }
         ],
         "hovertemplate": "Category=Fruits<br>%{xaxis.title.text}=%{x}<br>%{yaxis.title.text}=%{y}<extra></extra>",
         "legendgroup": "Fruits",
         "marker": {
          "color": "rgb(62, 94, 154)",
          "symbol": "circle"
         },
         "name": "Fruits",
         "showlegend": true,
         "type": "splom"
        },
        {
         "dimensions": [
          {
           "axis": {
            "matches": true
           },
           "label": "vitamin_d [nan]",
           "values": [
            11,
            0,
            18,
            2
           ]
          },
          {
           "axis": {
            "matches": true
           },
           "label": "saturated_fat [g]",
           "values": [
            29,
            4.7,
            0.1,
            0.3
           ]
          },
          {
           "axis": {
            "matches": true
           },
           "label": "protein [g]",
           "values": [
            8.21,
            13.79,
            16.32,
            13.61
           ]
          },
          {
           "axis": {
            "matches": true
           },
           "label": "water [g]",
           "values": [
            20.21,
            69.29,
            83.38,
            83.01
           ]
          }
         ],
         "hovertemplate": "Category=Animal_Prod<br>%{xaxis.title.text}=%{x}<br>%{yaxis.title.text}=%{y}<extra></extra>",
         "legendgroup": "Animal_Prod",
         "marker": {
          "color": "rgb(48, 74, 123)",
          "symbol": "circle"
         },
         "name": "Animal_Prod",
         "showlegend": true,
         "type": "splom"
        },
        {
         "dimensions": [
          {
           "axis": {
            "matches": true
           },
           "label": "vitamin_d [nan]",
           "values": [
            0,
            24
           ]
          },
          {
           "axis": {
            "matches": true
           },
           "label": "saturated_fat [g]",
           "values": [
            2.3,
            19
           ]
          },
          {
           "axis": {
            "matches": true
           },
           "label": "protein [g]",
           "values": [
            3.28,
            22.87
           ]
          },
          {
           "axis": {
            "matches": true
           },
           "label": "water [g]",
           "values": [
            87.69,
            37.02
           ]
          }
         ],
         "hovertemplate": "Category=Dairy<br>%{xaxis.title.text}=%{x}<br>%{yaxis.title.text}=%{y}<extra></extra>",
         "legendgroup": "Dairy",
         "marker": {
          "color": "rgb(222, 217, 255)",
          "symbol": "circle"
         },
         "name": "Dairy",
         "showlegend": true,
         "type": "splom"
        },
        {
         "dimensions": [
          {
           "axis": {
            "matches": true
           },
           "label": "vitamin_d [nan]",
           "values": [
            88
           ]
          },
          {
           "axis": {
            "matches": true
           },
           "label": "saturated_fat [g]",
           "values": [
            4.3
           ]
          },
          {
           "axis": {
            "matches": true
           },
           "label": "protein [g]",
           "values": [
            13.61
           ]
          },
          {
           "axis": {
            "matches": true
           },
           "label": "water [g]",
           "values": [
            69.47
           ]
          }
         ],
         "hovertemplate": "Category=Egg_Prod<br>%{xaxis.title.text}=%{x}<br>%{yaxis.title.text}=%{y}<extra></extra>",
         "legendgroup": "Egg_Prod",
         "marker": {
          "color": "rgb(190, 194, 241)",
          "symbol": "circle"
         },
         "name": "Egg_Prod",
         "showlegend": true,
         "type": "splom"
        }
       ],
       "layout": {
        "dragmode": "select",
        "legend": {
         "title": {
          "text": "Category"
         },
         "tracegroupgap": 0
        },
        "margin": {
         "t": 60
        },
        "template": {
         "data": {
          "bar": [
           {
            "error_x": {
             "color": "#2a3f5f"
            },
            "error_y": {
             "color": "#2a3f5f"
            },
            "marker": {
             "line": {
              "color": "#E5ECF6",
              "width": 0.5
             },
             "pattern": {
              "fillmode": "overlay",
              "size": 10,
              "solidity": 0.2
             }
            },
            "type": "bar"
           }
          ],
          "barpolar": [
           {
            "marker": {
             "line": {
              "color": "#E5ECF6",
              "width": 0.5
             },
             "pattern": {
              "fillmode": "overlay",
              "size": 10,
              "solidity": 0.2
             }
            },
            "type": "barpolar"
           }
          ],
          "carpet": [
           {
            "aaxis": {
             "endlinecolor": "#2a3f5f",
             "gridcolor": "white",
             "linecolor": "white",
             "minorgridcolor": "white",
             "startlinecolor": "#2a3f5f"
            },
            "baxis": {
             "endlinecolor": "#2a3f5f",
             "gridcolor": "white",
             "linecolor": "white",
             "minorgridcolor": "white",
             "startlinecolor": "#2a3f5f"
            },
            "type": "carpet"
           }
          ],
          "choropleth": [
           {
            "colorbar": {
             "outlinewidth": 0,
             "ticks": ""
            },
            "type": "choropleth"
           }
          ],
          "contour": [
           {
            "colorbar": {
             "outlinewidth": 0,
             "ticks": ""
            },
            "colorscale": [
             [
              0,
              "#0d0887"
             ],
             [
              0.1111111111111111,
              "#46039f"
             ],
             [
              0.2222222222222222,
              "#7201a8"
             ],
             [
              0.3333333333333333,
              "#9c179e"
             ],
             [
              0.4444444444444444,
              "#bd3786"
             ],
             [
              0.5555555555555556,
              "#d8576b"
             ],
             [
              0.6666666666666666,
              "#ed7953"
             ],
             [
              0.7777777777777778,
              "#fb9f3a"
             ],
             [
              0.8888888888888888,
              "#fdca26"
             ],
             [
              1,
              "#f0f921"
             ]
            ],
            "type": "contour"
           }
          ],
          "contourcarpet": [
           {
            "colorbar": {
             "outlinewidth": 0,
             "ticks": ""
            },
            "type": "contourcarpet"
           }
          ],
          "heatmap": [
           {
            "colorbar": {
             "outlinewidth": 0,
             "ticks": ""
            },
            "colorscale": [
             [
              0,
              "#0d0887"
             ],
             [
              0.1111111111111111,
              "#46039f"
             ],
             [
              0.2222222222222222,
              "#7201a8"
             ],
             [
              0.3333333333333333,
              "#9c179e"
             ],
             [
              0.4444444444444444,
              "#bd3786"
             ],
             [
              0.5555555555555556,
              "#d8576b"
             ],
             [
              0.6666666666666666,
              "#ed7953"
             ],
             [
              0.7777777777777778,
              "#fb9f3a"
             ],
             [
              0.8888888888888888,
              "#fdca26"
             ],
             [
              1,
              "#f0f921"
             ]
            ],
            "type": "heatmap"
           }
          ],
          "heatmapgl": [
           {
            "colorbar": {
             "outlinewidth": 0,
             "ticks": ""
            },
            "colorscale": [
             [
              0,
              "#0d0887"
             ],
             [
              0.1111111111111111,
              "#46039f"
             ],
             [
              0.2222222222222222,
              "#7201a8"
             ],
             [
              0.3333333333333333,
              "#9c179e"
             ],
             [
              0.4444444444444444,
              "#bd3786"
             ],
             [
              0.5555555555555556,
              "#d8576b"
             ],
             [
              0.6666666666666666,
              "#ed7953"
             ],
             [
              0.7777777777777778,
              "#fb9f3a"
             ],
             [
              0.8888888888888888,
              "#fdca26"
             ],
             [
              1,
              "#f0f921"
             ]
            ],
            "type": "heatmapgl"
           }
          ],
          "histogram": [
           {
            "marker": {
             "pattern": {
              "fillmode": "overlay",
              "size": 10,
              "solidity": 0.2
             }
            },
            "type": "histogram"
           }
          ],
          "histogram2d": [
           {
            "colorbar": {
             "outlinewidth": 0,
             "ticks": ""
            },
            "colorscale": [
             [
              0,
              "#0d0887"
             ],
             [
              0.1111111111111111,
              "#46039f"
             ],
             [
              0.2222222222222222,
              "#7201a8"
             ],
             [
              0.3333333333333333,
              "#9c179e"
             ],
             [
              0.4444444444444444,
              "#bd3786"
             ],
             [
              0.5555555555555556,
              "#d8576b"
             ],
             [
              0.6666666666666666,
              "#ed7953"
             ],
             [
              0.7777777777777778,
              "#fb9f3a"
             ],
             [
              0.8888888888888888,
              "#fdca26"
             ],
             [
              1,
              "#f0f921"
             ]
            ],
            "type": "histogram2d"
           }
          ],
          "histogram2dcontour": [
           {
            "colorbar": {
             "outlinewidth": 0,
             "ticks": ""
            },
            "colorscale": [
             [
              0,
              "#0d0887"
             ],
             [
              0.1111111111111111,
              "#46039f"
             ],
             [
              0.2222222222222222,
              "#7201a8"
             ],
             [
              0.3333333333333333,
              "#9c179e"
             ],
             [
              0.4444444444444444,
              "#bd3786"
             ],
             [
              0.5555555555555556,
              "#d8576b"
             ],
             [
              0.6666666666666666,
              "#ed7953"
             ],
             [
              0.7777777777777778,
              "#fb9f3a"
             ],
             [
              0.8888888888888888,
              "#fdca26"
             ],
             [
              1,
              "#f0f921"
             ]
            ],
            "type": "histogram2dcontour"
           }
          ],
          "mesh3d": [
           {
            "colorbar": {
             "outlinewidth": 0,
             "ticks": ""
            },
            "type": "mesh3d"
           }
          ],
          "parcoords": [
           {
            "line": {
             "colorbar": {
              "outlinewidth": 0,
              "ticks": ""
             }
            },
            "type": "parcoords"
           }
          ],
          "pie": [
           {
            "automargin": true,
            "type": "pie"
           }
          ],
          "scatter": [
           {
            "fillpattern": {
             "fillmode": "overlay",
             "size": 10,
             "solidity": 0.2
            },
            "type": "scatter"
           }
          ],
          "scatter3d": [
           {
            "line": {
             "colorbar": {
              "outlinewidth": 0,
              "ticks": ""
             }
            },
            "marker": {
             "colorbar": {
              "outlinewidth": 0,
              "ticks": ""
             }
            },
            "type": "scatter3d"
           }
          ],
          "scattercarpet": [
           {
            "marker": {
             "colorbar": {
              "outlinewidth": 0,
              "ticks": ""
             }
            },
            "type": "scattercarpet"
           }
          ],
          "scattergeo": [
           {
            "marker": {
             "colorbar": {
              "outlinewidth": 0,
              "ticks": ""
             }
            },
            "type": "scattergeo"
           }
          ],
          "scattergl": [
           {
            "marker": {
             "colorbar": {
              "outlinewidth": 0,
              "ticks": ""
             }
            },
            "type": "scattergl"
           }
          ],
          "scattermapbox": [
           {
            "marker": {
             "colorbar": {
              "outlinewidth": 0,
              "ticks": ""
             }
            },
            "type": "scattermapbox"
           }
          ],
          "scatterpolar": [
           {
            "marker": {
             "colorbar": {
              "outlinewidth": 0,
              "ticks": ""
             }
            },
            "type": "scatterpolar"
           }
          ],
          "scatterpolargl": [
           {
            "marker": {
             "colorbar": {
              "outlinewidth": 0,
              "ticks": ""
             }
            },
            "type": "scatterpolargl"
           }
          ],
          "scatterternary": [
           {
            "marker": {
             "colorbar": {
              "outlinewidth": 0,
              "ticks": ""
             }
            },
            "type": "scatterternary"
           }
          ],
          "surface": [
           {
            "colorbar": {
             "outlinewidth": 0,
             "ticks": ""
            },
            "colorscale": [
             [
              0,
              "#0d0887"
             ],
             [
              0.1111111111111111,
              "#46039f"
             ],
             [
              0.2222222222222222,
              "#7201a8"
             ],
             [
              0.3333333333333333,
              "#9c179e"
             ],
             [
              0.4444444444444444,
              "#bd3786"
             ],
             [
              0.5555555555555556,
              "#d8576b"
             ],
             [
              0.6666666666666666,
              "#ed7953"
             ],
             [
              0.7777777777777778,
              "#fb9f3a"
             ],
             [
              0.8888888888888888,
              "#fdca26"
             ],
             [
              1,
              "#f0f921"
             ]
            ],
            "type": "surface"
           }
          ],
          "table": [
           {
            "cells": {
             "fill": {
              "color": "#EBF0F8"
             },
             "line": {
              "color": "white"
             }
            },
            "header": {
             "fill": {
              "color": "#C8D4E3"
             },
             "line": {
              "color": "white"
             }
            },
            "type": "table"
           }
          ]
         },
         "layout": {
          "annotationdefaults": {
           "arrowcolor": "#2a3f5f",
           "arrowhead": 0,
           "arrowwidth": 1
          },
          "autotypenumbers": "strict",
          "coloraxis": {
           "colorbar": {
            "outlinewidth": 0,
            "ticks": ""
           }
          },
          "colorscale": {
           "diverging": [
            [
             0,
             "#8e0152"
            ],
            [
             0.1,
             "#c51b7d"
            ],
            [
             0.2,
             "#de77ae"
            ],
            [
             0.3,
             "#f1b6da"
            ],
            [
             0.4,
             "#fde0ef"
            ],
            [
             0.5,
             "#f7f7f7"
            ],
            [
             0.6,
             "#e6f5d0"
            ],
            [
             0.7,
             "#b8e186"
            ],
            [
             0.8,
             "#7fbc41"
            ],
            [
             0.9,
             "#4d9221"
            ],
            [
             1,
             "#276419"
            ]
           ],
           "sequential": [
            [
             0,
             "#0d0887"
            ],
            [
             0.1111111111111111,
             "#46039f"
            ],
            [
             0.2222222222222222,
             "#7201a8"
            ],
            [
             0.3333333333333333,
             "#9c179e"
            ],
            [
             0.4444444444444444,
             "#bd3786"
            ],
            [
             0.5555555555555556,
             "#d8576b"
            ],
            [
             0.6666666666666666,
             "#ed7953"
            ],
            [
             0.7777777777777778,
             "#fb9f3a"
            ],
            [
             0.8888888888888888,
             "#fdca26"
            ],
            [
             1,
             "#f0f921"
            ]
           ],
           "sequentialminus": [
            [
             0,
             "#0d0887"
            ],
            [
             0.1111111111111111,
             "#46039f"
            ],
            [
             0.2222222222222222,
             "#7201a8"
            ],
            [
             0.3333333333333333,
             "#9c179e"
            ],
            [
             0.4444444444444444,
             "#bd3786"
            ],
            [
             0.5555555555555556,
             "#d8576b"
            ],
            [
             0.6666666666666666,
             "#ed7953"
            ],
            [
             0.7777777777777778,
             "#fb9f3a"
            ],
            [
             0.8888888888888888,
             "#fdca26"
            ],
            [
             1,
             "#f0f921"
            ]
           ]
          },
          "colorway": [
           "#636efa",
           "#EF553B",
           "#00cc96",
           "#ab63fa",
           "#FFA15A",
           "#19d3f3",
           "#FF6692",
           "#B6E880",
           "#FF97FF",
           "#FECB52"
          ],
          "font": {
           "color": "#2a3f5f"
          },
          "geo": {
           "bgcolor": "white",
           "lakecolor": "white",
           "landcolor": "#E5ECF6",
           "showlakes": true,
           "showland": true,
           "subunitcolor": "white"
          },
          "hoverlabel": {
           "align": "left"
          },
          "hovermode": "closest",
          "mapbox": {
           "style": "light"
          },
          "paper_bgcolor": "white",
          "plot_bgcolor": "#E5ECF6",
          "polar": {
           "angularaxis": {
            "gridcolor": "white",
            "linecolor": "white",
            "ticks": ""
           },
           "bgcolor": "#E5ECF6",
           "radialaxis": {
            "gridcolor": "white",
            "linecolor": "white",
            "ticks": ""
           }
          },
          "scene": {
           "xaxis": {
            "backgroundcolor": "#E5ECF6",
            "gridcolor": "white",
            "gridwidth": 2,
            "linecolor": "white",
            "showbackground": true,
            "ticks": "",
            "zerolinecolor": "white"
           },
           "yaxis": {
            "backgroundcolor": "#E5ECF6",
            "gridcolor": "white",
            "gridwidth": 2,
            "linecolor": "white",
            "showbackground": true,
            "ticks": "",
            "zerolinecolor": "white"
           },
           "zaxis": {
            "backgroundcolor": "#E5ECF6",
            "gridcolor": "white",
            "gridwidth": 2,
            "linecolor": "white",
            "showbackground": true,
            "ticks": "",
            "zerolinecolor": "white"
           }
          },
          "shapedefaults": {
           "line": {
            "color": "#2a3f5f"
           }
          },
          "ternary": {
           "aaxis": {
            "gridcolor": "white",
            "linecolor": "white",
            "ticks": ""
           },
           "baxis": {
            "gridcolor": "white",
            "linecolor": "white",
            "ticks": ""
           },
           "bgcolor": "#E5ECF6",
           "caxis": {
            "gridcolor": "white",
            "linecolor": "white",
            "ticks": ""
           }
          },
          "title": {
           "x": 0.05
          },
          "xaxis": {
           "automargin": true,
           "gridcolor": "white",
           "linecolor": "white",
           "ticks": "",
           "title": {
            "standoff": 15
           },
           "zerolinecolor": "white",
           "zerolinewidth": 2
          },
          "yaxis": {
           "automargin": true,
           "gridcolor": "white",
           "linecolor": "white",
           "ticks": "",
           "title": {
            "standoff": 15
           },
           "zerolinecolor": "white",
           "zerolinewidth": 2
          }
         }
        }
       }
      },
      "text/html": [
       "<div>                            <div id=\"4c96733b-1443-47f7-b055-435301dc455e\" class=\"plotly-graph-div\" style=\"height:525px; width:100%;\"></div>            <script type=\"text/javascript\">                require([\"plotly\"], function(Plotly) {                    window.PLOTLYENV=window.PLOTLYENV || {};                                    if (document.getElementById(\"4c96733b-1443-47f7-b055-435301dc455e\")) {                    Plotly.newPlot(                        \"4c96733b-1443-47f7-b055-435301dc455e\",                        [{\"dimensions\":[{\"axis\":{\"matches\":true},\"label\":\"vitamin_d [nan]\",\"values\":[0.0,0.0]},{\"axis\":{\"matches\":true},\"label\":\"saturated_fat [g]\",\"values\":[0.7,0.1]},{\"axis\":{\"matches\":true},\"label\":\"protein [g]\",\"values\":[0.01,6.5]},{\"axis\":{\"matches\":true},\"label\":\"water [g]\",\"values\":[36.9,13.29]}],\"hovertemplate\":\"Category=Grains<br>%{xaxis.title.text}=%{x}<br>%{yaxis.title.text}=%{y}<extra></extra>\",\"legendgroup\":\"Grains\",\"marker\":{\"color\":\"rgb(222, 217, 255)\",\"symbol\":\"circle\"},\"name\":\"Grains\",\"showlegend\":true,\"type\":\"splom\"},{\"dimensions\":[{\"axis\":{\"matches\":true},\"label\":\"vitamin_d [nan]\",\"values\":[0.0,0.0,0.0,0.0]},{\"axis\":{\"matches\":true},\"label\":\"saturated_fat [g]\",\"values\":[null,0.2,null,null]},{\"axis\":{\"matches\":true},\"label\":\"protein [g]\",\"values\":[2.57,23.82,0.88,1.1]},{\"axis\":{\"matches\":true},\"label\":\"water [g]\",\"values\":[83.29,8.62,94.52,89.11]}],\"hovertemplate\":\"Category=Vegetables<br>%{xaxis.title.text}=%{x}<br>%{yaxis.title.text}=%{y}<extra></extra>\",\"legendgroup\":\"Vegetables\",\"marker\":{\"color\":\"rgb(190, 194, 241)\",\"symbol\":\"circle\"},\"name\":\"Vegetables\",\"showlegend\":true,\"type\":\"splom\"},{\"dimensions\":[{\"axis\":{\"matches\":true},\"label\":\"vitamin_d [nan]\",\"values\":[0.0]},{\"axis\":{\"matches\":true},\"label\":\"saturated_fat [g]\",\"values\":[null]},{\"axis\":{\"matches\":true},\"label\":\"protein [g]\",\"values\":[0.0]},{\"axis\":{\"matches\":true},\"label\":\"water [g]\",\"values\":[0.02]}],\"hovertemplate\":\"Category=Sugar<br>%{xaxis.title.text}=%{x}<br>%{yaxis.title.text}=%{y}<extra></extra>\",\"legendgroup\":\"Sugar\",\"marker\":{\"color\":\"rgb(155, 170, 226)\",\"symbol\":\"circle\"},\"name\":\"Sugar\",\"showlegend\":true,\"type\":\"splom\"},{\"dimensions\":[{\"axis\":{\"matches\":true},\"label\":\"vitamin_d [nan]\",\"values\":[0.0]},{\"axis\":{\"matches\":true},\"label\":\"saturated_fat [g]\",\"values\":[7.8]},{\"axis\":{\"matches\":true},\"label\":\"protein [g]\",\"values\":[18.22]},{\"axis\":{\"matches\":true},\"label\":\"water [g]\",\"values\":[5.2]}],\"hovertemplate\":\"Category=Nuts<br>%{xaxis.title.text}=%{x}<br>%{yaxis.title.text}=%{y}<extra></extra>\",\"legendgroup\":\"Nuts\",\"marker\":{\"color\":\"rgb(121, 145, 209)\",\"symbol\":\"circle\"},\"name\":\"Nuts\",\"showlegend\":true,\"type\":\"splom\"},{\"dimensions\":[{\"axis\":{\"matches\":true},\"label\":\"vitamin_d [nan]\",\"values\":[0.0,0.0]},{\"axis\":{\"matches\":true},\"label\":\"saturated_fat [g]\",\"values\":[0.2,0.7]},{\"axis\":{\"matches\":true},\"label\":\"protein [g]\",\"values\":[3.27,10.92]},{\"axis\":{\"matches\":true},\"label\":\"water [g]\",\"values\":[88.05,82.87]}],\"hovertemplate\":\"Category=Plant_Dairy<br>%{xaxis.title.text}=%{x}<br>%{yaxis.title.text}=%{y}<extra></extra>\",\"legendgroup\":\"Plant_Dairy\",\"marker\":{\"color\":\"rgb(87, 119, 186)\",\"symbol\":\"circle\"},\"name\":\"Plant_Dairy\",\"showlegend\":true,\"type\":\"splom\"},{\"dimensions\":[{\"axis\":{\"matches\":true},\"label\":\"vitamin_d [nan]\",\"values\":[0.0,0.0,0.0]},{\"axis\":{\"matches\":true},\"label\":\"saturated_fat [g]\",\"values\":[0.1,null,null]},{\"axis\":{\"matches\":true},\"label\":\"protein [g]\",\"values\":[1.09,0.26,0.74]},{\"axis\":{\"matches\":true},\"label\":\"water [g]\",\"values\":[74.91,85.56,84.21]}],\"hovertemplate\":\"Category=Fruits<br>%{xaxis.title.text}=%{x}<br>%{yaxis.title.text}=%{y}<extra></extra>\",\"legendgroup\":\"Fruits\",\"marker\":{\"color\":\"rgb(62, 94, 154)\",\"symbol\":\"circle\"},\"name\":\"Fruits\",\"showlegend\":true,\"type\":\"splom\"},{\"dimensions\":[{\"axis\":{\"matches\":true},\"label\":\"vitamin_d [nan]\",\"values\":[11.0,0.0,18.0,2.0]},{\"axis\":{\"matches\":true},\"label\":\"saturated_fat [g]\",\"values\":[29.0,4.7,0.1,0.3]},{\"axis\":{\"matches\":true},\"label\":\"protein [g]\",\"values\":[8.21,13.79,16.32,13.61]},{\"axis\":{\"matches\":true},\"label\":\"water [g]\",\"values\":[20.21,69.29,83.38,83.01]}],\"hovertemplate\":\"Category=Animal_Prod<br>%{xaxis.title.text}=%{x}<br>%{yaxis.title.text}=%{y}<extra></extra>\",\"legendgroup\":\"Animal_Prod\",\"marker\":{\"color\":\"rgb(48, 74, 123)\",\"symbol\":\"circle\"},\"name\":\"Animal_Prod\",\"showlegend\":true,\"type\":\"splom\"},{\"dimensions\":[{\"axis\":{\"matches\":true},\"label\":\"vitamin_d [nan]\",\"values\":[0.0,24.0]},{\"axis\":{\"matches\":true},\"label\":\"saturated_fat [g]\",\"values\":[2.3,19.0]},{\"axis\":{\"matches\":true},\"label\":\"protein [g]\",\"values\":[3.28,22.87]},{\"axis\":{\"matches\":true},\"label\":\"water [g]\",\"values\":[87.69,37.02]}],\"hovertemplate\":\"Category=Dairy<br>%{xaxis.title.text}=%{x}<br>%{yaxis.title.text}=%{y}<extra></extra>\",\"legendgroup\":\"Dairy\",\"marker\":{\"color\":\"rgb(222, 217, 255)\",\"symbol\":\"circle\"},\"name\":\"Dairy\",\"showlegend\":true,\"type\":\"splom\"},{\"dimensions\":[{\"axis\":{\"matches\":true},\"label\":\"vitamin_d [nan]\",\"values\":[88.0]},{\"axis\":{\"matches\":true},\"label\":\"saturated_fat [g]\",\"values\":[4.3]},{\"axis\":{\"matches\":true},\"label\":\"protein [g]\",\"values\":[13.61]},{\"axis\":{\"matches\":true},\"label\":\"water [g]\",\"values\":[69.47]}],\"hovertemplate\":\"Category=Egg_Prod<br>%{xaxis.title.text}=%{x}<br>%{yaxis.title.text}=%{y}<extra></extra>\",\"legendgroup\":\"Egg_Prod\",\"marker\":{\"color\":\"rgb(190, 194, 241)\",\"symbol\":\"circle\"},\"name\":\"Egg_Prod\",\"showlegend\":true,\"type\":\"splom\"}],                        {\"template\":{\"data\":{\"histogram2dcontour\":[{\"type\":\"histogram2dcontour\",\"colorbar\":{\"outlinewidth\":0,\"ticks\":\"\"},\"colorscale\":[[0.0,\"#0d0887\"],[0.1111111111111111,\"#46039f\"],[0.2222222222222222,\"#7201a8\"],[0.3333333333333333,\"#9c179e\"],[0.4444444444444444,\"#bd3786\"],[0.5555555555555556,\"#d8576b\"],[0.6666666666666666,\"#ed7953\"],[0.7777777777777778,\"#fb9f3a\"],[0.8888888888888888,\"#fdca26\"],[1.0,\"#f0f921\"]]}],\"choropleth\":[{\"type\":\"choropleth\",\"colorbar\":{\"outlinewidth\":0,\"ticks\":\"\"}}],\"histogram2d\":[{\"type\":\"histogram2d\",\"colorbar\":{\"outlinewidth\":0,\"ticks\":\"\"},\"colorscale\":[[0.0,\"#0d0887\"],[0.1111111111111111,\"#46039f\"],[0.2222222222222222,\"#7201a8\"],[0.3333333333333333,\"#9c179e\"],[0.4444444444444444,\"#bd3786\"],[0.5555555555555556,\"#d8576b\"],[0.6666666666666666,\"#ed7953\"],[0.7777777777777778,\"#fb9f3a\"],[0.8888888888888888,\"#fdca26\"],[1.0,\"#f0f921\"]]}],\"heatmap\":[{\"type\":\"heatmap\",\"colorbar\":{\"outlinewidth\":0,\"ticks\":\"\"},\"colorscale\":[[0.0,\"#0d0887\"],[0.1111111111111111,\"#46039f\"],[0.2222222222222222,\"#7201a8\"],[0.3333333333333333,\"#9c179e\"],[0.4444444444444444,\"#bd3786\"],[0.5555555555555556,\"#d8576b\"],[0.6666666666666666,\"#ed7953\"],[0.7777777777777778,\"#fb9f3a\"],[0.8888888888888888,\"#fdca26\"],[1.0,\"#f0f921\"]]}],\"heatmapgl\":[{\"type\":\"heatmapgl\",\"colorbar\":{\"outlinewidth\":0,\"ticks\":\"\"},\"colorscale\":[[0.0,\"#0d0887\"],[0.1111111111111111,\"#46039f\"],[0.2222222222222222,\"#7201a8\"],[0.3333333333333333,\"#9c179e\"],[0.4444444444444444,\"#bd3786\"],[0.5555555555555556,\"#d8576b\"],[0.6666666666666666,\"#ed7953\"],[0.7777777777777778,\"#fb9f3a\"],[0.8888888888888888,\"#fdca26\"],[1.0,\"#f0f921\"]]}],\"contourcarpet\":[{\"type\":\"contourcarpet\",\"colorbar\":{\"outlinewidth\":0,\"ticks\":\"\"}}],\"contour\":[{\"type\":\"contour\",\"colorbar\":{\"outlinewidth\":0,\"ticks\":\"\"},\"colorscale\":[[0.0,\"#0d0887\"],[0.1111111111111111,\"#46039f\"],[0.2222222222222222,\"#7201a8\"],[0.3333333333333333,\"#9c179e\"],[0.4444444444444444,\"#bd3786\"],[0.5555555555555556,\"#d8576b\"],[0.6666666666666666,\"#ed7953\"],[0.7777777777777778,\"#fb9f3a\"],[0.8888888888888888,\"#fdca26\"],[1.0,\"#f0f921\"]]}],\"surface\":[{\"type\":\"surface\",\"colorbar\":{\"outlinewidth\":0,\"ticks\":\"\"},\"colorscale\":[[0.0,\"#0d0887\"],[0.1111111111111111,\"#46039f\"],[0.2222222222222222,\"#7201a8\"],[0.3333333333333333,\"#9c179e\"],[0.4444444444444444,\"#bd3786\"],[0.5555555555555556,\"#d8576b\"],[0.6666666666666666,\"#ed7953\"],[0.7777777777777778,\"#fb9f3a\"],[0.8888888888888888,\"#fdca26\"],[1.0,\"#f0f921\"]]}],\"mesh3d\":[{\"type\":\"mesh3d\",\"colorbar\":{\"outlinewidth\":0,\"ticks\":\"\"}}],\"scatter\":[{\"fillpattern\":{\"fillmode\":\"overlay\",\"size\":10,\"solidity\":0.2},\"type\":\"scatter\"}],\"parcoords\":[{\"type\":\"parcoords\",\"line\":{\"colorbar\":{\"outlinewidth\":0,\"ticks\":\"\"}}}],\"scatterpolargl\":[{\"type\":\"scatterpolargl\",\"marker\":{\"colorbar\":{\"outlinewidth\":0,\"ticks\":\"\"}}}],\"bar\":[{\"error_x\":{\"color\":\"#2a3f5f\"},\"error_y\":{\"color\":\"#2a3f5f\"},\"marker\":{\"line\":{\"color\":\"#E5ECF6\",\"width\":0.5},\"pattern\":{\"fillmode\":\"overlay\",\"size\":10,\"solidity\":0.2}},\"type\":\"bar\"}],\"scattergeo\":[{\"type\":\"scattergeo\",\"marker\":{\"colorbar\":{\"outlinewidth\":0,\"ticks\":\"\"}}}],\"scatterpolar\":[{\"type\":\"scatterpolar\",\"marker\":{\"colorbar\":{\"outlinewidth\":0,\"ticks\":\"\"}}}],\"histogram\":[{\"marker\":{\"pattern\":{\"fillmode\":\"overlay\",\"size\":10,\"solidity\":0.2}},\"type\":\"histogram\"}],\"scattergl\":[{\"type\":\"scattergl\",\"marker\":{\"colorbar\":{\"outlinewidth\":0,\"ticks\":\"\"}}}],\"scatter3d\":[{\"type\":\"scatter3d\",\"line\":{\"colorbar\":{\"outlinewidth\":0,\"ticks\":\"\"}},\"marker\":{\"colorbar\":{\"outlinewidth\":0,\"ticks\":\"\"}}}],\"scattermapbox\":[{\"type\":\"scattermapbox\",\"marker\":{\"colorbar\":{\"outlinewidth\":0,\"ticks\":\"\"}}}],\"scatterternary\":[{\"type\":\"scatterternary\",\"marker\":{\"colorbar\":{\"outlinewidth\":0,\"ticks\":\"\"}}}],\"scattercarpet\":[{\"type\":\"scattercarpet\",\"marker\":{\"colorbar\":{\"outlinewidth\":0,\"ticks\":\"\"}}}],\"carpet\":[{\"aaxis\":{\"endlinecolor\":\"#2a3f5f\",\"gridcolor\":\"white\",\"linecolor\":\"white\",\"minorgridcolor\":\"white\",\"startlinecolor\":\"#2a3f5f\"},\"baxis\":{\"endlinecolor\":\"#2a3f5f\",\"gridcolor\":\"white\",\"linecolor\":\"white\",\"minorgridcolor\":\"white\",\"startlinecolor\":\"#2a3f5f\"},\"type\":\"carpet\"}],\"table\":[{\"cells\":{\"fill\":{\"color\":\"#EBF0F8\"},\"line\":{\"color\":\"white\"}},\"header\":{\"fill\":{\"color\":\"#C8D4E3\"},\"line\":{\"color\":\"white\"}},\"type\":\"table\"}],\"barpolar\":[{\"marker\":{\"line\":{\"color\":\"#E5ECF6\",\"width\":0.5},\"pattern\":{\"fillmode\":\"overlay\",\"size\":10,\"solidity\":0.2}},\"type\":\"barpolar\"}],\"pie\":[{\"automargin\":true,\"type\":\"pie\"}]},\"layout\":{\"autotypenumbers\":\"strict\",\"colorway\":[\"#636efa\",\"#EF553B\",\"#00cc96\",\"#ab63fa\",\"#FFA15A\",\"#19d3f3\",\"#FF6692\",\"#B6E880\",\"#FF97FF\",\"#FECB52\"],\"font\":{\"color\":\"#2a3f5f\"},\"hovermode\":\"closest\",\"hoverlabel\":{\"align\":\"left\"},\"paper_bgcolor\":\"white\",\"plot_bgcolor\":\"#E5ECF6\",\"polar\":{\"bgcolor\":\"#E5ECF6\",\"angularaxis\":{\"gridcolor\":\"white\",\"linecolor\":\"white\",\"ticks\":\"\"},\"radialaxis\":{\"gridcolor\":\"white\",\"linecolor\":\"white\",\"ticks\":\"\"}},\"ternary\":{\"bgcolor\":\"#E5ECF6\",\"aaxis\":{\"gridcolor\":\"white\",\"linecolor\":\"white\",\"ticks\":\"\"},\"baxis\":{\"gridcolor\":\"white\",\"linecolor\":\"white\",\"ticks\":\"\"},\"caxis\":{\"gridcolor\":\"white\",\"linecolor\":\"white\",\"ticks\":\"\"}},\"coloraxis\":{\"colorbar\":{\"outlinewidth\":0,\"ticks\":\"\"}},\"colorscale\":{\"sequential\":[[0.0,\"#0d0887\"],[0.1111111111111111,\"#46039f\"],[0.2222222222222222,\"#7201a8\"],[0.3333333333333333,\"#9c179e\"],[0.4444444444444444,\"#bd3786\"],[0.5555555555555556,\"#d8576b\"],[0.6666666666666666,\"#ed7953\"],[0.7777777777777778,\"#fb9f3a\"],[0.8888888888888888,\"#fdca26\"],[1.0,\"#f0f921\"]],\"sequentialminus\":[[0.0,\"#0d0887\"],[0.1111111111111111,\"#46039f\"],[0.2222222222222222,\"#7201a8\"],[0.3333333333333333,\"#9c179e\"],[0.4444444444444444,\"#bd3786\"],[0.5555555555555556,\"#d8576b\"],[0.6666666666666666,\"#ed7953\"],[0.7777777777777778,\"#fb9f3a\"],[0.8888888888888888,\"#fdca26\"],[1.0,\"#f0f921\"]],\"diverging\":[[0,\"#8e0152\"],[0.1,\"#c51b7d\"],[0.2,\"#de77ae\"],[0.3,\"#f1b6da\"],[0.4,\"#fde0ef\"],[0.5,\"#f7f7f7\"],[0.6,\"#e6f5d0\"],[0.7,\"#b8e186\"],[0.8,\"#7fbc41\"],[0.9,\"#4d9221\"],[1,\"#276419\"]]},\"xaxis\":{\"gridcolor\":\"white\",\"linecolor\":\"white\",\"ticks\":\"\",\"title\":{\"standoff\":15},\"zerolinecolor\":\"white\",\"automargin\":true,\"zerolinewidth\":2},\"yaxis\":{\"gridcolor\":\"white\",\"linecolor\":\"white\",\"ticks\":\"\",\"title\":{\"standoff\":15},\"zerolinecolor\":\"white\",\"automargin\":true,\"zerolinewidth\":2},\"scene\":{\"xaxis\":{\"backgroundcolor\":\"#E5ECF6\",\"gridcolor\":\"white\",\"linecolor\":\"white\",\"showbackground\":true,\"ticks\":\"\",\"zerolinecolor\":\"white\",\"gridwidth\":2},\"yaxis\":{\"backgroundcolor\":\"#E5ECF6\",\"gridcolor\":\"white\",\"linecolor\":\"white\",\"showbackground\":true,\"ticks\":\"\",\"zerolinecolor\":\"white\",\"gridwidth\":2},\"zaxis\":{\"backgroundcolor\":\"#E5ECF6\",\"gridcolor\":\"white\",\"linecolor\":\"white\",\"showbackground\":true,\"ticks\":\"\",\"zerolinecolor\":\"white\",\"gridwidth\":2}},\"shapedefaults\":{\"line\":{\"color\":\"#2a3f5f\"}},\"annotationdefaults\":{\"arrowcolor\":\"#2a3f5f\",\"arrowhead\":0,\"arrowwidth\":1},\"geo\":{\"bgcolor\":\"white\",\"landcolor\":\"#E5ECF6\",\"subunitcolor\":\"white\",\"showland\":true,\"showlakes\":true,\"lakecolor\":\"white\"},\"title\":{\"x\":0.05},\"mapbox\":{\"style\":\"light\"}}},\"legend\":{\"title\":{\"text\":\"Category\"},\"tracegroupgap\":0},\"margin\":{\"t\":60},\"dragmode\":\"select\"},                        {\"responsive\": true}                    ).then(function(){\n",
       "                            \n",
       "var gd = document.getElementById('4c96733b-1443-47f7-b055-435301dc455e');\n",
       "var x = new MutationObserver(function (mutations, observer) {{\n",
       "        var display = window.getComputedStyle(gd).display;\n",
       "        if (!display || display === 'none') {{\n",
       "            console.log([gd, 'removed!']);\n",
       "            Plotly.purge(gd);\n",
       "            observer.disconnect();\n",
       "        }}\n",
       "}});\n",
       "\n",
       "// Listen for the removal of the full notebook cells\n",
       "var notebookContainer = gd.closest('#notebook-container');\n",
       "if (notebookContainer) {{\n",
       "    x.observe(notebookContainer, {childList: true});\n",
       "}}\n",
       "\n",
       "// Listen for the clearing of the current output cell\n",
       "var outputEl = gd.closest('.output');\n",
       "if (outputEl) {{\n",
       "    x.observe(outputEl, {childList: true});\n",
       "}}\n",
       "\n",
       "                        })                };                });            </script>        </div>"
      ]
     },
     "metadata": {},
     "output_type": "display_data"
    }
   ],
   "source": [
    "fig = px.scatter_matrix(df,\n",
    "    dimensions= ['vitamin_d [nan]', 'saturated_fat [g]', 'protein [g]', 'water [g]'],\n",
    "    color=\"Category\",\n",
    "        color_discrete_sequence=['rgb(222, 217, 255)',\n",
    "      'rgb(190, 194, 241)',\n",
    "    'rgb(155, 170, 226)',\n",
    " 'rgb(121, 145, 209)',\n",
    "'rgb(87, 119, 186)',\n",
    " 'rgb(62, 94, 154)',\n",
    "'rgb(48, 74, 123)']\n",
    "                       )  \n",
    "fig.show()"
   ]
  },
  {
   "cell_type": "code",
   "execution_count": 12,
   "id": "2a24e5ef",
   "metadata": {},
   "outputs": [],
   "source": [
    "# for key in list(cm.cmaps.keys()):\n",
    "#     print(type(key))\n",
    "#     cm.key"
   ]
  },
  {
   "cell_type": "code",
   "execution_count": null,
   "id": "52d802ef",
   "metadata": {},
   "outputs": [],
   "source": [
    "list(cm.cmaps.keys()):"
   ]
  },
  {
   "cell_type": "code",
   "execution_count": 89,
   "id": "6dfe5445",
   "metadata": {
    "scrolled": true
   },
   "outputs": [
    {
     "data": {
      "image/png": "[encoded data removed]",
      "text/html": [
       "<div style=\"vertical-align: middle;\"><strong>tofino</strong> </div><div class=\"cmap\"><img alt=\"tofino colormap\" title=\"tofino\" style=\"border: 1px solid #555;\" src=\"data:image/png;base64,iVBORw0KGgoAAAANSUhEUgAAAgAAAABACAYAAABsv8+/AAAAFXRFWHRUaXRsZQB0b2Zpbm8gY29sb3JtYXCsq/uTAAAAG3RFWHREZXNjcmlwdGlvbgB0b2Zpbm8gY29sb3JtYXDlPON3AAAAMHRFWHRBdXRob3IATWF0cGxvdGxpYiB2My42LjAsIGh0dHBzOi8vbWF0cGxvdGxpYi5vcmfhqHMCAAAAMnRFWHRTb2Z0d2FyZQBNYXRwbG90bGliIHYzLjYuMCwgaHR0cHM6Ly9tYXRwbG90bGliLm9yZ88O7CUAAAInSURBVHic7dYxdqQwEAVAwdz/fk72KAYHBu2jhQZ7g01+VcJ0q1sQTPCXPx/b3lpr2/ejfZbnttf+1t7N972z3rf7/mx+K/PD+x/m+3vfz8+/43rfec/QH+65r8d7t1/VY/+znP+s3p/q/bq3P/ZLPelvw9x2uXdWt4fzXtf7ez3bm90/+46ne+p+6Zfv+jv//b9o7f19re3v9/r5ftTXvX5en0sr9Xl+lEudO/vt0h/rZXJ+/Fgnc2vdm8wfc8uwd/Sn89fzsb/c75X7+vtm++v9d9fz+fvuz5d18v0P3/Hj57G/9v56O7dO6rXM9/5rvZ0761fpv4bz+/o1nN/3+3OZ9Ov8bK72/3nuqJf/tPdQn38nACCIAAAAgQQAAAgkAABAIAEAAAIJAAAQSAAAgEACAAAEEgAAIJAAAACBBAAACCQAAEAgAQAAAgkAABBIAACAQAIAAAQSAAAgkAAAAIEEAAAIJAAAQCABAAACCQAAEEgAAIBAAgAABBIAACCQAAAAgQQAAAgkAABAIAEAAAIJAAAQSAAAgEACAAAEEgAAIJAAAACBBAAACCQAAEAgAQAAAgkAABBIAACAQAIAAAQSAAAgkAAAAIEEAAAIJAAAQCABAAACCQAAEEgAAIBAAgAABBIAACCQAAAAgQQAAAgkAABAIAEAAAIJAAAQSAAAgEACAAAEEgAAIJAAAACBBAAACCQAAEAgAQAAAgkAABBIAACAQF/urWjp9JZyRgAAAABJRU5ErkJggg==\"></div><div style=\"vertical-align: middle; max-width: 514px; display: flex; justify-content: space-between;\"><div style=\"float: left;\"><div title=\"#ded9ffff\" style=\"display: inline-block; width: 1em; height: 1em; margin: 0; vertical-align: middle; border: 1px solid #555; background-color: #ded9ffff;\"></div> under</div><div style=\"margin: 0 auto; display: inline-block;\">bad <div title=\"#00000000\" style=\"display: inline-block; width: 1em; height: 1em; margin: 0; vertical-align: middle; border: 1px solid #555; background-color: #00000000;\"></div></div><div style=\"float: right;\">over <div title=\"#dbe69bff\" style=\"display: inline-block; width: 1em; height: 1em; margin: 0; vertical-align: middle; border: 1px solid #555; background-color: #dbe69bff;\"></div></div>"
      ],
      "text/plain": [
       "<matplotlib.colors.ListedColormap at 0x2346d1c54f0>"
      ]
     },
     "execution_count": 89,
     "metadata": {},
     "output_type": "execute_result"
    }
   ],
   "source": [
    "cm.tofino"
   ]
  },
  {
   "cell_type": "code",
   "execution_count": 90,
   "id": "be15c1e7",
   "metadata": {},
   "outputs": [
    {
     "data": {
      "image/png": "[encoded data removed]",
      "text/html": [
       "<div style=\"vertical-align: middle;\"><strong>bilbao</strong> </div><div class=\"cmap\"><img alt=\"bilbao colormap\" title=\"bilbao\" style=\"border: 1px solid #555;\" src=\"data:image/png;base64,iVBORw0KGgoAAAANSUhEUgAAAgAAAABACAYAAABsv8+/AAAAFXRFWHRUaXRsZQBiaWxiYW8gY29sb3JtYXDqxM12AAAAG3RFWHREZXNjcmlwdGlvbgBiaWxiYW8gY29sb3JtYXCjU9WSAAAAMHRFWHRBdXRob3IATWF0cGxvdGxpYiB2My42LjAsIGh0dHBzOi8vbWF0cGxvdGxpYi5vcmfhqHMCAAAAMnRFWHRTb2Z0d2FyZQBNYXRwbG90bGliIHYzLjYuMCwgaHR0cHM6Ly9tYXRwbG90bGliLm9yZ88O7CUAAAICSURBVHic7dZBcuJAEEXBsu9/5m4vLEPQUkkizO5nbggaqsQwDvS+5hyzqmr8PtScr49jjLfO53Y+1vO5ne+us+3Zzsd6fnPvHMdzY7en2f+h59W+PrfXm7k6nnvsq3X/sq+O9697q5a9j/cdz72/b/33vLnv4nz9vPvvo5lbrt/Pne+5nqvT9z3P6+b539N1z3rezVW9Hqyfry7Ol7nH8c3rfnz+/HP/d76du/i+n+vv/f+s17l+fv738Pw5OP677Pbtf7+7+eN96+9z//7j69x9/2jn3rtud5/rH5f7zsX8/v50PHf1vt3r7f25+R5Gdx98Pf8uACCOAACAQAIAAAIJAAAIJAAAIJAAAIBAAgAAAgkAAAgkAAAgkAAAgEACAAACCQAACCQAACCQAACAQAIAAAIJAAAIJAAAIJAAAIBAAgAAAgkAAAgkAAAgkAAAgEACAAACCQAACCQAACCQAACAQAIAAAIJAAAIJAAAIJAAAIBAAgAAAgkAAAgkAAAgkAAAgEACAAACCQAACCQAACCQAACAQAIAAAIJAAAIJAAAIJAAAIBAAgAAAgkAAAgkAAAgkAAAgEACAAACCQAACCQAACCQAACAQAIAAAIJAAAIJAAAIJAAAIBAAgAAAgkAAAgkAAAgkAAAgEACAAACCQAACCQAACCQAACAQAIAAAL9ANOhYeoe4TtAAAAAAElFTkSuQmCC\"></div><div style=\"vertical-align: middle; max-width: 514px; display: flex; justify-content: space-between;\"><div style=\"float: left;\"><div title=\"#ffffffff\" style=\"display: inline-block; width: 1em; height: 1em; margin: 0; vertical-align: middle; border: 1px solid #555; background-color: #ffffffff;\"></div> under</div><div style=\"margin: 0 auto; display: inline-block;\">bad <div title=\"#00000000\" style=\"display: inline-block; width: 1em; height: 1em; margin: 0; vertical-align: middle; border: 1px solid #555; background-color: #00000000;\"></div></div><div style=\"float: right;\">over <div title=\"#4d0001ff\" style=\"display: inline-block; width: 1em; height: 1em; margin: 0; vertical-align: middle; border: 1px solid #555; background-color: #4d0001ff;\"></div></div>"
      ],
      "text/plain": [
       "<matplotlib.colors.ListedColormap at 0x2346d152040>"
      ]
     },
     "execution_count": 90,
     "metadata": {},
     "output_type": "execute_result"
    }
   ],
   "source": [
    "cm.bilbao"
   ]
  },
  {
   "cell_type": "code",
   "execution_count": 91,
   "id": "b7332926",
   "metadata": {},
   "outputs": [
    {
     "data": {
      "image/png": "[encoded data removed]",
      "text/html": [
       "<div style=\"vertical-align: middle;\"><strong>acton</strong> </div><div class=\"cmap\"><img alt=\"acton colormap\" title=\"acton\" style=\"border: 1px solid #555;\" src=\"data:image/png;base64,iVBORw0KGgoAAAANSUhEUgAAAgAAAABACAYAAABsv8+/AAAAFHRFWHRUaXRsZQBhY3RvbiBjb2xvcm1hcLv0noQAAAAadEVYdERlc2NyaXB0aW9uAGFjdG9uIGNvbG9ybWFwRas3YgAAADB0RVh0QXV0aG9yAE1hdHBsb3RsaWIgdjMuNi4wLCBodHRwczovL21hdHBsb3RsaWIub3Jn4ahzAgAAADJ0RVh0U29mdHdhcmUATWF0cGxvdGxpYiB2My42LjAsIGh0dHBzOi8vbWF0cGxvdGxpYi5vcmfPDuwlAAAB8klEQVR4nO3WwXHCMBRF0S86SQOpJP23k2zADIKPZCa7d87GE8mSbCAzd3x//fxWVY0xqqpq1PU6Vtd6P7+9z4f7N+dcPj7v8dx2n+a9ds+9zO918vmP9at1VVvzH48f51/Hp79v88/Pe/v7/br7ea/H7+837TPPH9f5ebv7Fue1559cd6yf3nfzvufv4/F5lt/P8ncy3Xfy/7Oa+ZrW1+b8fO3np/Fqxlfra7Hv0zmv9/vdvK/d/+xztOfsnvt6/fbn3Xz/q/vvr/v+/vn3tRpfPX8//j/n7/6ux6UZX+zXfc6773U7FgAIIgAAIJAAAIBAAgAAAgkAAAgkAAAgkAAAgEACAAACCQAACCQAACCQAACAQAIAAAIJAAAIJAAAIJAAAIBAAgAAAgkAAAgkAAAgkAAAgEACAAACCQAACCQAACCQAACAQAIAAAIJAAAIJAAAIJAAAIBAAgAAAgkAAAgkAAAgkAAAgEACAAACCQAACCQAACCQAACAQAIAAAIJAAAIJAAAIJAAAIBAAgAAAgkAAAgkAAAgkAAAgEACAAACCQAACCQAACCQAACAQAIAAAIJAAAIJAAAIJAAAIBAAgAAAgkAAAgkAAAgkAAAgEACAAACCQAACCQAACCQAACAQAIAAAIJAAAIJAAAIJAAAIBAf7k6BTjBGXFhAAAAAElFTkSuQmCC\"></div><div style=\"vertical-align: middle; max-width: 514px; display: flex; justify-content: space-between;\"><div style=\"float: left;\"><div title=\"#2e214dff\" style=\"display: inline-block; width: 1em; height: 1em; margin: 0; vertical-align: middle; border: 1px solid #555; background-color: #2e214dff;\"></div> under</div><div style=\"margin: 0 auto; display: inline-block;\">bad <div title=\"#00000000\" style=\"display: inline-block; width: 1em; height: 1em; margin: 0; vertical-align: middle; border: 1px solid #555; background-color: #00000000;\"></div></div><div style=\"float: right;\">over <div title=\"#e6e6f0ff\" style=\"display: inline-block; width: 1em; height: 1em; margin: 0; vertical-align: middle; border: 1px solid #555; background-color: #e6e6f0ff;\"></div></div>"
      ],
      "text/plain": [
       "<matplotlib.colors.ListedColormap at 0x2344ce3cee0>"
      ]
     },
     "execution_count": 91,
     "metadata": {},
     "output_type": "execute_result"
    }
   ],
   "source": [
    "cm.acton"
   ]
  },
  {
   "cell_type": "code",
   "execution_count": 92,
   "id": "e2ea6cbb",
   "metadata": {},
   "outputs": [
    {
     "data": {
      "image/png": "[encoded data removed]",
      "text/html": [
       "<div style=\"vertical-align: middle;\"><strong>vik</strong> </div><div class=\"cmap\"><img alt=\"vik colormap\" title=\"vik\" style=\"border: 1px solid #555;\" src=\"data:image/png;base64,iVBORw0KGgoAAAANSUhEUgAAAgAAAABACAYAAABsv8+/AAAAEnRFWHRUaXRsZQB2aWsgY29sb3JtYXCXFOaOAAAAGHRFWHREZXNjcmlwdGlvbgB2aWsgY29sb3JtYXCbPJTUAAAAMHRFWHRBdXRob3IATWF0cGxvdGxpYiB2My42LjAsIGh0dHBzOi8vbWF0cGxvdGxpYi5vcmfhqHMCAAAAMnRFWHRTb2Z0d2FyZQBNYXRwbG90bGliIHYzLjYuMCwgaHR0cHM6Ly9tYXRwbG90bGliLm9yZ88O7CUAAAItSURBVHic7dZBktsgFEVRsL2B3mH2vwdDBm3JAUm23ElG75wJpQ8o6q4kdWv5+tVLKaVcavlzrXV8Xtd5Xv/Nvf/+/OG9+ubeul8vu+fr9J56ML+s+5fH9XG+XS+78+s8r8t8vHedzq/71/350fmz524/vjfND77vVv/yvQfnb29//nG91df7m7XO3zPOn89lnE9/LZ/7j3/G5bFf+u5aS/t+7o/n3oa1rM/37+c2zku7D2uf5r2N9/rJ+XPdf18/vHf2/Pi8+Y5+8tzBc9ncPzg3/d62+/N3tf37y7l+9L1n9/e/u7zZP/79vt5v07zd2+7+Mm/T+5b5fXOuj+s0v68/1nLu4LmXaf/Ded+f915Pnnv9vt7qR/f6/OdM8+X/CwAgiAAAgEACAAACCQAACCQAACCQAACAQAIAAAIJAAAIJAAAIJAAAIBAAgAAAgkAAAgkAAAgkAAAgEACAAACCQAACCQAACCQAACAQAIAAAIJAAAIJAAAIJAAAIBAAgAAAgkAAAgkAAAgkAAAgEACAAACCQAACCQAACCQAACAQAIAAAIJAAAIJAAAIJAAAIBAAgAAAgkAAAgkAAAgkAAAgEACAAACCQAACCQAACCQAACAQAIAAAIJAAAIJAAAIJAAAIBAAgAAAgkAAAgkAAAgkAAAgEACAAACCQAACCQAACCQAACAQAIAAAIJAAAIJAAAIJAAAIBAAgAAAgkAAAgkAAAgkAAAgEACAAAC/Qbgi1HuwOfUCAAAAABJRU5ErkJggg==\"></div><div style=\"vertical-align: middle; max-width: 514px; display: flex; justify-content: space-between;\"><div style=\"float: left;\"><div title=\"#001261ff\" style=\"display: inline-block; width: 1em; height: 1em; margin: 0; vertical-align: middle; border: 1px solid #555; background-color: #001261ff;\"></div> under</div><div style=\"margin: 0 auto; display: inline-block;\">bad <div title=\"#00000000\" style=\"display: inline-block; width: 1em; height: 1em; margin: 0; vertical-align: middle; border: 1px solid #555; background-color: #00000000;\"></div></div><div style=\"float: right;\">over <div title=\"#590008ff\" style=\"display: inline-block; width: 1em; height: 1em; margin: 0; vertical-align: middle; border: 1px solid #555; background-color: #590008ff;\"></div></div>"
      ],
      "text/plain": [
       "<matplotlib.colors.ListedColormap at 0x2346d1c5130>"
      ]
     },
     "execution_count": 92,
     "metadata": {},
     "output_type": "execute_result"
    }
   ],
   "source": [
    "cm.vik"
   ]
  },
  {
   "cell_type": "code",
   "execution_count": 18,
   "id": "c3942761",
   "metadata": {},
   "outputs": [],
   "source": [
    "\"\"\"\n",
    "This file contains the scientific colormaps (see http://www.fabiocrameri.ch/visualisation.php, and https://zenodo.org/record/1243863#.Ww6bgEiFNPY)\n",
    "converted to Plotly colorscales \"\"\"\n",
    "\n",
    "\"\"\"Sequential scientific colorscales\"\"\"\n",
    "\n",
    "acton=[[0.0, 'rgb(46, 33,77)'],\n",
    "       [0.1, 'rgb(72, 56, 100)'],\n",
    "       [0.2, 'rgb(102, 80, 123)'],\n",
    "       [0.3, 'rgb(135, 96, 141)'],\n",
    "       [0.4, 'rgb(166, 102, 148)'],\n",
    "       [0.5, 'rgb(196, 110, 155)'],\n",
    "       [0.6, 'rgb(212, 134, 173)'],\n",
    "       [0.7, 'rgb(212, 156, 189)'],\n",
    "       [0.8, 'rgb(213, 178, 205)'],\n",
    "       [0.9, 'rgb(220, 204, 222)'],\n",
    "       [1.0, 'rgb(230, 230, 240)']]\n",
    "\n",
    "bilbao= [[0.0,'rgb(255, 255, 255)'],\n",
    "         [0.1, 'rgb(220, 220, 220)'],\n",
    "         [0.2, 'rgb(198, 195, 183)'],\n",
    "         [0.3, 'rgb(188, 180, 149)'],\n",
    "         [0.4, 'rgb(178, 163, 116)'],\n",
    "         [0.5, 'rgb(171, 139, 103)'],\n",
    "         [0.6, 'rgb(164, 115, 93)'],\n",
    "         [0.7, 'rgb(157, 90, 82)'],\n",
    "         [0.8, 'rgb(139, 63, 63)'],\n",
    "         [0.9, 'rgb(108, 31, 31)'],\n",
    "         [1.0, 'rgb(77, 0, 1)']]\n",
    "\n",
    "davos= [[0.0, 'rgb(44, 26, 76)'],\n",
    "        [0.1, 'rgb(40, 59, 110)'],\n",
    "        [0.2, 'rgb(42, 94, 151)'],\n",
    "        [0.3, 'rgb(68, 117, 193)'],\n",
    "        [0.4, 'rgb(96, 137, 190)'],\n",
    "        [0.5, 'rgb(125, 156, 181)'],\n",
    "        [0.6, 'rgb(155, 175, 172)'],\n",
    "        [0.7, 'rgb(186, 196, 163)'],\n",
    "        [0.8, 'rgb(215, 217, 161)'],\n",
    "        [0.9, 'rgb(237, 236, 206)'],\n",
    "        [1.0, 'rgb(255, 255, 255)']]\n",
    "\n",
    "devon= [[0.0, 'rgb(43, 26, 76)'],\n",
    "        [0.1, 'rgb(41, 50, 101)'],\n",
    "        [0.2, 'rgb(38, 76, 127)'],\n",
    "        [0.3, 'rgb(46, 98, 159)'],\n",
    "        [0.4, 'rgb(68, 117, 195)'],\n",
    "        [0.5, 'rgb(121, 140, 219)'],\n",
    "        [0.6, 'rgb(166, 162, 236)'],\n",
    "        [0.7, 'rgb(190, 184, 242)'],\n",
    "        [0.8, 'rgb(211, 207, 246)'],\n",
    "        [0.9, 'rgb(233, 231, 250)'],\n",
    "        [1.0, 'rgb(255, 255, 255)']]\n",
    "\n",
    "grayC= [[0.0, 'rgb(255, 255, 255)'],\n",
    "        [0.1, 'rgb(227, 227, 227)'],\n",
    "        [0.2, 'rgb(198, 198, 198)'],\n",
    "        [0.3, 'rgb(172, 172, 172)'],\n",
    "        [0.4, 'rgb(145, 145, 145)'],\n",
    "        [0.5, 'rgb(118, 118, 118)'],\n",
    "        [0.6, 'rgb(94, 94, 94)'],\n",
    "        [0.7, 'rgb(70, 70, 70)'],\n",
    "        [0.8, 'rgb(48, 48, 48)'],\n",
    "        [0.9, 'rgb(27, 27, 27)'],\n",
    "        [1.0, 'rgb(0, 0, 0)']]\n",
    "\n",
    "lajolla= [[0.0, 'rgb(255, 255, 204)'],\n",
    "          [0.1, 'rgb(251, 238, 156)'],\n",
    "          [0.2, 'rgb(246, 216, 105)'],\n",
    "          [0.3, 'rgb(238, 182, 85)'],\n",
    "          [0.4, 'rgb(232, 150, 82)'],\n",
    "          [0.5, 'rgb(225, 116, 79)'],\n",
    "          [0.6, 'rgb(206, 83, 76)'],\n",
    "          [0.7, 'rgb(160, 69, 67)'],\n",
    "          [0.8, 'rgb(112, 55, 46)'],\n",
    "          [0.9, 'rgb(64, 39, 22)'],\n",
    "          [1.0, 'rgb(26, 26, 0)']]\n",
    "\n",
    "lapaz= [[0.0, 'rgb(26, 12, 101)'],\n",
    "        [0.1, 'rgb(33, 46, 124)'],\n",
    "        [0.2, 'rgb(39, 77, 145)'],\n",
    "        [0.3, 'rgb(49, 105, 159)'],\n",
    "        [0.4, 'rgb(68, 131, 167)'],\n",
    "        [0.5, 'rgb(102, 153, 164)'],\n",
    "        [0.6, 'rgb(141, 163, 152)'],\n",
    "        [0.7, 'rgb(179, 167, 139)'],\n",
    "        [0.8, 'rgb(223, 183, 148)'],\n",
    "        [0.9, 'rgb(253, 217, 197)'],\n",
    "        [1.0, 'rgb(255, 243, 243)']]\n",
    "\n",
    "oslo= [[0.0, 'rgb(0, 1, 0)'],\n",
    "       [0.1, 'rgb(11, 25, 39)'],\n",
    "       [0.2, 'rgb(17, 48, 77)'],\n",
    "       [0.3, 'rgb(27, 73, 117)'],\n",
    "       [0.4, 'rgb(46, 98, 160)'],\n",
    "       [0.5, 'rgb(78, 125, 199)'],\n",
    "       [0.6, 'rgb(111, 146, 202)'],\n",
    "       [0.7, 'rgb(144, 166, 201)'],\n",
    "       [0.8, 'rgb(176, 185, 200)'],\n",
    "       [0.9, 'rgb(215, 215, 216)'],\n",
    "       [1.0, 'rgb(255, 255, 255)']]\n",
    "\n",
    "tokyo= [[0.0, 'rgb(26, 14, 51)'],\n",
    "        [0.1, 'rgb(67, 27, 74)'],\n",
    "        [0.2, 'rgb(110, 54, 101)'],\n",
    "        [0.3, 'rgb(132, 86, 119)'],\n",
    "        [0.4, 'rgb(140, 114, 128)'],\n",
    "        [0.5, 'rgb(144, 140, 135)'],\n",
    "        [0.6, 'rgb(148, 165, 142)'],\n",
    "        [0.7, 'rgb(154, 193, 149)'],\n",
    "        [0.8, 'rgb(175, 225, 163)'],\n",
    "        [0.9, 'rgb(222, 251, 194)'],\n",
    "        [1.0, 'rgb(255, 255, 217)']]\n",
    "\n",
    "turku= [[0.0, 'rgb(0, 0, 0)'],\n",
    "        [0.1, 'rgb(33, 33, 31)'],\n",
    "        [0.2, 'rgb(61, 60, 53)'],\n",
    "        [0.3, 'rgb(90, 86, 70)'],\n",
    "        [0.4, 'rgb(120, 113, 86)'],\n",
    "        [0.5, 'rgb(156, 141, 103)'],\n",
    "        [0.6, 'rgb(193, 158, 122)'],\n",
    "        [0.7, 'rgb(222, 161, 139)'],\n",
    "        [0.8, 'rgb(247, 175, 169)'],\n",
    "        [0.9, 'rgb(255, 203, 203)'],\n",
    "        [1.0, 'rgb(255, 230, 230)']]\n",
    "\n",
    "\"\"\"Diverging scientific colorscales\"\"\"\n",
    "\n",
    "berlin=[[0.0, 'rgb(158, 176, 255)'],\n",
    "        [0.05, 'rgb(130, 173, 242)'],\n",
    "        [0.1, 'rgb(98, 166, 224)'],\n",
    "        [0.15, 'rgb(68, 151, 198)'],\n",
    "        [0.2, 'rgb(50, 128, 166)'],\n",
    "        [0.25, 'rgb(40, 104, 134)'],\n",
    "        [0.3, 'rgb(32, 82, 106)'],\n",
    "        [0.35, 'rgb(23, 60, 77)'],\n",
    "        [0.4, 'rgb(17, 39, 50)'],\n",
    "        [0.45, 'rgb(17, 22, 27)'],\n",
    "        [0.5, 'rgb(25, 12, 9)'],\n",
    "        [0.55, 'rgb(38, 13, 1)'],\n",
    "        [0.6, 'rgb(55, 16, 0)'],\n",
    "        [0.65, 'rgb(74, 21, 2)'],\n",
    "        [0.7, 'rgb(97, 32, 11)'],\n",
    "        [0.75, 'rgb(125, 52, 30)'],\n",
    "        [0.8, 'rgb(150, 74, 54)'],\n",
    "        [0.85, 'rgb(176, 98, 83)'],\n",
    "        [0.9, 'rgb(202, 123, 113)'],\n",
    "        [0.95, 'rgb(229, 149, 144)'],\n",
    "        [1.0, 'rgb(255, 173, 173)']]\n",
    "\n",
    "broc=[[0.0, 'rgb(44, 26, 76)'],\n",
    "      [0.05, 'rgb(43, 44, 95)'],\n",
    "      [0.1, 'rgb(41, 64, 115)'],\n",
    "      [0.15, 'rgb(45, 86, 136)'],\n",
    "      [0.2, 'rgb(65, 109, 154)'],\n",
    "      [0.25, 'rgb(94, 132, 170)'],\n",
    "      [0.3, 'rgb(122, 154, 185)'],\n",
    "      [0.35, 'rgb(153, 178, 202)'],\n",
    "      [0.4, 'rgb(185, 202, 218)'],\n",
    "      [0.45, 'rgb(217, 226, 234)'],\n",
    "      [0.5, 'rgb(239, 241, 237)'],\n",
    "      [0.55, 'rgb(237, 238, 217)'],\n",
    "      [0.6, 'rgb(225, 224, 187)'],\n",
    "      [0.65, 'rgb(208, 208, 155)'],\n",
    "      [0.7, 'rgb(184, 184, 125)'],\n",
    "      [0.75, 'rgb(157, 157, 100)'],\n",
    "      [0.8, 'rgb(132, 132, 79)'],\n",
    "      [0.85, 'rgb(106, 106, 57)'],\n",
    "      [0.9, 'rgb(81, 81, 37)'],\n",
    "      [0.95, 'rgb(58, 58, 18)'],\n",
    "      [1.0, 'rgb(38, 39, 1)']]\n",
    "\n",
    "cork=[[0.0, 'rgb(44, 26, 76)'],\n",
    "      [0.05, 'rgb(43, 44, 94)'],\n",
    "      [0.1, 'rgb(41, 64, 115)'],\n",
    "      [0.15, 'rgb(44, 86, 135)'],\n",
    "      [0.2, 'rgb(64, 108, 153)'],\n",
    "      [0.25, 'rgb(92, 131, 169)'],\n",
    "      [0.3, 'rgb(120, 152, 184)'],\n",
    "      [0.35, 'rgb(150, 176, 200)'],\n",
    "      [0.4, 'rgb(182, 199, 217)'],\n",
    "      [0.45, 'rgb(213, 223, 233)'],\n",
    "      [0.5, 'rgb(231, 239, 237)'],\n",
    "      [0.55, 'rgb(216, 232, 218)'],\n",
    "      [0.6, 'rgb(188, 216, 191)'],\n",
    "      [0.65, 'rgb(160, 200, 164)'],\n",
    "      [0.7, 'rgb(133, 183, 137)'],\n",
    "      [0.75, 'rgb(106, 167, 111)'],\n",
    "      [0.8, 'rgb(82, 151, 85)'],\n",
    "      [0.85, 'rgb(65, 130, 58)'],\n",
    "      [0.9, 'rgb(64, 110, 36)'],\n",
    "      [0.95, 'rgb(65, 92, 18)'],\n",
    "      [1.0, 'rgb(67, 77, 2)']]\n",
    "\n",
    "lisbon=[[0.0, 'rgb(230, 229, 255)'],\n",
    "        [0.05, 'rgb(197, 206, 236)'],\n",
    "        [0.1, 'rgb(163, 181, 215)'],\n",
    "        [0.15, 'rgb(129, 156, 195)'],\n",
    "        [0.2, 'rgb(96, 131, 174)'],\n",
    "        [0.25, 'rgb(65, 106, 151)'],\n",
    "        [0.3, 'rgb(42, 83, 125)'],\n",
    "        [0.35, 'rgb(26, 61, 95)'],\n",
    "        [0.4, 'rgb(19, 42, 66)'],\n",
    "        [0.45, 'rgb(17, 28, 40)'],\n",
    "        [0.5, 'rgb(23, 25, 25)'],\n",
    "        [0.55, 'rgb(36, 35, 25)'],\n",
    "        [0.6, 'rgb(56, 53, 34)'],\n",
    "        [0.65, 'rgb(79, 75, 47)'],\n",
    "        [0.7, 'rgb(104, 97, 62)'],\n",
    "        [0.75, 'rgb(129, 122, 78)'],\n",
    "        [0.8, 'rgb(154, 145, 96)'],\n",
    "        [0.85, 'rgb(181, 173, 121)'],\n",
    "        [0.9, 'rgb(207, 201, 152)'],\n",
    "        [0.95, 'rgb(232, 229, 185)'],\n",
    "        [1.0, 'rgb(255, 255, 217)']]\n",
    "\n",
    "roma=[[0.0, 'rgb(126, 26, 1)'],\n",
    "      [0.05, 'rgb(141, 57, 11)'],\n",
    "      [0.1, 'rgb(155, 85, 23)'],\n",
    "      [0.15, 'rgb(168, 111, 34)'],\n",
    "      [0.2, 'rgb(181, 138, 45)'],\n",
    "      [0.25, 'rgb(194, 166, 59)'],\n",
    "      [0.3, 'rgb(208, 193, 81)'],\n",
    "      [0.35, 'rgb(222, 217, 117)'],\n",
    "      [0.4, 'rgb(230, 230, 152)'],\n",
    "      [0.45, 'rgb(227, 236, 180)'],\n",
    "      [0.5, 'rgb(209, 237, 202)'],\n",
    "      [0.55, 'rgb(180, 234, 213)'],\n",
    "      [0.6, 'rgb(141, 222, 218)'],\n",
    "      [0.65, 'rgb(105, 202, 215)'],\n",
    "      [0.7, 'rgb(84, 178, 207)'],\n",
    "      [0.75, 'rgb(72, 154, 197)'],\n",
    "      [0.8, 'rgb(63, 133, 188)'],\n",
    "      [0.85, 'rgb(54, 111, 179)'],\n",
    "      [0.9, 'rgb(45, 90, 170)'],\n",
    "      [0.95, 'rgb(36, 70, 161)'],\n",
    "      [1.0, 'rgb(27, 51, 153)']]\n",
    "\n",
    "tofino=[[0.0, 'rgb(222, 217, 255)'],\n",
    "        [0.05, 'rgb(190, 194, 241)'],\n",
    "        [0.1, 'rgb(155, 170, 226)'],\n",
    "        [0.15, 'rgb(121, 145, 209)'],\n",
    "        [0.2, 'rgb(87, 119, 186)'],\n",
    "        [0.25, 'rgb(62, 94, 154)'],\n",
    "        [0.3, 'rgb(48, 74, 123)'],\n",
    "        [0.35, 'rgb(35, 55, 91)'],\n",
    "        [0.4, 'rgb(25, 37, 61)'],\n",
    "        [0.45, 'rgb(17, 24, 35)'],\n",
    "        [0.5, 'rgb(13, 22, 19)'],\n",
    "        [0.55, 'rgb(17, 32, 19)'],\n",
    "        [0.6, 'rgb(24, 50, 26)'],\n",
    "        [0.65, 'rgb(33, 71, 37)'],\n",
    "        [0.7, 'rgb(44, 93, 48)'],\n",
    "        [0.75, 'rgb(56, 117, 61)'],\n",
    "        [0.8, 'rgb(74, 141, 75)'],\n",
    "        [0.85, 'rgb(106, 168, 95)'],\n",
    "        [0.9, 'rgb(145, 190, 116)'],\n",
    "        [0.95, 'rgb(183, 211, 137)'],\n",
    "        [1.0, 'rgb(219, 230, 155)']]\n",
    "\n",
    "vik=[[0.0, 'rgb(1, 18, 97)'],\n",
    "     [0.05, 'rgb(2, 37, 109)'],\n",
    "     [0.1, 'rgb(2, 57, 122)'],\n",
    "     [0.15, 'rgb(3, 78, 135)'],\n",
    "     [0.2, 'rgb(16, 100, 150)'],\n",
    "     [0.25, 'rgb(47, 125, 166)'],\n",
    "     [0.3, 'rgb(83, 149, 183)'],\n",
    "     [0.35, 'rgb(125, 176, 201)'],\n",
    "     [0.4, 'rgb(166, 201, 218)'],\n",
    "     [0.45, 'rgb(207, 225, 234)'],\n",
    "     [0.5, 'rgb(235, 237, 233)'],\n",
    "     [0.55, 'rgb(234, 225, 206)'],\n",
    "     [0.6, 'rgb(220, 203, 168)'],\n",
    "     [0.65, 'rgb(205, 181, 131)'],\n",
    "     [0.7, 'rgb(190, 159, 95)'],\n",
    "     [0.75, 'rgb(174, 136, 60)'],\n",
    "     [0.8, 'rgb(159, 113, 28)'],\n",
    "     [0.85, 'rgb(141, 87, 4)'],\n",
    "     [0.9, 'rgb(126, 63, 1)'],\n",
    "     [0.95, 'rgb(111, 41, 1)'],\n",
    "     [1.0, 'rgb(97, 18, 0)']]\n",
    "\n",
    "\"\"\" Special colorscale, oleron, that is a concatenation of two\n",
    "sequential colorscales \"\"\"\n",
    "\n",
    "oleron=[[0.0, 'rgb(26, 38, 89)'],\n",
    "        [0.05, 'rgb(44, 56, 107)'],\n",
    "        [0.1, 'rgb(65, 77, 128)'],\n",
    "        [0.15, 'rgb(86, 99, 150)'],\n",
    "        [0.2, 'rgb(108, 121, 172)'],\n",
    "        [0.25, 'rgb(131, 144, 195)'],\n",
    "        [0.3, 'rgb(153, 166, 217)'],\n",
    "        [0.35, 'rgb(177, 189, 237)'],\n",
    "        [0.4, 'rgb(196, 209, 246)'],\n",
    "        [0.45, 'rgb(214, 226, 251)'],\n",
    "        [0.5, 'rgb(26, 76, 0)'],\n",
    "        [0.55, 'rgb(56, 85, 0)'],\n",
    "        [0.6, 'rgb(83, 94, 2)'],\n",
    "        [0.65, 'rgb(113, 108, 22)'],\n",
    "        [0.7, 'rgb(142, 125, 51)'],\n",
    "        [0.75, 'rgb(170, 144, 80)'],\n",
    "        [0.8, 'rgb(197, 164, 108)'],\n",
    "        [0.85, 'rgb(226, 188, 139)'],\n",
    "        [0.9, 'rgb(243, 212, 171)'],\n",
    "        [0.95, 'rgb(249, 233, 201)'],\n",
    "        [1.0, 'rgb(253, 253, 230)']]"
   ]
  },
  {
   "cell_type": "code",
   "execution_count": 89,
   "id": "fcae82e5",
   "metadata": {
    "scrolled": true
   },
   "outputs": [
    {
     "data": {
      "image/png": "[encoded data removed]",
      "text/html": [
       "<div style=\"vertical-align: middle;\"><strong>tofino</strong> </div><div class=\"cmap\"><img alt=\"tofino colormap\" title=\"tofino\" style=\"border: 1px solid #555;\" src=\"data:image/png;base64,iVBORw0KGgoAAAANSUhEUgAAAgAAAABACAYAAABsv8+/AAAAFXRFWHRUaXRsZQB0b2Zpbm8gY29sb3JtYXCsq/uTAAAAG3RFWHREZXNjcmlwdGlvbgB0b2Zpbm8gY29sb3JtYXDlPON3AAAAMHRFWHRBdXRob3IATWF0cGxvdGxpYiB2My42LjAsIGh0dHBzOi8vbWF0cGxvdGxpYi5vcmfhqHMCAAAAMnRFWHRTb2Z0d2FyZQBNYXRwbG90bGliIHYzLjYuMCwgaHR0cHM6Ly9tYXRwbG90bGliLm9yZ88O7CUAAAInSURBVHic7dYxdqQwEAVAwdz/fk72KAYHBu2jhQZ7g01+VcJ0q1sQTPCXPx/b3lpr2/ejfZbnttf+1t7N972z3rf7/mx+K/PD+x/m+3vfz8+/43rfec/QH+65r8d7t1/VY/+znP+s3p/q/bq3P/ZLPelvw9x2uXdWt4fzXtf7ez3bm90/+46ne+p+6Zfv+jv//b9o7f19re3v9/r5ftTXvX5en0sr9Xl+lEudO/vt0h/rZXJ+/Fgnc2vdm8wfc8uwd/Sn89fzsb/c75X7+vtm++v9d9fz+fvuz5d18v0P3/Hj57G/9v56O7dO6rXM9/5rvZ0761fpv4bz+/o1nN/3+3OZ9Ov8bK72/3nuqJf/tPdQn38nACCIAAAAgQQAAAgkAABAIAEAAAIJAAAQSAAAgEACAAAEEgAAIJAAAACBBAAACCQAAEAgAQAAAgkAABBIAACAQAIAAAQSAAAgkAAAAIEEAAAIJAAAQCABAAACCQAAEEgAAIBAAgAABBIAACCQAAAAgQQAAAgkAABAIAEAAAIJAAAQSAAAgEACAAAEEgAAIJAAAACBBAAACCQAAEAgAQAAAgkAABBIAACAQAIAAAQSAAAgkAAAAIEEAAAIJAAAQCABAAACCQAAEEgAAIBAAgAABBIAACCQAAAAgQQAAAgkAABAIAEAAAIJAAAQSAAAgEACAAAEEgAAIJAAAACBBAAACCQAAEAgAQAAAgkAABBIAACAQF/urWjp9JZyRgAAAABJRU5ErkJggg==\"></div><div style=\"vertical-align: middle; max-width: 514px; display: flex; justify-content: space-between;\"><div style=\"float: left;\"><div title=\"#ded9ffff\" style=\"display: inline-block; width: 1em; height: 1em; margin: 0; vertical-align: middle; border: 1px solid #555; background-color: #ded9ffff;\"></div> under</div><div style=\"margin: 0 auto; display: inline-block;\">bad <div title=\"#00000000\" style=\"display: inline-block; width: 1em; height: 1em; margin: 0; vertical-align: middle; border: 1px solid #555; background-color: #00000000;\"></div></div><div style=\"float: right;\">over <div title=\"#dbe69bff\" style=\"display: inline-block; width: 1em; height: 1em; margin: 0; vertical-align: middle; border: 1px solid #555; background-color: #dbe69bff;\"></div></div>"
      ],
      "text/plain": [
       "<matplotlib.colors.ListedColormap at 0x2346d1c54f0>"
      ]
     },
     "execution_count": 89,
     "metadata": {},
     "output_type": "execute_result"
    }
   ],
   "source": [
    "cm.tofino"
   ]
  },
  {
   "cell_type": "code",
   "execution_count": 90,
   "id": "6d90f0c1",
   "metadata": {},
   "outputs": [
    {
     "data": {
      "image/png": "[encoded data removed]",
      "text/html": [
       "<div style=\"vertical-align: middle;\"><strong>bilbao</strong> </div><div class=\"cmap\"><img alt=\"bilbao colormap\" title=\"bilbao\" style=\"border: 1px solid #555;\" src=\"data:image/png;base64,iVBORw0KGgoAAAANSUhEUgAAAgAAAABACAYAAABsv8+/AAAAFXRFWHRUaXRsZQBiaWxiYW8gY29sb3JtYXDqxM12AAAAG3RFWHREZXNjcmlwdGlvbgBiaWxiYW8gY29sb3JtYXCjU9WSAAAAMHRFWHRBdXRob3IATWF0cGxvdGxpYiB2My42LjAsIGh0dHBzOi8vbWF0cGxvdGxpYi5vcmfhqHMCAAAAMnRFWHRTb2Z0d2FyZQBNYXRwbG90bGliIHYzLjYuMCwgaHR0cHM6Ly9tYXRwbG90bGliLm9yZ88O7CUAAAICSURBVHic7dZBcuJAEEXBsu9/5m4vLEPQUkkizO5nbggaqsQwDvS+5hyzqmr8PtScr49jjLfO53Y+1vO5ne+us+3Zzsd6fnPvHMdzY7en2f+h59W+PrfXm7k6nnvsq3X/sq+O9697q5a9j/cdz72/b/33vLnv4nz9vPvvo5lbrt/Pne+5nqvT9z3P6+b539N1z3rezVW9Hqyfry7Ol7nH8c3rfnz+/HP/d76du/i+n+vv/f+s17l+fv738Pw5OP677Pbtf7+7+eN96+9z//7j69x9/2jn3rtud5/rH5f7zsX8/v50PHf1vt3r7f25+R5Gdx98Pf8uACCOAACAQAIAAAIJAAAIJAAAIJAAAIBAAgAAAgkAAAgkAAAgkAAAgEACAAACCQAACCQAACCQAACAQAIAAAIJAAAIJAAAIJAAAIBAAgAAAgkAAAgkAAAgkAAAgEACAAACCQAACCQAACCQAACAQAIAAAIJAAAIJAAAIJAAAIBAAgAAAgkAAAgkAAAgkAAAgEACAAACCQAACCQAACCQAACAQAIAAAIJAAAIJAAAIJAAAIBAAgAAAgkAAAgkAAAgkAAAgEACAAACCQAACCQAACCQAACAQAIAAAIJAAAIJAAAIJAAAIBAAgAAAgkAAAgkAAAgkAAAgEACAAACCQAACCQAACCQAACAQAIAAAL9ANOhYeoe4TtAAAAAAElFTkSuQmCC\"></div><div style=\"vertical-align: middle; max-width: 514px; display: flex; justify-content: space-between;\"><div style=\"float: left;\"><div title=\"#ffffffff\" style=\"display: inline-block; width: 1em; height: 1em; margin: 0; vertical-align: middle; border: 1px solid #555; background-color: #ffffffff;\"></div> under</div><div style=\"margin: 0 auto; display: inline-block;\">bad <div title=\"#00000000\" style=\"display: inline-block; width: 1em; height: 1em; margin: 0; vertical-align: middle; border: 1px solid #555; background-color: #00000000;\"></div></div><div style=\"float: right;\">over <div title=\"#4d0001ff\" style=\"display: inline-block; width: 1em; height: 1em; margin: 0; vertical-align: middle; border: 1px solid #555; background-color: #4d0001ff;\"></div></div>"
      ],
      "text/plain": [
       "<matplotlib.colors.ListedColormap at 0x2346d152040>"
      ]
     },
     "execution_count": 90,
     "metadata": {},
     "output_type": "execute_result"
    }
   ],
   "source": [
    "cm.bilbao"
   ]
  },
  {
   "cell_type": "code",
   "execution_count": 91,
   "id": "c99c55ff",
   "metadata": {},
   "outputs": [
    {
     "data": {
      "image/png": "[encoded data removed]",
      "text/html": [
       "<div style=\"vertical-align: middle;\"><strong>acton</strong> </div><div class=\"cmap\"><img alt=\"acton colormap\" title=\"acton\" style=\"border: 1px solid #555;\" src=\"data:image/png;base64,iVBORw0KGgoAAAANSUhEUgAAAgAAAABACAYAAABsv8+/AAAAFHRFWHRUaXRsZQBhY3RvbiBjb2xvcm1hcLv0noQAAAAadEVYdERlc2NyaXB0aW9uAGFjdG9uIGNvbG9ybWFwRas3YgAAADB0RVh0QXV0aG9yAE1hdHBsb3RsaWIgdjMuNi4wLCBodHRwczovL21hdHBsb3RsaWIub3Jn4ahzAgAAADJ0RVh0U29mdHdhcmUATWF0cGxvdGxpYiB2My42LjAsIGh0dHBzOi8vbWF0cGxvdGxpYi5vcmfPDuwlAAAB8klEQVR4nO3WwXHCMBRF0S86SQOpJP23k2zADIKPZCa7d87GE8mSbCAzd3x//fxWVY0xqqpq1PU6Vtd6P7+9z4f7N+dcPj7v8dx2n+a9ds+9zO918vmP9at1VVvzH48f51/Hp79v88/Pe/v7/br7ea/H7+837TPPH9f5ebv7Fue1559cd6yf3nfzvufv4/F5lt/P8ncy3Xfy/7Oa+ZrW1+b8fO3np/Fqxlfra7Hv0zmv9/vdvK/d/+xztOfsnvt6/fbn3Xz/q/vvr/v+/vn3tRpfPX8//j/n7/6ux6UZX+zXfc6773U7FgAIIgAAIJAAAIBAAgAAAgkAAAgkAAAgkAAAgEACAAACCQAACCQAACCQAACAQAIAAAIJAAAIJAAAIJAAAIBAAgAAAgkAAAgkAAAgkAAAgEACAAACCQAACCQAACCQAACAQAIAAAIJAAAIJAAAIJAAAIBAAgAAAgkAAAgkAAAgkAAAgEACAAACCQAACCQAACCQAACAQAIAAAIJAAAIJAAAIJAAAIBAAgAAAgkAAAgkAAAgkAAAgEACAAACCQAACCQAACCQAACAQAIAAAIJAAAIJAAAIJAAAIBAAgAAAgkAAAgkAAAgkAAAgEACAAACCQAACCQAACCQAACAQAIAAAIJAAAIJAAAIJAAAIBAf7k6BTjBGXFhAAAAAElFTkSuQmCC\"></div><div style=\"vertical-align: middle; max-width: 514px; display: flex; justify-content: space-between;\"><div style=\"float: left;\"><div title=\"#2e214dff\" style=\"display: inline-block; width: 1em; height: 1em; margin: 0; vertical-align: middle; border: 1px solid #555; background-color: #2e214dff;\"></div> under</div><div style=\"margin: 0 auto; display: inline-block;\">bad <div title=\"#00000000\" style=\"display: inline-block; width: 1em; height: 1em; margin: 0; vertical-align: middle; border: 1px solid #555; background-color: #00000000;\"></div></div><div style=\"float: right;\">over <div title=\"#e6e6f0ff\" style=\"display: inline-block; width: 1em; height: 1em; margin: 0; vertical-align: middle; border: 1px solid #555; background-color: #e6e6f0ff;\"></div></div>"
      ],
      "text/plain": [
       "<matplotlib.colors.ListedColormap at 0x2344ce3cee0>"
      ]
     },
     "execution_count": 91,
     "metadata": {},
     "output_type": "execute_result"
    }
   ],
   "source": [
    "cm.acton"
   ]
  },
  {
   "cell_type": "code",
   "execution_count": 92,
   "id": "a00674e5",
   "metadata": {},
   "outputs": [
    {
     "data": {
      "image/png": "[encoded data removed]",
      "text/html": [
       "<div style=\"vertical-align: middle;\"><strong>vik</strong> </div><div class=\"cmap\"><img alt=\"vik colormap\" title=\"vik\" style=\"border: 1px solid #555;\" src=\"data:image/png;base64,iVBORw0KGgoAAAANSUhEUgAAAgAAAABACAYAAABsv8+/AAAAEnRFWHRUaXRsZQB2aWsgY29sb3JtYXCXFOaOAAAAGHRFWHREZXNjcmlwdGlvbgB2aWsgY29sb3JtYXCbPJTUAAAAMHRFWHRBdXRob3IATWF0cGxvdGxpYiB2My42LjAsIGh0dHBzOi8vbWF0cGxvdGxpYi5vcmfhqHMCAAAAMnRFWHRTb2Z0d2FyZQBNYXRwbG90bGliIHYzLjYuMCwgaHR0cHM6Ly9tYXRwbG90bGliLm9yZ88O7CUAAAItSURBVHic7dZBktsgFEVRsL2B3mH2vwdDBm3JAUm23ElG75wJpQ8o6q4kdWv5+tVLKaVcavlzrXV8Xtd5Xv/Nvf/+/OG9+ubeul8vu+fr9J56ML+s+5fH9XG+XS+78+s8r8t8vHedzq/71/350fmz524/vjfND77vVv/yvQfnb29//nG91df7m7XO3zPOn89lnE9/LZ/7j3/G5bFf+u5aS/t+7o/n3oa1rM/37+c2zku7D2uf5r2N9/rJ+XPdf18/vHf2/Pi8+Y5+8tzBc9ncPzg3/d62+/N3tf37y7l+9L1n9/e/u7zZP/79vt5v07zd2+7+Mm/T+5b5fXOuj+s0v68/1nLu4LmXaf/Ded+f915Pnnv9vt7qR/f6/OdM8+X/CwAgiAAAgEACAAACCQAACCQAACCQAACAQAIAAAIJAAAIJAAAIJAAAIBAAgAAAgkAAAgkAAAgkAAAgEACAAACCQAACCQAACCQAACAQAIAAAIJAAAIJAAAIJAAAIBAAgAAAgkAAAgkAAAgkAAAgEACAAACCQAACCQAACCQAACAQAIAAAIJAAAIJAAAIJAAAIBAAgAAAgkAAAgkAAAgkAAAgEACAAACCQAACCQAACCQAACAQAIAAAIJAAAIJAAAIJAAAIBAAgAAAgkAAAgkAAAgkAAAgEACAAACCQAACCQAACCQAACAQAIAAAIJAAAIJAAAIJAAAIBAAgAAAgkAAAgkAAAgkAAAgEACAAAC/Qbgi1HuwOfUCAAAAABJRU5ErkJggg==\"></div><div style=\"vertical-align: middle; max-width: 514px; display: flex; justify-content: space-between;\"><div style=\"float: left;\"><div title=\"#001261ff\" style=\"display: inline-block; width: 1em; height: 1em; margin: 0; vertical-align: middle; border: 1px solid #555; background-color: #001261ff;\"></div> under</div><div style=\"margin: 0 auto; display: inline-block;\">bad <div title=\"#00000000\" style=\"display: inline-block; width: 1em; height: 1em; margin: 0; vertical-align: middle; border: 1px solid #555; background-color: #00000000;\"></div></div><div style=\"float: right;\">over <div title=\"#590008ff\" style=\"display: inline-block; width: 1em; height: 1em; margin: 0; vertical-align: middle; border: 1px solid #555; background-color: #590008ff;\"></div></div>"
      ],
      "text/plain": [
       "<matplotlib.colors.ListedColormap at 0x2346d1c5130>"
      ]
     },
     "execution_count": 92,
     "metadata": {},
     "output_type": "execute_result"
    }
   ],
   "source": [
    "cm.vik"
   ]
  },
  {
   "cell_type": "code",
   "execution_count": 93,
   "id": "30285b88",
   "metadata": {},
   "outputs": [
    {
     "data": {
      "image/png": "[encoded data removed]",
      "text/html": [
       "<div style=\"vertical-align: middle;\"><strong>lapaz</strong> </div><div class=\"cmap\"><img alt=\"lapaz colormap\" title=\"lapaz\" style=\"border: 1px solid #555;\" src=\"data:image/png;base64,iVBORw0KGgoAAAANSUhEUgAAAgAAAABACAYAAABsv8+/AAAAFHRFWHRUaXRsZQBsYXBheiBjb2xvcm1hcBNnan8AAAAadEVYdERlc2NyaXB0aW9uAGxhcGF6IGNvbG9ybWFw7TjDmQAAADB0RVh0QXV0aG9yAE1hdHBsb3RsaWIgdjMuNi4wLCBodHRwczovL21hdHBsb3RsaWIub3Jn4ahzAgAAADJ0RVh0U29mdHdhcmUATWF0cGxvdGxpYiB2My42LjAsIGh0dHBzOi8vbWF0cGxvdGxpYi5vcmfPDuwlAAACEklEQVR4nO3WQXKdMBBF0ZbGWYHXl/1vAQ/ij4Og4TsZvnMmFFIjsMuuuuPj1++tqqrG+HOZVX/ff6+P6/Wv25rr+jp/PLc/73r+tN9959N7/3V//vT57vuu12u//dn607nn9fW8++/v557ef/3803Pf993zy1x1c++tn9/39J77ufa8up9vr+17r+eaf6v2nNnub8e57jv2927N+nr+drv++NzyHbO6927L8w/z1f28y3c9fm/3ncf97ve6f8fp3P+7P71nXx9vro/j/uvvuNb9++vo9ufrfjZz8zA3XvdjuZ/X62NfX86f8zi3Xudxvt8/XquZrzfn67TfzM11fizz9/uvvwsAIIgAAIBAAgAAAgkAAAgkAAAgkAAAgEACAAACCQAACCQAACCQAACAQAIAAAIJAAAIJAAAIJAAAIBAAgAAAgkAAAgkAAAgkAAAgEACAAACCQAACCQAACCQAACAQAIAAAIJAAAIJAAAIJAAAIBAAgAAAgkAAAgkAAAgkAAAgEACAAACCQAACCQAACCQAACAQAIAAAIJAAAIJAAAIJAAAIBAAgAAAgkAAAgkAAAgkAAAgEACAAACCQAACCQAACCQAACAQAIAAAIJAAAIJAAAIJAAAIBAAgAAAgkAAAgkAAAgkAAAgEACAAACCQAACCQAACCQAACAQAIAAAIJAAAIJAAAIJAAAIBAAgAAAn0CtnESYV+NZHgAAAAASUVORK5CYII=\"></div><div style=\"vertical-align: middle; max-width: 514px; display: flex; justify-content: space-between;\"><div style=\"float: left;\"><div title=\"#1a0c64ff\" style=\"display: inline-block; width: 1em; height: 1em; margin: 0; vertical-align: middle; border: 1px solid #555; background-color: #1a0c64ff;\"></div> under</div><div style=\"margin: 0 auto; display: inline-block;\">bad <div title=\"#00000000\" style=\"display: inline-block; width: 1em; height: 1em; margin: 0; vertical-align: middle; border: 1px solid #555; background-color: #00000000;\"></div></div><div style=\"float: right;\">over <div title=\"#fef2f3ff\" style=\"display: inline-block; width: 1em; height: 1em; margin: 0; vertical-align: middle; border: 1px solid #555; background-color: #fef2f3ff;\"></div></div>"
      ],
      "text/plain": [
       "<matplotlib.colors.ListedColormap at 0x2346d1c5280>"
      ]
     },
     "execution_count": 93,
     "metadata": {},
     "output_type": "execute_result"
    }
   ],
   "source": [
    "cm.lapaz"
   ]
  },
  {
   "cell_type": "code",
   "execution_count": 97,
   "id": "bafa79b9",
   "metadata": {},
   "outputs": [
    {
     "data": {
      "image/png": "[encoded data removed]",
      "text/html": [
       "<div style=\"vertical-align: middle;\"><strong>nuuk</strong> </div><div class=\"cmap\"><img alt=\"nuuk colormap\" title=\"nuuk\" style=\"border: 1px solid #555;\" src=\"data:image/png;base64,iVBORw0KGgoAAAANSUhEUgAAAgAAAABACAYAAABsv8+/AAAAE3RFWHRUaXRsZQBudXVrIGNvbG9ybWFwOFluEAAAABl0RVh0RGVzY3JpcHRpb24AbnV1ayBjb2xvcm1hcLPr/ogAAAAwdEVYdEF1dGhvcgBNYXRwbG90bGliIHYzLjYuMCwgaHR0cHM6Ly9tYXRwbG90bGliLm9yZ+GocwIAAAAydEVYdFNvZnR3YXJlAE1hdHBsb3RsaWIgdjMuNi4wLCBodHRwczovL21hdHBsb3RsaWIub3Jnzw7sJQAAAgtJREFUeJzt1kFS5DAQRUFJMZecO82dYQE20eWukc32Z27AsiTLHTTx5p+//z7GGGONL2t8fP2c5fr7/izj81x33H8dP+834/PYZ94db55T5q1u/d3nbK/L+99df35+dd68Oa/bb7f+2f12vDnvOX7MH8d489wy71jX7XNZV86xyv6X/W6e93qOp+t37/n+nPu/k/rezX6b8fF0fV3XzBub79G5Tfne1PP8XL/uV9eX6Zd1133Lc7v92v3rvOO3+j7v369+Pj+363lfr/t5N59Xxp/uM7fr6rzfjZ+fS/f9eDxe798bX3Xequu6+WszfzXr34/P1Yxf5u+u/z/v+P8CAAQRAAAQSAAAQCABAACBBAAABBIAABBIAABAIAEAAIEEAAAEEgAAEEgAAEAgAQAAgQQAAAQSAAAQSAAAQCABAACBBAAABBIAABBIAABAIAEAAIEEAAAEEgAAEEgAAEAgAQAAgQQAAAQSAAAQSAAAQCABAACBBAAABBIAABBIAABAIAEAAIEEAAAEEgAAEEgAAEAgAQAAgQQAAAQSAAAQSAAAQCABAACBBAAABBIAABBIAABAIAEAAIEEAAAEEgAAEEgAAEAgAQAAgQQAAAQSAAAQSAAAQCABAACBBAAABBIAABBIAABAIAEAAIEEAAAEEgAAEEgAAEAgAQAAgQQAAAQSAAAQSAAAQKBPgFMjLZtyDwMAAAAASUVORK5CYII=\"></div><div style=\"vertical-align: middle; max-width: 514px; display: flex; justify-content: space-between;\"><div style=\"float: left;\"><div title=\"#05598cff\" style=\"display: inline-block; width: 1em; height: 1em; margin: 0; vertical-align: middle; border: 1px solid #555; background-color: #05598cff;\"></div> under</div><div style=\"margin: 0 auto; display: inline-block;\">bad <div title=\"#00000000\" style=\"display: inline-block; width: 1em; height: 1em; margin: 0; vertical-align: middle; border: 1px solid #555; background-color: #00000000;\"></div></div><div style=\"float: right;\">over <div title=\"#fefeb2ff\" style=\"display: inline-block; width: 1em; height: 1em; margin: 0; vertical-align: middle; border: 1px solid #555; background-color: #fefeb2ff;\"></div></div>"
      ],
      "text/plain": [
       "<matplotlib.colors.ListedColormap at 0x2346d1c51c0>"
      ]
     },
     "execution_count": 97,
     "metadata": {},
     "output_type": "execute_result"
    }
   ],
   "source": [
    "cm.nuuk"
   ]
  },
  {
   "cell_type": "code",
   "execution_count": 15,
   "id": "c7d3e5f9",
   "metadata": {},
   "outputs": [
    {
     "data": {
      "image/png": "[encoded data removed]",
      "text/html": [
       "<div style=\"vertical-align: middle;\"><strong>nuukS</strong> </div><div class=\"cmap\"><img alt=\"nuukS colormap\" title=\"nuukS\" style=\"border: 1px solid #555;\" src=\"data:image/png;base64,iVBORw0KGgoAAAANSUhEUgAAAgAAAABACAYAAABsv8+/AAAAFHRFWHRUaXRsZQBudXVrUyBjb2xvcm1hcE/zZRAAAAAadEVYdERlc2NyaXB0aW9uAG51dWtTIGNvbG9ybWFwsazM9gAAADB0RVh0QXV0aG9yAE1hdHBsb3RsaWIgdjMuNi4wLCBodHRwczovL21hdHBsb3RsaWIub3Jn4ahzAgAAADJ0RVh0U29mdHdhcmUATWF0cGxvdGxpYiB2My42LjAsIGh0dHBzOi8vbWF0cGxvdGxpYi5vcmfPDuwlAAADV0lEQVR4nO3W32vVdRzH8beZ1qxka0oEi0mjKC9KiCijHwsksITIi34QRlR3K70wIihvughKb4qIULAaRFcqWRKkN92sumhQUQSmF4ZgYDkXy2lb9Qe8/At6Px6XL7bzPef7/ZztueTSJ3b9Wxdx4aMbY5v8+GRsn373e2zbNi2JbeLDxdj2v3xZXuOzy2O744Z8f+vXr8ixqqanZ2Lb91V+xOcePB/b9g/+ie3Y2WWxvXjvYGwjw3mNT6ZnY3vy7vzMVVU7DvwZ25uP5c+uWp33cerbq2NbeZHbc89dF2IbfzWv++ztg7HtnJrLF6yqQxP5mreuG4tt8yu/xLb2mitju+/mvN8bN14b2/i2H2M7c/6S2DaMDcRWVTU6nPvAsjy30yfy/my5P5/B0+/n89+xIZ/L0d/mY1uxfGlsB36Yia2qatfjeSb2HMn3c3puIbavT+d3a+/mfAaj1+V3es2a4dhu2Z7n++i7+ayqqg4e+iu229bNxDY/n+97aDAP89Z38vWefyCf6dy5/MyrV+V1Z2eviK2qanExn82pP/KMjo2cjW3qp3zNt77J79FD1+d1tz78d2yTX+R9OPhznqeqqtc3DcX2/Yn8rm66M8/3yVN5btfeNBPbwkKe+YndeRbPzOf3cv9LeQ+rqo4fXx7bI5P5mr++vTK2zw/n3++l+fjqqoG8t0NDeZZHR/P5vTGZ57Oq6vCx/H+y+6m8+J4jec9eeybvxXv78ncfHc+z88Le/MznFvLv2Jc7R2KrqsonAwD87wkAAGhIAABAQwIAABoSAADQkAAAgIYEAAA0JAAAoCEBAAANCQAAaEgAAEBDAgAAGhIAANCQAACAhgQAADQkAACgIQEAAA0JAABoSAAAQEMCAAAaEgAA0JAAAICGBAAANCQAAKAhAQAADQkAAGhIAABAQwIAABoSAADQkAAAgIYEAAA0JAAAoCEBAAANCQAAaEgAAEBDAgAAGhIAANCQAACAhgQAADQkAACgIQEAAA0JAABoSAAAQEMCAAAaEgAA0JAAAICGBAAANCQAAKAhAQAADQkAAGhIAABAQwIAABoSAADQkAAAgIYEAAA0JAAAoCEBAAANCQAAaEgAAEBDAgAAGhIAANCQAACAhgQAADT0H1EClvzKQwRcAAAAAElFTkSuQmCC\"></div><div style=\"vertical-align: middle; max-width: 514px; display: flex; justify-content: space-between;\"><div style=\"float: left;\"><div title=\"#05598cff\" style=\"display: inline-block; width: 1em; height: 1em; margin: 0; vertical-align: middle; border: 1px solid #555; background-color: #05598cff;\"></div> under</div><div style=\"margin: 0 auto; display: inline-block;\">bad <div title=\"#00000000\" style=\"display: inline-block; width: 1em; height: 1em; margin: 0; vertical-align: middle; border: 1px solid #555; background-color: #00000000;\"></div></div><div style=\"float: right;\">over <div title=\"#f0f09eff\" style=\"display: inline-block; width: 1em; height: 1em; margin: 0; vertical-align: middle; border: 1px solid #555; background-color: #f0f09eff;\"></div></div>"
      ],
      "text/plain": [
       "<matplotlib.colors.ListedColormap at 0x1157f84e0d0>"
      ]
     },
     "execution_count": 15,
     "metadata": {},
     "output_type": "execute_result"
    }
   ],
   "source": [
    "cm.nuukS"
   ]
  },
  {
   "cell_type": "code",
   "execution_count": 22,
   "id": "a5e384eb",
   "metadata": {},
   "outputs": [
    {
     "data": {
      "image/png": "[encoded data removed]",
      "text/plain": [
       "<Figure size 800x633 with 66 Axes>"
      ]
     },
     "metadata": {},
     "output_type": "display_data"
    }
   ],
   "source": [
    "cm.show_cmaps()"
   ]
  },
  {
   "cell_type": "code",
   "execution_count": 96,
   "id": "8f277a00",
   "metadata": {},
   "outputs": [
    {
     "data": {
      "text/plain": [
       "{'acton': <matplotlib.colors.ListedColormap at 0x2344ce3cee0>,\n",
       " 'acton_r': <matplotlib.colors.ListedColormap at 0x2346d112cd0>,\n",
       " 'actonS': <matplotlib.colors.ListedColormap at 0x2346d112df0>,\n",
       " 'bam': <matplotlib.colors.ListedColormap at 0x2346d112e80>,\n",
       " 'bam_r': <matplotlib.colors.ListedColormap at 0x2346d112eb0>,\n",
       " 'bamako': <matplotlib.colors.ListedColormap at 0x2346d112d00>,\n",
       " 'bamako_r': <matplotlib.colors.ListedColormap at 0x2346d112dc0>,\n",
       " 'bamakoS': <matplotlib.colors.ListedColormap at 0x2346d112d60>,\n",
       " 'bamO': <matplotlib.colors.ListedColormap at 0x2346d112fd0>,\n",
       " 'bamO_r': <matplotlib.colors.ListedColormap at 0x2346d112c40>,\n",
       " 'batlow': <matplotlib.colors.ListedColormap at 0x2346d112f40>,\n",
       " 'batlow_r': <matplotlib.colors.ListedColormap at 0x2346d1521c0>,\n",
       " 'batlowK': <matplotlib.colors.ListedColormap at 0x2346d1520a0>,\n",
       " 'batlowK_r': <matplotlib.colors.ListedColormap at 0x2346d152280>,\n",
       " 'batlowS': <matplotlib.colors.ListedColormap at 0x2346d152070>,\n",
       " 'batlowW': <matplotlib.colors.ListedColormap at 0x2346d152340>,\n",
       " 'batlowW_r': <matplotlib.colors.ListedColormap at 0x2346d1523a0>,\n",
       " 'berlin': <matplotlib.colors.ListedColormap at 0x2346d152220>,\n",
       " 'berlin_r': <matplotlib.colors.ListedColormap at 0x2346d152460>,\n",
       " 'bilbao': <matplotlib.colors.ListedColormap at 0x2346d152040>,\n",
       " 'bilbao_r': <matplotlib.colors.ListedColormap at 0x2346d152520>,\n",
       " 'bilbaoS': <matplotlib.colors.ListedColormap at 0x2346d1522b0>,\n",
       " 'broc': <matplotlib.colors.ListedColormap at 0x2346d1525e0>,\n",
       " 'broc_r': <matplotlib.colors.ListedColormap at 0x2346d152640>,\n",
       " 'brocO': <matplotlib.colors.ListedColormap at 0x2346d1524c0>,\n",
       " 'brocO_r': <matplotlib.colors.ListedColormap at 0x2346d152700>,\n",
       " 'buda': <matplotlib.colors.ListedColormap at 0x2346d152160>,\n",
       " 'buda_r': <matplotlib.colors.ListedColormap at 0x2346d1527c0>,\n",
       " 'budaS': <matplotlib.colors.ListedColormap at 0x2346d152550>,\n",
       " 'bukavu': <matplotlib.colors.ListedColormap at 0x2346d152880>,\n",
       " 'bukavu_r': <matplotlib.colors.ListedColormap at 0x2346d1528e0>,\n",
       " 'cork': <matplotlib.colors.ListedColormap at 0x2346d152760>,\n",
       " 'cork_r': <matplotlib.colors.ListedColormap at 0x2346d1529a0>,\n",
       " 'corkO': <matplotlib.colors.ListedColormap at 0x2346d152400>,\n",
       " 'corkO_r': <matplotlib.colors.ListedColormap at 0x2346d152a60>,\n",
       " 'davos': <matplotlib.colors.ListedColormap at 0x2346d1527f0>,\n",
       " 'davos_r': <matplotlib.colors.ListedColormap at 0x2346d152b20>,\n",
       " 'davosS': <matplotlib.colors.ListedColormap at 0x2346d1526a0>,\n",
       " 'devon': <matplotlib.colors.ListedColormap at 0x2346d152be0>,\n",
       " 'devon_r': <matplotlib.colors.ListedColormap at 0x2346d152c40>,\n",
       " 'devonS': <matplotlib.colors.ListedColormap at 0x2346d152ac0>,\n",
       " 'fes': <matplotlib.colors.ListedColormap at 0x2346d152d00>,\n",
       " 'fes_r': <matplotlib.colors.ListedColormap at 0x2346d152d60>,\n",
       " 'grayC': <matplotlib.colors.ListedColormap at 0x2346d1520d0>,\n",
       " 'grayC_r': <matplotlib.colors.ListedColormap at 0x2346d152e20>,\n",
       " 'grayCS': <matplotlib.colors.ListedColormap at 0x2346d152100>,\n",
       " 'hawaii': <matplotlib.colors.ListedColormap at 0x2346d152ee0>,\n",
       " 'hawaii_r': <matplotlib.colors.ListedColormap at 0x2346d152f40>,\n",
       " 'hawaiiS': <matplotlib.colors.ListedColormap at 0x2346d152dc0>,\n",
       " 'imola': <matplotlib.colors.ListedColormap at 0x2346d152fd0>,\n",
       " 'imola_r': <matplotlib.colors.ListedColormap at 0x2346d152a00>,\n",
       " 'imolaS': <matplotlib.colors.ListedColormap at 0x2346d152940>,\n",
       " 'lajolla': <matplotlib.colors.ListedColormap at 0x2346d152c70>,\n",
       " 'lajolla_r': <matplotlib.colors.ListedColormap at 0x2346d1c5070>,\n",
       " 'lajollaS': <matplotlib.colors.ListedColormap at 0x2346d1c50d0>,\n",
       " 'lapaz': <matplotlib.colors.ListedColormap at 0x2346d1c5280>,\n",
       " 'lapaz_r': <matplotlib.colors.ListedColormap at 0x2346d1c52e0>,\n",
       " 'lapazS': <matplotlib.colors.ListedColormap at 0x2346d1c5190>,\n",
       " 'lisbon': <matplotlib.colors.ListedColormap at 0x2346d1c53a0>,\n",
       " 'lisbon_r': <matplotlib.colors.ListedColormap at 0x2346d1c5400>,\n",
       " 'nuuk': <matplotlib.colors.ListedColormap at 0x2346d1c51c0>,\n",
       " 'nuuk_r': <matplotlib.colors.ListedColormap at 0x2346d1c54c0>,\n",
       " 'nuukS': <matplotlib.colors.ListedColormap at 0x2346d1c5160>,\n",
       " 'oleron': <matplotlib.colors.ListedColormap at 0x2346d1c5580>,\n",
       " 'oleron_r': <matplotlib.colors.ListedColormap at 0x2346d1c55e0>,\n",
       " 'oslo': <matplotlib.colors.ListedColormap at 0x2346d1c5460>,\n",
       " 'oslo_r': <matplotlib.colors.ListedColormap at 0x2346d1c56a0>,\n",
       " 'osloS': <matplotlib.colors.ListedColormap at 0x2346d1c5310>,\n",
       " 'roma': <matplotlib.colors.ListedColormap at 0x2346d1c5760>,\n",
       " 'roma_r': <matplotlib.colors.ListedColormap at 0x2346d1c57c0>,\n",
       " 'romaO': <matplotlib.colors.ListedColormap at 0x2346d1c5640>,\n",
       " 'romaO_r': <matplotlib.colors.ListedColormap at 0x2346d1c5880>,\n",
       " 'tofino': <matplotlib.colors.ListedColormap at 0x2346d1c54f0>,\n",
       " 'tofino_r': <matplotlib.colors.ListedColormap at 0x2346d1c5940>,\n",
       " 'tokyo': <matplotlib.colors.ListedColormap at 0x2346d1c56d0>,\n",
       " 'tokyo_r': <matplotlib.colors.ListedColormap at 0x2346d1c5a00>,\n",
       " 'tokyoS': <matplotlib.colors.ListedColormap at 0x2346d1c51f0>,\n",
       " 'turku': <matplotlib.colors.ListedColormap at 0x2346d1c5ac0>,\n",
       " 'turku_r': <matplotlib.colors.ListedColormap at 0x2346d1c5b20>,\n",
       " 'turkuS': <matplotlib.colors.ListedColormap at 0x2346d1c59a0>,\n",
       " 'vanimo': <matplotlib.colors.ListedColormap at 0x2346d1c5be0>,\n",
       " 'vanimo_r': <matplotlib.colors.ListedColormap at 0x2346d1c5c40>,\n",
       " 'vik': <matplotlib.colors.ListedColormap at 0x2346d1c5130>,\n",
       " 'vik_r': <matplotlib.colors.ListedColormap at 0x2346d1c5d00>,\n",
       " 'vikO': <matplotlib.colors.ListedColormap at 0x2346d1c5100>,\n",
       " 'vikO_r': <matplotlib.colors.ListedColormap at 0x2346d1c5dc0>}"
      ]
     },
     "execution_count": 96,
     "metadata": {},
     "output_type": "execute_result"
    }
   ],
   "source": [
    "cm.cmaps"
   ]
  },
  {
   "cell_type": "code",
   "execution_count": 93,
   "id": "8bfb9f19",
   "metadata": {},
   "outputs": [
    {
     "data": {
      "image/png": "[encoded data removed]",
      "text/html": [
       "<div style=\"vertical-align: middle;\"><strong>lapaz</strong> </div><div class=\"cmap\"><img alt=\"lapaz colormap\" title=\"lapaz\" style=\"border: 1px solid #555;\" src=\"data:image/png;base64,iVBORw0KGgoAAAANSUhEUgAAAgAAAABACAYAAABsv8+/AAAAFHRFWHRUaXRsZQBsYXBheiBjb2xvcm1hcBNnan8AAAAadEVYdERlc2NyaXB0aW9uAGxhcGF6IGNvbG9ybWFw7TjDmQAAADB0RVh0QXV0aG9yAE1hdHBsb3RsaWIgdjMuNi4wLCBodHRwczovL21hdHBsb3RsaWIub3Jn4ahzAgAAADJ0RVh0U29mdHdhcmUATWF0cGxvdGxpYiB2My42LjAsIGh0dHBzOi8vbWF0cGxvdGxpYi5vcmfPDuwlAAACEklEQVR4nO3WQXKdMBBF0ZbGWYHXl/1vAQ/ij4Og4TsZvnMmFFIjsMuuuuPj1++tqqrG+HOZVX/ff6+P6/Wv25rr+jp/PLc/73r+tN9959N7/3V//vT57vuu12u//dn607nn9fW8++/v557ef/3803Pf993zy1x1c++tn9/39J77ufa8up9vr+17r+eaf6v2nNnub8e57jv2927N+nr+drv++NzyHbO6927L8w/z1f28y3c9fm/3ncf97ve6f8fp3P+7P71nXx9vro/j/uvvuNb9++vo9ufrfjZz8zA3XvdjuZ/X62NfX86f8zi3Xudxvt8/XquZrzfn67TfzM11fizz9/uvvwsAIIgAAIBAAgAAAgkAAAgkAAAgkAAAgEACAAACCQAACCQAACCQAACAQAIAAAIJAAAIJAAAIJAAAIBAAgAAAgkAAAgkAAAgkAAAgEACAAACCQAACCQAACCQAACAQAIAAAIJAAAIJAAAIJAAAIBAAgAAAgkAAAgkAAAgkAAAgEACAAACCQAACCQAACCQAACAQAIAAAIJAAAIJAAAIJAAAIBAAgAAAgkAAAgkAAAgkAAAgEACAAACCQAACCQAACCQAACAQAIAAAIJAAAIJAAAIJAAAIBAAgAAAgkAAAgkAAAgkAAAgEACAAACCQAACCQAACCQAACAQAIAAAIJAAAIJAAAIJAAAIBAAgAAAn0CtnESYV+NZHgAAAAASUVORK5CYII=\"></div><div style=\"vertical-align: middle; max-width: 514px; display: flex; justify-content: space-between;\"><div style=\"float: left;\"><div title=\"#1a0c64ff\" style=\"display: inline-block; width: 1em; height: 1em; margin: 0; vertical-align: middle; border: 1px solid #555; background-color: #1a0c64ff;\"></div> under</div><div style=\"margin: 0 auto; display: inline-block;\">bad <div title=\"#00000000\" style=\"display: inline-block; width: 1em; height: 1em; margin: 0; vertical-align: middle; border: 1px solid #555; background-color: #00000000;\"></div></div><div style=\"float: right;\">over <div title=\"#fef2f3ff\" style=\"display: inline-block; width: 1em; height: 1em; margin: 0; vertical-align: middle; border: 1px solid #555; background-color: #fef2f3ff;\"></div></div>"
      ],
      "text/plain": [
       "<matplotlib.colors.ListedColormap at 0x2346d1c5280>"
      ]
     },
     "execution_count": 93,
     "metadata": {},
     "output_type": "execute_result"
    }
   ],
   "source": [
    "cm.lapaz"
   ]
  },
  {
   "cell_type": "code",
   "execution_count": 97,
   "id": "9803dcbe",
   "metadata": {},
   "outputs": [
    {
     "data": {
      "image/png": "[encoded data removed]",
      "text/html": [
       "<div style=\"vertical-align: middle;\"><strong>nuuk</strong> </div><div class=\"cmap\"><img alt=\"nuuk colormap\" title=\"nuuk\" style=\"border: 1px solid #555;\" src=\"data:image/png;base64,iVBORw0KGgoAAAANSUhEUgAAAgAAAABACAYAAABsv8+/AAAAE3RFWHRUaXRsZQBudXVrIGNvbG9ybWFwOFluEAAAABl0RVh0RGVzY3JpcHRpb24AbnV1ayBjb2xvcm1hcLPr/ogAAAAwdEVYdEF1dGhvcgBNYXRwbG90bGliIHYzLjYuMCwgaHR0cHM6Ly9tYXRwbG90bGliLm9yZ+GocwIAAAAydEVYdFNvZnR3YXJlAE1hdHBsb3RsaWIgdjMuNi4wLCBodHRwczovL21hdHBsb3RsaWIub3Jnzw7sJQAAAgtJREFUeJzt1kFS5DAQRUFJMZecO82dYQE20eWukc32Z27AsiTLHTTx5p+//z7GGGONL2t8fP2c5fr7/izj81x33H8dP+834/PYZ94db55T5q1u/d3nbK/L+99df35+dd68Oa/bb7f+2f12vDnvOX7MH8d489wy71jX7XNZV86xyv6X/W6e93qOp+t37/n+nPu/k/rezX6b8fF0fV3XzBub79G5Tfne1PP8XL/uV9eX6Zd1133Lc7v92v3rvOO3+j7v369+Pj+363lfr/t5N59Xxp/uM7fr6rzfjZ+fS/f9eDxe798bX3Xequu6+WszfzXr34/P1Yxf5u+u/z/v+P8CAAQRAAAQSAAAQCABAACBBAAABBIAABBIAABAIAEAAIEEAAAEEgAAEEgAAEAgAQAAgQQAAAQSAAAQSAAAQCABAACBBAAABBIAABBIAABAIAEAAIEEAAAEEgAAEEgAAEAgAQAAgQQAAAQSAAAQSAAAQCABAACBBAAABBIAABBIAABAIAEAAIEEAAAEEgAAEEgAAEAgAQAAgQQAAAQSAAAQSAAAQCABAACBBAAABBIAABBIAABAIAEAAIEEAAAEEgAAEEgAAEAgAQAAgQQAAAQSAAAQSAAAQCABAACBBAAABBIAABBIAABAIAEAAIEEAAAEEgAAEEgAAEAgAQAAgQQAAAQSAAAQSAAAQKBPgFMjLZtyDwMAAAAASUVORK5CYII=\"></div><div style=\"vertical-align: middle; max-width: 514px; display: flex; justify-content: space-between;\"><div style=\"float: left;\"><div title=\"#05598cff\" style=\"display: inline-block; width: 1em; height: 1em; margin: 0; vertical-align: middle; border: 1px solid #555; background-color: #05598cff;\"></div> under</div><div style=\"margin: 0 auto; display: inline-block;\">bad <div title=\"#00000000\" style=\"display: inline-block; width: 1em; height: 1em; margin: 0; vertical-align: middle; border: 1px solid #555; background-color: #00000000;\"></div></div><div style=\"float: right;\">over <div title=\"#fefeb2ff\" style=\"display: inline-block; width: 1em; height: 1em; margin: 0; vertical-align: middle; border: 1px solid #555; background-color: #fefeb2ff;\"></div></div>"
      ],
      "text/plain": [
       "<matplotlib.colors.ListedColormap at 0x2346d1c51c0>"
      ]
     },
     "execution_count": 97,
     "metadata": {},
     "output_type": "execute_result"
    }
   ],
   "source": [
    "cm.nuuk"
   ]
  },
  {
   "cell_type": "code",
   "execution_count": 14,
   "id": "75d38d49",
   "metadata": {},
   "outputs": [
    {
     "data": {
      "image/png": "[encoded data removed]",
      "text/html": [
       "<div style=\"vertical-align: middle;\"><strong>imola</strong> </div><div class=\"cmap\"><img alt=\"imola colormap\" title=\"imola\" style=\"border: 1px solid #555;\" src=\"data:image/png;base64,iVBORw0KGgoAAAANSUhEUgAAAgAAAABACAYAAABsv8+/AAAAFHRFWHRUaXRsZQBpbW9sYSBjb2xvcm1hcGco+HwAAAAadEVYdERlc2NyaXB0aW9uAGltb2xhIGNvbG9ybWFwmXdRmgAAADB0RVh0QXV0aG9yAE1hdHBsb3RsaWIgdjMuNi4wLCBodHRwczovL21hdHBsb3RsaWIub3Jn4ahzAgAAADJ0RVh0U29mdHdhcmUATWF0cGxvdGxpYiB2My42LjAsIGh0dHBzOi8vbWF0cGxvdGxpYi5vcmfPDuwlAAAB3ElEQVR4nO3WS46bQBRAUXCvIuvIzrNBZxDaUUO/GH8Gke45E+SqogqBB3f98fPXdVmWZV026/XP5TawDW/jt4Xr5+Xc+N/99uPX3UHDedNzvDo+nfvi+O09/i/jy+67Pvj9pn2P33l4T3fWjb+n+5/db/f7Xc+1/3+vw3t7eL/h/nl+Nz7sO6/7/pzD/+bB+9b9+70zP97/4DnPzh/ey5v3389fXt3/8q7nO/lch/O+zh/vuzN/+Tzv3+ffn/+6bp6frteT67brcm7dx8l1437b+MeT943PswAAOQIAAIIEAAAECQAACBIAABAkAAAgSAAAQJAAAIAgAQAAQQIAAIIEAAAECQAACBIAABAkAAAgSAAAQJAAAIAgAQAAQQIAAIIEAAAECQAACBIAABAkAAAgSAAAQJAAAIAgAQAAQQIAAIIEAAAECQAACBIAABAkAAAgSAAAQJAAAIAgAQAAQQIAAIIEAAAECQAACBIAABAkAAAgSAAAQJAAAIAgAQAAQQIAAIIEAAAECQAACBIAABAkAAAgSAAAQJAAAIAgAQAAQQIAAIIEAAAECQAACBIAABAkAAAgSAAAQJAAAIAgAQAAQQIAAIIEAAAECQAACBIAABAkAAAgSAAAQNBvnONP4t/zwBUAAAAASUVORK5CYII=\"></div><div style=\"vertical-align: middle; max-width: 514px; display: flex; justify-content: space-between;\"><div style=\"float: left;\"><div title=\"#1a33b3ff\" style=\"display: inline-block; width: 1em; height: 1em; margin: 0; vertical-align: middle; border: 1px solid #555; background-color: #1a33b3ff;\"></div> under</div><div style=\"margin: 0 auto; display: inline-block;\">bad <div title=\"#00000000\" style=\"display: inline-block; width: 1em; height: 1em; margin: 0; vertical-align: middle; border: 1px solid #555; background-color: #00000000;\"></div></div><div style=\"float: right;\">over <div title=\"#ffff66ff\" style=\"display: inline-block; width: 1em; height: 1em; margin: 0; vertical-align: middle; border: 1px solid #555; background-color: #ffff66ff;\"></div></div>"
      ],
      "text/plain": [
       "<matplotlib.colors.ListedColormap at 0x1157f7dad30>"
      ]
     },
     "execution_count": 14,
     "metadata": {},
     "output_type": "execute_result"
    }
   ],
   "source": [
    "cm.imola"
   ]
  },
  {
   "cell_type": "code",
   "execution_count": 1,
   "id": "951a50f0",
   "metadata": {},
   "outputs": [
    {
     "ename": "NameError",
     "evalue": "name 'bilbao' is not defined",
     "output_type": "error",
     "traceback": [
      "\u001b[1;31m---------------------------------------------------------------------------\u001b[0m",
      "\u001b[1;31mNameError\u001b[0m                                 Traceback (most recent call last)",
      "Cell \u001b[1;32mIn [1], line 1\u001b[0m\n\u001b[1;32m----> 1\u001b[0m bilbao_rgb \u001b[38;5;241m=\u001b[39m [el[\u001b[38;5;241m1\u001b[39m] \u001b[38;5;28;01mfor\u001b[39;00m el \u001b[38;5;129;01min\u001b[39;00m bilbao]\n",
      "\u001b[1;31mNameError\u001b[0m: name 'bilbao' is not defined"
     ]
    }
   ],
   "source": [
    "bilbao_rgb = [el[1] for el in bilbao]"
   ]
  }
 ],
 "metadata": {
  "kernelspec": {
   "display_name": "Python 3 (ipykernel)",
   "language": "python",
   "name": "python3"
  },
  "language_info": {
   "codemirror_mode": {
    "name": "ipython",
    "version": 3
   },
   "file_extension": ".py",
   "mimetype": "text/x-python",
   "name": "python",
   "nbconvert_exporter": "python",
   "pygments_lexer": "ipython3",
   "version": "3.9.13"
  }
 },
 "nbformat": 4,
 "nbformat_minor": 5
}
