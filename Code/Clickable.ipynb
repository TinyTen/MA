{
 "cells": [
  {
   "cell_type": "code",
   "execution_count": 3,
   "id": "0843a275",
   "metadata": {},
   "outputs": [],
   "source": [
    "from cmcrameri import cm\n",
    "import math as math\n",
    "import pandas as pd\n",
    "import numpy as np\n",
    "import seaborn as sns\n",
    "\n",
    "import matplotlib.pyplot as plt\n",
    "import plotly.express as px"
   ]
  },
  {
   "cell_type": "markdown",
   "id": "7bf64ddc",
   "metadata": {},
   "source": [
    "## TODO:\n",
    "### kann ich das besser zur Übersicht verwenden? \n",
    "### Clickable machen?\n",
    "### Treemap"
   ]
  },
  {
   "cell_type": "code",
   "execution_count": 35,
   "id": "30c2fd3b",
   "metadata": {},
   "outputs": [
    {
     "name": "stdout",
     "output_type": "stream",
     "text": [
      "Dash is running on http://127.0.0.1:8050/\n",
      "\n",
      " * Serving Flask app '__main__'\n",
      " * Debug mode: off\n"
     ]
    }
   ],
   "source": [
    "# https://www.tutorialspoint.com/how-to-open-a-url-by-clicking-a-data-point-in-python-plotly\n",
    "# !pip install dash\n",
    "\n",
    "import webbrowser\n",
    "import dash\n",
    "from dash.exceptions import PreventUpdate\n",
    "from dash import dcc, html\n",
    "from dash.dependencies import Input, Output\n",
    "import plotly.express as px\n",
    "import pandas as pd\n",
    "import json\n",
    "\n",
    "\n",
    "\n",
    "app = dash.Dash(__name__)\n",
    "df = pd.DataFrame(\n",
    "   dict(\n",
    "      x=[1, 2],\n",
    "      y=[2, 4],\n",
    "      urls=[\"https://orf.at/\",\"https://plotly.com/dash/\"],\n",
    "   )\n",
    ")\n",
    "fig = px.scatter(df, x=\"x\", y=\"y\",custom_data=[\"urls\"])\n",
    "fig.update_layout(clickmode='event+select')\n",
    "fig.update_traces(marker_size=20)\n",
    "\n",
    "app.layout = html.Div(\n",
    "   [\n",
    "      dcc.Graph(\n",
    "         id=\"graph_interaction\",\n",
    "         figure=fig,\n",
    "      ),\n",
    "      html.Pre(id='data')\n",
    "   ]\n",
    ")\n",
    "\n",
    "@app.callback(\n",
    "   Output('data', 'children'),\n",
    "   Input('graph_interaction', 'clickData'))\n",
    "def open_url(clickData):\n",
    "   if clickData:\n",
    "       webbrowser.open(clickData[\"points\"][0][\"customdata\"][0\n",
    "        ])\n",
    "   else:\n",
    "      raise PreventUpdate\n",
    "      # return json.dumps(clickData, indent=2)\n",
    "      \n",
    "if __name__ == '__main__':\n",
    "   app.run_server(debug=False)"
   ]
  },
  {
   "cell_type": "code",
   "execution_count": 34,
   "id": "9ff5e3bd",
   "metadata": {},
   "outputs": [
    {
     "data": {
      "application/vnd.jupyter.widget-view+json": {
       "model_id": "757c9067cab442d89cbebc6bda291fc5",
       "version_major": 2,
       "version_minor": 0
      },
      "text/plain": [
       "VBox(children=(FigureWidget({\n",
       "    'data': [{'marker': {'color': ['#a3a7e4', '#a3a7e4', '#a3a7e4', '#a3a7e4']},…"
      ]
     },
     "execution_count": 34,
     "metadata": {},
     "output_type": "execute_result"
    }
   ],
   "source": [
    "# clickable\n",
    "# https://stackoverflow.com/questions/71864491/is-there-a-way-to-get-a-click-callback-in-plotly-express-bar-chart\n",
    "\n",
    "\n",
    "import plotly.express as px\n",
    "import plotly.graph_objects as go\n",
    "from ipywidgets import Output, VBox\n",
    "import pandas as pd\n",
    "\n",
    "df = pd.DataFrame(data = {'month':['2022-02-01','2022-03-01','2022-04-01','2022-05-01'],'value':[10,15,20,5]})\n",
    "\n",
    "f = go.FigureWidget([go.Bar(x=df['month'], y=df['value'])])\n",
    "\n",
    "barplot = f.data[0]\n",
    "colors = ['#a3a7e4'] * 4\n",
    "barplot.marker.color = colors\n",
    "# scatter.marker.size = [10] * 100\n",
    "f.layout.hovermode = 'closest'\n",
    "\n",
    "# create our callback function\n",
    "out = Output()\n",
    "@out.capture(clear_output=True)\n",
    "def update_point(trace, points, selector):\n",
    "    c = list(barplot.marker.color)\n",
    "    print(points.point_inds)\n",
    "    for i in points.point_inds:\n",
    "        c[i] = '#bae2be'\n",
    "        with f.batch_update():\n",
    "            barplot.marker.color = c\n",
    "\n",
    "barplot.on_click(update_point)\n",
    "\n",
    "VBox([f, out])\n"
   ]
  }
 ],
 "metadata": {
  "kernelspec": {
   "display_name": "Python 3 (ipykernel)",
   "language": "python",
   "name": "python3"
  },
  "language_info": {
   "codemirror_mode": {
    "name": "ipython",
    "version": 3
   },
   "file_extension": ".py",
   "mimetype": "text/x-python",
   "name": "python",
   "nbconvert_exporter": "python",
   "pygments_lexer": "ipython3",
   "version": "3.9.13"
  }
 },
 "nbformat": 4,
 "nbformat_minor": 5
}
